{
 "cells": [
  {
   "cell_type": "code",
   "execution_count": 17,
   "metadata": {},
   "outputs": [],
   "source": [
    "import pandas as pd\n",
    "import numpy as np\n",
    "from collections import Counter\n",
    "import seaborn as sns\n",
    "import matplotlib.pyplot as plt\n",
    "#import torch"
   ]
  },
  {
   "cell_type": "code",
   "execution_count": 3,
   "metadata": {},
   "outputs": [
    {
     "data": {
      "text/plain": [
       "'\\nstation 102 dcm and meso (upwelling) -- dcm: ERR598962 (23M reads); meso: ERR599055 (23M)\\nstation 112 DCM and meso (SPG) -- dcm: ERR598957 (200M); meso: ERR599072 (150M)\\n'"
      ]
     },
     "execution_count": 3,
     "metadata": {},
     "output_type": "execute_result"
    }
   ],
   "source": [
    "metagenomes = ['ERR598962','ERR599055','ERR598957','ERR599072']\n",
    "metagenome_id = 'ERR598962'\n",
    "'''\n",
    "station 102 dcm and meso (upwelling) -- dcm: ERR598962 (23M reads); meso: ERR599055 (23M)\n",
    "station 112 DCM and meso (SPG) -- dcm: ERR598957 (200M); meso: ERR599072 (150M)\n",
    "'''"
   ]
  },
  {
   "cell_type": "code",
   "execution_count": 18,
   "metadata": {},
   "outputs": [],
   "source": [
    "def get_scores(labels, preds):\n",
    "\n",
    "    TP = np.sum(np.logical_and(predicted == True, true == True))\n",
    "    TN = np.sum(np.logical_and(predicted == False, true == False))\n",
    "    FP = np.sum(np.logical_and(predicted == True, true == False))\n",
    "    FN = np.sum(np.logical_and(predicted == False, true == True))\n",
    "\n",
    "    acc = (TP+TN)/(TP+TN+FP+FN)\n",
    "    precision = TP/(TP+FP)\n",
    "    recall = TP/(TP+FN)\n",
    "    f1 = 2*((precision*recall)/(precision+recall))\n",
    "\n",
    "    return acc,precision,recall,f1\n"
   ]
  },
  {
   "cell_type": "code",
   "execution_count": null,
   "metadata": {},
   "outputs": [],
   "source": []
  },
  {
   "cell_type": "markdown",
   "metadata": {},
   "source": [
    "# validset analysis"
   ]
  },
  {
   "cell_type": "code",
   "execution_count": null,
   "metadata": {},
   "outputs": [],
   "source": [
    "preds = pd.read_csv('validset_predictions.csv')\n",
    "print(preds.head())\n",
    "valid = pd.read_csv('ec1_valid.csv')\n",
    "valid.head()"
   ]
  },
  {
   "cell_type": "code",
   "execution_count": 20,
   "metadata": {},
   "outputs": [
    {
     "name": "stdout",
     "output_type": "stream",
     "text": [
      "279200\n",
      "279200\n"
     ]
    }
   ],
   "source": [
    "print(len(preds))\n",
    "print(len(valid))"
   ]
  },
  {
   "cell_type": "code",
   "execution_count": 21,
   "metadata": {},
   "outputs": [
    {
     "name": "stdout",
     "output_type": "stream",
     "text": [
      "TATCAAGAAGTTTACGCTTACGAGAAATGTCACCACCGTAACATTTCGCAAGTACGTTTTTACGCATCGCTTTAATTGTAGAACGCGCTACAACTTTGTTTC\n",
      "TATCAAGAAGTTTACGCTTACGAGAAATGTCACCACCGTAACATTTCGCAAGTACGTTTTTACGCATCGCTTTAATTGTAGAACGCGCTACAACTTTGTTTC\n"
     ]
    }
   ],
   "source": [
    "print(preds['seq'][1000])\n",
    "print(valid['seq'][1000])"
   ]
  },
  {
   "cell_type": "code",
   "execution_count": 22,
   "metadata": {},
   "outputs": [
    {
     "name": "stdout",
     "output_type": "stream",
     "text": [
      "['(', '1.), ', '5.8464e-08))']\n",
      "1.0\n",
      "5.8464e-08\n"
     ]
    }
   ],
   "source": [
    "print(preds['preds'][0].split('tensor('))\n",
    "print(float(preds['preds'][0].split('tensor(')[1].split(')')[0]))\n",
    "print(float(preds['preds'][0].split('tensor(')[2].split(')')[0]))"
   ]
  },
  {
   "cell_type": "code",
   "execution_count": 23,
   "metadata": {},
   "outputs": [
    {
     "data": {
      "text/html": [
       "<div>\n",
       "<style scoped>\n",
       "    .dataframe tbody tr th:only-of-type {\n",
       "        vertical-align: middle;\n",
       "    }\n",
       "\n",
       "    .dataframe tbody tr th {\n",
       "        vertical-align: top;\n",
       "    }\n",
       "\n",
       "    .dataframe thead th {\n",
       "        text-align: right;\n",
       "    }\n",
       "</style>\n",
       "<table border=\"1\" class=\"dataframe\">\n",
       "  <thead>\n",
       "    <tr style=\"text-align: right;\">\n",
       "      <th></th>\n",
       "      <th>preds</th>\n",
       "      <th>predicted_label</th>\n",
       "      <th>seq</th>\n",
       "      <th>pred_nonec1</th>\n",
       "      <th>pred_ec1</th>\n",
       "      <th>true_label</th>\n",
       "      <th>EMBL_CDS_id</th>\n",
       "    </tr>\n",
       "  </thead>\n",
       "  <tbody>\n",
       "    <tr>\n",
       "      <th>0</th>\n",
       "      <td>(tensor(1.), tensor(5.8464e-08))</td>\n",
       "      <td>ec1</td>\n",
       "      <td>TCCCATTTAGCTGGGCATACTTCGCCAGGGTTTTTACGAACATATT...</td>\n",
       "      <td>5.846400e-08</td>\n",
       "      <td>1.0000</td>\n",
       "      <td>ec1</td>\n",
       "      <td>BAB41593.1</td>\n",
       "    </tr>\n",
       "    <tr>\n",
       "      <th>1</th>\n",
       "      <td>(tensor(0.1988), tensor(0.8012))</td>\n",
       "      <td>nonec1</td>\n",
       "      <td>GAAAATACTTTTAAATATATGTTTAACAAGGGAATCGGAACAAAGC...</td>\n",
       "      <td>8.012000e-01</td>\n",
       "      <td>0.1988</td>\n",
       "      <td>nonec1</td>\n",
       "      <td>DAA08282.1</td>\n",
       "    </tr>\n",
       "    <tr>\n",
       "      <th>2</th>\n",
       "      <td>(tensor(0.2955), tensor(0.7045))</td>\n",
       "      <td>nonec1</td>\n",
       "      <td>TCTGTTTCCTGTCTTCTTTGGATAAACTCATCAGCAACCCTGGTAC...</td>\n",
       "      <td>7.045000e-01</td>\n",
       "      <td>0.2955</td>\n",
       "      <td>nonec1</td>\n",
       "      <td>ABG48470.1</td>\n",
       "    </tr>\n",
       "    <tr>\n",
       "      <th>3</th>\n",
       "      <td>(tensor(0.0369), tensor(0.9631))</td>\n",
       "      <td>nonec1</td>\n",
       "      <td>TCCTCCAGATGCAGGCGGTCCAGCATTTCATAAACTATGGTTTCCC...</td>\n",
       "      <td>9.631000e-01</td>\n",
       "      <td>0.0369</td>\n",
       "      <td>nonec1</td>\n",
       "      <td>EDM14285.1</td>\n",
       "    </tr>\n",
       "    <tr>\n",
       "      <th>4</th>\n",
       "      <td>(tensor(0.8211), tensor(0.1789))</td>\n",
       "      <td>ec1</td>\n",
       "      <td>AGGAATTTTGGCTGCTATCAACACCGTAAGAACCGGAATAGCTGAT...</td>\n",
       "      <td>1.789000e-01</td>\n",
       "      <td>0.8211</td>\n",
       "      <td>nonec1</td>\n",
       "      <td>CAA88763.1</td>\n",
       "    </tr>\n",
       "  </tbody>\n",
       "</table>\n",
       "</div>"
      ],
      "text/plain": [
       "                              preds predicted_label  \\\n",
       "0  (tensor(1.), tensor(5.8464e-08))             ec1   \n",
       "1  (tensor(0.1988), tensor(0.8012))          nonec1   \n",
       "2  (tensor(0.2955), tensor(0.7045))          nonec1   \n",
       "3  (tensor(0.0369), tensor(0.9631))          nonec1   \n",
       "4  (tensor(0.8211), tensor(0.1789))             ec1   \n",
       "\n",
       "                                                 seq   pred_nonec1  pred_ec1  \\\n",
       "0  TCCCATTTAGCTGGGCATACTTCGCCAGGGTTTTTACGAACATATT...  5.846400e-08    1.0000   \n",
       "1  GAAAATACTTTTAAATATATGTTTAACAAGGGAATCGGAACAAAGC...  8.012000e-01    0.1988   \n",
       "2  TCTGTTTCCTGTCTTCTTTGGATAAACTCATCAGCAACCCTGGTAC...  7.045000e-01    0.2955   \n",
       "3  TCCTCCAGATGCAGGCGGTCCAGCATTTCATAAACTATGGTTTCCC...  9.631000e-01    0.0369   \n",
       "4  AGGAATTTTGGCTGCTATCAACACCGTAAGAACCGGAATAGCTGAT...  1.789000e-01    0.8211   \n",
       "\n",
       "  true_label EMBL_CDS_id  \n",
       "0        ec1  BAB41593.1  \n",
       "1     nonec1  DAA08282.1  \n",
       "2     nonec1  ABG48470.1  \n",
       "3     nonec1  EDM14285.1  \n",
       "4     nonec1  CAA88763.1  "
      ]
     },
     "execution_count": 23,
     "metadata": {},
     "output_type": "execute_result"
    }
   ],
   "source": [
    "preds['true_label'] = valid['label']\n",
    "preds['EMBL_CDS_id'] = valid['EMBL_CDS_id']\n",
    "preds['pred_ec1'] = [float(x.split('tensor(')[1].split(')')[0]) for x in preds['preds']]\n",
    "preds['pred_nonec1'] = [float(x.split('tensor(')[2].split(')')[0]) for x in preds['preds']]\n",
    "preds.head()"
   ]
  },
  {
   "cell_type": "code",
   "execution_count": 24,
   "metadata": {},
   "outputs": [
    {
     "data": {
      "text/plain": [
       "0.8226289398280803"
      ]
     },
     "execution_count": 24,
     "metadata": {},
     "output_type": "execute_result"
    }
   ],
   "source": [
    "np.sum(preds['predicted_label']==preds['true_label'])/len(preds)"
   ]
  },
  {
   "cell_type": "code",
   "execution_count": 25,
   "metadata": {},
   "outputs": [
    {
     "name": "stdout",
     "output_type": "stream",
     "text": [
      "0.7250931232091691 0.9885112866115291 0.45547994269340975 0.6236146799788156\n"
     ]
    }
   ],
   "source": [
    "cutoff=0.99\n",
    "predicted = preds['pred_ec1']>=cutoff\n",
    "true = preds['true_label']=='ec1'\n",
    "acc,precision,recall,f1 = get_scores(labels=true, preds=predicted)\n",
    "print(acc,precision,recall,f1)"
   ]
  },
  {
   "cell_type": "code",
   "execution_count": 26,
   "metadata": {},
   "outputs": [],
   "source": [
    "metrics = pd.DataFrame()\n",
    "for cutoff in np.arange(0,1.0,0.01): #[0.05,0.1,0.15,0.2,0.25,0.3,0.35,0.4,0.45,0.5,0.55,0.6,0.65,0.7,0.75,0.8,0.85,0.9,0.91,0.92,0.93,0.94,0.95,0.96,0.97,0.98,0.99,1.0]:\n",
    "    predicted = preds['pred_ec1']>=cutoff\n",
    "    true = preds['true_label']=='ec1'\n",
    "    acc,precision,recall,f1 = get_scores(labels=true, preds=predicted)\n",
    "    metrics = metrics.append([[cutoff,acc,precision,recall,f1]])\n",
    "metrics.columns = ['cutoff','accuracy','precision','recall','f1']"
   ]
  },
  {
   "cell_type": "code",
   "execution_count": 27,
   "metadata": {},
   "outputs": [
    {
     "data": {
      "text/html": [
       "<div>\n",
       "<style scoped>\n",
       "    .dataframe tbody tr th:only-of-type {\n",
       "        vertical-align: middle;\n",
       "    }\n",
       "\n",
       "    .dataframe tbody tr th {\n",
       "        vertical-align: top;\n",
       "    }\n",
       "\n",
       "    .dataframe thead th {\n",
       "        text-align: right;\n",
       "    }\n",
       "</style>\n",
       "<table border=\"1\" class=\"dataframe\">\n",
       "  <thead>\n",
       "    <tr style=\"text-align: right;\">\n",
       "      <th></th>\n",
       "      <th>cutoff</th>\n",
       "      <th>accuracy</th>\n",
       "      <th>precision</th>\n",
       "      <th>recall</th>\n",
       "      <th>f1</th>\n",
       "    </tr>\n",
       "  </thead>\n",
       "  <tbody>\n",
       "    <tr>\n",
       "      <th>0</th>\n",
       "      <td>0.00</td>\n",
       "      <td>0.500000</td>\n",
       "      <td>0.500000</td>\n",
       "      <td>1.000000</td>\n",
       "      <td>0.666667</td>\n",
       "    </tr>\n",
       "    <tr>\n",
       "      <th>0</th>\n",
       "      <td>0.01</td>\n",
       "      <td>0.674878</td>\n",
       "      <td>0.607862</td>\n",
       "      <td>0.985537</td>\n",
       "      <td>0.751940</td>\n",
       "    </tr>\n",
       "    <tr>\n",
       "      <th>0</th>\n",
       "      <td>0.02</td>\n",
       "      <td>0.707110</td>\n",
       "      <td>0.635070</td>\n",
       "      <td>0.973782</td>\n",
       "      <td>0.768772</td>\n",
       "    </tr>\n",
       "    <tr>\n",
       "      <th>0</th>\n",
       "      <td>0.03</td>\n",
       "      <td>0.726812</td>\n",
       "      <td>0.653807</td>\n",
       "      <td>0.964140</td>\n",
       "      <td>0.779212</td>\n",
       "    </tr>\n",
       "    <tr>\n",
       "      <th>0</th>\n",
       "      <td>0.04</td>\n",
       "      <td>0.740630</td>\n",
       "      <td>0.668206</td>\n",
       "      <td>0.955917</td>\n",
       "      <td>0.786577</td>\n",
       "    </tr>\n",
       "  </tbody>\n",
       "</table>\n",
       "</div>"
      ],
      "text/plain": [
       "   cutoff  accuracy  precision    recall        f1\n",
       "0    0.00  0.500000   0.500000  1.000000  0.666667\n",
       "0    0.01  0.674878   0.607862  0.985537  0.751940\n",
       "0    0.02  0.707110   0.635070  0.973782  0.768772\n",
       "0    0.03  0.726812   0.653807  0.964140  0.779212\n",
       "0    0.04  0.740630   0.668206  0.955917  0.786577"
      ]
     },
     "execution_count": 27,
     "metadata": {},
     "output_type": "execute_result"
    }
   ],
   "source": [
    "metrics.head()"
   ]
  },
  {
   "cell_type": "code",
   "execution_count": 28,
   "metadata": {},
   "outputs": [
    {
     "data": {
      "text/html": [
       "<div>\n",
       "<style scoped>\n",
       "    .dataframe tbody tr th:only-of-type {\n",
       "        vertical-align: middle;\n",
       "    }\n",
       "\n",
       "    .dataframe tbody tr th {\n",
       "        vertical-align: top;\n",
       "    }\n",
       "\n",
       "    .dataframe thead th {\n",
       "        text-align: right;\n",
       "    }\n",
       "</style>\n",
       "<table border=\"1\" class=\"dataframe\">\n",
       "  <thead>\n",
       "    <tr style=\"text-align: right;\">\n",
       "      <th></th>\n",
       "      <th>cutoff</th>\n",
       "      <th>accuracy</th>\n",
       "      <th>precision</th>\n",
       "      <th>recall</th>\n",
       "      <th>f1</th>\n",
       "    </tr>\n",
       "  </thead>\n",
       "  <tbody>\n",
       "    <tr>\n",
       "      <th>0</th>\n",
       "      <td>0.47</td>\n",
       "      <td>0.823109</td>\n",
       "      <td>0.846442</td>\n",
       "      <td>0.789434</td>\n",
       "      <td>0.816945</td>\n",
       "    </tr>\n",
       "  </tbody>\n",
       "</table>\n",
       "</div>"
      ],
      "text/plain": [
       "   cutoff  accuracy  precision    recall        f1\n",
       "0    0.47  0.823109   0.846442  0.789434  0.816945"
      ]
     },
     "execution_count": 28,
     "metadata": {},
     "output_type": "execute_result"
    }
   ],
   "source": [
    "metrics[metrics['accuracy']==metrics['accuracy'].max()]"
   ]
  },
  {
   "cell_type": "code",
   "execution_count": 29,
   "metadata": {},
   "outputs": [
    {
     "data": {
      "text/html": [
       "<div>\n",
       "<style scoped>\n",
       "    .dataframe tbody tr th:only-of-type {\n",
       "        vertical-align: middle;\n",
       "    }\n",
       "\n",
       "    .dataframe tbody tr th {\n",
       "        vertical-align: top;\n",
       "    }\n",
       "\n",
       "    .dataframe thead th {\n",
       "        text-align: right;\n",
       "    }\n",
       "</style>\n",
       "<table border=\"1\" class=\"dataframe\">\n",
       "  <thead>\n",
       "    <tr style=\"text-align: right;\">\n",
       "      <th></th>\n",
       "      <th>cutoff</th>\n",
       "      <th>accuracy</th>\n",
       "      <th>precision</th>\n",
       "      <th>recall</th>\n",
       "      <th>f1</th>\n",
       "    </tr>\n",
       "  </thead>\n",
       "  <tbody>\n",
       "    <tr>\n",
       "      <th>0</th>\n",
       "      <td>0.5</td>\n",
       "      <td>0.82265</td>\n",
       "      <td>0.852961</td>\n",
       "      <td>0.779713</td>\n",
       "      <td>0.814694</td>\n",
       "    </tr>\n",
       "  </tbody>\n",
       "</table>\n",
       "</div>"
      ],
      "text/plain": [
       "   cutoff  accuracy  precision    recall        f1\n",
       "0     0.5   0.82265   0.852961  0.779713  0.814694"
      ]
     },
     "execution_count": 29,
     "metadata": {},
     "output_type": "execute_result"
    }
   ],
   "source": [
    "metrics[metrics['cutoff']==0.5]"
   ]
  },
  {
   "cell_type": "code",
   "execution_count": 30,
   "metadata": {},
   "outputs": [
    {
     "data": {
      "image/png": "[encoded data removed]",
      "text/plain": [
       "<Figure size 432x288 with 1 Axes>"
      ]
     },
     "metadata": {
      "needs_background": "light"
     },
     "output_type": "display_data"
    }
   ],
   "source": [
    "colors = sns.color_palette('Set1',4)\n",
    "fig,ax = plt.subplots()\n",
    "plt.plot( 'cutoff', 'accuracy', data=metrics, color=colors[0], linewidth=3)\n",
    "plt.plot( 'cutoff', 'precision', data=metrics, color=colors[1], linewidth=3)\n",
    "plt.plot( 'cutoff', 'recall', data=metrics, color=colors[2], linewidth=3)\n",
    "plt.plot( 'cutoff', 'f1', data=metrics, color=colors[3], linewidth=3)\n",
    "plt.legend()\n",
    "ax.set_xticks(ticks=np.arange(0.5,1.0,0.01),minor=True)\n",
    "ax.set_yticks(ticks=np.arange(0,1.0,0.1),minor=True)\n",
    "plt.xlim((0.5,1.0))\n",
    "ax.set_xlabel('prediction probability threshold')\n",
    "plt.grid(b=True,which='minor',color='lightgray')\n",
    "plt.grid(b=True,which='major',color='lightgray')\n",
    "plt.savefig('validset_metrics.png',dpi=150)"
   ]
  },
  {
   "cell_type": "code",
   "execution_count": 31,
   "metadata": {},
   "outputs": [
    {
     "data": {
      "image/png": "[encoded data removed]",
      "text/plain": [
       "<Figure size 432x288 with 1 Axes>"
      ]
     },
     "metadata": {
      "needs_background": "light"
     },
     "output_type": "display_data"
    }
   ],
   "source": [
    "colors = sns.color_palette('Set1',4)\n",
    "fig,ax = plt.subplots()\n",
    "plt.plot( 'cutoff', 'accuracy', data=metrics, color=colors[0], linewidth=3)\n",
    "plt.plot( 'cutoff', 'precision', data=metrics, color=colors[1], linewidth=3)\n",
    "plt.plot( 'cutoff', 'recall', data=metrics, color=colors[2], linewidth=3)\n",
    "plt.plot( 'cutoff', 'f1', data=metrics, color=colors[3], linewidth=3)\n",
    "plt.legend()\n",
    "ax.set_xticks(ticks=np.arange(0,1.0,0.02),minor=True)\n",
    "ax.set_yticks(ticks=np.arange(0,1.0,0.1),minor=True)\n",
    "plt.xlim((0,1.0))\n",
    "plt.ylim((0,1))\n",
    "plt.vlines(x=0.5, ymin=0,ymax=1,linestyles='dashed',linewidth=1.5,color='gray')\n",
    "ax.set_xlabel('prediction probability threshold')\n",
    "plt.grid(b=True,which='minor',color='lightgray')\n",
    "plt.grid(b=True,which='major',color='lightgray')\n",
    "plt.savefig('validset_metrics_all.png',dpi=150)"
   ]
  },
  {
   "cell_type": "code",
   "execution_count": 32,
   "metadata": {},
   "outputs": [
    {
     "name": "stdout",
     "output_type": "stream",
     "text": [
      "0.4688367829403248\n",
      "0.366\n",
      "2.5127e-13\n",
      "1.0\n"
     ]
    }
   ],
   "source": [
    "print(np.mean(preds['pred_ec1']))\n",
    "print(np.median(preds['pred_ec1']))\n",
    "print(np.min(preds['pred_ec1']))\n",
    "print(np.max(preds['pred_ec1']))"
   ]
  },
  {
   "cell_type": "markdown",
   "metadata": {},
   "source": [
    "# metagenomes"
   ]
  },
  {
   "cell_type": "code",
   "execution_count": 79,
   "metadata": {},
   "outputs": [
    {
     "name": "stdout",
     "output_type": "stream",
     "text": [
      "analyzing metagenome ERR598962 ...\n"
     ]
    },
    {
     "data": {
      "text/html": [
       "<div>\n",
       "<style scoped>\n",
       "    .dataframe tbody tr th:only-of-type {\n",
       "        vertical-align: middle;\n",
       "    }\n",
       "\n",
       "    .dataframe tbody tr th {\n",
       "        vertical-align: top;\n",
       "    }\n",
       "\n",
       "    .dataframe thead th {\n",
       "        text-align: right;\n",
       "    }\n",
       "</style>\n",
       "<table border=\"1\" class=\"dataframe\">\n",
       "  <thead>\n",
       "    <tr style=\"text-align: right;\">\n",
       "      <th></th>\n",
       "      <th>Unnamed: 0</th>\n",
       "      <th>preds</th>\n",
       "      <th>predicted_label</th>\n",
       "      <th>seq</th>\n",
       "      <th>desc</th>\n",
       "      <th>mifaser_ec_1</th>\n",
       "      <th>mifaser_ec_2</th>\n",
       "      <th>pred_nonec1</th>\n",
       "      <th>pred_ec1</th>\n",
       "    </tr>\n",
       "  </thead>\n",
       "  <tbody>\n",
       "    <tr>\n",
       "      <th>0</th>\n",
       "      <td>0</td>\n",
       "      <td>(tensor(0.1461), tensor(0.8539))</td>\n",
       "      <td>nonec1</td>\n",
       "      <td>CTAAAAACCCTTGTTTTTATGAATTCATTAGACGCTAACATCAGAA...</td>\n",
       "      <td>ERR598962.sra.1/1PHOSPHORE:0133:0:2:1101:1270:...</td>\n",
       "      <td>NaN</td>\n",
       "      <td>NaN</td>\n",
       "      <td>0.853877</td>\n",
       "      <td>0.146123</td>\n",
       "    </tr>\n",
       "    <tr>\n",
       "      <th>1</th>\n",
       "      <td>1</td>\n",
       "      <td>(tensor(0.0323), tensor(0.9677))</td>\n",
       "      <td>nonec1</td>\n",
       "      <td>TTTTCAATTAGTGATTTAAGTATTTTTTTAGATATAGAAATTTTTT...</td>\n",
       "      <td>ERR598962.sra.1/2PHOSPHORE:0133:0:2:1101:1270:...</td>\n",
       "      <td>NaN</td>\n",
       "      <td>NaN</td>\n",
       "      <td>0.967677</td>\n",
       "      <td>0.032323</td>\n",
       "    </tr>\n",
       "    <tr>\n",
       "      <th>2</th>\n",
       "      <td>2</td>\n",
       "      <td>(tensor(0.0610), tensor(0.9390))</td>\n",
       "      <td>nonec1</td>\n",
       "      <td>CTCTTGCCTGTTACAAAAGTAATCGAGACATGCTCGTTAGCAGAAA...</td>\n",
       "      <td>ERR598962.sra.2/1PHOSPHORE:0133:0:2:1101:1490:...</td>\n",
       "      <td>NaN</td>\n",
       "      <td>NaN</td>\n",
       "      <td>0.939011</td>\n",
       "      <td>0.060990</td>\n",
       "    </tr>\n",
       "    <tr>\n",
       "      <th>3</th>\n",
       "      <td>3</td>\n",
       "      <td>(tensor(0.1799), tensor(0.8201))</td>\n",
       "      <td>nonec1</td>\n",
       "      <td>TCAGAATATATCCTGCTATTTAGCATTTCTTCTCCAACAATTTCTC...</td>\n",
       "      <td>ERR598962.sra.2/2PHOSPHORE:0133:0:2:1101:1490:...</td>\n",
       "      <td>NaN</td>\n",
       "      <td>NaN</td>\n",
       "      <td>0.820122</td>\n",
       "      <td>0.179878</td>\n",
       "    </tr>\n",
       "    <tr>\n",
       "      <th>4</th>\n",
       "      <td>4</td>\n",
       "      <td>(tensor(0.1084), tensor(0.8916))</td>\n",
       "      <td>nonec1</td>\n",
       "      <td>TTGATTTATGTATAAACCTATAGCAATTGTTCCAACAATACTCACA...</td>\n",
       "      <td>ERR598962.sra.3/1PHOSPHORE:0133:0:2:1101:1536:...</td>\n",
       "      <td>NaN</td>\n",
       "      <td>NaN</td>\n",
       "      <td>0.891587</td>\n",
       "      <td>0.108413</td>\n",
       "    </tr>\n",
       "  </tbody>\n",
       "</table>\n",
       "</div>"
      ],
      "text/plain": [
       "   Unnamed: 0                             preds predicted_label  \\\n",
       "0           0  (tensor(0.1461), tensor(0.8539))          nonec1   \n",
       "1           1  (tensor(0.0323), tensor(0.9677))          nonec1   \n",
       "2           2  (tensor(0.0610), tensor(0.9390))          nonec1   \n",
       "3           3  (tensor(0.1799), tensor(0.8201))          nonec1   \n",
       "4           4  (tensor(0.1084), tensor(0.8916))          nonec1   \n",
       "\n",
       "                                                 seq  \\\n",
       "0  CTAAAAACCCTTGTTTTTATGAATTCATTAGACGCTAACATCAGAA...   \n",
       "1  TTTTCAATTAGTGATTTAAGTATTTTTTTAGATATAGAAATTTTTT...   \n",
       "2  CTCTTGCCTGTTACAAAAGTAATCGAGACATGCTCGTTAGCAGAAA...   \n",
       "3  TCAGAATATATCCTGCTATTTAGCATTTCTTCTCCAACAATTTCTC...   \n",
       "4  TTGATTTATGTATAAACCTATAGCAATTGTTCCAACAATACTCACA...   \n",
       "\n",
       "                                                desc mifaser_ec_1  \\\n",
       "0  ERR598962.sra.1/1PHOSPHORE:0133:0:2:1101:1270:...          NaN   \n",
       "1  ERR598962.sra.1/2PHOSPHORE:0133:0:2:1101:1270:...          NaN   \n",
       "2  ERR598962.sra.2/1PHOSPHORE:0133:0:2:1101:1490:...          NaN   \n",
       "3  ERR598962.sra.2/2PHOSPHORE:0133:0:2:1101:1490:...          NaN   \n",
       "4  ERR598962.sra.3/1PHOSPHORE:0133:0:2:1101:1536:...          NaN   \n",
       "\n",
       "  mifaser_ec_2  pred_nonec1  pred_ec1  \n",
       "0          NaN     0.853877  0.146123  \n",
       "1          NaN     0.967677  0.032323  \n",
       "2          NaN     0.939011  0.060990  \n",
       "3          NaN     0.820122  0.179878  \n",
       "4          NaN     0.891587  0.108413  "
      ]
     },
     "execution_count": 79,
     "metadata": {},
     "output_type": "execute_result"
    }
   ],
   "source": [
    "#for metagenome_id in metagenomes:\n",
    "print('analyzing metagenome',metagenome_id,'...')\n",
    "preds = pd.read_csv(str(metagenome_id)+'_cut_2M_predictions.csv')\n",
    "\n",
    "preds.head()"
   ]
  },
  {
   "cell_type": "code",
   "execution_count": 7,
   "metadata": {},
   "outputs": [
    {
     "name": "stdout",
     "output_type": "stream",
     "text": [
      "analyzing metagenome ERR598962 ...\n",
      "number of reads predicted as ec1: 298318 or 0.149159 percent\n",
      "number of reads annotated by mifaser: 43091 out of 2000000\n",
      "percent reads annotated: 0.0215455\n",
      "number of reads annotated as ec1 by mifaser: 9680\n",
      "percent of annotated reads agree on ec1 between LG and mifaser: 0.7700824765563213\n",
      "average pred probability for agreed-upon ec1 predictions between LookingGlass and mifaser: 0.9420638731790121\n",
      "overall mean pred probability for LookingGlass ec1 predictions: 0.7506076716240393\n",
      "298318 ( 14.9159 %), ec1 preds with prob > 0.5\n",
      "of 8851 annotated reads with LG probs > 0.5 , how many also ec1 by mifaser? 0.7700824765563213\n",
      "120125 ( 6.00625 %), ec1 preds with prob > 0.8\n",
      "of 6825 annotated reads with LG probs > 0.8 , how many also ec1 by mifaser? 0.8775091575091575\n",
      "96609 ( 4.83045 %), ec1 preds with prob > 0.85\n",
      "of 6493 annotated reads with LG probs > 0.85 , how many also ec1 by mifaser? 0.8952718312028338\n",
      "73051 ( 3.65255 %), ec1 preds with prob > 0.9\n",
      "of 6076 annotated reads with LG probs > 0.9 , how many also ec1 by mifaser? 0.9186965108624094\n",
      "63306 ( 3.1653 %), ec1 preds with prob > 0.92\n",
      "of 5876 annotated reads with LG probs > 0.92 , how many also ec1 by mifaser? 0.9303948264125256\n",
      "53312 ( 2.6656 %), ec1 preds with prob > 0.94\n",
      "of 5649 annotated reads with LG probs > 0.94 , how many also ec1 by mifaser? 0.9417596034696406\n",
      "42717 ( 2.13585 %), ec1 preds with prob > 0.96\n",
      "of 5372 annotated reads with LG probs > 0.96 , how many also ec1 by mifaser? 0.9534623976172748\n",
      "37072 ( 1.8536 %), ec1 preds with prob > 0.97\n",
      "of 5183 annotated reads with LG probs > 0.97 , how many also ec1 by mifaser? 0.9594829249469419\n",
      "30864 ( 1.5432 %), ec1 preds with prob > 0.98\n",
      "of 4937 annotated reads with LG probs > 0.98 , how many also ec1 by mifaser? 0.9698197285801093\n",
      "23350 ( 1.1675 %), ec1 preds with prob > 0.99\n",
      "of 4553 annotated reads with LG probs > 0.99 , how many also ec1 by mifaser? 0.9817702613661322\n",
      "-------------------\n",
      "analyzing metagenome ERR599055 ...\n",
      "number of reads predicted as ec1: 326965 or 0.1634825 percent\n",
      "number of reads annotated by mifaser: 41965 out of 2000000\n",
      "percent reads annotated: 0.0209825\n",
      "number of reads annotated as ec1 by mifaser: 6978\n",
      "percent of annotated reads agree on ec1 between LG and mifaser: 0.6581151832460733\n",
      "average pred probability for agreed-upon ec1 predictions between LookingGlass and mifaser: 0.9395730207031837\n",
      "overall mean pred probability for LookingGlass ec1 predictions: 0.748389711863711\n",
      "326965 ( 16.34825 %), ec1 preds with prob > 0.5\n",
      "of 7640 annotated reads with LG probs > 0.5 , how many also ec1 by mifaser? 0.6581151832460733\n",
      "129716 ( 6.4858 %), ec1 preds with prob > 0.8\n",
      "of 5522 annotated reads with LG probs > 0.8 , how many also ec1 by mifaser? 0.7964505613908004\n",
      "103479 ( 5.17395 %), ec1 preds with prob > 0.85\n",
      "of 5157 annotated reads with LG probs > 0.85 , how many also ec1 by mifaser? 0.8231529959278651\n",
      "77533 ( 3.87665 %), ec1 preds with prob > 0.9\n",
      "of 4750 annotated reads with LG probs > 0.9 , how many also ec1 by mifaser? 0.8536842105263158\n",
      "66918 ( 3.3459 %), ec1 preds with prob > 0.92\n",
      "of 4575 annotated reads with LG probs > 0.92 , how many also ec1 by mifaser? 0.8666666666666667\n",
      "55844 ( 2.7922 %), ec1 preds with prob > 0.94\n",
      "of 4328 annotated reads with LG probs > 0.94 , how many also ec1 by mifaser? 0.8865526802218114\n",
      "44082 ( 2.2041 %), ec1 preds with prob > 0.96\n",
      "of 4051 annotated reads with LG probs > 0.96 , how many also ec1 by mifaser? 0.911379906196001\n",
      "37990 ( 1.8995 %), ec1 preds with prob > 0.97\n",
      "of 3900 annotated reads with LG probs > 0.97 , how many also ec1 by mifaser? 0.9246153846153846\n",
      "31126 ( 1.5563 %), ec1 preds with prob > 0.98\n",
      "of 3682 annotated reads with LG probs > 0.98 , how many also ec1 by mifaser? 0.9397066811515481\n",
      "23134 ( 1.1567 %), ec1 preds with prob > 0.99\n",
      "of 3368 annotated reads with LG probs > 0.99 , how many also ec1 by mifaser? 0.9605106888361045\n",
      "-------------------\n",
      "analyzing metagenome ERR598957 ...\n",
      "number of reads predicted as ec1: 290938 or 0.145469 percent\n",
      "number of reads annotated by mifaser: 40639 out of 2000000\n",
      "percent reads annotated: 0.0203195\n",
      "number of reads annotated as ec1 by mifaser: 8927\n",
      "percent of annotated reads agree on ec1 between LG and mifaser: 0.76732249786142\n",
      "average pred probability for agreed-upon ec1 predictions between LookingGlass and mifaser: 0.93813276408603\n",
      "overall mean pred probability for LookingGlass ec1 predictions: 0.7403656385157227\n",
      "290938 ( 14.5469 %), ec1 preds with prob > 0.5\n",
      "of 8183 annotated reads with LG probs > 0.5 , how many also ec1 by mifaser? 0.76732249786142\n",
      "109099 ( 5.45495 %), ec1 preds with prob > 0.8\n",
      "of 6293 annotated reads with LG probs > 0.8 , how many also ec1 by mifaser? 0.8681074209439059\n",
      "86793 ( 4.33965 %), ec1 preds with prob > 0.85\n",
      "of 5953 annotated reads with LG probs > 0.85 , how many also ec1 by mifaser? 0.8898034604401143\n",
      "65124 ( 3.2562 %), ec1 preds with prob > 0.9\n",
      "of 5533 annotated reads with LG probs > 0.9 , how many also ec1 by mifaser? 0.9130670522320622\n",
      "56334 ( 2.8167 %), ec1 preds with prob > 0.92\n",
      "of 5344 annotated reads with LG probs > 0.92 , how many also ec1 by mifaser? 0.9229041916167665\n",
      "47264 ( 2.3632 %), ec1 preds with prob > 0.94\n",
      "of 5119 annotated reads with LG probs > 0.94 , how many also ec1 by mifaser? 0.9376831412385231\n",
      "37937 ( 1.89685 %), ec1 preds with prob > 0.96\n",
      "of 4846 annotated reads with LG probs > 0.96 , how many also ec1 by mifaser? 0.9513000412711514\n",
      "32911 ( 1.64555 %), ec1 preds with prob > 0.97\n",
      "of 4675 annotated reads with LG probs > 0.97 , how many also ec1 by mifaser? 0.9589304812834225\n",
      "27401 ( 1.37005 %), ec1 preds with prob > 0.98\n",
      "of 4449 annotated reads with LG probs > 0.98 , how many also ec1 by mifaser? 0.9669588671611599\n",
      "20850 ( 1.0425 %), ec1 preds with prob > 0.99\n",
      "of 4052 annotated reads with LG probs > 0.99 , how many also ec1 by mifaser? 0.9782823297137216\n",
      "-------------------\n",
      "analyzing metagenome ERR599072 ...\n",
      "number of reads predicted as ec1: 350398 or 0.175199 percent\n",
      "number of reads annotated by mifaser: 32428 out of 2000000\n",
      "percent reads annotated: 0.016214\n",
      "number of reads annotated as ec1 by mifaser: 5678\n",
      "percent of annotated reads agree on ec1 between LG and mifaser: 0.6472874242188714\n",
      "average pred probability for agreed-upon ec1 predictions between LookingGlass and mifaser: 0.9388429146478315\n",
      "overall mean pred probability for LookingGlass ec1 predictions: 0.742453928053114\n",
      "350398 ( 17.5199 %), ec1 preds with prob > 0.5\n",
      "of 6433 annotated reads with LG probs > 0.5 , how many also ec1 by mifaser? 0.6472874242188714\n",
      "133412 ( 6.6706 %), ec1 preds with prob > 0.8\n",
      "of 4598 annotated reads with LG probs > 0.8 , how many also ec1 by mifaser? 0.7907785993910396\n",
      "105438 ( 5.2719 %), ec1 preds with prob > 0.85\n",
      "of 4282 annotated reads with LG probs > 0.85 , how many also ec1 by mifaser? 0.8187762727697337\n",
      "77705 ( 3.88525 %), ec1 preds with prob > 0.9\n",
      "of 3931 annotated reads with LG probs > 0.9 , how many also ec1 by mifaser? 0.854235563469855\n",
      "66582 ( 3.3291 %), ec1 preds with prob > 0.92\n",
      "of 3784 annotated reads with LG probs > 0.92 , how many also ec1 by mifaser? 0.8707716701902748\n",
      "54867 ( 2.74335 %), ec1 preds with prob > 0.94\n",
      "of 3596 annotated reads with LG probs > 0.94 , how many also ec1 by mifaser? 0.8879310344827587\n",
      "42759 ( 2.13795 %), ec1 preds with prob > 0.96\n",
      "of 3355 annotated reads with LG probs > 0.96 , how many also ec1 by mifaser? 0.9102831594634874\n",
      "36297 ( 1.81485 %), ec1 preds with prob > 0.97\n",
      "of 3207 annotated reads with LG probs > 0.97 , how many also ec1 by mifaser? 0.9245400685999376\n",
      "29330 ( 1.4665 %), ec1 preds with prob > 0.98\n",
      "of 3041 annotated reads with LG probs > 0.98 , how many also ec1 by mifaser? 0.9417954620190727\n",
      "21487 ( 1.07435 %), ec1 preds with prob > 0.99\n",
      "of 2785 annotated reads with LG probs > 0.99 , how many also ec1 by mifaser? 0.9601436265709156\n",
      "-------------------\n"
     ]
    }
   ],
   "source": [
    "for metagenome_id in metagenomes:\n",
    "    print('analyzing metagenome',metagenome_id,'...')\n",
    "    preds = pd.read_csv(str(metagenome_id)+'_cut_2M_predictions.csv')\n",
    "    print('number of reads predicted as ec1:',len(preds[preds['predicted_label']=='ec1']),'or',len(preds[preds['predicted_label']=='ec1'])/len(preds),'percent')\n",
    "    print('number of reads annotated by mifaser:',len(preds['mifaser_ec_1'].dropna()),'out of',len(preds))\n",
    "    annotated = preds.dropna(subset=['mifaser_ec_1'])\n",
    "    print('percent reads annotated:',len(annotated)/len(preds))\n",
    "    true_ec1s = annotated[annotated['mifaser_ec_1'].str.startswith('1.')]\n",
    "    print('number of reads annotated as ec1 by mifaser:',len(true_ec1s))\n",
    "    true_nonec1s = annotated[~annotated['mifaser_ec_1'].str.startswith('1.')]\n",
    "    annotated_predec1 = annotated[annotated['predicted_label']=='ec1']\n",
    "    agree = annotated_predec1[annotated_predec1['mifaser_ec_1'].str.startswith('1.')]\n",
    "    print('percent of annotated reads agree on ec1 between LG and mifaser:',len(agree)/len(annotated_predec1))\n",
    "    annotated_prednonec1 = annotated[annotated['predicted_label']=='nonec1']\n",
    "\n",
    "\n",
    "    print('average pred probability for agreed-upon ec1 predictions between LookingGlass and mifaser:',np.mean(agree['pred_ec1']))\n",
    "    print('overall mean pred probability for LookingGlass ec1 predictions:',np.mean(preds[preds['predicted_label']=='ec1']['pred_ec1']) )\n",
    "\n",
    "    for cutoff in [0.5,0.8,0.85,0.9,0.92,0.94,0.96,0.97,0.98,0.99]:\n",
    "        above = preds[preds['pred_ec1']>cutoff] \n",
    "        print(len(above),'(',len(above)*100/len(preds),'%), ec1 preds with prob >',cutoff)\n",
    "        above_annotated = above.dropna(subset=['mifaser_ec_1'])\n",
    "        print('of',len(above_annotated), 'annotated reads with LG probs >',cutoff,', how many also ec1 by mifaser?',len(above_annotated[above_annotated['mifaser_ec_1'].str.startswith('1.')])/len(above_annotated))\n",
    "    print('-------------------')"
   ]
  },
  {
   "cell_type": "code",
   "execution_count": 96,
   "metadata": {},
   "outputs": [
    {
     "data": {
      "text/plain": [
       "0"
      ]
     },
     "execution_count": 96,
     "metadata": {},
     "output_type": "execute_result"
    }
   ],
   "source": [
    "len(preds['mifaser_ec_1'].dropna())"
   ]
  },
  {
   "cell_type": "code",
   "execution_count": null,
   "metadata": {},
   "outputs": [],
   "source": [
    "'''\n",
    "what can we do with this? diversity comparisons (via kmer sketches I guess?)\n",
    "targeted assembly of the ec1 subset, novel genes to test for function \n",
    "\n",
    "thinking about this...\n",
    "can we look at the \"attention\" of the lstm and confirm that it's focusing on conserved sites in EC1s? \n",
    "If that's the case, then \"high-attention\" regions that don't match to known conserved sites may be interesting?\n",
    "\n",
    "'''"
   ]
  },
  {
   "cell_type": "markdown",
   "metadata": {},
   "source": [
    "# compute avg seqsim across EC1 groups"
   ]
  },
  {
   "cell_type": "code",
   "execution_count": 33,
   "metadata": {},
   "outputs": [
    {
     "data": {
      "text/html": [
       "<div>\n",
       "<style scoped>\n",
       "    .dataframe tbody tr th:only-of-type {\n",
       "        vertical-align: middle;\n",
       "    }\n",
       "\n",
       "    .dataframe tbody tr th {\n",
       "        vertical-align: top;\n",
       "    }\n",
       "\n",
       "    .dataframe thead th {\n",
       "        text-align: right;\n",
       "    }\n",
       "</style>\n",
       "<table border=\"1\" class=\"dataframe\">\n",
       "  <thead>\n",
       "    <tr style=\"text-align: right;\">\n",
       "      <th></th>\n",
       "      <th>From</th>\n",
       "      <th>To</th>\n",
       "    </tr>\n",
       "  </thead>\n",
       "  <tbody>\n",
       "    <tr>\n",
       "      <th>0</th>\n",
       "      <td>Q60HE5</td>\n",
       "      <td>BAD51970.1</td>\n",
       "    </tr>\n",
       "    <tr>\n",
       "      <th>1</th>\n",
       "      <td>A0A1D6F9Y9</td>\n",
       "      <td>ONM27923.1</td>\n",
       "    </tr>\n",
       "    <tr>\n",
       "      <th>2</th>\n",
       "      <td>A0A1D6F9Y9</td>\n",
       "      <td>ACF85239.1</td>\n",
       "    </tr>\n",
       "    <tr>\n",
       "      <th>3</th>\n",
       "      <td>A0A1D6F9Y9</td>\n",
       "      <td>ACL53859.1</td>\n",
       "    </tr>\n",
       "    <tr>\n",
       "      <th>4</th>\n",
       "      <td>A0A1D6F9Y9</td>\n",
       "      <td>ACR36247.1</td>\n",
       "    </tr>\n",
       "  </tbody>\n",
       "</table>\n",
       "</div>"
      ],
      "text/plain": [
       "         From          To\n",
       "0      Q60HE5  BAD51970.1\n",
       "1  A0A1D6F9Y9  ONM27923.1\n",
       "2  A0A1D6F9Y9  ACF85239.1\n",
       "3  A0A1D6F9Y9  ACL53859.1\n",
       "4  A0A1D6F9Y9  ACR36247.1"
      ]
     },
     "execution_count": 33,
     "metadata": {},
     "output_type": "execute_result"
    }
   ],
   "source": [
    "ref = pd.read_csv('../ec1_uniprot2cds.tsv',sep='\\t')\n",
    "ref.head()"
   ]
  },
  {
   "cell_type": "code",
   "execution_count": 34,
   "metadata": {},
   "outputs": [
    {
     "data": {
      "text/html": [
       "<div>\n",
       "<style scoped>\n",
       "    .dataframe tbody tr th:only-of-type {\n",
       "        vertical-align: middle;\n",
       "    }\n",
       "\n",
       "    .dataframe tbody tr th {\n",
       "        vertical-align: top;\n",
       "    }\n",
       "\n",
       "    .dataframe thead th {\n",
       "        text-align: right;\n",
       "    }\n",
       "</style>\n",
       "<table border=\"1\" class=\"dataframe\">\n",
       "  <thead>\n",
       "    <tr style=\"text-align: right;\">\n",
       "      <th></th>\n",
       "      <th>Entry</th>\n",
       "      <th>Entry name</th>\n",
       "      <th>Length</th>\n",
       "      <th>EC number</th>\n",
       "      <th>Cross-reference (Pfam)</th>\n",
       "      <th>Taxonomic lineage (SUPERKINGDOM)</th>\n",
       "      <th>Cross-reference (CAZy)</th>\n",
       "    </tr>\n",
       "  </thead>\n",
       "  <tbody>\n",
       "    <tr>\n",
       "      <th>0</th>\n",
       "      <td>P31937</td>\n",
       "      <td>3HIDH_HUMAN</td>\n",
       "      <td>336</td>\n",
       "      <td>1.1.1.31</td>\n",
       "      <td>PF14833;PF03446;</td>\n",
       "      <td>Eukaryota</td>\n",
       "      <td>NaN</td>\n",
       "    </tr>\n",
       "    <tr>\n",
       "      <th>1</th>\n",
       "      <td>Q9FFR3</td>\n",
       "      <td>6PGD3_ARATH</td>\n",
       "      <td>487</td>\n",
       "      <td>1.1.1.44</td>\n",
       "      <td>PF00393;PF03446;</td>\n",
       "      <td>Eukaryota</td>\n",
       "      <td>NaN</td>\n",
       "    </tr>\n",
       "    <tr>\n",
       "      <th>2</th>\n",
       "      <td>O35936</td>\n",
       "      <td>ALOX8_MOUSE</td>\n",
       "      <td>677</td>\n",
       "      <td>1.13.11.-</td>\n",
       "      <td>PF00305;PF01477;</td>\n",
       "      <td>Eukaryota</td>\n",
       "      <td>NaN</td>\n",
       "    </tr>\n",
       "    <tr>\n",
       "      <th>3</th>\n",
       "      <td>P00325</td>\n",
       "      <td>ADH1B_HUMAN</td>\n",
       "      <td>375</td>\n",
       "      <td>1.1.1.105</td>\n",
       "      <td>PF08240;PF00107;</td>\n",
       "      <td>Eukaryota</td>\n",
       "      <td>NaN</td>\n",
       "    </tr>\n",
       "    <tr>\n",
       "      <th>4</th>\n",
       "      <td>P38918</td>\n",
       "      <td>ARK73_RAT</td>\n",
       "      <td>327</td>\n",
       "      <td>1.-.-.-</td>\n",
       "      <td>PF00248;</td>\n",
       "      <td>Eukaryota</td>\n",
       "      <td>NaN</td>\n",
       "    </tr>\n",
       "  </tbody>\n",
       "</table>\n",
       "</div>"
      ],
      "text/plain": [
       "    Entry   Entry name  Length  EC number Cross-reference (Pfam)  \\\n",
       "0  P31937  3HIDH_HUMAN     336   1.1.1.31       PF14833;PF03446;   \n",
       "1  Q9FFR3  6PGD3_ARATH     487   1.1.1.44       PF00393;PF03446;   \n",
       "2  O35936  ALOX8_MOUSE     677  1.13.11.-       PF00305;PF01477;   \n",
       "3  P00325  ADH1B_HUMAN     375  1.1.1.105       PF08240;PF00107;   \n",
       "4  P38918    ARK73_RAT     327    1.-.-.-               PF00248;   \n",
       "\n",
       "  Taxonomic lineage (SUPERKINGDOM) Cross-reference (CAZy)  \n",
       "0                        Eukaryota                    NaN  \n",
       "1                        Eukaryota                    NaN  \n",
       "2                        Eukaryota                    NaN  \n",
       "3                        Eukaryota                    NaN  \n",
       "4                        Eukaryota                    NaN  "
      ]
     },
     "execution_count": 34,
     "metadata": {},
     "output_type": "execute_result"
    }
   ],
   "source": [
    "uniprot = pd.read_csv('../uniprot_ec1_reviewed.tab',sep='\\t')\n",
    "uniprot.head()"
   ]
  },
  {
   "cell_type": "code",
   "execution_count": 90,
   "metadata": {},
   "outputs": [
    {
     "name": "stdout",
     "output_type": "stream",
     "text": [
      "33901\n",
      "33901\n",
      "1668\n"
     ]
    }
   ],
   "source": [
    "print(len(uniprot))\n",
    "print(len(set(uniprot['Entry'])))\n",
    "print(len(set(uniprot['EC number'])))"
   ]
  },
  {
   "cell_type": "code",
   "execution_count": 35,
   "metadata": {},
   "outputs": [
    {
     "data": {
      "text/html": [
       "<div>\n",
       "<style scoped>\n",
       "    .dataframe tbody tr th:only-of-type {\n",
       "        vertical-align: middle;\n",
       "    }\n",
       "\n",
       "    .dataframe tbody tr th {\n",
       "        vertical-align: top;\n",
       "    }\n",
       "\n",
       "    .dataframe thead th {\n",
       "        text-align: right;\n",
       "    }\n",
       "</style>\n",
       "<table border=\"1\" class=\"dataframe\">\n",
       "  <thead>\n",
       "    <tr style=\"text-align: right;\">\n",
       "      <th></th>\n",
       "      <th>Entry</th>\n",
       "      <th>EC number</th>\n",
       "      <th>From</th>\n",
       "      <th>To</th>\n",
       "    </tr>\n",
       "  </thead>\n",
       "  <tbody>\n",
       "    <tr>\n",
       "      <th>0</th>\n",
       "      <td>P31937</td>\n",
       "      <td>1.1.1.31</td>\n",
       "      <td>P31937</td>\n",
       "      <td>AAQ09596.1</td>\n",
       "    </tr>\n",
       "    <tr>\n",
       "      <th>1</th>\n",
       "      <td>P31937</td>\n",
       "      <td>1.1.1.31</td>\n",
       "      <td>P31937</td>\n",
       "      <td>BAF42045.1</td>\n",
       "    </tr>\n",
       "    <tr>\n",
       "      <th>2</th>\n",
       "      <td>P31937</td>\n",
       "      <td>1.1.1.31</td>\n",
       "      <td>P31937</td>\n",
       "      <td>BAG38192.1</td>\n",
       "    </tr>\n",
       "    <tr>\n",
       "      <th>3</th>\n",
       "      <td>P31937</td>\n",
       "      <td>1.1.1.31</td>\n",
       "      <td>P31937</td>\n",
       "      <td>EAL24214.1</td>\n",
       "    </tr>\n",
       "    <tr>\n",
       "      <th>4</th>\n",
       "      <td>P31937</td>\n",
       "      <td>1.1.1.31</td>\n",
       "      <td>P31937</td>\n",
       "      <td>EAW93897.1</td>\n",
       "    </tr>\n",
       "  </tbody>\n",
       "</table>\n",
       "</div>"
      ],
      "text/plain": [
       "    Entry EC number    From          To\n",
       "0  P31937  1.1.1.31  P31937  AAQ09596.1\n",
       "1  P31937  1.1.1.31  P31937  BAF42045.1\n",
       "2  P31937  1.1.1.31  P31937  BAG38192.1\n",
       "3  P31937  1.1.1.31  P31937  EAL24214.1\n",
       "4  P31937  1.1.1.31  P31937  EAW93897.1"
      ]
     },
     "execution_count": 35,
     "metadata": {},
     "output_type": "execute_result"
    }
   ],
   "source": [
    "merge = uniprot[['Entry', 'EC number']].merge(ref, left_on='Entry',right_on='From')\n",
    "merge.head()"
   ]
  },
  {
   "cell_type": "code",
   "execution_count": 36,
   "metadata": {},
   "outputs": [
    {
     "data": {
      "text/html": [
       "<div>\n",
       "<style scoped>\n",
       "    .dataframe tbody tr th:only-of-type {\n",
       "        vertical-align: middle;\n",
       "    }\n",
       "\n",
       "    .dataframe tbody tr th {\n",
       "        vertical-align: top;\n",
       "    }\n",
       "\n",
       "    .dataframe thead th {\n",
       "        text-align: right;\n",
       "    }\n",
       "</style>\n",
       "<table border=\"1\" class=\"dataframe\">\n",
       "  <thead>\n",
       "    <tr style=\"text-align: right;\">\n",
       "      <th></th>\n",
       "      <th>EMBL_CDS_id</th>\n",
       "      <th>seq</th>\n",
       "      <th>label</th>\n",
       "      <th>predicted_label</th>\n",
       "    </tr>\n",
       "  </thead>\n",
       "  <tbody>\n",
       "    <tr>\n",
       "      <th>0</th>\n",
       "      <td>BAB41593.1</td>\n",
       "      <td>TCCCATTTAGCTGGGCATACTTCGCCAGGGTTTTTACGAACATATT...</td>\n",
       "      <td>ec1</td>\n",
       "      <td>ec1</td>\n",
       "    </tr>\n",
       "    <tr>\n",
       "      <th>1</th>\n",
       "      <td>DAA08282.1</td>\n",
       "      <td>GAAAATACTTTTAAATATATGTTTAACAAGGGAATCGGAACAAAGC...</td>\n",
       "      <td>nonec1</td>\n",
       "      <td>nonec1</td>\n",
       "    </tr>\n",
       "    <tr>\n",
       "      <th>2</th>\n",
       "      <td>ABG48470.1</td>\n",
       "      <td>TCTGTTTCCTGTCTTCTTTGGATAAACTCATCAGCAACCCTGGTAC...</td>\n",
       "      <td>nonec1</td>\n",
       "      <td>nonec1</td>\n",
       "    </tr>\n",
       "    <tr>\n",
       "      <th>3</th>\n",
       "      <td>EDM14285.1</td>\n",
       "      <td>TCCTCCAGATGCAGGCGGTCCAGCATTTCATAAACTATGGTTTCCC...</td>\n",
       "      <td>nonec1</td>\n",
       "      <td>nonec1</td>\n",
       "    </tr>\n",
       "    <tr>\n",
       "      <th>4</th>\n",
       "      <td>CAA88763.1</td>\n",
       "      <td>AGGAATTTTGGCTGCTATCAACACCGTAAGAACCGGAATAGCTGAT...</td>\n",
       "      <td>nonec1</td>\n",
       "      <td>ec1</td>\n",
       "    </tr>\n",
       "  </tbody>\n",
       "</table>\n",
       "</div>"
      ],
      "text/plain": [
       "  EMBL_CDS_id                                                seq   label  \\\n",
       "0  BAB41593.1  TCCCATTTAGCTGGGCATACTTCGCCAGGGTTTTTACGAACATATT...     ec1   \n",
       "1  DAA08282.1  GAAAATACTTTTAAATATATGTTTAACAAGGGAATCGGAACAAAGC...  nonec1   \n",
       "2  ABG48470.1  TCTGTTTCCTGTCTTCTTTGGATAAACTCATCAGCAACCCTGGTAC...  nonec1   \n",
       "3  EDM14285.1  TCCTCCAGATGCAGGCGGTCCAGCATTTCATAAACTATGGTTTCCC...  nonec1   \n",
       "4  CAA88763.1  AGGAATTTTGGCTGCTATCAACACCGTAAGAACCGGAATAGCTGAT...  nonec1   \n",
       "\n",
       "  predicted_label  \n",
       "0             ec1  \n",
       "1          nonec1  \n",
       "2          nonec1  \n",
       "3          nonec1  \n",
       "4             ec1  "
      ]
     },
     "execution_count": 36,
     "metadata": {},
     "output_type": "execute_result"
    }
   ],
   "source": [
    "valid['predicted_label'] = preds['predicted_label']\n",
    "valid.head()"
   ]
  },
  {
   "cell_type": "code",
   "execution_count": 37,
   "metadata": {},
   "outputs": [
    {
     "data": {
      "text/plain": [
       "0.8226289398280803"
      ]
     },
     "execution_count": 37,
     "metadata": {},
     "output_type": "execute_result"
    }
   ],
   "source": [
    "np.sum(valid['predicted_label']==valid['label'])/len(valid)"
   ]
  },
  {
   "cell_type": "code",
   "execution_count": 43,
   "metadata": {},
   "outputs": [],
   "source": [
    "ecref = merge.merge(valid,left_on='To',right_on='EMBL_CDS_id')\n",
    "ecref.drop(['From','To'],axis=1,inplace=True)"
   ]
  },
  {
   "cell_type": "code",
   "execution_count": 44,
   "metadata": {},
   "outputs": [
    {
     "data": {
      "text/html": [
       "<div>\n",
       "<style scoped>\n",
       "    .dataframe tbody tr th:only-of-type {\n",
       "        vertical-align: middle;\n",
       "    }\n",
       "\n",
       "    .dataframe tbody tr th {\n",
       "        vertical-align: top;\n",
       "    }\n",
       "\n",
       "    .dataframe thead th {\n",
       "        text-align: right;\n",
       "    }\n",
       "</style>\n",
       "<table border=\"1\" class=\"dataframe\">\n",
       "  <thead>\n",
       "    <tr style=\"text-align: right;\">\n",
       "      <th></th>\n",
       "      <th>Entry</th>\n",
       "      <th>EC number</th>\n",
       "      <th>EMBL_CDS_id</th>\n",
       "      <th>seq</th>\n",
       "      <th>label</th>\n",
       "      <th>predicted_label</th>\n",
       "    </tr>\n",
       "  </thead>\n",
       "  <tbody>\n",
       "    <tr>\n",
       "      <th>0</th>\n",
       "      <td>B2IHZ4</td>\n",
       "      <td>1.11.1.15</td>\n",
       "      <td>ACB96040.1</td>\n",
       "      <td>ATCGCCATGATCGTGGCGGCGGCGAGCGCCGCGTCCCGCGCAGCGG...</td>\n",
       "      <td>ec1</td>\n",
       "      <td>nonec1</td>\n",
       "    </tr>\n",
       "    <tr>\n",
       "      <th>1</th>\n",
       "      <td>B2IHZ4</td>\n",
       "      <td>1.11.1.15</td>\n",
       "      <td>ACB96040.1</td>\n",
       "      <td>GGCGATGAACAATGTCTATTACCGCTTTGTCCATCTCGCCTCGAAC...</td>\n",
       "      <td>ec1</td>\n",
       "      <td>nonec1</td>\n",
       "    </tr>\n",
       "    <tr>\n",
       "      <th>2</th>\n",
       "      <td>B2IHZ4</td>\n",
       "      <td>1.11.1.15</td>\n",
       "      <td>ACB96040.1</td>\n",
       "      <td>TTAGCTGGCGGCAGACACCGGCAGGCTCGCTGCTTCAAGCGCGACG...</td>\n",
       "      <td>ec1</td>\n",
       "      <td>ec1</td>\n",
       "    </tr>\n",
       "    <tr>\n",
       "      <th>3</th>\n",
       "      <td>B2IHZ4</td>\n",
       "      <td>1.11.1.15</td>\n",
       "      <td>ACB96040.1</td>\n",
       "      <td>TCCGCATTGCGGGTGGCGACGGCACAGGCCAGCATTAAGCCATATT...</td>\n",
       "      <td>ec1</td>\n",
       "      <td>nonec1</td>\n",
       "    </tr>\n",
       "    <tr>\n",
       "      <th>4</th>\n",
       "      <td>B2IHZ4</td>\n",
       "      <td>1.11.1.15</td>\n",
       "      <td>ACB96040.1</td>\n",
       "      <td>GCCGATGATATTCATCCGCAGCTTGGCGGGCAACGTGCCATAAGCT...</td>\n",
       "      <td>ec1</td>\n",
       "      <td>ec1</td>\n",
       "    </tr>\n",
       "  </tbody>\n",
       "</table>\n",
       "</div>"
      ],
      "text/plain": [
       "    Entry  EC number EMBL_CDS_id  \\\n",
       "0  B2IHZ4  1.11.1.15  ACB96040.1   \n",
       "1  B2IHZ4  1.11.1.15  ACB96040.1   \n",
       "2  B2IHZ4  1.11.1.15  ACB96040.1   \n",
       "3  B2IHZ4  1.11.1.15  ACB96040.1   \n",
       "4  B2IHZ4  1.11.1.15  ACB96040.1   \n",
       "\n",
       "                                                 seq label predicted_label  \n",
       "0  ATCGCCATGATCGTGGCGGCGGCGAGCGCCGCGTCCCGCGCAGCGG...   ec1          nonec1  \n",
       "1  GGCGATGAACAATGTCTATTACCGCTTTGTCCATCTCGCCTCGAAC...   ec1          nonec1  \n",
       "2  TTAGCTGGCGGCAGACACCGGCAGGCTCGCTGCTTCAAGCGCGACG...   ec1             ec1  \n",
       "3  TCCGCATTGCGGGTGGCGACGGCACAGGCCAGCATTAAGCCATATT...   ec1          nonec1  \n",
       "4  GCCGATGATATTCATCCGCAGCTTGGCGGGCAACGTGCCATAAGCT...   ec1             ec1  "
      ]
     },
     "execution_count": 44,
     "metadata": {},
     "output_type": "execute_result"
    }
   ],
   "source": [
    "ecref.head()"
   ]
  },
  {
   "cell_type": "code",
   "execution_count": 45,
   "metadata": {},
   "outputs": [
    {
     "data": {
      "text/plain": [
       "279200"
      ]
     },
     "execution_count": 45,
     "metadata": {},
     "output_type": "execute_result"
    }
   ],
   "source": [
    "len(valid)"
   ]
  },
  {
   "cell_type": "code",
   "execution_count": 46,
   "metadata": {},
   "outputs": [
    {
     "data": {
      "text/plain": [
       "140100"
      ]
     },
     "execution_count": 46,
     "metadata": {},
     "output_type": "execute_result"
    }
   ],
   "source": [
    "len(ecref) #ec1 only here"
   ]
  },
  {
   "cell_type": "code",
   "execution_count": 47,
   "metadata": {},
   "outputs": [
    {
     "data": {
      "text/plain": [
       "253"
      ]
     },
     "execution_count": 47,
     "metadata": {},
     "output_type": "execute_result"
    }
   ],
   "source": [
    "len(Counter(ecref['EC number']))"
   ]
  },
  {
   "cell_type": "code",
   "execution_count": 55,
   "metadata": {},
   "outputs": [
    {
     "data": {
      "text/plain": [
       "[('1.4.3.5', 1000),\n",
       " ('1.2.1.-', 750),\n",
       " ('1.3.7.15', 750),\n",
       " ('1.1.1.-', 750),\n",
       " ('1.5.98.1', 750),\n",
       " ('1.2.7.11', 750),\n",
       " ('2.1.1.61; 1.5.-.-', 700),\n",
       " ('1.1.1.262', 700),\n",
       " ('1.18.1.2', 700),\n",
       " ('1.2.1.3', 650),\n",
       " ('1.8.4.12', 650),\n",
       " ('1.3.7.3', 650),\n",
       " ('1.1.1.85', 650),\n",
       " ('1.3.3.11', 650),\n",
       " ('1.1.1.267', 600),\n",
       " ('1.14.99.60', 600),\n",
       " ('1.3.1.-', 600),\n",
       " ('1.1.1.42', 600),\n",
       " ('1.3.99.-', 550),\n",
       " ('1.13.11.54; 1.13.11.53', 550),\n",
       " ('1.13.11.11', 550),\n",
       " ('1.17.4.1', 550),\n",
       " ('1.13.11.16', 550),\n",
       " ('1.8.1.4', 500),\n",
       " ('1.8.1.-', 500),\n",
       " ('1.13.11.5', 500),\n",
       " ('1.1.1.290', 500),\n",
       " ('1.1.1.100', 500),\n",
       " ('4.2.1.17; 5.1.2.3; 5.3.3.8; 1.1.1.35', 500),\n",
       " ('1.3.1.9', 500),\n",
       " ('1.8.4.8', 450),\n",
       " ('1.14.-.-', 450),\n",
       " ('1.17.1.-', 450),\n",
       " ('1.2.-.-', 450),\n",
       " ('1.12.98.3', 400),\n",
       " ('1.10.3.-', 350),\n",
       " ('1.1.1.23', 350),\n",
       " ('1.1.1.27', 350),\n",
       " ('1.2.4.2', 350),\n",
       " ('1.3.5.1', 350),\n",
       " ('1.8.1.2', 300),\n",
       " ('1.7.5.1', 300),\n",
       " ('1.7.1.15', 300),\n",
       " ('1.21.98.4', 300),\n",
       " ('1.4.1.13', 300),\n",
       " ('1.14.13.-', 300),\n",
       " ('1.1.1.22', 300),\n",
       " ('1.8.1.9', 300),\n",
       " ('1.4.1.-', 250),\n",
       " ('1.2.1.11', 250),\n",
       " ('1.1.1.-; 1.1.1.24', 250),\n",
       " ('1.1.1.11', 250),\n",
       " ('1.1.1.205', 250),\n",
       " ('1.1.1.26', 250),\n",
       " ('1.13.11.-', 250),\n",
       " ('1.-.-.-; 1.5.1.34', 250),\n",
       " ('1.1.5.3', 250),\n",
       " ('1.1.5.4', 250),\n",
       " ('1.1.1.169', 250),\n",
       " ('1.2.1.12', 250),\n",
       " ('1.1.1.-; 1.1.1.237', 250),\n",
       " ('1.1.1.3', 250),\n",
       " ('1.7.2.3; 1.8.5.3', 250),\n",
       " ('1.1.1.346', 250),\n",
       " ('1.3.99.4', 200),\n",
       " ('1.14.15.30', 200),\n",
       " ('1.4.3.16', 200),\n",
       " ('1.14.12.17', 200),\n",
       " ('1.7.2.4', 200),\n",
       " ('1.12.2.1', 200),\n",
       " ('1.5.5.2', 200),\n",
       " ('1.5.1.49', 200),\n",
       " ('1.2.1.26', 200),\n",
       " ('1.13.11.27', 200),\n",
       " ('1.6.5.11', 200),\n",
       " ('1.14.19.9', 200),\n",
       " ('1.18.1.3', 200),\n",
       " ('1.8.-.-', 200),\n",
       " ('1.17.8.1', 200),\n",
       " ('1.1.1.49', 200),\n",
       " ('1.4.1.3', 200),\n",
       " ('1.1.1.203', 200),\n",
       " ('1.14.18.1', 200),\n",
       " ('1.4.3.23', 200),\n",
       " ('1.4.1.24', 150),\n",
       " ('1.3.-.-', 150),\n",
       " ('1.14.12.3; 1.14.12.11', 150),\n",
       " ('1.13.11.6', 150),\n",
       " ('1.14.15.35', 150),\n",
       " ('1.1.1.44', 150),\n",
       " ('1.1.1.1; 1.2.1.3', 150),\n",
       " ('1.4.1.21', 150),\n",
       " ('1.14.12.1', 150),\n",
       " ('1.7.2.2', 150),\n",
       " ('1.8.98.5', 150),\n",
       " ('1.1.1.36', 150),\n",
       " ('1.8.1.8', 150),\n",
       " ('1.4.99.-', 150),\n",
       " ('1.17.7.1', 150),\n",
       " ('1.13.12.-', 150),\n",
       " ('1.14.11.44', 150),\n",
       " ('1.12.99.-', 150),\n",
       " ('1.1.1.309', 150),\n",
       " ('1.5.99.14', 150),\n",
       " ('1.1.1.35; 4.2.1.17; 5.3.3.8', 150),\n",
       " ('1.14.15.3', 150),\n",
       " ('1.1.1.274', 150),\n",
       " ('1.1.1.271', 150),\n",
       " ('4.1.1.97; 1.7.3.3', 150),\n",
       " ('1.97.1.-', 150),\n",
       " ('1.1.1.367', 150),\n",
       " ('1.8.5.5', 150),\n",
       " ('1.5.99.13', 100),\n",
       " ('1.4.1.2', 100),\n",
       " ('1.14.12.10', 100),\n",
       " ('1.14.12.18', 100),\n",
       " ('1.2.1.10', 100),\n",
       " ('1.11.1.-', 100),\n",
       " ('1.12.99.6', 100),\n",
       " ('1.1.1.1; 1.1.1.4; 1.2.1.3', 100),\n",
       " ('1.8.1.7', 100),\n",
       " ('1.14.13.113', 100),\n",
       " ('1.5.1.3', 100),\n",
       " ('1.14.14.18', 100),\n",
       " ('1.1.1.47', 100),\n",
       " ('1.1.1.107', 100),\n",
       " ('1.14.11.36', 100),\n",
       " ('1.14.13.9', 100),\n",
       " ('1.2.4.4', 100),\n",
       " ('1.6.3.5', 100),\n",
       " ('1.2.7.1', 100),\n",
       " ('1.1.1.17', 100),\n",
       " ('1.14.13.2', 100),\n",
       " ('1.1.1.377', 100),\n",
       " ('1.14.99.57', 100),\n",
       " ('1.20.4.1', 100),\n",
       " ('1.3.1.-; 1.3.1.91', 100),\n",
       " ('1.1.1.127', 100),\n",
       " ('1.3.1.25', 100),\n",
       " ('1.1.1.384', 100),\n",
       " ('1.12.1.3', 100),\n",
       " ('1.12.1.5', 100),\n",
       " ('1.14.-.-; 1.11.1.7', 100),\n",
       " ('1.3.1.34', 100),\n",
       " ('1.5.1.47', 100),\n",
       " ('1.17.9.1', 100),\n",
       " ('1.14.12.15', 100),\n",
       " ('1.5.5.-', 100),\n",
       " ('1.3.4.1', 100),\n",
       " ('1.1.1.90', 100),\n",
       " ('1.5.1.2', 100),\n",
       " ('1.3.1.76', 100),\n",
       " ('1.1.5.2', 50),\n",
       " ('1.11.1.19', 50),\n",
       " ('1.3.7.8; 1.3.99.n1', 50),\n",
       " ('1.3.3.13', 50),\n",
       " ('1.1.1.407', 50),\n",
       " ('1.14.12.13', 50),\n",
       " ('1.1.3.45; 1.3.3.14', 50),\n",
       " ('5.1.1.-; 1.-.-.-', 50),\n",
       " ('1.1.1.18', 50),\n",
       " ('1.7.1.7', 50),\n",
       " ('1.8.7.3', 50),\n",
       " ('1.2.1.81', 50),\n",
       " ('1.1.1.408', 50),\n",
       " ('1.5.1.1', 50),\n",
       " ('1.17.99.6', 50),\n",
       " ('1.14.13.195', 50),\n",
       " ('1.13.11.1', 50),\n",
       " ('1.14.15.24', 50),\n",
       " ('1.7.2.8', 50),\n",
       " ('1.16.3.1', 50),\n",
       " ('1.1.3.48', 50),\n",
       " ('1.13.11.3', 50),\n",
       " ('1.2.1.58', 50),\n",
       " ('1.5.1.42', 50),\n",
       " ('1.14.13.167', 50),\n",
       " ('1.7.7.1', 50),\n",
       " ('1.14.99.53', 50),\n",
       " ('1.12.7.2', 50),\n",
       " ('1.14.13.25', 50),\n",
       " ('1.8.4.11; 1.8.4.12', 50),\n",
       " ('1.6.5.6', 50),\n",
       " ('1.3.98.1', 50),\n",
       " ('1.11.1.23', 50),\n",
       " ('1.1.99.3', 50),\n",
       " ('1.13.11.15', 50),\n",
       " ('1.17.5.2', 50),\n",
       " ('1.8.7.3; 1.8.98.4', 50),\n",
       " ('1.2.1.86', 50),\n",
       " ('1.3.7.11', 50),\n",
       " ('1.7.2.7', 50),\n",
       " ('1.8.98.-', 50),\n",
       " ('1.1.1.320', 50),\n",
       " ('1.14.12.3', 50),\n",
       " ('1.8.98.5; 1.8.98.6', 50),\n",
       " ('1.14.11.41', 50),\n",
       " ('1.1.5.12', 50),\n",
       " ('1.17.1.9', 50),\n",
       " ('1.14.15.15', 50),\n",
       " ('1.1.1.50', 50),\n",
       " ('1.1.1.362', 50),\n",
       " ('1.3.1.108', 50),\n",
       " ('1.3.1.9; 1.3.1.44', 50),\n",
       " ('1.2.7.4', 50),\n",
       " ('1.2.5.2', 50),\n",
       " ('1.6.99.3', 50),\n",
       " ('1.14.13.232; 1.14.13.233', 50),\n",
       " ('1.3.1.14', 50),\n",
       " ('1.14.11.36; 1.14.11.-', 50),\n",
       " ('1.14.13.220', 50),\n",
       " ('1.2.1.67', 50),\n",
       " ('1.14.12.-', 50),\n",
       " ('1.5.1.36', 50),\n",
       " ('1.1.1.175', 50),\n",
       " ('1.14.14.-', 50),\n",
       " ('1.1.-.-', 50),\n",
       " ('1.1.1.95', 50)]"
      ]
     },
     "execution_count": 55,
     "metadata": {},
     "output_type": "execute_result"
    }
   ],
   "source": [
    "Counter(ecref['EC number']).most_common()[35:]"
   ]
  },
  {
   "cell_type": "code",
   "execution_count": 49,
   "metadata": {},
   "outputs": [],
   "source": [
    "ecref.to_csv('ecref_valid.csv',index=False)"
   ]
  },
  {
   "cell_type": "code",
   "execution_count": 84,
   "metadata": {},
   "outputs": [],
   "source": [
    "from itertools import combinations\n",
    "from Bio import pairwise2\n",
    "\n",
    "def get_combos(combos,df,colname):\n",
    "    new_combos = []\n",
    "    for combo in combos:\n",
    "        a = df.loc[combo[0]][colname]\n",
    "        b = df.loc[combo[1]][colname]\n",
    "        new_combos.append((a,b))\n",
    "    return new_combos\n",
    "\n",
    "#compute seq similarity (smith waterman bit score) \n",
    "def score_alignment(combo):\n",
    "    alignment = pairwise2.align.localms(combo[0],combo[1],1,-1,-10.0,-1.0)\n",
    "    ix = np.argmax([a[2] for a in alignment])\n",
    "    max_score = alignment[ix][2]\n",
    "    return max_score\n",
    "\n",
    "def get_scores(df):\n",
    "    scores = []\n",
    "    combos = list(combinations(df.index,2))\n",
    "    seq_combos = get_combos(combos, df, 'seq')\n",
    "    for combo in seq_combos:\n",
    "        seqsim = score_alignment(combo)\n",
    "        scores.append(seqsim)\n",
    "    return scores"
   ]
  },
  {
   "cell_type": "code",
   "execution_count": 109,
   "metadata": {},
   "outputs": [
    {
     "name": "stderr",
     "output_type": "stream",
     "text": [
      "\r",
      "0it [00:00, ?it/s]"
     ]
    },
    {
     "name": "stdout",
     "output_type": "stream",
     "text": [
      "calculating ec 1.14.-.- , 0 out of 253\n"
     ]
    },
    {
     "name": "stderr",
     "output_type": "stream",
     "text": [
      "\r",
      "1it [01:13, 73.20s/it]"
     ]
    },
    {
     "name": "stdout",
     "output_type": "stream",
     "text": [
      "calculating ec 1.5.99.14 , 1 out of 253\n"
     ]
    },
    {
     "name": "stderr",
     "output_type": "stream",
     "text": [
      "\r",
      "2it [02:19, 71.20s/it]"
     ]
    },
    {
     "name": "stdout",
     "output_type": "stream",
     "text": [
      "calculating ec 1.1.1.271 , 2 out of 253\n"
     ]
    },
    {
     "name": "stderr",
     "output_type": "stream",
     "text": [
      "\r",
      "3it [03:33, 71.84s/it]"
     ]
    },
    {
     "name": "stdout",
     "output_type": "stream",
     "text": [
      "calculating ec 1.20.4.1 , 3 out of 253\n"
     ]
    },
    {
     "name": "stderr",
     "output_type": "stream",
     "text": [
      "\r",
      "4it [04:38, 69.91s/it]"
     ]
    },
    {
     "name": "stdout",
     "output_type": "stream",
     "text": [
      "calculating ec 1.11.1.- , 4 out of 253\n"
     ]
    },
    {
     "name": "stderr",
     "output_type": "stream",
     "text": [
      "\r",
      "5it [05:46, 69.44s/it]"
     ]
    },
    {
     "name": "stdout",
     "output_type": "stream",
     "text": [
      "calculating ec 1.1.1.175 , 5 out of 253\n"
     ]
    },
    {
     "name": "stderr",
     "output_type": "stream",
     "text": [
      "\r",
      "6it [06:09, 55.30s/it]"
     ]
    },
    {
     "name": "stdout",
     "output_type": "stream",
     "text": [
      "calculating ec 1.6.5.6 , 6 out of 253\n"
     ]
    },
    {
     "name": "stderr",
     "output_type": "stream",
     "text": [
      "\r",
      "7it [06:31, 45.32s/it]"
     ]
    },
    {
     "name": "stdout",
     "output_type": "stream",
     "text": [
      "calculating ec 1.14.14.- , 7 out of 253\n"
     ]
    },
    {
     "name": "stderr",
     "output_type": "stream",
     "text": [
      "\r",
      "8it [06:50, 37.45s/it]"
     ]
    },
    {
     "name": "stdout",
     "output_type": "stream",
     "text": [
      "calculating ec 1.14.13.113 , 8 out of 253\n"
     ]
    },
    {
     "name": "stderr",
     "output_type": "stream",
     "text": [
      "\r",
      "9it [08:10, 50.30s/it]"
     ]
    },
    {
     "name": "stdout",
     "output_type": "stream",
     "text": [
      "calculating ec 1.2.1.10 , 9 out of 253\n"
     ]
    },
    {
     "name": "stderr",
     "output_type": "stream",
     "text": [
      "\r",
      "10it [09:21, 56.38s/it]"
     ]
    },
    {
     "name": "stdout",
     "output_type": "stream",
     "text": [
      "calculating ec 1.14.11.44 , 10 out of 253\n"
     ]
    },
    {
     "name": "stderr",
     "output_type": "stream",
     "text": [
      "\r",
      "11it [10:38, 62.54s/it]"
     ]
    },
    {
     "name": "stdout",
     "output_type": "stream",
     "text": [
      "calculating ec 1.14.12.17 , 11 out of 253\n"
     ]
    },
    {
     "name": "stderr",
     "output_type": "stream",
     "text": [
      "\r",
      "12it [11:59, 68.08s/it]"
     ]
    },
    {
     "name": "stdout",
     "output_type": "stream",
     "text": [
      "calculating ec 5.1.1.-; 1.-.-.- , 12 out of 253\n"
     ]
    },
    {
     "name": "stderr",
     "output_type": "stream",
     "text": [
      "\r",
      "13it [12:19, 53.76s/it]"
     ]
    },
    {
     "name": "stdout",
     "output_type": "stream",
     "text": [
      "calculating ec 1.2.1.38 , 13 out of 253\n"
     ]
    },
    {
     "name": "stderr",
     "output_type": "stream",
     "text": [
      "\r",
      "14it [13:37, 61.12s/it]"
     ]
    },
    {
     "name": "stdout",
     "output_type": "stream",
     "text": [
      "calculating ec 1.1.3.45; 1.3.3.14 , 14 out of 253\n"
     ]
    },
    {
     "name": "stderr",
     "output_type": "stream",
     "text": [
      "\r",
      "15it [13:53, 47.63s/it]"
     ]
    },
    {
     "name": "stdout",
     "output_type": "stream",
     "text": [
      "calculating ec 1.7.2.4 , 15 out of 253\n"
     ]
    },
    {
     "name": "stderr",
     "output_type": "stream",
     "text": [
      "\r",
      "16it [15:07, 55.43s/it]"
     ]
    },
    {
     "name": "stdout",
     "output_type": "stream",
     "text": [
      "calculating ec 1.4.3.16 , 16 out of 253\n"
     ]
    },
    {
     "name": "stderr",
     "output_type": "stream",
     "text": [
      "\r",
      "17it [16:23, 61.68s/it]"
     ]
    },
    {
     "name": "stdout",
     "output_type": "stream",
     "text": [
      "calculating ec 1.1.1.1; 1.2.1.3 , 17 out of 253\n"
     ]
    },
    {
     "name": "stderr",
     "output_type": "stream",
     "text": [
      "\r",
      "18it [17:49, 68.87s/it]"
     ]
    },
    {
     "name": "stdout",
     "output_type": "stream",
     "text": [
      "calculating ec 1.1.5.4 , 18 out of 253\n"
     ]
    },
    {
     "name": "stderr",
     "output_type": "stream",
     "text": [
      "\r",
      "19it [19:33, 79.51s/it]"
     ]
    },
    {
     "name": "stdout",
     "output_type": "stream",
     "text": [
      "calculating ec 1.6.5.11 , 19 out of 253\n"
     ]
    },
    {
     "name": "stderr",
     "output_type": "stream",
     "text": [
      "\r",
      "20it [20:58, 80.98s/it]"
     ]
    },
    {
     "name": "stdout",
     "output_type": "stream",
     "text": [
      "calculating ec 1.10.3.9 , 20 out of 253\n"
     ]
    },
    {
     "name": "stderr",
     "output_type": "stream",
     "text": [
      "\r",
      "21it [22:20, 81.54s/it]"
     ]
    },
    {
     "name": "stdout",
     "output_type": "stream",
     "text": [
      "calculating ec 1.14.12.18 , 21 out of 253\n"
     ]
    },
    {
     "name": "stderr",
     "output_type": "stream",
     "text": [
      "\r",
      "22it [23:36, 79.84s/it]"
     ]
    },
    {
     "name": "stdout",
     "output_type": "stream",
     "text": [
      "calculating ec 1.3.98.1 , 22 out of 253\n"
     ]
    },
    {
     "name": "stderr",
     "output_type": "stream",
     "text": [
      "\r",
      "23it [23:50, 60.14s/it]"
     ]
    },
    {
     "name": "stdout",
     "output_type": "stream",
     "text": [
      "calculating ec 1.1.1.50 , 23 out of 253\n"
     ]
    },
    {
     "name": "stderr",
     "output_type": "stream",
     "text": [
      "\r",
      "24it [24:10, 47.94s/it]"
     ]
    },
    {
     "name": "stdout",
     "output_type": "stream",
     "text": [
      "calculating ec 1.8.1.2 , 24 out of 253\n"
     ]
    },
    {
     "name": "stderr",
     "output_type": "stream",
     "text": [
      "\r",
      "25it [25:31, 57.75s/it]"
     ]
    },
    {
     "name": "stdout",
     "output_type": "stream",
     "text": [
      "calculating ec 1.14.12.10 , 25 out of 253\n"
     ]
    },
    {
     "name": "stderr",
     "output_type": "stream",
     "text": [
      "\r",
      "26it [26:34, 59.38s/it]"
     ]
    },
    {
     "name": "stdout",
     "output_type": "stream",
     "text": [
      "calculating ec 1.3.4.1 , 26 out of 253\n"
     ]
    },
    {
     "name": "stderr",
     "output_type": "stream",
     "text": [
      "\r",
      "27it [27:59, 67.04s/it]"
     ]
    },
    {
     "name": "stdout",
     "output_type": "stream",
     "text": [
      "calculating ec 1.2.1.3 , 27 out of 253\n"
     ]
    },
    {
     "name": "stderr",
     "output_type": "stream",
     "text": [
      "\r",
      "28it [29:18, 70.70s/it]"
     ]
    },
    {
     "name": "stdout",
     "output_type": "stream",
     "text": [
      "calculating ec 1.3.7.15 , 28 out of 253\n"
     ]
    },
    {
     "name": "stderr",
     "output_type": "stream",
     "text": [
      "\r",
      "29it [30:28, 70.49s/it]"
     ]
    },
    {
     "name": "stdout",
     "output_type": "stream",
     "text": [
      "calculating ec 1.2.4.4 , 29 out of 253\n"
     ]
    },
    {
     "name": "stderr",
     "output_type": "stream",
     "text": [
      "\r",
      "30it [31:54, 75.20s/it]"
     ]
    },
    {
     "name": "stdout",
     "output_type": "stream",
     "text": [
      "calculating ec 1.14.15.3 , 30 out of 253\n"
     ]
    },
    {
     "name": "stderr",
     "output_type": "stream",
     "text": [
      "\r",
      "31it [33:14, 76.72s/it]"
     ]
    },
    {
     "name": "stdout",
     "output_type": "stream",
     "text": [
      "calculating ec 1.4.1.13 , 31 out of 253\n"
     ]
    },
    {
     "name": "stderr",
     "output_type": "stream",
     "text": [
      "\r",
      "32it [34:28, 75.69s/it]"
     ]
    },
    {
     "name": "stdout",
     "output_type": "stream",
     "text": [
      "calculating ec 1.1.1.309 , 32 out of 253\n"
     ]
    },
    {
     "name": "stderr",
     "output_type": "stream",
     "text": [
      "\r",
      "33it [35:54, 78.80s/it]"
     ]
    },
    {
     "name": "stdout",
     "output_type": "stream",
     "text": [
      "calculating ec 1.11.1.23 , 33 out of 253\n"
     ]
    },
    {
     "name": "stderr",
     "output_type": "stream",
     "text": [
      "\r",
      "34it [36:11, 60.41s/it]"
     ]
    },
    {
     "name": "stdout",
     "output_type": "stream",
     "text": [
      "calculating ec 1.97.1.- , 34 out of 253\n"
     ]
    },
    {
     "name": "stderr",
     "output_type": "stream",
     "text": [
      "\r",
      "35it [37:24, 64.03s/it]"
     ]
    },
    {
     "name": "stdout",
     "output_type": "stream",
     "text": [
      "calculating ec 1.4.4.2 , 35 out of 253\n"
     ]
    },
    {
     "name": "stderr",
     "output_type": "stream",
     "text": [
      "\r",
      "36it [38:47, 69.75s/it]"
     ]
    },
    {
     "name": "stdout",
     "output_type": "stream",
     "text": [
      "calculating ec 1.3.7.11 , 36 out of 253\n"
     ]
    },
    {
     "name": "stderr",
     "output_type": "stream",
     "text": [
      "\r",
      "37it [39:04, 54.05s/it]"
     ]
    },
    {
     "name": "stdout",
     "output_type": "stream",
     "text": [
      "calculating ec 1.3.1.-; 1.3.1.91 , 37 out of 253\n"
     ]
    },
    {
     "name": "stderr",
     "output_type": "stream",
     "text": [
      "\r",
      "38it [40:04, 55.88s/it]"
     ]
    },
    {
     "name": "stdout",
     "output_type": "stream",
     "text": [
      "calculating ec 1.2.7.11 , 38 out of 253\n"
     ]
    },
    {
     "name": "stderr",
     "output_type": "stream",
     "text": [
      "\r",
      "39it [41:23, 62.57s/it]"
     ]
    },
    {
     "name": "stdout",
     "output_type": "stream",
     "text": [
      "calculating ec 1.14.99.53 , 39 out of 253\n"
     ]
    },
    {
     "name": "stderr",
     "output_type": "stream",
     "text": [
      "\r",
      "40it [41:43, 50.01s/it]"
     ]
    },
    {
     "name": "stdout",
     "output_type": "stream",
     "text": [
      "calculating ec 1.1.1.100 , 40 out of 253\n"
     ]
    },
    {
     "name": "stderr",
     "output_type": "stream",
     "text": [
      "\r",
      "41it [42:54, 56.33s/it]"
     ]
    },
    {
     "name": "stdout",
     "output_type": "stream",
     "text": [
      "calculating ec 1.14.11.36 , 41 out of 253\n"
     ]
    },
    {
     "name": "stderr",
     "output_type": "stream",
     "text": [
      "\r",
      "42it [44:14, 63.20s/it]"
     ]
    },
    {
     "name": "stdout",
     "output_type": "stream",
     "text": [
      "calculating ec 1.2.-.- , 42 out of 253\n"
     ]
    },
    {
     "name": "stderr",
     "output_type": "stream",
     "text": [
      "\r",
      "43it [45:35, 68.53s/it]"
     ]
    },
    {
     "name": "stdout",
     "output_type": "stream",
     "text": [
      "calculating ec 1.4.1.3 , 43 out of 253\n"
     ]
    },
    {
     "name": "stderr",
     "output_type": "stream",
     "text": [
      "\r",
      "44it [46:54, 71.90s/it]"
     ]
    },
    {
     "name": "stdout",
     "output_type": "stream",
     "text": [
      "calculating ec 1.17.7.4 , 44 out of 253\n"
     ]
    },
    {
     "name": "stderr",
     "output_type": "stream",
     "text": [
      "\r",
      "45it [48:10, 73.00s/it]"
     ]
    },
    {
     "name": "stdout",
     "output_type": "stream",
     "text": [
      "calculating ec 1.8.4.11; 1.8.4.12 , 45 out of 253\n"
     ]
    },
    {
     "name": "stderr",
     "output_type": "stream",
     "text": [
      "\r",
      "46it [48:33, 58.14s/it]"
     ]
    },
    {
     "name": "stdout",
     "output_type": "stream",
     "text": [
      "calculating ec 1.1.1.267 , 46 out of 253\n"
     ]
    },
    {
     "name": "stderr",
     "output_type": "stream",
     "text": [
      "\r",
      "47it [49:47, 62.74s/it]"
     ]
    },
    {
     "name": "stdout",
     "output_type": "stream",
     "text": [
      "calculating ec 1.18.6.1 , 47 out of 253\n"
     ]
    },
    {
     "name": "stderr",
     "output_type": "stream",
     "text": [
      "\r",
      "48it [51:05, 67.39s/it]"
     ]
    },
    {
     "name": "stdout",
     "output_type": "stream",
     "text": [
      "calculating ec 1.14.12.13 , 48 out of 253\n"
     ]
    },
    {
     "name": "stderr",
     "output_type": "stream",
     "text": [
      "\r",
      "49it [51:22, 52.40s/it]"
     ]
    },
    {
     "name": "stdout",
     "output_type": "stream",
     "text": [
      "calculating ec 1.17.9.1 , 49 out of 253\n"
     ]
    },
    {
     "name": "stderr",
     "output_type": "stream",
     "text": [
      "\r",
      "50it [52:45, 61.54s/it]"
     ]
    },
    {
     "name": "stdout",
     "output_type": "stream",
     "text": [
      "calculating ec 1.3.3.11 , 50 out of 253\n"
     ]
    },
    {
     "name": "stderr",
     "output_type": "stream",
     "text": [
      "\r",
      "51it [54:00, 65.34s/it]"
     ]
    },
    {
     "name": "stdout",
     "output_type": "stream",
     "text": [
      "calculating ec 1.14.18.1 , 51 out of 253\n"
     ]
    },
    {
     "name": "stderr",
     "output_type": "stream",
     "text": [
      "\r",
      "52it [55:15, 68.42s/it]"
     ]
    },
    {
     "name": "stdout",
     "output_type": "stream",
     "text": [
      "calculating ec 1.2.1.12 , 52 out of 253\n"
     ]
    },
    {
     "name": "stderr",
     "output_type": "stream",
     "text": [
      "\r",
      "53it [56:23, 68.37s/it]"
     ]
    },
    {
     "name": "stdout",
     "output_type": "stream",
     "text": [
      "calculating ec 1.4.1.- , 53 out of 253\n"
     ]
    },
    {
     "name": "stderr",
     "output_type": "stream",
     "text": [
      "\r",
      "54it [57:45, 72.41s/it]"
     ]
    },
    {
     "name": "stdout",
     "output_type": "stream",
     "text": [
      "calculating ec 1.14.13.167 , 54 out of 253\n"
     ]
    },
    {
     "name": "stderr",
     "output_type": "stream",
     "text": [
      "\r",
      "55it [58:02, 55.69s/it]"
     ]
    },
    {
     "name": "stdout",
     "output_type": "stream",
     "text": [
      "calculating ec 1.3.5.1 , 55 out of 253\n"
     ]
    },
    {
     "name": "stderr",
     "output_type": "stream",
     "text": [
      "\r",
      "56it [59:11, 59.76s/it]"
     ]
    },
    {
     "name": "stdout",
     "output_type": "stream",
     "text": [
      "calculating ec 1.14.99.57 , 56 out of 253\n"
     ]
    },
    {
     "name": "stderr",
     "output_type": "stream",
     "text": [
      "\r",
      "57it [1:00:16, 61.16s/it]"
     ]
    },
    {
     "name": "stdout",
     "output_type": "stream",
     "text": [
      "calculating ec 1.1.1.-; 1.1.1.24 , 57 out of 253\n"
     ]
    },
    {
     "name": "stderr",
     "output_type": "stream",
     "text": [
      "\r",
      "58it [1:01:35, 66.64s/it]"
     ]
    },
    {
     "name": "stdout",
     "output_type": "stream",
     "text": [
      "calculating ec 1.13.11.54; 1.13.11.53 , 58 out of 253\n"
     ]
    },
    {
     "name": "stderr",
     "output_type": "stream",
     "text": [
      "\r",
      "59it [1:02:47, 68.31s/it]"
     ]
    },
    {
     "name": "stdout",
     "output_type": "stream",
     "text": [
      "calculating ec 1.3.5.2 , 59 out of 253\n"
     ]
    },
    {
     "name": "stderr",
     "output_type": "stream",
     "text": [
      "\r",
      "60it [1:04:04, 70.94s/it]"
     ]
    },
    {
     "name": "stdout",
     "output_type": "stream",
     "text": [
      "calculating ec 1.13.11.15 , 60 out of 253\n"
     ]
    },
    {
     "name": "stderr",
     "output_type": "stream",
     "text": [
      "\r",
      "61it [1:04:23, 55.19s/it]"
     ]
    },
    {
     "name": "stdout",
     "output_type": "stream",
     "text": [
      "calculating ec 1.14.12.1 , 61 out of 253\n"
     ]
    },
    {
     "name": "stderr",
     "output_type": "stream",
     "text": [
      "\r",
      "62it [1:05:40, 61.74s/it]"
     ]
    },
    {
     "name": "stdout",
     "output_type": "stream",
     "text": [
      "calculating ec 1.8.7.3 , 62 out of 253\n"
     ]
    },
    {
     "name": "stderr",
     "output_type": "stream",
     "text": [
      "\r",
      "63it [1:05:59, 48.90s/it]"
     ]
    },
    {
     "name": "stdout",
     "output_type": "stream",
     "text": [
      "calculating ec 1.14.12.3 , 63 out of 253\n"
     ]
    },
    {
     "name": "stderr",
     "output_type": "stream",
     "text": [
      "\r",
      "64it [1:06:18, 40.00s/it]"
     ]
    },
    {
     "name": "stdout",
     "output_type": "stream",
     "text": [
      "calculating ec 1.3.1.9; 1.3.1.44 , 64 out of 253\n"
     ]
    },
    {
     "name": "stderr",
     "output_type": "stream",
     "text": [
      "\r",
      "65it [1:06:36, 33.35s/it]"
     ]
    },
    {
     "name": "stdout",
     "output_type": "stream",
     "text": [
      "calculating ec 1.16.-.- , 65 out of 253\n"
     ]
    },
    {
     "name": "stderr",
     "output_type": "stream",
     "text": [
      "\r",
      "66it [1:07:44, 43.78s/it]"
     ]
    },
    {
     "name": "stdout",
     "output_type": "stream",
     "text": [
      "calculating ec 1.1.1.346 , 66 out of 253\n"
     ]
    },
    {
     "name": "stderr",
     "output_type": "stream",
     "text": [
      "\r",
      "67it [1:09:01, 53.91s/it]"
     ]
    },
    {
     "name": "stdout",
     "output_type": "stream",
     "text": [
      "calculating ec 1.1.1.408 , 67 out of 253\n"
     ]
    },
    {
     "name": "stderr",
     "output_type": "stream",
     "text": [
      "\r",
      "68it [1:09:19, 43.09s/it]"
     ]
    },
    {
     "name": "stdout",
     "output_type": "stream",
     "text": [
      "calculating ec 1.6.99.3 , 68 out of 253\n"
     ]
    },
    {
     "name": "stderr",
     "output_type": "stream",
     "text": [
      "\r",
      "69it [1:09:40, 36.51s/it]"
     ]
    },
    {
     "name": "stdout",
     "output_type": "stream",
     "text": [
      "calculating ec 1.4.1.24 , 69 out of 253\n"
     ]
    },
    {
     "name": "stderr",
     "output_type": "stream",
     "text": [
      "\r",
      "70it [1:10:55, 48.01s/it]"
     ]
    },
    {
     "name": "stdout",
     "output_type": "stream",
     "text": [
      "calculating ec 1.8.4.12 , 70 out of 253\n"
     ]
    },
    {
     "name": "stderr",
     "output_type": "stream",
     "text": [
      "\r",
      "71it [1:11:57, 52.00s/it]"
     ]
    },
    {
     "name": "stdout",
     "output_type": "stream",
     "text": [
      "calculating ec 1.8.5.- , 71 out of 253\n"
     ]
    },
    {
     "name": "stderr",
     "output_type": "stream",
     "text": [
      "\r",
      "72it [1:13:07, 57.61s/it]"
     ]
    },
    {
     "name": "stdout",
     "output_type": "stream",
     "text": [
      "calculating ec 1.7.7.1 , 72 out of 253\n"
     ]
    },
    {
     "name": "stderr",
     "output_type": "stream",
     "text": [
      "\r",
      "73it [1:13:28, 46.48s/it]"
     ]
    },
    {
     "name": "stdout",
     "output_type": "stream",
     "text": [
      "calculating ec 1.13.11.3 , 73 out of 253\n"
     ]
    },
    {
     "name": "stderr",
     "output_type": "stream",
     "text": [
      "\r",
      "74it [1:13:48, 38.52s/it]"
     ]
    },
    {
     "name": "stdout",
     "output_type": "stream",
     "text": [
      "calculating ec 1.21.98.4 , 74 out of 253\n"
     ]
    },
    {
     "name": "stderr",
     "output_type": "stream",
     "text": [
      "\r",
      "75it [1:15:04, 49.79s/it]"
     ]
    },
    {
     "name": "stdout",
     "output_type": "stream",
     "text": [
      "calculating ec 1.2.1.70 , 75 out of 253\n"
     ]
    },
    {
     "name": "stderr",
     "output_type": "stream",
     "text": [
      "\r",
      "76it [1:16:26, 59.50s/it]"
     ]
    },
    {
     "name": "stdout",
     "output_type": "stream",
     "text": [
      "calculating ec 1.2.7.4 , 76 out of 253\n"
     ]
    },
    {
     "name": "stderr",
     "output_type": "stream",
     "text": [
      "\r",
      "77it [1:16:44, 47.13s/it]"
     ]
    },
    {
     "name": "stdout",
     "output_type": "stream",
     "text": [
      "calculating ec 1.1.1.44 , 77 out of 253\n"
     ]
    },
    {
     "name": "stderr",
     "output_type": "stream",
     "text": [
      "\r",
      "78it [1:18:03, 56.74s/it]"
     ]
    },
    {
     "name": "stdout",
     "output_type": "stream",
     "text": [
      "calculating ec 1.13.11.5 , 78 out of 253\n"
     ]
    },
    {
     "name": "stderr",
     "output_type": "stream",
     "text": [
      "\r",
      "79it [1:19:20, 62.83s/it]"
     ]
    },
    {
     "name": "stdout",
     "output_type": "stream",
     "text": [
      "calculating ec 1.5.1.2 , 79 out of 253\n"
     ]
    },
    {
     "name": "stderr",
     "output_type": "stream",
     "text": [
      "\r",
      "80it [1:20:25, 63.26s/it]"
     ]
    },
    {
     "name": "stdout",
     "output_type": "stream",
     "text": [
      "calculating ec 1.14.11.- , 80 out of 253\n"
     ]
    },
    {
     "name": "stderr",
     "output_type": "stream",
     "text": [
      "\r",
      "81it [1:21:31, 64.04s/it]"
     ]
    },
    {
     "name": "stdout",
     "output_type": "stream",
     "text": [
      "calculating ec 2.1.1.61; 1.5.-.- , 81 out of 253\n"
     ]
    },
    {
     "name": "stderr",
     "output_type": "stream",
     "text": [
      "\r",
      "82it [1:22:48, 67.95s/it]"
     ]
    },
    {
     "name": "stdout",
     "output_type": "stream",
     "text": [
      "calculating ec 1.8.4.8 , 82 out of 253\n"
     ]
    },
    {
     "name": "stderr",
     "output_type": "stream",
     "text": [
      "\r",
      "83it [1:24:01, 69.45s/it]"
     ]
    },
    {
     "name": "stdout",
     "output_type": "stream",
     "text": [
      "calculating ec 1.1.1.- , 83 out of 253\n"
     ]
    },
    {
     "name": "stderr",
     "output_type": "stream",
     "text": [
      "\r",
      "84it [1:25:16, 71.14s/it]"
     ]
    },
    {
     "name": "stdout",
     "output_type": "stream",
     "text": [
      "calculating ec 1.3.1.25 , 84 out of 253\n"
     ]
    },
    {
     "name": "stderr",
     "output_type": "stream",
     "text": [
      "\r",
      "85it [1:26:33, 73.10s/it]"
     ]
    },
    {
     "name": "stdout",
     "output_type": "stream",
     "text": [
      "calculating ec 1.8.98.5 , 85 out of 253\n"
     ]
    },
    {
     "name": "stderr",
     "output_type": "stream",
     "text": [
      "\r",
      "86it [1:27:52, 74.89s/it]"
     ]
    },
    {
     "name": "stdout",
     "output_type": "stream",
     "text": [
      "calculating ec 1.14.14.18 , 86 out of 253\n"
     ]
    },
    {
     "name": "stderr",
     "output_type": "stream",
     "text": [
      "\r",
      "87it [1:29:18, 78.07s/it]"
     ]
    },
    {
     "name": "stdout",
     "output_type": "stream",
     "text": [
      "calculating ec 1.8.1.- , 87 out of 253\n"
     ]
    },
    {
     "name": "stderr",
     "output_type": "stream",
     "text": [
      "\r",
      "88it [1:31:26, 93.03s/it]"
     ]
    },
    {
     "name": "stdout",
     "output_type": "stream",
     "text": [
      "calculating ec 1.1.99.1; 1.2.1.8 , 88 out of 253\n"
     ]
    },
    {
     "name": "stderr",
     "output_type": "stream",
     "text": [
      "\r",
      "89it [1:32:49, 89.93s/it]"
     ]
    },
    {
     "name": "stdout",
     "output_type": "stream",
     "text": [
      "calculating ec 1.14.15.35 , 89 out of 253\n"
     ]
    },
    {
     "name": "stderr",
     "output_type": "stream",
     "text": [
      "\r",
      "90it [1:34:08, 86.68s/it]"
     ]
    },
    {
     "name": "stdout",
     "output_type": "stream",
     "text": [
      "calculating ec 1.3.1.76 , 90 out of 253\n"
     ]
    },
    {
     "name": "stderr",
     "output_type": "stream",
     "text": [
      "\r",
      "91it [1:35:18, 81.93s/it]"
     ]
    },
    {
     "name": "stdout",
     "output_type": "stream",
     "text": [
      "calculating ec 1.4.1.21 , 91 out of 253\n"
     ]
    },
    {
     "name": "stderr",
     "output_type": "stream",
     "text": [
      "\r",
      "92it [1:36:28, 78.24s/it]"
     ]
    },
    {
     "name": "stdout",
     "output_type": "stream",
     "text": [
      "calculating ec 1.2.1.81 , 92 out of 253\n"
     ]
    },
    {
     "name": "stderr",
     "output_type": "stream",
     "text": [
      "\r",
      "93it [1:36:46, 60.03s/it]"
     ]
    },
    {
     "name": "stdout",
     "output_type": "stream",
     "text": [
      "calculating ec 1.1.1.26 , 93 out of 253\n"
     ]
    },
    {
     "name": "stderr",
     "output_type": "stream",
     "text": [
      "\r",
      "94it [1:37:55, 62.74s/it]"
     ]
    },
    {
     "name": "stdout",
     "output_type": "stream",
     "text": [
      "calculating ec 1.14.13.220 , 94 out of 253\n"
     ]
    },
    {
     "name": "stderr",
     "output_type": "stream",
     "text": [
      "\r",
      "95it [1:38:12, 49.16s/it]"
     ]
    },
    {
     "name": "stdout",
     "output_type": "stream",
     "text": [
      "calculating ec 1.1.1.362 , 95 out of 253\n"
     ]
    },
    {
     "name": "stderr",
     "output_type": "stream",
     "text": [
      "\r",
      "96it [1:38:31, 39.95s/it]"
     ]
    },
    {
     "name": "stdout",
     "output_type": "stream",
     "text": [
      "calculating ec 1.1.1.127 , 96 out of 253\n"
     ]
    },
    {
     "name": "stderr",
     "output_type": "stream",
     "text": [
      "\r",
      "97it [1:39:52, 52.28s/it]"
     ]
    },
    {
     "name": "stdout",
     "output_type": "stream",
     "text": [
      "calculating ec 4.2.1.17; 5.1.2.3; 5.3.3.8; 1.1.1.35 , 97 out of 253\n"
     ]
    },
    {
     "name": "stderr",
     "output_type": "stream",
     "text": [
      "\r",
      "98it [1:41:05, 58.72s/it]"
     ]
    },
    {
     "name": "stdout",
     "output_type": "stream",
     "text": [
      "calculating ec 1.1.1.36 , 98 out of 253\n"
     ]
    },
    {
     "name": "stderr",
     "output_type": "stream",
     "text": [
      "\r",
      "99it [1:42:34, 67.73s/it]"
     ]
    },
    {
     "name": "stdout",
     "output_type": "stream",
     "text": [
      "calculating ec 1.7.2.8 , 99 out of 253\n"
     ]
    },
    {
     "name": "stderr",
     "output_type": "stream",
     "text": [
      "\r",
      "100it [1:42:57, 54.32s/it]"
     ]
    },
    {
     "name": "stdout",
     "output_type": "stream",
     "text": [
      "calculating ec 1.14.-.-; 1.11.1.7 , 100 out of 253\n"
     ]
    },
    {
     "name": "stderr",
     "output_type": "stream",
     "text": [
      "\r",
      "101it [1:44:16, 61.62s/it]"
     ]
    },
    {
     "name": "stdout",
     "output_type": "stream",
     "text": [
      "calculating ec 1.1.99.3 , 101 out of 253\n"
     ]
    },
    {
     "name": "stderr",
     "output_type": "stream",
     "text": [
      "\r",
      "102it [1:44:39, 49.98s/it]"
     ]
    },
    {
     "name": "stdout",
     "output_type": "stream",
     "text": [
      "calculating ec 1.14.13.232; 1.14.13.233 , 102 out of 253\n"
     ]
    },
    {
     "name": "stderr",
     "output_type": "stream",
     "text": [
      "\r",
      "103it [1:44:57, 40.55s/it]"
     ]
    },
    {
     "name": "stdout",
     "output_type": "stream",
     "text": [
      "calculating ec 1.9.6.1 , 103 out of 253\n"
     ]
    },
    {
     "name": "stderr",
     "output_type": "stream",
     "text": [
      "\r",
      "104it [1:46:28, 55.63s/it]"
     ]
    },
    {
     "name": "stdout",
     "output_type": "stream",
     "text": [
      "calculating ec 1.2.4.1 , 104 out of 253\n"
     ]
    },
    {
     "name": "stderr",
     "output_type": "stream",
     "text": [
      "\r",
      "105it [1:47:57, 65.52s/it]"
     ]
    },
    {
     "name": "stdout",
     "output_type": "stream",
     "text": [
      "calculating ec 1.11.1.6 , 105 out of 253\n"
     ]
    },
    {
     "name": "stderr",
     "output_type": "stream",
     "text": [
      "\r",
      "106it [1:49:16, 69.57s/it]"
     ]
    },
    {
     "name": "stdout",
     "output_type": "stream",
     "text": [
      "calculating ec 1.1.1.18 , 106 out of 253\n"
     ]
    },
    {
     "name": "stderr",
     "output_type": "stream",
     "text": [
      "\r",
      "107it [1:49:40, 55.85s/it]"
     ]
    },
    {
     "name": "stdout",
     "output_type": "stream",
     "text": [
      "calculating ec 1.14.12.3; 1.14.12.11 , 107 out of 253\n"
     ]
    },
    {
     "name": "stderr",
     "output_type": "stream",
     "text": [
      "\r",
      "108it [1:50:46, 58.91s/it]"
     ]
    },
    {
     "name": "stdout",
     "output_type": "stream",
     "text": [
      "calculating ec 1.13.11.6 , 108 out of 253\n"
     ]
    },
    {
     "name": "stderr",
     "output_type": "stream",
     "text": [
      "\r",
      "109it [1:51:58, 63.09s/it]"
     ]
    },
    {
     "name": "stdout",
     "output_type": "stream",
     "text": [
      "calculating ec 1.2.1.67 , 109 out of 253\n"
     ]
    },
    {
     "name": "stderr",
     "output_type": "stream",
     "text": [
      "\r",
      "110it [1:52:19, 50.47s/it]"
     ]
    },
    {
     "name": "stdout",
     "output_type": "stream",
     "text": [
      "calculating ec 1.14.13.9 , 110 out of 253\n"
     ]
    },
    {
     "name": "stderr",
     "output_type": "stream",
     "text": [
      "\r",
      "111it [1:53:32, 57.14s/it]"
     ]
    },
    {
     "name": "stdout",
     "output_type": "stream",
     "text": [
      "calculating ec 1.14.13.- , 111 out of 253\n"
     ]
    },
    {
     "name": "stderr",
     "output_type": "stream",
     "text": [
      "\r",
      "112it [1:54:47, 62.45s/it]"
     ]
    },
    {
     "name": "stdout",
     "output_type": "stream",
     "text": [
      "calculating ec 1.5.1.36 , 112 out of 253\n"
     ]
    },
    {
     "name": "stderr",
     "output_type": "stream",
     "text": [
      "\r",
      "113it [1:55:03, 48.38s/it]"
     ]
    },
    {
     "name": "stdout",
     "output_type": "stream",
     "text": [
      "calculating ec 1.11.1.19 , 113 out of 253\n"
     ]
    },
    {
     "name": "stderr",
     "output_type": "stream",
     "text": [
      "\r",
      "114it [1:55:21, 39.47s/it]"
     ]
    },
    {
     "name": "stdout",
     "output_type": "stream",
     "text": [
      "calculating ec 1.14.12.- , 114 out of 253\n"
     ]
    },
    {
     "name": "stderr",
     "output_type": "stream",
     "text": [
      "\r",
      "115it [1:55:38, 32.61s/it]"
     ]
    },
    {
     "name": "stdout",
     "output_type": "stream",
     "text": [
      "calculating ec 1.4.3.5 , 115 out of 253\n"
     ]
    },
    {
     "name": "stderr",
     "output_type": "stream",
     "text": [
      "\r",
      "116it [1:56:49, 44.14s/it]"
     ]
    },
    {
     "name": "stdout",
     "output_type": "stream",
     "text": [
      "calculating ec 1.3.1.34 , 116 out of 253\n"
     ]
    },
    {
     "name": "stderr",
     "output_type": "stream",
     "text": [
      "\r",
      "117it [1:58:01, 52.61s/it]"
     ]
    },
    {
     "name": "stdout",
     "output_type": "stream",
     "text": [
      "calculating ec 1.7.2.2 , 117 out of 253\n"
     ]
    },
    {
     "name": "stderr",
     "output_type": "stream",
     "text": [
      "\r",
      "118it [1:59:08, 56.98s/it]"
     ]
    },
    {
     "name": "stdout",
     "output_type": "stream",
     "text": [
      "calculating ec 1.3.1.- , 118 out of 253\n"
     ]
    },
    {
     "name": "stderr",
     "output_type": "stream",
     "text": [
      "\r",
      "119it [2:00:20, 61.51s/it]"
     ]
    },
    {
     "name": "stdout",
     "output_type": "stream",
     "text": [
      "calculating ec 1.8.1.7 , 119 out of 253\n"
     ]
    },
    {
     "name": "stderr",
     "output_type": "stream",
     "text": [
      "\r",
      "120it [2:01:36, 65.77s/it]"
     ]
    },
    {
     "name": "stdout",
     "output_type": "stream",
     "text": [
      "calculating ec 1.1.1.169 , 120 out of 253\n"
     ]
    },
    {
     "name": "stderr",
     "output_type": "stream",
     "text": [
      "\r",
      "121it [2:02:53, 69.23s/it]"
     ]
    },
    {
     "name": "stdout",
     "output_type": "stream",
     "text": [
      "calculating ec 1.1.1.17 , 121 out of 253\n"
     ]
    },
    {
     "name": "stderr",
     "output_type": "stream",
     "text": [
      "\r",
      "122it [2:04:10, 71.51s/it]"
     ]
    },
    {
     "name": "stdout",
     "output_type": "stream",
     "text": [
      "calculating ec 1.3.1.14 , 122 out of 253\n"
     ]
    },
    {
     "name": "stderr",
     "output_type": "stream",
     "text": [
      "\r",
      "123it [2:04:28, 55.26s/it]"
     ]
    },
    {
     "name": "stdout",
     "output_type": "stream",
     "text": [
      "calculating ec 1.17.99.6 , 123 out of 253\n"
     ]
    },
    {
     "name": "stderr",
     "output_type": "stream",
     "text": [
      "\r",
      "124it [2:04:47, 44.40s/it]"
     ]
    },
    {
     "name": "stdout",
     "output_type": "stream",
     "text": [
      "calculating ec 1.1.1.290 , 124 out of 253\n"
     ]
    },
    {
     "name": "stderr",
     "output_type": "stream",
     "text": [
      "\r",
      "125it [2:05:59, 52.63s/it]"
     ]
    },
    {
     "name": "stdout",
     "output_type": "stream",
     "text": [
      "calculating ec 1.2.1.11 , 125 out of 253\n"
     ]
    },
    {
     "name": "stderr",
     "output_type": "stream",
     "text": [
      "\r",
      "126it [2:07:11, 58.59s/it]"
     ]
    },
    {
     "name": "stdout",
     "output_type": "stream",
     "text": [
      "calculating ec 1.17.7.3 , 126 out of 253\n"
     ]
    },
    {
     "name": "stderr",
     "output_type": "stream",
     "text": [
      "\r",
      "127it [2:08:32, 65.31s/it]"
     ]
    },
    {
     "name": "stdout",
     "output_type": "stream",
     "text": [
      "calculating ec 1.1.1.11 , 127 out of 253\n"
     ]
    },
    {
     "name": "stderr",
     "output_type": "stream",
     "text": [
      "\r",
      "128it [2:09:46, 68.04s/it]"
     ]
    },
    {
     "name": "stdout",
     "output_type": "stream",
     "text": [
      "calculating ec 1.8.5.5 , 128 out of 253\n"
     ]
    },
    {
     "name": "stderr",
     "output_type": "stream",
     "text": [
      "\r",
      "129it [2:11:02, 70.34s/it]"
     ]
    },
    {
     "name": "stdout",
     "output_type": "stream",
     "text": [
      "calculating ec 1.12.2.1 , 129 out of 253\n"
     ]
    },
    {
     "name": "stderr",
     "output_type": "stream",
     "text": [
      "\r",
      "130it [2:12:22, 73.30s/it]"
     ]
    },
    {
     "name": "stdout",
     "output_type": "stream",
     "text": [
      "calculating ec 1.14.11.36; 1.14.11.- , 130 out of 253\n"
     ]
    },
    {
     "name": "stderr",
     "output_type": "stream",
     "text": [
      "\r",
      "131it [2:12:39, 56.30s/it]"
     ]
    },
    {
     "name": "stdout",
     "output_type": "stream",
     "text": [
      "calculating ec 1.2.1.- , 131 out of 253\n"
     ]
    },
    {
     "name": "stderr",
     "output_type": "stream",
     "text": [
      "\r",
      "132it [2:13:53, 61.67s/it]"
     ]
    },
    {
     "name": "stdout",
     "output_type": "stream",
     "text": [
      "calculating ec 1.14.15.15 , 132 out of 253\n"
     ]
    },
    {
     "name": "stderr",
     "output_type": "stream",
     "text": [
      "\r",
      "133it [2:14:12, 48.85s/it]"
     ]
    },
    {
     "name": "stdout",
     "output_type": "stream",
     "text": [
      "calculating ec 1.2.4.2 , 133 out of 253\n"
     ]
    },
    {
     "name": "stderr",
     "output_type": "stream",
     "text": [
      "\r",
      "134it [2:15:34, 58.83s/it]"
     ]
    },
    {
     "name": "stdout",
     "output_type": "stream",
     "text": [
      "calculating ec 1.1.1.94 , 134 out of 253\n"
     ]
    },
    {
     "name": "stderr",
     "output_type": "stream",
     "text": [
      "\r",
      "135it [2:16:47, 63.05s/it]"
     ]
    },
    {
     "name": "stdout",
     "output_type": "stream",
     "text": [
      "calculating ec 1.1.5.2 , 135 out of 253\n"
     ]
    },
    {
     "name": "stderr",
     "output_type": "stream",
     "text": [
      "\r",
      "136it [2:17:07, 50.02s/it]"
     ]
    },
    {
     "name": "stdout",
     "output_type": "stream",
     "text": [
      "calculating ec 1.14.15.30 , 136 out of 253\n"
     ]
    },
    {
     "name": "stderr",
     "output_type": "stream",
     "text": [
      "\r",
      "137it [2:18:22, 57.64s/it]"
     ]
    },
    {
     "name": "stdout",
     "output_type": "stream",
     "text": [
      "calculating ec 1.13.12.- , 137 out of 253\n"
     ]
    },
    {
     "name": "stderr",
     "output_type": "stream",
     "text": [
      "\r",
      "138it [2:19:35, 62.14s/it]"
     ]
    },
    {
     "name": "stdout",
     "output_type": "stream",
     "text": [
      "calculating ec 1.1.-.- , 138 out of 253\n"
     ]
    },
    {
     "name": "stderr",
     "output_type": "stream",
     "text": [
      "\r",
      "139it [2:19:54, 49.18s/it]"
     ]
    },
    {
     "name": "stdout",
     "output_type": "stream",
     "text": [
      "calculating ec 1.7.1.15 , 139 out of 253\n"
     ]
    },
    {
     "name": "stderr",
     "output_type": "stream",
     "text": [
      "\r",
      "140it [2:20:54, 52.60s/it]"
     ]
    },
    {
     "name": "stdout",
     "output_type": "stream",
     "text": [
      "calculating ec 1.14.12.15 , 140 out of 253\n"
     ]
    },
    {
     "name": "stderr",
     "output_type": "stream",
     "text": [
      "\r",
      "141it [2:22:09, 59.27s/it]"
     ]
    },
    {
     "name": "stdout",
     "output_type": "stream",
     "text": [
      "calculating ec 1.8.4.11 , 141 out of 253\n"
     ]
    },
    {
     "name": "stderr",
     "output_type": "stream",
     "text": [
      "\r",
      "142it [2:23:17, 61.76s/it]"
     ]
    },
    {
     "name": "stdout",
     "output_type": "stream",
     "text": [
      "calculating ec 1.5.98.1 , 142 out of 253\n"
     ]
    },
    {
     "name": "stderr",
     "output_type": "stream",
     "text": [
      "\r",
      "143it [2:24:23, 63.15s/it]"
     ]
    },
    {
     "name": "stdout",
     "output_type": "stream",
     "text": [
      "calculating ec 1.1.1.90 , 143 out of 253\n"
     ]
    },
    {
     "name": "stderr",
     "output_type": "stream",
     "text": [
      "\r",
      "144it [2:25:37, 66.40s/it]"
     ]
    },
    {
     "name": "stdout",
     "output_type": "stream",
     "text": [
      "calculating ec 1.14.13.25 , 144 out of 253\n"
     ]
    },
    {
     "name": "stderr",
     "output_type": "stream",
     "text": [
      "\r",
      "145it [2:25:56, 52.01s/it]"
     ]
    },
    {
     "name": "stdout",
     "output_type": "stream",
     "text": [
      "calculating ec 1.17.1.9 , 145 out of 253\n"
     ]
    },
    {
     "name": "stderr",
     "output_type": "stream",
     "text": [
      "\r",
      "146it [2:26:16, 42.51s/it]"
     ]
    },
    {
     "name": "stdout",
     "output_type": "stream",
     "text": [
      "calculating ec 1.5.1.49 , 146 out of 253\n"
     ]
    },
    {
     "name": "stderr",
     "output_type": "stream",
     "text": [
      "\r",
      "147it [2:27:29, 51.65s/it]"
     ]
    },
    {
     "name": "stdout",
     "output_type": "stream",
     "text": [
      "calculating ec 1.1.1.35; 4.2.1.17; 5.3.3.8 , 147 out of 253\n"
     ]
    },
    {
     "name": "stderr",
     "output_type": "stream",
     "text": [
      "\r",
      "148it [2:28:42, 58.20s/it]"
     ]
    },
    {
     "name": "stdout",
     "output_type": "stream",
     "text": [
      "calculating ec 1.3.1.9 , 148 out of 253\n"
     ]
    },
    {
     "name": "stderr",
     "output_type": "stream",
     "text": [
      "\r",
      "149it [2:29:50, 61.00s/it]"
     ]
    },
    {
     "name": "stdout",
     "output_type": "stream",
     "text": [
      "calculating ec 1.1.1.42 , 149 out of 253\n"
     ]
    },
    {
     "name": "stderr",
     "output_type": "stream",
     "text": [
      "\r",
      "150it [2:31:04, 64.92s/it]"
     ]
    },
    {
     "name": "stdout",
     "output_type": "stream",
     "text": [
      "calculating ec 1.1.1.22 , 150 out of 253\n"
     ]
    },
    {
     "name": "stderr",
     "output_type": "stream",
     "text": [
      "\r",
      "151it [2:32:18, 67.55s/it]"
     ]
    },
    {
     "name": "stdout",
     "output_type": "stream",
     "text": [
      "calculating ec 1.-.-.- , 151 out of 253\n"
     ]
    },
    {
     "name": "stderr",
     "output_type": "stream",
     "text": [
      "\r",
      "152it [2:33:23, 66.85s/it]"
     ]
    },
    {
     "name": "stdout",
     "output_type": "stream",
     "text": [
      "calculating ec 1.17.1.8 , 152 out of 253\n"
     ]
    },
    {
     "name": "stderr",
     "output_type": "stream",
     "text": [
      "\r",
      "153it [2:34:48, 72.24s/it]"
     ]
    },
    {
     "name": "stdout",
     "output_type": "stream",
     "text": [
      "calculating ec 1.17.7.1 , 153 out of 253\n"
     ]
    },
    {
     "name": "stderr",
     "output_type": "stream",
     "text": [
      "\r",
      "154it [2:36:03, 73.19s/it]"
     ]
    },
    {
     "name": "stdout",
     "output_type": "stream",
     "text": [
      "calculating ec 1.15.1.1 , 154 out of 253\n"
     ]
    },
    {
     "name": "stderr",
     "output_type": "stream",
     "text": [
      "\r",
      "155it [2:37:04, 69.60s/it]"
     ]
    },
    {
     "name": "stdout",
     "output_type": "stream",
     "text": [
      "calculating ec 1.2.1.58 , 155 out of 253\n"
     ]
    },
    {
     "name": "stderr",
     "output_type": "stream",
     "text": [
      "\r",
      "156it [2:37:21, 53.71s/it]"
     ]
    },
    {
     "name": "stdout",
     "output_type": "stream",
     "text": [
      "calculating ec 1.1.1.47 , 156 out of 253\n"
     ]
    },
    {
     "name": "stderr",
     "output_type": "stream",
     "text": [
      "\r",
      "157it [2:38:24, 56.62s/it]"
     ]
    },
    {
     "name": "stdout",
     "output_type": "stream",
     "text": [
      "calculating ec 1.17.1.- , 157 out of 253\n"
     ]
    },
    {
     "name": "stderr",
     "output_type": "stream",
     "text": [
      "\r",
      "158it [2:39:42, 62.90s/it]"
     ]
    },
    {
     "name": "stdout",
     "output_type": "stream",
     "text": [
      "calculating ec 1.17.8.1 , 158 out of 253\n"
     ]
    },
    {
     "name": "stderr",
     "output_type": "stream",
     "text": [
      "\r",
      "159it [2:40:57, 66.45s/it]"
     ]
    },
    {
     "name": "stdout",
     "output_type": "stream",
     "text": [
      "calculating ec 1.3.1.108 , 159 out of 253\n"
     ]
    },
    {
     "name": "stderr",
     "output_type": "stream",
     "text": [
      "\r",
      "160it [2:41:14, 51.85s/it]"
     ]
    },
    {
     "name": "stdout",
     "output_type": "stream",
     "text": [
      "calculating ec 1.1.1.274 , 160 out of 253\n"
     ]
    },
    {
     "name": "stderr",
     "output_type": "stream",
     "text": [
      "\r",
      "161it [2:42:23, 56.84s/it]"
     ]
    },
    {
     "name": "stdout",
     "output_type": "stream",
     "text": [
      "calculating ec 1.1.98.2 , 161 out of 253\n"
     ]
    },
    {
     "name": "stderr",
     "output_type": "stream",
     "text": [
      "\r",
      "162it [2:43:36, 61.65s/it]"
     ]
    },
    {
     "name": "stdout",
     "output_type": "stream",
     "text": [
      "calculating ec 1.-.-.-; 1.5.1.34 , 162 out of 253\n"
     ]
    },
    {
     "name": "stderr",
     "output_type": "stream",
     "text": [
      "\r",
      "163it [2:44:48, 64.74s/it]"
     ]
    },
    {
     "name": "stdout",
     "output_type": "stream",
     "text": [
      "calculating ec 1.6.5.2 , 163 out of 253\n"
     ]
    },
    {
     "name": "stderr",
     "output_type": "stream",
     "text": [
      "\r",
      "164it [2:45:47, 63.23s/it]"
     ]
    },
    {
     "name": "stdout",
     "output_type": "stream",
     "text": [
      "calculating ec 1.1.3.48 , 164 out of 253\n"
     ]
    },
    {
     "name": "stderr",
     "output_type": "stream",
     "text": [
      "\r",
      "165it [2:46:07, 50.16s/it]"
     ]
    },
    {
     "name": "stdout",
     "output_type": "stream",
     "text": [
      "calculating ec 1.18.1.- , 165 out of 253\n"
     ]
    },
    {
     "name": "stderr",
     "output_type": "stream",
     "text": [
      "\r",
      "166it [2:47:15, 55.46s/it]"
     ]
    },
    {
     "name": "stdout",
     "output_type": "stream",
     "text": [
      "calculating ec 1.10.3.- , 166 out of 253\n"
     ]
    },
    {
     "name": "stderr",
     "output_type": "stream",
     "text": [
      "\r",
      "167it [2:48:16, 57.01s/it]"
     ]
    },
    {
     "name": "stdout",
     "output_type": "stream",
     "text": [
      "calculating ec 1.14.15.24 , 167 out of 253\n"
     ]
    },
    {
     "name": "stderr",
     "output_type": "stream",
     "text": [
      "\r",
      "168it [2:48:32, 44.91s/it]"
     ]
    },
    {
     "name": "stdout",
     "output_type": "stream",
     "text": [
      "calculating ec 1.3.7.3 , 168 out of 253\n"
     ]
    },
    {
     "name": "stderr",
     "output_type": "stream",
     "text": [
      "\r",
      "169it [2:49:47, 53.97s/it]"
     ]
    },
    {
     "name": "stdout",
     "output_type": "stream",
     "text": [
      "calculating ec 1.7.5.1 , 169 out of 253\n"
     ]
    },
    {
     "name": "stderr",
     "output_type": "stream",
     "text": [
      "\r",
      "170it [2:50:49, 56.15s/it]"
     ]
    },
    {
     "name": "stdout",
     "output_type": "stream",
     "text": [
      "calculating ec 1.1.1.407 , 170 out of 253\n"
     ]
    },
    {
     "name": "stderr",
     "output_type": "stream",
     "text": [
      "\r",
      "171it [2:51:06, 44.56s/it]"
     ]
    },
    {
     "name": "stdout",
     "output_type": "stream",
     "text": [
      "calculating ec 1.1.1.205 , 171 out of 253\n"
     ]
    },
    {
     "name": "stderr",
     "output_type": "stream",
     "text": [
      "\r",
      "172it [2:52:11, 50.78s/it]"
     ]
    },
    {
     "name": "stdout",
     "output_type": "stream",
     "text": [
      "calculating ec 1.5.99.13 , 172 out of 253\n"
     ]
    },
    {
     "name": "stderr",
     "output_type": "stream",
     "text": [
      "\r",
      "173it [2:53:31, 59.35s/it]"
     ]
    },
    {
     "name": "stdout",
     "output_type": "stream",
     "text": [
      "calculating ec 1.1.1.37 , 173 out of 253\n"
     ]
    },
    {
     "name": "stderr",
     "output_type": "stream",
     "text": [
      "\r",
      "174it [2:54:49, 65.15s/it]"
     ]
    },
    {
     "name": "stdout",
     "output_type": "stream",
     "text": [
      "calculating ec 1.8.1.9 , 174 out of 253\n"
     ]
    },
    {
     "name": "stderr",
     "output_type": "stream",
     "text": [
      "\r",
      "175it [2:56:02, 67.36s/it]"
     ]
    },
    {
     "name": "stdout",
     "output_type": "stream",
     "text": [
      "calculating ec 1.5.1.1 , 175 out of 253\n"
     ]
    },
    {
     "name": "stderr",
     "output_type": "stream",
     "text": [
      "\r",
      "176it [2:56:21, 52.90s/it]"
     ]
    },
    {
     "name": "stdout",
     "output_type": "stream",
     "text": [
      "calculating ec 1.1.1.377 , 176 out of 253\n"
     ]
    },
    {
     "name": "stderr",
     "output_type": "stream",
     "text": [
      "\r",
      "177it [2:57:36, 59.50s/it]"
     ]
    },
    {
     "name": "stdout",
     "output_type": "stream",
     "text": [
      "calculating ec 1.2.5.2 , 177 out of 253\n"
     ]
    },
    {
     "name": "stderr",
     "output_type": "stream",
     "text": [
      "\r",
      "178it [2:57:52, 46.33s/it]"
     ]
    },
    {
     "name": "stdout",
     "output_type": "stream",
     "text": [
      "calculating ec 1.2.7.1 , 178 out of 253\n"
     ]
    },
    {
     "name": "stderr",
     "output_type": "stream",
     "text": [
      "\r",
      "179it [2:59:06, 54.71s/it]"
     ]
    },
    {
     "name": "stdout",
     "output_type": "stream",
     "text": [
      "calculating ec 1.8.-.- , 179 out of 253\n"
     ]
    },
    {
     "name": "stderr",
     "output_type": "stream",
     "text": [
      "\r",
      "180it [3:00:13, 58.58s/it]"
     ]
    },
    {
     "name": "stdout",
     "output_type": "stream",
     "text": [
      "calculating ec 1.1.1.95 , 180 out of 253\n"
     ]
    },
    {
     "name": "stderr",
     "output_type": "stream",
     "text": [
      "\r",
      "181it [3:00:31, 46.21s/it]"
     ]
    },
    {
     "name": "stdout",
     "output_type": "stream",
     "text": [
      "calculating ec 1.1.1.85 , 181 out of 253\n"
     ]
    },
    {
     "name": "stderr",
     "output_type": "stream",
     "text": [
      "\r",
      "182it [3:01:45, 54.72s/it]"
     ]
    },
    {
     "name": "stdout",
     "output_type": "stream",
     "text": [
      "calculating ec 1.4.99.- , 182 out of 253\n"
     ]
    },
    {
     "name": "stderr",
     "output_type": "stream",
     "text": [
      "\r",
      "183it [3:02:45, 56.05s/it]"
     ]
    },
    {
     "name": "stdout",
     "output_type": "stream",
     "text": [
      "calculating ec 1.11.1.15 , 183 out of 253\n"
     ]
    },
    {
     "name": "stderr",
     "output_type": "stream",
     "text": [
      "\r",
      "184it [3:03:54, 59.98s/it]"
     ]
    },
    {
     "name": "stdout",
     "output_type": "stream",
     "text": [
      "calculating ec 1.8.1.4 , 184 out of 253\n"
     ]
    },
    {
     "name": "stderr",
     "output_type": "stream",
     "text": [
      "\r",
      "185it [3:05:05, 63.44s/it]"
     ]
    },
    {
     "name": "stdout",
     "output_type": "stream",
     "text": [
      "calculating ec 1.13.11.1 , 185 out of 253\n"
     ]
    },
    {
     "name": "stderr",
     "output_type": "stream",
     "text": [
      "\r",
      "186it [3:05:24, 50.16s/it]"
     ]
    },
    {
     "name": "stdout",
     "output_type": "stream",
     "text": [
      "calculating ec 1.3.99.- , 186 out of 253\n"
     ]
    },
    {
     "name": "stderr",
     "output_type": "stream",
     "text": [
      "\r",
      "187it [3:06:39, 57.64s/it]"
     ]
    },
    {
     "name": "stdout",
     "output_type": "stream",
     "text": [
      "calculating ec 1.12.1.3 , 187 out of 253\n"
     ]
    },
    {
     "name": "stderr",
     "output_type": "stream",
     "text": [
      "\r",
      "188it [3:07:55, 62.85s/it]"
     ]
    },
    {
     "name": "stdout",
     "output_type": "stream",
     "text": [
      "calculating ec 1.5.1.42 , 188 out of 253\n"
     ]
    },
    {
     "name": "stderr",
     "output_type": "stream",
     "text": [
      "\r",
      "189it [3:08:12, 49.11s/it]"
     ]
    },
    {
     "name": "stdout",
     "output_type": "stream",
     "text": [
      "calculating ec 1.14.13.195 , 189 out of 253\n"
     ]
    },
    {
     "name": "stderr",
     "output_type": "stream",
     "text": [
      "\r",
      "190it [3:08:32, 40.37s/it]"
     ]
    },
    {
     "name": "stdout",
     "output_type": "stream",
     "text": [
      "calculating ec 2.1.1.107; 1.3.1.76; 4.99.1.4 , 190 out of 253\n"
     ]
    },
    {
     "name": "stderr",
     "output_type": "stream",
     "text": [
      "\r",
      "191it [3:09:53, 52.67s/it]"
     ]
    },
    {
     "name": "stdout",
     "output_type": "stream",
     "text": [
      "calculating ec 1.13.11.27 , 191 out of 253\n"
     ]
    },
    {
     "name": "stderr",
     "output_type": "stream",
     "text": [
      "\r",
      "192it [3:11:18, 62.27s/it]"
     ]
    },
    {
     "name": "stdout",
     "output_type": "stream",
     "text": [
      "calculating ec 1.1.5.12 , 192 out of 253\n"
     ]
    },
    {
     "name": "stderr",
     "output_type": "stream",
     "text": [
      "\r",
      "193it [3:11:33, 48.15s/it]"
     ]
    },
    {
     "name": "stdout",
     "output_type": "stream",
     "text": [
      "calculating ec 1.12.98.3 , 193 out of 253\n"
     ]
    },
    {
     "name": "stderr",
     "output_type": "stream",
     "text": [
      "\r",
      "194it [3:12:34, 51.99s/it]"
     ]
    },
    {
     "name": "stdout",
     "output_type": "stream",
     "text": [
      "calculating ec 1.1.1.86 , 194 out of 253\n"
     ]
    },
    {
     "name": "stderr",
     "output_type": "stream",
     "text": [
      "\r",
      "195it [3:13:44, 57.57s/it]"
     ]
    },
    {
     "name": "stdout",
     "output_type": "stream",
     "text": [
      "calculating ec 1.6.3.5 , 195 out of 253\n"
     ]
    },
    {
     "name": "stderr",
     "output_type": "stream",
     "text": [
      "\r",
      "196it [3:14:49, 59.60s/it]"
     ]
    },
    {
     "name": "stdout",
     "output_type": "stream",
     "text": [
      "calculating ec 1.1.5.3 , 196 out of 253\n"
     ]
    },
    {
     "name": "stderr",
     "output_type": "stream",
     "text": [
      "\r",
      "197it [3:16:00, 63.22s/it]"
     ]
    },
    {
     "name": "stdout",
     "output_type": "stream",
     "text": [
      "calculating ec 1.7.1.13 , 197 out of 253\n"
     ]
    },
    {
     "name": "stderr",
     "output_type": "stream",
     "text": [
      "\r",
      "198it [3:17:07, 64.13s/it]"
     ]
    },
    {
     "name": "stdout",
     "output_type": "stream",
     "text": [
      "calculating ec 4.1.1.97; 1.7.3.3 , 198 out of 253\n"
     ]
    },
    {
     "name": "stderr",
     "output_type": "stream",
     "text": [
      "\r",
      "199it [3:18:15, 65.36s/it]"
     ]
    },
    {
     "name": "stdout",
     "output_type": "stream",
     "text": [
      "calculating ec 1.16.3.1 , 199 out of 253\n"
     ]
    },
    {
     "name": "stderr",
     "output_type": "stream",
     "text": [
      "\r",
      "200it [3:18:30, 50.44s/it]"
     ]
    },
    {
     "name": "stdout",
     "output_type": "stream",
     "text": [
      "calculating ec 1.8.98.5; 1.8.98.6 , 200 out of 253\n"
     ]
    },
    {
     "name": "stderr",
     "output_type": "stream",
     "text": [
      "\r",
      "201it [3:18:48, 40.71s/it]"
     ]
    },
    {
     "name": "stdout",
     "output_type": "stream",
     "text": [
      "calculating ec 1.3.7.8; 1.3.99.n1 , 201 out of 253\n"
     ]
    },
    {
     "name": "stderr",
     "output_type": "stream",
     "text": [
      "\r",
      "202it [3:19:03, 32.80s/it]"
     ]
    },
    {
     "name": "stdout",
     "output_type": "stream",
     "text": [
      "calculating ec 1.1.1.27 , 202 out of 253\n"
     ]
    },
    {
     "name": "stderr",
     "output_type": "stream",
     "text": [
      "\r",
      "203it [3:20:05, 41.52s/it]"
     ]
    },
    {
     "name": "stdout",
     "output_type": "stream",
     "text": [
      "calculating ec 1.1.1.25 , 203 out of 253\n"
     ]
    },
    {
     "name": "stderr",
     "output_type": "stream",
     "text": [
      "\r",
      "204it [3:21:23, 52.58s/it]"
     ]
    },
    {
     "name": "stdout",
     "output_type": "stream",
     "text": [
      "calculating ec 1.7.99.1 , 204 out of 253\n"
     ]
    },
    {
     "name": "stderr",
     "output_type": "stream",
     "text": [
      "\r",
      "205it [3:22:34, 58.05s/it]"
     ]
    },
    {
     "name": "stdout",
     "output_type": "stream",
     "text": [
      "calculating ec 1.3.1.98 , 205 out of 253\n"
     ]
    },
    {
     "name": "stderr",
     "output_type": "stream",
     "text": [
      "\r",
      "206it [3:23:41, 60.87s/it]"
     ]
    },
    {
     "name": "stdout",
     "output_type": "stream",
     "text": [
      "calculating ec 1.7.1.7 , 206 out of 253\n"
     ]
    },
    {
     "name": "stderr",
     "output_type": "stream",
     "text": [
      "\r",
      "207it [3:24:00, 48.13s/it]"
     ]
    },
    {
     "name": "stdout",
     "output_type": "stream",
     "text": [
      "calculating ec 1.7.2.7 , 207 out of 253\n"
     ]
    },
    {
     "name": "stderr",
     "output_type": "stream",
     "text": [
      "\r",
      "208it [3:24:17, 39.03s/it]"
     ]
    },
    {
     "name": "stdout",
     "output_type": "stream",
     "text": [
      "calculating ec 1.1.1.384 , 208 out of 253\n"
     ]
    },
    {
     "name": "stderr",
     "output_type": "stream",
     "text": [
      "\r",
      "209it [3:25:29, 48.80s/it]"
     ]
    },
    {
     "name": "stdout",
     "output_type": "stream",
     "text": [
      "calculating ec 4.2.1.17; 5.1.2.3; 1.1.1.35 , 209 out of 253\n"
     ]
    },
    {
     "name": "stderr",
     "output_type": "stream",
     "text": [
      "\r",
      "210it [3:26:42, 56.03s/it]"
     ]
    },
    {
     "name": "stdout",
     "output_type": "stream",
     "text": [
      "calculating ec 1.1.1.107 , 210 out of 253\n"
     ]
    },
    {
     "name": "stderr",
     "output_type": "stream",
     "text": [
      "\r",
      "211it [3:27:49, 59.27s/it]"
     ]
    },
    {
     "name": "stdout",
     "output_type": "stream",
     "text": [
      "calculating ec 1.1.1.320 , 211 out of 253\n"
     ]
    },
    {
     "name": "stderr",
     "output_type": "stream",
     "text": [
      "\r",
      "212it [3:28:08, 47.20s/it]"
     ]
    },
    {
     "name": "stdout",
     "output_type": "stream",
     "text": [
      "calculating ec 1.1.1.3 , 212 out of 253\n"
     ]
    },
    {
     "name": "stderr",
     "output_type": "stream",
     "text": [
      "\r",
      "213it [3:29:24, 55.93s/it]"
     ]
    },
    {
     "name": "stdout",
     "output_type": "stream",
     "text": [
      "calculating ec 1.17.5.2 , 213 out of 253\n"
     ]
    },
    {
     "name": "stderr",
     "output_type": "stream",
     "text": [
      "\r",
      "214it [3:29:42, 44.56s/it]"
     ]
    },
    {
     "name": "stdout",
     "output_type": "stream",
     "text": [
      "calculating ec 1.12.99.6 , 214 out of 253\n"
     ]
    },
    {
     "name": "stderr",
     "output_type": "stream",
     "text": [
      "\r",
      "215it [3:30:57, 53.69s/it]"
     ]
    },
    {
     "name": "stdout",
     "output_type": "stream",
     "text": [
      "calculating ec 1.4.3.23 , 215 out of 253\n"
     ]
    },
    {
     "name": "stderr",
     "output_type": "stream",
     "text": [
      "\r",
      "216it [3:32:17, 61.65s/it]"
     ]
    },
    {
     "name": "stdout",
     "output_type": "stream",
     "text": [
      "calculating ec 1.3.3.13 , 216 out of 253\n"
     ]
    },
    {
     "name": "stderr",
     "output_type": "stream",
     "text": [
      "\r",
      "217it [3:32:36, 48.62s/it]"
     ]
    },
    {
     "name": "stdout",
     "output_type": "stream",
     "text": [
      "calculating ec 1.1.1.23 , 217 out of 253\n"
     ]
    },
    {
     "name": "stderr",
     "output_type": "stream",
     "text": [
      "\r",
      "218it [3:33:50, 56.44s/it]"
     ]
    },
    {
     "name": "stdout",
     "output_type": "stream",
     "text": [
      "calculating ec 1.7.2.3; 1.8.5.3 , 218 out of 253\n"
     ]
    },
    {
     "name": "stderr",
     "output_type": "stream",
     "text": [
      "\r",
      "219it [3:35:02, 60.92s/it]"
     ]
    },
    {
     "name": "stdout",
     "output_type": "stream",
     "text": [
      "calculating ec 1.1.1.49 , 219 out of 253\n"
     ]
    },
    {
     "name": "stderr",
     "output_type": "stream",
     "text": [
      "\r",
      "220it [3:36:13, 64.01s/it]"
     ]
    },
    {
     "name": "stdout",
     "output_type": "stream",
     "text": [
      "calculating ec 1.5.1.5; 3.5.4.9 , 220 out of 253\n"
     ]
    },
    {
     "name": "stderr",
     "output_type": "stream",
     "text": [
      "\r",
      "221it [3:37:31, 68.24s/it]"
     ]
    },
    {
     "name": "stdout",
     "output_type": "stream",
     "text": [
      "calculating ec 1.4.1.2 , 221 out of 253\n"
     ]
    },
    {
     "name": "stderr",
     "output_type": "stream",
     "text": [
      "\r",
      "222it [3:38:47, 70.44s/it]"
     ]
    },
    {
     "name": "stdout",
     "output_type": "stream",
     "text": [
      "calculating ec 1.12.99.- , 222 out of 253\n"
     ]
    },
    {
     "name": "stderr",
     "output_type": "stream",
     "text": [
      "\r",
      "223it [3:40:02, 71.92s/it]"
     ]
    },
    {
     "name": "stdout",
     "output_type": "stream",
     "text": [
      "calculating ec 1.12.7.2 , 223 out of 253\n"
     ]
    },
    {
     "name": "stderr",
     "output_type": "stream",
     "text": [
      "\r",
      "224it [3:40:22, 56.28s/it]"
     ]
    },
    {
     "name": "stdout",
     "output_type": "stream",
     "text": [
      "calculating ec 1.14.13.2 , 224 out of 253\n"
     ]
    },
    {
     "name": "stderr",
     "output_type": "stream",
     "text": [
      "\r",
      "225it [3:41:31, 60.17s/it]"
     ]
    },
    {
     "name": "stdout",
     "output_type": "stream",
     "text": [
      "calculating ec 1.5.1.47 , 225 out of 253\n"
     ]
    },
    {
     "name": "stderr",
     "output_type": "stream",
     "text": [
      "\r",
      "226it [3:42:39, 62.49s/it]"
     ]
    },
    {
     "name": "stdout",
     "output_type": "stream",
     "text": [
      "calculating ec 1.5.1.3 , 226 out of 253\n"
     ]
    },
    {
     "name": "stderr",
     "output_type": "stream",
     "text": [
      "\r",
      "227it [3:43:49, 64.67s/it]"
     ]
    },
    {
     "name": "stdout",
     "output_type": "stream",
     "text": [
      "calculating ec 1.17.4.1 , 227 out of 253\n"
     ]
    },
    {
     "name": "stderr",
     "output_type": "stream",
     "text": [
      "\r",
      "228it [3:45:05, 68.32s/it]"
     ]
    },
    {
     "name": "stdout",
     "output_type": "stream",
     "text": [
      "calculating ec 1.18.1.3 , 228 out of 253\n"
     ]
    },
    {
     "name": "stderr",
     "output_type": "stream",
     "text": [
      "\r",
      "229it [3:46:21, 70.52s/it]"
     ]
    },
    {
     "name": "stdout",
     "output_type": "stream",
     "text": [
      "calculating ec 1.18.1.2 , 229 out of 253\n"
     ]
    },
    {
     "name": "stderr",
     "output_type": "stream",
     "text": [
      "\r",
      "230it [3:47:42, 73.61s/it]"
     ]
    },
    {
     "name": "stdout",
     "output_type": "stream",
     "text": [
      "calculating ec 1.14.99.60 , 230 out of 253\n"
     ]
    },
    {
     "name": "stderr",
     "output_type": "stream",
     "text": [
      "\r",
      "231it [3:48:47, 71.01s/it]"
     ]
    },
    {
     "name": "stdout",
     "output_type": "stream",
     "text": [
      "calculating ec 1.13.11.- , 231 out of 253\n"
     ]
    },
    {
     "name": "stderr",
     "output_type": "stream",
     "text": [
      "\r",
      "232it [3:50:02, 72.17s/it]"
     ]
    },
    {
     "name": "stdout",
     "output_type": "stream",
     "text": [
      "calculating ec 1.1.1.367 , 232 out of 253\n"
     ]
    },
    {
     "name": "stderr",
     "output_type": "stream",
     "text": [
      "\r",
      "233it [3:51:19, 73.61s/it]"
     ]
    },
    {
     "name": "stdout",
     "output_type": "stream",
     "text": [
      "calculating ec 1.14.19.9 , 233 out of 253\n"
     ]
    },
    {
     "name": "stderr",
     "output_type": "stream",
     "text": [
      "\r",
      "234it [3:52:39, 75.52s/it]"
     ]
    },
    {
     "name": "stdout",
     "output_type": "stream",
     "text": [
      "calculating ec 1.1.1.-; 1.1.1.237 , 234 out of 253\n"
     ]
    },
    {
     "name": "stderr",
     "output_type": "stream",
     "text": [
      "\r",
      "235it [3:53:47, 73.29s/it]"
     ]
    },
    {
     "name": "stdout",
     "output_type": "stream",
     "text": [
      "calculating ec 1.8.98.- , 235 out of 253\n"
     ]
    },
    {
     "name": "stderr",
     "output_type": "stream",
     "text": [
      "\r",
      "236it [3:54:02, 55.94s/it]"
     ]
    },
    {
     "name": "stdout",
     "output_type": "stream",
     "text": [
      "calculating ec 1.2.1.41 , 236 out of 253\n"
     ]
    },
    {
     "name": "stderr",
     "output_type": "stream",
     "text": [
      "\r",
      "237it [3:55:28, 64.74s/it]"
     ]
    },
    {
     "name": "stdout",
     "output_type": "stream",
     "text": [
      "calculating ec 1.2.1.26 , 237 out of 253\n"
     ]
    },
    {
     "name": "stderr",
     "output_type": "stream",
     "text": [
      "\r",
      "238it [3:56:41, 67.28s/it]"
     ]
    },
    {
     "name": "stdout",
     "output_type": "stream",
     "text": [
      "calculating ec 1.1.1.262 , 238 out of 253\n"
     ]
    },
    {
     "name": "stderr",
     "output_type": "stream",
     "text": [
      "\r",
      "239it [3:57:55, 69.30s/it]"
     ]
    },
    {
     "name": "stdout",
     "output_type": "stream",
     "text": [
      "calculating ec 1.13.11.11 , 239 out of 253\n"
     ]
    },
    {
     "name": "stderr",
     "output_type": "stream",
     "text": [
      "\r",
      "240it [3:59:13, 72.01s/it]"
     ]
    },
    {
     "name": "stdout",
     "output_type": "stream",
     "text": [
      "calculating ec 1.1.1.1; 1.1.1.4; 1.2.1.3 , 240 out of 253\n"
     ]
    },
    {
     "name": "stderr",
     "output_type": "stream",
     "text": [
      "\r",
      "241it [4:00:27, 72.71s/it]"
     ]
    },
    {
     "name": "stdout",
     "output_type": "stream",
     "text": [
      "calculating ec 1.12.1.5 , 241 out of 253\n"
     ]
    },
    {
     "name": "stderr",
     "output_type": "stream",
     "text": [
      "\r",
      "242it [4:01:40, 72.65s/it]"
     ]
    },
    {
     "name": "stdout",
     "output_type": "stream",
     "text": [
      "calculating ec 1.5.5.2 , 242 out of 253\n"
     ]
    },
    {
     "name": "stderr",
     "output_type": "stream",
     "text": [
      "\r",
      "243it [4:02:55, 73.52s/it]"
     ]
    },
    {
     "name": "stdout",
     "output_type": "stream",
     "text": [
      "calculating ec 1.5.5.- , 243 out of 253\n"
     ]
    },
    {
     "name": "stderr",
     "output_type": "stream",
     "text": [
      "\r",
      "244it [4:04:13, 74.59s/it]"
     ]
    },
    {
     "name": "stdout",
     "output_type": "stream",
     "text": [
      "calculating ec 1.13.11.16 , 244 out of 253\n"
     ]
    },
    {
     "name": "stderr",
     "output_type": "stream",
     "text": [
      "\r",
      "245it [4:05:38, 77.80s/it]"
     ]
    },
    {
     "name": "stdout",
     "output_type": "stream",
     "text": [
      "calculating ec 1.1.1.203 , 245 out of 253\n"
     ]
    },
    {
     "name": "stderr",
     "output_type": "stream",
     "text": [
      "\r",
      "246it [4:06:49, 75.83s/it]"
     ]
    },
    {
     "name": "stdout",
     "output_type": "stream",
     "text": [
      "calculating ec 1.7.1.17 , 246 out of 253\n"
     ]
    },
    {
     "name": "stderr",
     "output_type": "stream",
     "text": [
      "\r",
      "247it [4:08:03, 75.37s/it]"
     ]
    },
    {
     "name": "stdout",
     "output_type": "stream",
     "text": [
      "calculating ec 1.2.1.86 , 247 out of 253\n"
     ]
    },
    {
     "name": "stderr",
     "output_type": "stream",
     "text": [
      "\r",
      "248it [4:08:22, 58.45s/it]"
     ]
    },
    {
     "name": "stdout",
     "output_type": "stream",
     "text": [
      "calculating ec 1.14.11.41 , 248 out of 253\n"
     ]
    },
    {
     "name": "stderr",
     "output_type": "stream",
     "text": [
      "\r",
      "249it [4:08:40, 46.10s/it]"
     ]
    },
    {
     "name": "stdout",
     "output_type": "stream",
     "text": [
      "calculating ec 1.8.1.8 , 249 out of 253\n"
     ]
    },
    {
     "name": "stderr",
     "output_type": "stream",
     "text": [
      "\r",
      "250it [4:09:52, 54.02s/it]"
     ]
    },
    {
     "name": "stdout",
     "output_type": "stream",
     "text": [
      "calculating ec 1.3.-.- , 250 out of 253\n"
     ]
    },
    {
     "name": "stderr",
     "output_type": "stream",
     "text": [
      "\r",
      "251it [4:11:16, 63.07s/it]"
     ]
    },
    {
     "name": "stdout",
     "output_type": "stream",
     "text": [
      "calculating ec 1.3.99.4 , 251 out of 253\n"
     ]
    },
    {
     "name": "stderr",
     "output_type": "stream",
     "text": [
      "\r",
      "252it [4:12:29, 66.00s/it]"
     ]
    },
    {
     "name": "stdout",
     "output_type": "stream",
     "text": [
      "calculating ec 1.8.7.3; 1.8.98.4 , 252 out of 253\n"
     ]
    },
    {
     "name": "stderr",
     "output_type": "stream",
     "text": [
      "253it [4:12:47, 51.69s/it]\n"
     ]
    }
   ],
   "source": [
    "#for each EC number, what's the average within-group seqsim?\n",
    "#(do for 1000 randomly selected sequences from within group, or all, whichever is smaller)\n",
    "from tqdm import tqdm\n",
    "    \n",
    "sims = pd.DataFrame()\n",
    "for ix,ec in tqdm(enumerate(set(ecref['EC number']))):\n",
    "    print('calculating ec',ec,',',ix,'out of',len(set(ecref['EC number'])))\n",
    "    subset = ecref[ecref['EC number']==ec]\n",
    "    if len(subset)>100:\n",
    "        subset = subset.sample(100)\n",
    "    #calculate average within-group seqsim \n",
    "    acc = np.sum(subset['predicted_label']==subset['label'])/len(subset)\n",
    "    #calculate within-group prediction accuracy\n",
    "    scores = get_scores(subset)\n",
    "    mean_score = np.array(scores).mean()\n",
    "    row = [[ec,acc,mean_score]]\n",
    "    sims = sims.append(row)"
   ]
  },
  {
   "cell_type": "code",
   "execution_count": 111,
   "metadata": {},
   "outputs": [],
   "source": [
    "len(sims)\n",
    "sims.columns = ['EC number','accuracy','seqsim']"
   ]
  },
  {
   "cell_type": "code",
   "execution_count": 112,
   "metadata": {},
   "outputs": [
    {
     "data": {
      "text/html": [
       "<div>\n",
       "<style scoped>\n",
       "    .dataframe tbody tr th:only-of-type {\n",
       "        vertical-align: middle;\n",
       "    }\n",
       "\n",
       "    .dataframe tbody tr th {\n",
       "        vertical-align: top;\n",
       "    }\n",
       "\n",
       "    .dataframe thead th {\n",
       "        text-align: right;\n",
       "    }\n",
       "</style>\n",
       "<table border=\"1\" class=\"dataframe\">\n",
       "  <thead>\n",
       "    <tr style=\"text-align: right;\">\n",
       "      <th></th>\n",
       "      <th>EC number</th>\n",
       "      <th>accuracy</th>\n",
       "      <th>seqsim</th>\n",
       "    </tr>\n",
       "  </thead>\n",
       "  <tbody>\n",
       "    <tr>\n",
       "      <th>0</th>\n",
       "      <td>1.14.-.-</td>\n",
       "      <td>0.31</td>\n",
       "      <td>9.691313</td>\n",
       "    </tr>\n",
       "    <tr>\n",
       "      <th>0</th>\n",
       "      <td>1.5.99.14</td>\n",
       "      <td>0.50</td>\n",
       "      <td>22.396364</td>\n",
       "    </tr>\n",
       "    <tr>\n",
       "      <th>0</th>\n",
       "      <td>1.1.1.271</td>\n",
       "      <td>0.53</td>\n",
       "      <td>16.269091</td>\n",
       "    </tr>\n",
       "    <tr>\n",
       "      <th>0</th>\n",
       "      <td>1.20.4.1</td>\n",
       "      <td>0.21</td>\n",
       "      <td>25.321414</td>\n",
       "    </tr>\n",
       "    <tr>\n",
       "      <th>0</th>\n",
       "      <td>1.11.1.-</td>\n",
       "      <td>0.19</td>\n",
       "      <td>20.381616</td>\n",
       "    </tr>\n",
       "  </tbody>\n",
       "</table>\n",
       "</div>"
      ],
      "text/plain": [
       "   EC number  accuracy     seqsim\n",
       "0   1.14.-.-      0.31   9.691313\n",
       "0  1.5.99.14      0.50  22.396364\n",
       "0  1.1.1.271      0.53  16.269091\n",
       "0   1.20.4.1      0.21  25.321414\n",
       "0   1.11.1.-      0.19  20.381616"
      ]
     },
     "execution_count": 112,
     "metadata": {},
     "output_type": "execute_result"
    }
   ],
   "source": [
    "sims.head()"
   ]
  },
  {
   "cell_type": "code",
   "execution_count": 98,
   "metadata": {},
   "outputs": [
    {
     "data": {
      "text/plain": [
       "15.150285463328938"
      ]
     },
     "execution_count": 98,
     "metadata": {},
     "output_type": "execute_result"
    }
   ],
   "source": [
    "sims.seqsim.mean()"
   ]
  },
  {
   "cell_type": "code",
   "execution_count": 99,
   "metadata": {},
   "outputs": [
    {
     "data": {
      "text/plain": [
       "13.511111111111111"
      ]
     },
     "execution_count": 99,
     "metadata": {},
     "output_type": "execute_result"
    }
   ],
   "source": [
    "sims.seqsim.median()"
   ]
  },
  {
   "cell_type": "code",
   "execution_count": 113,
   "metadata": {},
   "outputs": [
    {
     "name": "stdout",
     "output_type": "stream",
     "text": [
      "14.633168598137539\n",
      "13.777777777777779\n",
      "31.91030303030303\n",
      "8.356161616161616\n"
     ]
    }
   ],
   "source": [
    "print(sims.seqsim.mean())\n",
    "print(sims.seqsim.median())\n",
    "print(sims.seqsim.max())\n",
    "print(sims.seqsim.min())"
   ]
  },
  {
   "cell_type": "code",
   "execution_count": 114,
   "metadata": {},
   "outputs": [
    {
     "name": "stdout",
     "output_type": "stream",
     "text": [
      "0.6091699604743084\n",
      "0.62\n",
      "1.0\n",
      "0.11\n"
     ]
    }
   ],
   "source": [
    "print(sims.accuracy.mean())\n",
    "print(sims.accuracy.median())\n",
    "print(sims.accuracy.max())\n",
    "print(sims.accuracy.min())"
   ]
  },
  {
   "cell_type": "code",
   "execution_count": 115,
   "metadata": {},
   "outputs": [],
   "source": [
    "sims.to_csv('seqsim_ecs.csv',index=False)"
   ]
  },
  {
   "cell_type": "code",
   "execution_count": 116,
   "metadata": {},
   "outputs": [
    {
     "data": {
      "text/html": [
       "<div>\n",
       "<style scoped>\n",
       "    .dataframe tbody tr th:only-of-type {\n",
       "        vertical-align: middle;\n",
       "    }\n",
       "\n",
       "    .dataframe tbody tr th {\n",
       "        vertical-align: top;\n",
       "    }\n",
       "\n",
       "    .dataframe thead th {\n",
       "        text-align: right;\n",
       "    }\n",
       "</style>\n",
       "<table border=\"1\" class=\"dataframe\">\n",
       "  <thead>\n",
       "    <tr style=\"text-align: right;\">\n",
       "      <th></th>\n",
       "      <th>EMBL_CDS_id</th>\n",
       "      <th>seq</th>\n",
       "      <th>label</th>\n",
       "      <th>predicted_label</th>\n",
       "    </tr>\n",
       "  </thead>\n",
       "  <tbody>\n",
       "    <tr>\n",
       "      <th>0</th>\n",
       "      <td>BAB41593.1</td>\n",
       "      <td>TCCCATTTAGCTGGGCATACTTCGCCAGGGTTTTTACGAACATATT...</td>\n",
       "      <td>ec1</td>\n",
       "      <td>ec1</td>\n",
       "    </tr>\n",
       "    <tr>\n",
       "      <th>1</th>\n",
       "      <td>DAA08282.1</td>\n",
       "      <td>GAAAATACTTTTAAATATATGTTTAACAAGGGAATCGGAACAAAGC...</td>\n",
       "      <td>nonec1</td>\n",
       "      <td>nonec1</td>\n",
       "    </tr>\n",
       "    <tr>\n",
       "      <th>2</th>\n",
       "      <td>ABG48470.1</td>\n",
       "      <td>TCTGTTTCCTGTCTTCTTTGGATAAACTCATCAGCAACCCTGGTAC...</td>\n",
       "      <td>nonec1</td>\n",
       "      <td>ec1</td>\n",
       "    </tr>\n",
       "    <tr>\n",
       "      <th>3</th>\n",
       "      <td>EDM14285.1</td>\n",
       "      <td>TCCTCCAGATGCAGGCGGTCCAGCATTTCATAAACTATGGTTTCCC...</td>\n",
       "      <td>nonec1</td>\n",
       "      <td>nonec1</td>\n",
       "    </tr>\n",
       "    <tr>\n",
       "      <th>4</th>\n",
       "      <td>CAA88763.1</td>\n",
       "      <td>AGGAATTTTGGCTGCTATCAACACCGTAAGAACCGGAATAGCTGAT...</td>\n",
       "      <td>nonec1</td>\n",
       "      <td>ec1</td>\n",
       "    </tr>\n",
       "  </tbody>\n",
       "</table>\n",
       "</div>"
      ],
      "text/plain": [
       "  EMBL_CDS_id                                                seq   label  \\\n",
       "0  BAB41593.1  TCCCATTTAGCTGGGCATACTTCGCCAGGGTTTTTACGAACATATT...     ec1   \n",
       "1  DAA08282.1  GAAAATACTTTTAAATATATGTTTAACAAGGGAATCGGAACAAAGC...  nonec1   \n",
       "2  ABG48470.1  TCTGTTTCCTGTCTTCTTTGGATAAACTCATCAGCAACCCTGGTAC...  nonec1   \n",
       "3  EDM14285.1  TCCTCCAGATGCAGGCGGTCCAGCATTTCATAAACTATGGTTTCCC...  nonec1   \n",
       "4  CAA88763.1  AGGAATTTTGGCTGCTATCAACACCGTAAGAACCGGAATAGCTGAT...  nonec1   \n",
       "\n",
       "  predicted_label  \n",
       "0             ec1  \n",
       "1          nonec1  \n",
       "2             ec1  \n",
       "3          nonec1  \n",
       "4             ec1  "
      ]
     },
     "execution_count": 116,
     "metadata": {},
     "output_type": "execute_result"
    }
   ],
   "source": [
    "valid.head()"
   ]
  },
  {
   "cell_type": "code",
   "execution_count": 117,
   "metadata": {},
   "outputs": [],
   "source": [
    "ec1 = valid[valid['label']=='ec1']\n",
    "nonec1 = valid[valid['label']=='nonec1']"
   ]
  },
  {
   "cell_type": "code",
   "execution_count": 118,
   "metadata": {},
   "outputs": [
    {
     "data": {
      "text/plain": [
       "139600"
      ]
     },
     "execution_count": 118,
     "metadata": {},
     "output_type": "execute_result"
    }
   ],
   "source": [
    "len(ec1)"
   ]
  },
  {
   "cell_type": "code",
   "execution_count": 119,
   "metadata": {},
   "outputs": [
    {
     "data": {
      "text/plain": [
       "139600"
      ]
     },
     "execution_count": 119,
     "metadata": {},
     "output_type": "execute_result"
    }
   ],
   "source": [
    "len(nonec1)"
   ]
  },
  {
   "cell_type": "code",
   "execution_count": 123,
   "metadata": {},
   "outputs": [
    {
     "data": {
      "text/plain": [
       "0.7481017191977077"
      ]
     },
     "execution_count": 123,
     "metadata": {},
     "output_type": "execute_result"
    }
   ],
   "source": [
    "np.sum(ec1['predicted_label']==ec1['label'])/len(ec1)\n",
    "#so the 0.6 accuracy in the random subset in sims is sort of an unrepresentative sample...\n",
    "#or I guess maybe because it's more balanced classes"
   ]
  },
  {
   "cell_type": "code",
   "execution_count": 121,
   "metadata": {},
   "outputs": [
    {
     "data": {
      "text/plain": [
       "0.8349140401146132"
      ]
     },
     "execution_count": 121,
     "metadata": {},
     "output_type": "execute_result"
    }
   ],
   "source": [
    "np.sum(nonec1['predicted_label']==nonec1['label'])/len(nonec1)"
   ]
  },
  {
   "cell_type": "code",
   "execution_count": 57,
   "metadata": {},
   "outputs": [],
   "source": [
    "from Bio import SeqIO\n",
    "records = []\n",
    "for record in SeqIO.parse('../ec1_valid.fasta',\"fasta\"): \n",
    "    seq = str(record.seq)\n",
    "    #retrieve cds id from description\n",
    "    cds_id = record.description.split('|')[2].split(' ')[0]\n",
    "    row = [cds_id,seq]\n",
    "    records.append(row)"
   ]
  },
  {
   "cell_type": "code",
   "execution_count": 58,
   "metadata": {},
   "outputs": [
    {
     "data": {
      "text/plain": [
       "2796"
      ]
     },
     "execution_count": 58,
     "metadata": {},
     "output_type": "execute_result"
    }
   ],
   "source": [
    "len(records)"
   ]
  },
  {
   "cell_type": "code",
   "execution_count": 60,
   "metadata": {},
   "outputs": [
    {
     "data": {
      "text/html": [
       "<div>\n",
       "<style scoped>\n",
       "    .dataframe tbody tr th:only-of-type {\n",
       "        vertical-align: middle;\n",
       "    }\n",
       "\n",
       "    .dataframe tbody tr th {\n",
       "        vertical-align: top;\n",
       "    }\n",
       "\n",
       "    .dataframe thead th {\n",
       "        text-align: right;\n",
       "    }\n",
       "</style>\n",
       "<table border=\"1\" class=\"dataframe\">\n",
       "  <thead>\n",
       "    <tr style=\"text-align: right;\">\n",
       "      <th></th>\n",
       "      <th>EMBL_CDS_id</th>\n",
       "      <th>seq</th>\n",
       "    </tr>\n",
       "  </thead>\n",
       "  <tbody>\n",
       "    <tr>\n",
       "      <th>0</th>\n",
       "      <td>AAA97275.1</td>\n",
       "      <td>ATGAACAGCAGATGCGCTTTAGTCAGTAAGATTATCCCCTTCTCCT...</td>\n",
       "    </tr>\n",
       "    <tr>\n",
       "      <th>1</th>\n",
       "      <td>AAC77332.1</td>\n",
       "      <td>ATGAACAGCAGATGCGCTTTAGTCAGTAAGATTATCCCCTTCTCCT...</td>\n",
       "    </tr>\n",
       "    <tr>\n",
       "      <th>2</th>\n",
       "      <td>BAE78368.1</td>\n",
       "      <td>ATGAACAGCAGATGCGCTTTAGTCAGTAAGATTATCCCCTTCTCCT...</td>\n",
       "    </tr>\n",
       "    <tr>\n",
       "      <th>3</th>\n",
       "      <td>AAK45162.1</td>\n",
       "      <td>ATGACCGGGCGATGTCCGACGGTTGCCGTGGTCGGAGCGGGTATGT...</td>\n",
       "    </tr>\n",
       "    <tr>\n",
       "      <th>4</th>\n",
       "      <td>SIT99514.1</td>\n",
       "      <td>ATGACCGGGCGATGTCCGACGGTTGCCGTGGTCGGAGCGGGTATGT...</td>\n",
       "    </tr>\n",
       "  </tbody>\n",
       "</table>\n",
       "</div>"
      ],
      "text/plain": [
       "  EMBL_CDS_id                                                seq\n",
       "0  AAA97275.1  ATGAACAGCAGATGCGCTTTAGTCAGTAAGATTATCCCCTTCTCCT...\n",
       "1  AAC77332.1  ATGAACAGCAGATGCGCTTTAGTCAGTAAGATTATCCCCTTCTCCT...\n",
       "2  BAE78368.1  ATGAACAGCAGATGCGCTTTAGTCAGTAAGATTATCCCCTTCTCCT...\n",
       "3  AAK45162.1  ATGACCGGGCGATGTCCGACGGTTGCCGTGGTCGGAGCGGGTATGT...\n",
       "4  SIT99514.1  ATGACCGGGCGATGTCCGACGGTTGCCGTGGTCGGAGCGGGTATGT..."
      ]
     },
     "execution_count": 60,
     "metadata": {},
     "output_type": "execute_result"
    }
   ],
   "source": [
    "genes = pd.DataFrame(records)\n",
    "genes.columns = ['EMBL_CDS_id','seq']\n",
    "genes.head()"
   ]
  },
  {
   "cell_type": "code",
   "execution_count": 91,
   "metadata": {},
   "outputs": [
    {
     "data": {
      "text/html": [
       "<div>\n",
       "<style scoped>\n",
       "    .dataframe tbody tr th:only-of-type {\n",
       "        vertical-align: middle;\n",
       "    }\n",
       "\n",
       "    .dataframe tbody tr th {\n",
       "        vertical-align: top;\n",
       "    }\n",
       "\n",
       "    .dataframe thead th {\n",
       "        text-align: right;\n",
       "    }\n",
       "</style>\n",
       "<table border=\"1\" class=\"dataframe\">\n",
       "  <thead>\n",
       "    <tr style=\"text-align: right;\">\n",
       "      <th></th>\n",
       "      <th>Entry</th>\n",
       "      <th>EMBL_CDS_id</th>\n",
       "      <th>EC number</th>\n",
       "    </tr>\n",
       "  </thead>\n",
       "  <tbody>\n",
       "    <tr>\n",
       "      <th>0</th>\n",
       "      <td>B2IHZ4</td>\n",
       "      <td>ACB96040.1</td>\n",
       "      <td>1.11.1.15</td>\n",
       "    </tr>\n",
       "    <tr>\n",
       "      <th>1</th>\n",
       "      <td>B2IHZ4</td>\n",
       "      <td>ACB96040.1</td>\n",
       "      <td>1.11.1.15</td>\n",
       "    </tr>\n",
       "    <tr>\n",
       "      <th>2</th>\n",
       "      <td>B2IHZ4</td>\n",
       "      <td>ACB96040.1</td>\n",
       "      <td>1.11.1.15</td>\n",
       "    </tr>\n",
       "    <tr>\n",
       "      <th>3</th>\n",
       "      <td>B2IHZ4</td>\n",
       "      <td>ACB96040.1</td>\n",
       "      <td>1.11.1.15</td>\n",
       "    </tr>\n",
       "    <tr>\n",
       "      <th>4</th>\n",
       "      <td>B2IHZ4</td>\n",
       "      <td>ACB96040.1</td>\n",
       "      <td>1.11.1.15</td>\n",
       "    </tr>\n",
       "  </tbody>\n",
       "</table>\n",
       "</div>"
      ],
      "text/plain": [
       "    Entry EMBL_CDS_id  EC number\n",
       "0  B2IHZ4  ACB96040.1  1.11.1.15\n",
       "1  B2IHZ4  ACB96040.1  1.11.1.15\n",
       "2  B2IHZ4  ACB96040.1  1.11.1.15\n",
       "3  B2IHZ4  ACB96040.1  1.11.1.15\n",
       "4  B2IHZ4  ACB96040.1  1.11.1.15"
      ]
     },
     "execution_count": 91,
     "metadata": {},
     "output_type": "execute_result"
    }
   ],
   "source": [
    "ecref[['Entry','EMBL_CDS_id','EC number']].head()"
   ]
  },
  {
   "cell_type": "code",
   "execution_count": 92,
   "metadata": {},
   "outputs": [
    {
     "data": {
      "text/html": [
       "<div>\n",
       "<style scoped>\n",
       "    .dataframe tbody tr th:only-of-type {\n",
       "        vertical-align: middle;\n",
       "    }\n",
       "\n",
       "    .dataframe tbody tr th {\n",
       "        vertical-align: top;\n",
       "    }\n",
       "\n",
       "    .dataframe thead th {\n",
       "        text-align: right;\n",
       "    }\n",
       "</style>\n",
       "<table border=\"1\" class=\"dataframe\">\n",
       "  <thead>\n",
       "    <tr style=\"text-align: right;\">\n",
       "      <th></th>\n",
       "      <th>EMBL_CDS_id</th>\n",
       "      <th>seq</th>\n",
       "      <th>Entry</th>\n",
       "      <th>EC number</th>\n",
       "    </tr>\n",
       "  </thead>\n",
       "  <tbody>\n",
       "    <tr>\n",
       "      <th>0</th>\n",
       "      <td>AAA97275.1</td>\n",
       "      <td>ATGAACAGCAGATGCGCTTTAGTCAGTAAGATTATCCCCTTCTCCT...</td>\n",
       "      <td>P39409</td>\n",
       "      <td>1.97.1.-</td>\n",
       "    </tr>\n",
       "    <tr>\n",
       "      <th>50</th>\n",
       "      <td>AAC77332.1</td>\n",
       "      <td>ATGAACAGCAGATGCGCTTTAGTCAGTAAGATTATCCCCTTCTCCT...</td>\n",
       "      <td>P39409</td>\n",
       "      <td>1.97.1.-</td>\n",
       "    </tr>\n",
       "    <tr>\n",
       "      <th>100</th>\n",
       "      <td>BAE78368.1</td>\n",
       "      <td>ATGAACAGCAGATGCGCTTTAGTCAGTAAGATTATCCCCTTCTCCT...</td>\n",
       "      <td>P39409</td>\n",
       "      <td>1.97.1.-</td>\n",
       "    </tr>\n",
       "    <tr>\n",
       "      <th>150</th>\n",
       "      <td>AAK45162.1</td>\n",
       "      <td>ATGACCGGGCGATGTCCGACGGTTGCCGTGGTCGGAGCGGGTATGT...</td>\n",
       "      <td>P9WNG0</td>\n",
       "      <td>1.14.13.-</td>\n",
       "    </tr>\n",
       "    <tr>\n",
       "      <th>200</th>\n",
       "      <td>SIT99514.1</td>\n",
       "      <td>ATGACCGGGCGATGTCCGACGGTTGCCGTGGTCGGAGCGGGTATGT...</td>\n",
       "      <td>P64746</td>\n",
       "      <td>1.14.13.-</td>\n",
       "    </tr>\n",
       "  </tbody>\n",
       "</table>\n",
       "</div>"
      ],
      "text/plain": [
       "    EMBL_CDS_id                                                seq   Entry  \\\n",
       "0    AAA97275.1  ATGAACAGCAGATGCGCTTTAGTCAGTAAGATTATCCCCTTCTCCT...  P39409   \n",
       "50   AAC77332.1  ATGAACAGCAGATGCGCTTTAGTCAGTAAGATTATCCCCTTCTCCT...  P39409   \n",
       "100  BAE78368.1  ATGAACAGCAGATGCGCTTTAGTCAGTAAGATTATCCCCTTCTCCT...  P39409   \n",
       "150  AAK45162.1  ATGACCGGGCGATGTCCGACGGTTGCCGTGGTCGGAGCGGGTATGT...  P9WNG0   \n",
       "200  SIT99514.1  ATGACCGGGCGATGTCCGACGGTTGCCGTGGTCGGAGCGGGTATGT...  P64746   \n",
       "\n",
       "     EC number  \n",
       "0     1.97.1.-  \n",
       "50    1.97.1.-  \n",
       "100   1.97.1.-  \n",
       "150  1.14.13.-  \n",
       "200  1.14.13.-  "
      ]
     },
     "execution_count": 92,
     "metadata": {},
     "output_type": "execute_result"
    }
   ],
   "source": [
    "genesec = genes.merge(ecref[['Entry','EMBL_CDS_id','EC number']],on='EMBL_CDS_id',how='left')\n",
    "genesec = genesec.drop_duplicates()\n",
    "genesec.head()"
   ]
  },
  {
   "cell_type": "code",
   "execution_count": 96,
   "metadata": {},
   "outputs": [
    {
     "data": {
      "text/plain": [
       "2796"
      ]
     },
     "execution_count": 96,
     "metadata": {},
     "output_type": "execute_result"
    }
   ],
   "source": [
    "len(genesec)"
   ]
  },
  {
   "cell_type": "code",
   "execution_count": 97,
   "metadata": {},
   "outputs": [
    {
     "data": {
      "text/plain": [
       "140100"
      ]
     },
     "execution_count": 97,
     "metadata": {},
     "output_type": "execute_result"
    }
   ],
   "source": [
    "len(ecref)"
   ]
  },
  {
   "cell_type": "code",
   "execution_count": 98,
   "metadata": {},
   "outputs": [
    {
     "data": {
      "text/plain": [
       "254"
      ]
     },
     "execution_count": 98,
     "metadata": {},
     "output_type": "execute_result"
    }
   ],
   "source": [
    "len(Counter(genesec['EC number']))"
   ]
  },
  {
   "cell_type": "code",
   "execution_count": 102,
   "metadata": {},
   "outputs": [
    {
     "name": "stdout",
     "output_type": "stream",
     "text": [
      "2333\n",
      "2796\n"
     ]
    }
   ],
   "source": [
    "print(len(Counter(genesec['Entry'])))\n",
    "print(len(Counter(genesec['EMBL_CDS_id'])))"
   ]
  },
  {
   "cell_type": "code",
   "execution_count": 83,
   "metadata": {},
   "outputs": [
    {
     "data": {
      "text/plain": [
       "[('1.6.5.2', 145),\n",
       " ('1.1.1.37', 111),\n",
       " ('1.5.1.5; 3.5.4.9', 111),\n",
       " ('1.1.1.86', 96),\n",
       " ('1.11.1.15', 92),\n",
       " ('1.18.6.1', 88),\n",
       " ('1.1.1.25', 85),\n",
       " ('1.14.11.-', 82),\n",
       " ('1.17.1.8', 73),\n",
       " ('1.2.1.41', 72),\n",
       " ('4.2.1.17; 5.1.2.3; 1.1.1.35', 70),\n",
       " ('1.4.4.2', 67),\n",
       " ('1.17.7.3', 60),\n",
       " ('1.15.1.1', 57),\n",
       " ('1.3.1.98', 56),\n",
       " ('1.2.1.38', 55),\n",
       " ('1.18.1.-', 54),\n",
       " ('1.-.-.-', 50),\n",
       " ('1.7.1.13', 46),\n",
       " ('1.2.1.70', 45),\n",
       " ('1.7.1.17', 36),\n",
       " ('1.1.99.1; 1.2.1.8', 33),\n",
       " ('1.16.-.-', 31),\n",
       " ('1.3.5.2', 29),\n",
       " ('1.11.1.6', 28),\n",
       " ('1.8.5.-', 26),\n",
       " ('1.8.4.11', 25),\n",
       " ('1.17.7.4', 25),\n",
       " ('1.1.1.94', 23),\n",
       " ('1.10.3.9', 23),\n",
       " ('1.1.98.2', 22),\n",
       " ('1.9.6.1', 22),\n",
       " ('1.2.4.1', 21),\n",
       " ('2.1.1.107; 1.3.1.76; 4.99.1.4', 21),\n",
       " ('1.7.99.1', 21),\n",
       " ('1.4.3.5', 20),\n",
       " ('1.1.1.-', 15),\n",
       " ('1.5.98.1', 15),\n",
       " ('1.3.7.15', 15),\n",
       " ('1.2.7.11', 15),\n",
       " ('1.2.1.-', 15),\n",
       " ('1.18.1.2', 14),\n",
       " ('1.1.1.262', 14),\n",
       " ('1.2.1.3', 13),\n",
       " ('1.1.1.85', 13),\n",
       " ('2.1.1.61; 1.5.-.-', 13),\n",
       " ('1.8.4.12', 13),\n",
       " ('1.3.3.11', 13),\n",
       " ('1.3.7.3', 13),\n",
       " ('1.3.1.-', 12),\n",
       " ('1.1.1.42', 12),\n",
       " ('1.1.1.267', 12),\n",
       " ('1.14.99.60', 12),\n",
       " ('1.13.11.54; 1.13.11.53', 11),\n",
       " ('1.3.99.-', 11),\n",
       " ('1.13.11.11', 11),\n",
       " ('1.17.4.1', 11),\n",
       " ('1.13.11.16', 11),\n",
       " ('4.2.1.17; 5.1.2.3; 5.3.3.8; 1.1.1.35', 10),\n",
       " ('1.1.1.290', 10),\n",
       " ('1.8.1.4', 10),\n",
       " ('1.3.1.9', 10),\n",
       " ('1.13.11.5', 10),\n",
       " ('1.1.1.100', 10),\n",
       " ('1.8.1.-', 10),\n",
       " ('1.8.4.8', 9),\n",
       " ('1.17.1.-', 9),\n",
       " ('1.14.-.-', 9),\n",
       " ('1.2.-.-', 9),\n",
       " ('1.12.98.3', 8),\n",
       " ('1.1.1.27', 7),\n",
       " ('1.10.3.-', 7),\n",
       " ('1.2.4.2', 7),\n",
       " ('1.1.1.23', 7),\n",
       " ('1.3.5.1', 7),\n",
       " ('1.14.13.-', 6),\n",
       " ('1.21.98.4', 6),\n",
       " ('1.4.1.13', 6),\n",
       " ('1.7.1.15', 6),\n",
       " ('1.8.1.9', 6),\n",
       " ('1.8.1.2', 6),\n",
       " ('1.1.1.22', 6),\n",
       " ('1.7.5.1', 6),\n",
       " ('1.1.1.205', 5),\n",
       " ('1.1.5.4', 5),\n",
       " ('1.1.1.169', 5),\n",
       " ('1.-.-.-; 1.5.1.34', 5),\n",
       " ('1.1.1.26', 5),\n",
       " ('1.2.1.12', 5),\n",
       " ('1.1.5.3', 5),\n",
       " ('1.1.1.11', 5),\n",
       " ('1.1.1.3', 5),\n",
       " ('1.2.1.11', 5),\n",
       " ('1.1.1.-; 1.1.1.24', 5),\n",
       " ('1.7.2.3; 1.8.5.3', 5),\n",
       " ('1.13.11.-', 5),\n",
       " ('1.1.1.346', 5),\n",
       " ('1.4.1.-', 5),\n",
       " ('1.1.1.-; 1.1.1.237', 5),\n",
       " ('1.5.1.49', 4),\n",
       " ('1.12.2.1', 4),\n",
       " ('1.4.1.3', 4),\n",
       " ('1.2.1.26', 4),\n",
       " ('1.7.2.4', 4),\n",
       " ('1.8.-.-', 4),\n",
       " ('1.14.18.1', 4),\n",
       " ('1.14.12.17', 4),\n",
       " ('1.4.3.16', 4),\n",
       " ('1.5.5.2', 4),\n",
       " ('1.1.1.203', 4),\n",
       " ('1.1.1.49', 4),\n",
       " ('1.6.5.11', 4),\n",
       " ('1.3.99.4', 4),\n",
       " ('1.18.1.3', 4),\n",
       " (nan, 4),\n",
       " ('1.4.3.23', 4),\n",
       " ('1.13.11.27', 4),\n",
       " ('1.14.19.9', 4),\n",
       " ('1.17.8.1', 4),\n",
       " ('1.14.15.30', 4),\n",
       " ('1.97.1.-', 3),\n",
       " ('1.4.1.21', 3),\n",
       " ('1.4.99.-', 3),\n",
       " ('1.14.12.3; 1.14.12.11', 3),\n",
       " ('1.1.1.271', 3),\n",
       " ('1.14.12.1', 3),\n",
       " ('1.3.-.-', 3),\n",
       " ('1.14.15.35', 3),\n",
       " ('1.8.5.5', 3),\n",
       " ('1.5.99.14', 3),\n",
       " ('1.7.2.2', 3),\n",
       " ('1.1.1.1; 1.2.1.3', 3),\n",
       " ('1.4.1.24', 3),\n",
       " ('1.1.1.36', 3),\n",
       " ('1.12.99.-', 3),\n",
       " ('1.8.1.8', 3),\n",
       " ('1.1.1.274', 3),\n",
       " ('1.17.7.1', 3),\n",
       " ('1.8.98.5', 3),\n",
       " ('1.1.1.44', 3),\n",
       " ('1.1.1.367', 3),\n",
       " ('1.13.12.-', 3),\n",
       " ('1.14.15.3', 3),\n",
       " ('1.14.11.44', 3),\n",
       " ('4.1.1.97; 1.7.3.3', 3),\n",
       " ('1.1.1.35; 4.2.1.17; 5.3.3.8', 3),\n",
       " ('1.1.1.309', 3),\n",
       " ('1.13.11.6', 3),\n",
       " ('1.11.1.-', 2),\n",
       " ('1.3.1.34', 2),\n",
       " ('1.14.13.9', 2),\n",
       " ('1.14.13.113', 2),\n",
       " ('1.3.1.-; 1.3.1.91', 2),\n",
       " ('1.14.12.18', 2),\n",
       " ('1.5.1.2', 2),\n",
       " ('1.12.1.3', 2),\n",
       " ('1.1.1.17', 2),\n",
       " ('1.1.1.1; 1.1.1.4; 1.2.1.3', 2),\n",
       " ('1.5.5.-', 2),\n",
       " ('1.1.1.127', 2),\n",
       " ('1.1.1.47', 2),\n",
       " ('1.5.1.47', 2),\n",
       " ('1.5.99.13', 2),\n",
       " ('1.17.9.1', 2),\n",
       " ('1.14.99.57', 2),\n",
       " ('1.3.4.1', 2),\n",
       " ('1.5.1.3', 2),\n",
       " ('1.2.4.4', 2),\n",
       " ('1.8.1.7', 2),\n",
       " ('1.2.1.10', 2),\n",
       " ('1.14.11.36', 2),\n",
       " ('1.3.1.76', 2),\n",
       " ('1.1.1.90', 2),\n",
       " ('1.1.1.384', 2),\n",
       " ('1.20.4.1', 2),\n",
       " ('1.6.3.5', 2),\n",
       " ('1.4.1.2', 2),\n",
       " ('1.14.12.10', 2),\n",
       " ('1.12.99.6', 2),\n",
       " ('1.12.1.5', 2),\n",
       " ('1.14.-.-; 1.11.1.7', 2),\n",
       " ('1.14.14.18', 2),\n",
       " ('1.1.1.377', 2),\n",
       " ('1.2.7.1', 2),\n",
       " ('1.14.13.2', 2),\n",
       " ('1.3.1.25', 2),\n",
       " ('1.1.1.107', 2),\n",
       " ('1.14.12.15', 2),\n",
       " ('1.3.7.11', 1),\n",
       " ('1.1.1.18', 1)]"
      ]
     },
     "execution_count": 83,
     "metadata": {},
     "output_type": "execute_result"
    }
   ],
   "source": [
    "Counter(genesec['EC number']).most_common()[:190]\n",
    "#66 ECs only one example; will just ignore those"
   ]
  },
  {
   "cell_type": "code",
   "execution_count": 110,
   "metadata": {},
   "outputs": [
    {
     "name": "stdout",
     "output_type": "stream",
     "text": [
      "25\n",
      "25\n"
     ]
    },
    {
     "data": {
      "text/html": [
       "<div>\n",
       "<style scoped>\n",
       "    .dataframe tbody tr th:only-of-type {\n",
       "        vertical-align: middle;\n",
       "    }\n",
       "\n",
       "    .dataframe tbody tr th {\n",
       "        vertical-align: top;\n",
       "    }\n",
       "\n",
       "    .dataframe thead th {\n",
       "        text-align: right;\n",
       "    }\n",
       "</style>\n",
       "<table border=\"1\" class=\"dataframe\">\n",
       "  <thead>\n",
       "    <tr style=\"text-align: right;\">\n",
       "      <th></th>\n",
       "      <th>EMBL_CDS_id</th>\n",
       "      <th>seq</th>\n",
       "      <th>Entry</th>\n",
       "      <th>EC number</th>\n",
       "    </tr>\n",
       "  </thead>\n",
       "  <tbody>\n",
       "    <tr>\n",
       "      <th>29150</th>\n",
       "      <td>CAP06632.1</td>\n",
       "      <td>ATGCGTAAAATTATACTCTGTTCGCCTAGAGGCTTCTGTGCGGGAG...</td>\n",
       "      <td>B0BAX0</td>\n",
       "      <td>1.17.7.4</td>\n",
       "    </tr>\n",
       "    <tr>\n",
       "      <th>29200</th>\n",
       "      <td>CAH64158.1</td>\n",
       "      <td>ATGCGTAGAGTGATTTTAAGTAATCCTAGAGGATTTTGCGCTGGAG...</td>\n",
       "      <td>Q5L5D3</td>\n",
       "      <td>1.17.7.4</td>\n",
       "    </tr>\n",
       "    <tr>\n",
       "      <th>29250</th>\n",
       "      <td>CAP03678.1</td>\n",
       "      <td>ATGCGTAAAATTATACTCTGTTCGCCTAGAGGCTTCTGTGCGGGAG...</td>\n",
       "      <td>B0B991</td>\n",
       "      <td>1.17.7.4</td>\n",
       "    </tr>\n",
       "    <tr>\n",
       "      <th>29300</th>\n",
       "      <td>AAX51144.1</td>\n",
       "      <td>ATGCGTAAAATTATACTCTGTTCGCCTAGAGGCTTCTGTGCGGGAG...</td>\n",
       "      <td>Q3KKH8</td>\n",
       "      <td>1.17.7.4</td>\n",
       "    </tr>\n",
       "    <tr>\n",
       "      <th>29350</th>\n",
       "      <td>BAE81044.1</td>\n",
       "      <td>ATGCGCAGGGTTATATTAAGTAATCCCAGAGGTTTTTGCGCCGGGG...</td>\n",
       "      <td>Q255J4</td>\n",
       "      <td>1.17.7.4</td>\n",
       "    </tr>\n",
       "    <tr>\n",
       "      <th>29400</th>\n",
       "      <td>AAF39118.1</td>\n",
       "      <td>ATGCGTAAGGTTATCATCTGTTCTCCTAGAGGTTTTTGTGCTGGAG...</td>\n",
       "      <td>Q9PL59</td>\n",
       "      <td>1.17.7.4</td>\n",
       "    </tr>\n",
       "    <tr>\n",
       "      <th>29450</th>\n",
       "      <td>AAP05485.1</td>\n",
       "      <td>ATGCGTAGGGTTATATTAAATAATCCTAGAGGGTTTTGTGCTGGGG...</td>\n",
       "      <td>Q822D9</td>\n",
       "      <td>1.17.7.4</td>\n",
       "    </tr>\n",
       "    <tr>\n",
       "      <th>29500</th>\n",
       "      <td>AAC68457.1</td>\n",
       "      <td>ATGCGTAAAATTATACTCTGTTCGCCTAGAGGCTTCTGTGCGGGAG...</td>\n",
       "      <td>O84867</td>\n",
       "      <td>1.17.7.4</td>\n",
       "    </tr>\n",
       "    <tr>\n",
       "      <th>53900</th>\n",
       "      <td>ACT17059.1</td>\n",
       "      <td>ATGCAAGTGATACTGGCCAAGCACGCCGGGTTCTGCTTCGGCGTTA...</td>\n",
       "      <td>C6E2B3</td>\n",
       "      <td>1.17.7.4</td>\n",
       "    </tr>\n",
       "    <tr>\n",
       "      <th>53950</th>\n",
       "      <td>ACD95862.1</td>\n",
       "      <td>ATGAAGGTAATCCTGGCAAAACGGGCCGGATTCTGTTTCGGTGTCA...</td>\n",
       "      <td>B3E441</td>\n",
       "      <td>1.17.7.4</td>\n",
       "    </tr>\n",
       "    <tr>\n",
       "      <th>54000</th>\n",
       "      <td>ABQ25665.1</td>\n",
       "      <td>ATGAAAGTCATACTTGCCAAACAGGCCGGTTTTTGTTTCGGTGTGA...</td>\n",
       "      <td>A5GE10</td>\n",
       "      <td>1.17.7.4</td>\n",
       "    </tr>\n",
       "    <tr>\n",
       "      <th>54050</th>\n",
       "      <td>ACM20717.1</td>\n",
       "      <td>ATGAAGATCATTCTGGCCAAGCAGGCGGGTTTCTGCTTTGGTGTAA...</td>\n",
       "      <td>B9LZG4</td>\n",
       "      <td>1.17.7.4</td>\n",
       "    </tr>\n",
       "    <tr>\n",
       "      <th>54100</th>\n",
       "      <td>AAR35976.1</td>\n",
       "      <td>ATGGAGATCGTACTGGCAAAGCGGGCCGGCTTCTGCTTCGGCGTGA...</td>\n",
       "      <td>Q749Y8</td>\n",
       "      <td>1.17.7.4</td>\n",
       "    </tr>\n",
       "    <tr>\n",
       "      <th>54150</th>\n",
       "      <td>ABA89124.1</td>\n",
       "      <td>ATGAAGATCATTCTGGCCGATAGTGCCGGTTTCTGTTTTGGCGTCA...</td>\n",
       "      <td>Q3A3D3</td>\n",
       "      <td>1.17.7.4</td>\n",
       "    </tr>\n",
       "    <tr>\n",
       "      <th>54200</th>\n",
       "      <td>ABK98969.1</td>\n",
       "      <td>ATGAGAGTAATCCTTGCCAAGCGAGCCGGTTTCTGCTTCGGCGTCA...</td>\n",
       "      <td>A1ANP9</td>\n",
       "      <td>1.17.7.4</td>\n",
       "    </tr>\n",
       "    <tr>\n",
       "      <th>54250</th>\n",
       "      <td>ACH40253.1</td>\n",
       "      <td>ATGCAAGTGATATTGGCCAAGCACGCCGGGTTTTGCTTCGGCGTCA...</td>\n",
       "      <td>B5E9S9</td>\n",
       "      <td>1.17.7.4</td>\n",
       "    </tr>\n",
       "    <tr>\n",
       "      <th>54300</th>\n",
       "      <td>ABB31108.1</td>\n",
       "      <td>ATGGAAATAATTCTGGCCAAGCGGGCCGGCTTTTGCTTCGGCGTTA...</td>\n",
       "      <td>Q39XB6</td>\n",
       "      <td>1.17.7.4</td>\n",
       "    </tr>\n",
       "    <tr>\n",
       "      <th>94951</th>\n",
       "      <td>ABY92892.1</td>\n",
       "      <td>ATGAAAATATTGATTGCTGAGTATGCAGGTTTCTGCTTTGGAGTAA...</td>\n",
       "      <td>B0K197</td>\n",
       "      <td>1.17.7.4</td>\n",
       "    </tr>\n",
       "    <tr>\n",
       "      <th>95001</th>\n",
       "      <td>ABY94823.1</td>\n",
       "      <td>ATGAAAATATTGATTGCTGAGTATGCAGGTTTCTGCTTTGGAGTAA...</td>\n",
       "      <td>B0K9L0</td>\n",
       "      <td>1.17.7.4</td>\n",
       "    </tr>\n",
       "    <tr>\n",
       "      <th>95051</th>\n",
       "      <td>AAM24574.1</td>\n",
       "      <td>ATGGAAATTTTAATTGCTGAACACGCGGGATTTTGTTTTGGTGTAA...</td>\n",
       "      <td>Q8RA76</td>\n",
       "      <td>1.17.7.4</td>\n",
       "    </tr>\n",
       "    <tr>\n",
       "      <th>95101</th>\n",
       "      <td>ABR48777.1</td>\n",
       "      <td>ATGGAATTAGTAATTGCAAAACATGCAGGATTTTGTTTTGGAGTAG...</td>\n",
       "      <td>A6TRF9</td>\n",
       "      <td>1.17.7.4</td>\n",
       "    </tr>\n",
       "    <tr>\n",
       "      <th>118852</th>\n",
       "      <td>AAZ37821.1</td>\n",
       "      <td>ATGCAAATCAAACTCGCCAACCCCCGCGGCTTTTGTGCCGGAGTGG...</td>\n",
       "      <td>Q48NK3</td>\n",
       "      <td>1.17.7.4</td>\n",
       "    </tr>\n",
       "    <tr>\n",
       "      <th>118902</th>\n",
       "      <td>CAW29694.1</td>\n",
       "      <td>ATGCAAATCAAACTCGCCAATCCCCGCGGCTTCTGCGCCGGCGTGG...</td>\n",
       "      <td>B7V0A0</td>\n",
       "      <td>1.17.7.4</td>\n",
       "    </tr>\n",
       "    <tr>\n",
       "      <th>118952</th>\n",
       "      <td>ABJ13936.1</td>\n",
       "      <td>ATGCAAATCAAACTCGCCAATCCCCGCGGCTTCTGCGCCGGCGTGG...</td>\n",
       "      <td>Q02GC0</td>\n",
       "      <td>1.17.7.4</td>\n",
       "    </tr>\n",
       "    <tr>\n",
       "      <th>119002</th>\n",
       "      <td>AAY35781.1</td>\n",
       "      <td>ATGCAAATCAAACTCGCCAACCCCCGCGGCTTTTGTGCCGGAGTGG...</td>\n",
       "      <td>Q4ZYJ1</td>\n",
       "      <td>1.17.7.4</td>\n",
       "    </tr>\n",
       "  </tbody>\n",
       "</table>\n",
       "</div>"
      ],
      "text/plain": [
       "       EMBL_CDS_id                                                seq   Entry  \\\n",
       "29150   CAP06632.1  ATGCGTAAAATTATACTCTGTTCGCCTAGAGGCTTCTGTGCGGGAG...  B0BAX0   \n",
       "29200   CAH64158.1  ATGCGTAGAGTGATTTTAAGTAATCCTAGAGGATTTTGCGCTGGAG...  Q5L5D3   \n",
       "29250   CAP03678.1  ATGCGTAAAATTATACTCTGTTCGCCTAGAGGCTTCTGTGCGGGAG...  B0B991   \n",
       "29300   AAX51144.1  ATGCGTAAAATTATACTCTGTTCGCCTAGAGGCTTCTGTGCGGGAG...  Q3KKH8   \n",
       "29350   BAE81044.1  ATGCGCAGGGTTATATTAAGTAATCCCAGAGGTTTTTGCGCCGGGG...  Q255J4   \n",
       "29400   AAF39118.1  ATGCGTAAGGTTATCATCTGTTCTCCTAGAGGTTTTTGTGCTGGAG...  Q9PL59   \n",
       "29450   AAP05485.1  ATGCGTAGGGTTATATTAAATAATCCTAGAGGGTTTTGTGCTGGGG...  Q822D9   \n",
       "29500   AAC68457.1  ATGCGTAAAATTATACTCTGTTCGCCTAGAGGCTTCTGTGCGGGAG...  O84867   \n",
       "53900   ACT17059.1  ATGCAAGTGATACTGGCCAAGCACGCCGGGTTCTGCTTCGGCGTTA...  C6E2B3   \n",
       "53950   ACD95862.1  ATGAAGGTAATCCTGGCAAAACGGGCCGGATTCTGTTTCGGTGTCA...  B3E441   \n",
       "54000   ABQ25665.1  ATGAAAGTCATACTTGCCAAACAGGCCGGTTTTTGTTTCGGTGTGA...  A5GE10   \n",
       "54050   ACM20717.1  ATGAAGATCATTCTGGCCAAGCAGGCGGGTTTCTGCTTTGGTGTAA...  B9LZG4   \n",
       "54100   AAR35976.1  ATGGAGATCGTACTGGCAAAGCGGGCCGGCTTCTGCTTCGGCGTGA...  Q749Y8   \n",
       "54150   ABA89124.1  ATGAAGATCATTCTGGCCGATAGTGCCGGTTTCTGTTTTGGCGTCA...  Q3A3D3   \n",
       "54200   ABK98969.1  ATGAGAGTAATCCTTGCCAAGCGAGCCGGTTTCTGCTTCGGCGTCA...  A1ANP9   \n",
       "54250   ACH40253.1  ATGCAAGTGATATTGGCCAAGCACGCCGGGTTTTGCTTCGGCGTCA...  B5E9S9   \n",
       "54300   ABB31108.1  ATGGAAATAATTCTGGCCAAGCGGGCCGGCTTTTGCTTCGGCGTTA...  Q39XB6   \n",
       "94951   ABY92892.1  ATGAAAATATTGATTGCTGAGTATGCAGGTTTCTGCTTTGGAGTAA...  B0K197   \n",
       "95001   ABY94823.1  ATGAAAATATTGATTGCTGAGTATGCAGGTTTCTGCTTTGGAGTAA...  B0K9L0   \n",
       "95051   AAM24574.1  ATGGAAATTTTAATTGCTGAACACGCGGGATTTTGTTTTGGTGTAA...  Q8RA76   \n",
       "95101   ABR48777.1  ATGGAATTAGTAATTGCAAAACATGCAGGATTTTGTTTTGGAGTAG...  A6TRF9   \n",
       "118852  AAZ37821.1  ATGCAAATCAAACTCGCCAACCCCCGCGGCTTTTGTGCCGGAGTGG...  Q48NK3   \n",
       "118902  CAW29694.1  ATGCAAATCAAACTCGCCAATCCCCGCGGCTTCTGCGCCGGCGTGG...  B7V0A0   \n",
       "118952  ABJ13936.1  ATGCAAATCAAACTCGCCAATCCCCGCGGCTTCTGCGCCGGCGTGG...  Q02GC0   \n",
       "119002  AAY35781.1  ATGCAAATCAAACTCGCCAACCCCCGCGGCTTTTGTGCCGGAGTGG...  Q4ZYJ1   \n",
       "\n",
       "       EC number  \n",
       "29150   1.17.7.4  \n",
       "29200   1.17.7.4  \n",
       "29250   1.17.7.4  \n",
       "29300   1.17.7.4  \n",
       "29350   1.17.7.4  \n",
       "29400   1.17.7.4  \n",
       "29450   1.17.7.4  \n",
       "29500   1.17.7.4  \n",
       "53900   1.17.7.4  \n",
       "53950   1.17.7.4  \n",
       "54000   1.17.7.4  \n",
       "54050   1.17.7.4  \n",
       "54100   1.17.7.4  \n",
       "54150   1.17.7.4  \n",
       "54200   1.17.7.4  \n",
       "54250   1.17.7.4  \n",
       "54300   1.17.7.4  \n",
       "94951   1.17.7.4  \n",
       "95001   1.17.7.4  \n",
       "95051   1.17.7.4  \n",
       "95101   1.17.7.4  \n",
       "118852  1.17.7.4  \n",
       "118902  1.17.7.4  \n",
       "118952  1.17.7.4  \n",
       "119002  1.17.7.4  "
      ]
     },
     "execution_count": 110,
     "metadata": {},
     "output_type": "execute_result"
    }
   ],
   "source": [
    "subset = genesec[genesec['EC number']=='1.17.7.4']\n",
    "print(len(set(subset['Entry'])))\n",
    "print(len(subset))\n",
    "subset"
   ]
  },
  {
   "cell_type": "code",
   "execution_count": 120,
   "metadata": {},
   "outputs": [
    {
     "name": "stderr",
     "output_type": "stream",
     "text": [
      "/Users/adrienne/anaconda3/envs/fastai/lib/python3.7/site-packages/ipykernel_launcher.py:6: SettingWithCopyWarning: \n",
      "A value is trying to be set on a copy of a slice from a DataFrame\n",
      "\n",
      "See the caveats in the documentation: http://pandas.pydata.org/pandas-docs/stable/indexing.html#indexing-view-versus-copy\n",
      "  \n"
     ]
    }
   ],
   "source": [
    "lens = []\n",
    "for ec in set(genesec['EC number']):\n",
    "    subset = genesec[genesec['EC number']==ec]\n",
    "    if len(set(subset['Entry']))>1: #if multiple Uniprot IDs for this EC number, calculate the \n",
    "        if len(set(subset['Entry']))!=len(subset): #subsample so only one example per uniprot entry\n",
    "            subset.drop_duplicates(subset='Entry', inplace=True)\n",
    "            lens.append(len(subset))\n",
    "        "
   ]
  },
  {
   "cell_type": "code",
   "execution_count": 116,
   "metadata": {},
   "outputs": [
    {
     "data": {
      "text/plain": [
       "[(2, 18),\n",
       " (3, 17),\n",
       " (5, 7),\n",
       " (4, 5),\n",
       " (8, 4),\n",
       " (7, 3),\n",
       " (13, 3),\n",
       " (10, 3),\n",
       " (11, 3),\n",
       " (19, 2),\n",
       " (68, 2),\n",
       " (55, 2),\n",
       " (103, 1),\n",
       " (6, 1),\n",
       " (27, 1),\n",
       " (16, 1),\n",
       " (64, 1),\n",
       " (18, 1),\n",
       " (54, 1),\n",
       " (79, 1),\n",
       " (23, 1),\n",
       " (110, 1),\n",
       " (41, 1),\n",
       " (93, 1),\n",
       " (65, 1),\n",
       " (15, 1),\n",
       " (20, 1),\n",
       " (9, 1),\n",
       " (45, 1),\n",
       " (53, 1),\n",
       " (77, 1),\n",
       " (33, 1),\n",
       " (12, 1),\n",
       " (48, 1),\n",
       " (132, 1),\n",
       " (82, 1),\n",
       " (31, 1)]"
      ]
     },
     "execution_count": 116,
     "metadata": {},
     "output_type": "execute_result"
    }
   ],
   "source": [
    "Counter(lens).most_common()"
   ]
  },
  {
   "cell_type": "code",
   "execution_count": 85,
   "metadata": {},
   "outputs": [
    {
     "name": "stderr",
     "output_type": "stream",
     "text": [
      "\r",
      "0it [00:00, ?it/s]"
     ]
    },
    {
     "name": "stdout",
     "output_type": "stream",
     "text": [
      "calculating ec 1.17.7.4 , 1 out of 254\n",
      "25\n"
     ]
    },
    {
     "name": "stderr",
     "output_type": "stream",
     "text": [
      "\r",
      "2it [03:37, 108.75s/it]"
     ]
    },
    {
     "name": "stdout",
     "output_type": "stream",
     "text": [
      "calculating ec 1.5.1.5; 3.5.4.9 , 2 out of 254\n",
      "111\n"
     ]
    },
    {
     "ename": "KeyboardInterrupt",
     "evalue": "",
     "output_type": "error",
     "traceback": [
      "\u001b[0;31m---------------------------------------------------------------------------\u001b[0m",
      "\u001b[0;31mKeyboardInterrupt\u001b[0m                         Traceback (most recent call last)",
      "\u001b[0;32m<ipython-input-85-df7ce84446bb>\u001b[0m in \u001b[0;36m<module>\u001b[0;34m\u001b[0m\n\u001b[1;32m     13\u001b[0m         \u001b[0macc\u001b[0m \u001b[0;34m=\u001b[0m \u001b[0mnp\u001b[0m\u001b[0;34m.\u001b[0m\u001b[0msum\u001b[0m\u001b[0;34m(\u001b[0m\u001b[0mread_subset\u001b[0m\u001b[0;34m[\u001b[0m\u001b[0;34m'predicted_label'\u001b[0m\u001b[0;34m]\u001b[0m\u001b[0;34m==\u001b[0m\u001b[0mread_subset\u001b[0m\u001b[0;34m[\u001b[0m\u001b[0;34m'label'\u001b[0m\u001b[0;34m]\u001b[0m\u001b[0;34m)\u001b[0m\u001b[0;34m/\u001b[0m\u001b[0mlen\u001b[0m\u001b[0;34m(\u001b[0m\u001b[0mread_subset\u001b[0m\u001b[0;34m)\u001b[0m\u001b[0;34m\u001b[0m\u001b[0;34m\u001b[0m\u001b[0m\n\u001b[1;32m     14\u001b[0m         \u001b[0;31m#calculate within-group (gene-length) seqsim\u001b[0m\u001b[0;34m\u001b[0m\u001b[0;34m\u001b[0m\u001b[0;34m\u001b[0m\u001b[0m\n\u001b[0;32m---> 15\u001b[0;31m         \u001b[0mscores\u001b[0m \u001b[0;34m=\u001b[0m \u001b[0mget_scores\u001b[0m\u001b[0;34m(\u001b[0m\u001b[0msubset\u001b[0m\u001b[0;34m)\u001b[0m\u001b[0;34m\u001b[0m\u001b[0;34m\u001b[0m\u001b[0m\n\u001b[0m\u001b[1;32m     16\u001b[0m         \u001b[0mmean_score\u001b[0m \u001b[0;34m=\u001b[0m \u001b[0mnp\u001b[0m\u001b[0;34m.\u001b[0m\u001b[0marray\u001b[0m\u001b[0;34m(\u001b[0m\u001b[0mscores\u001b[0m\u001b[0;34m)\u001b[0m\u001b[0;34m.\u001b[0m\u001b[0mmean\u001b[0m\u001b[0;34m(\u001b[0m\u001b[0;34m)\u001b[0m\u001b[0;34m\u001b[0m\u001b[0;34m\u001b[0m\u001b[0m\n\u001b[1;32m     17\u001b[0m         \u001b[0mrow\u001b[0m \u001b[0;34m=\u001b[0m \u001b[0;34m[\u001b[0m\u001b[0;34m[\u001b[0m\u001b[0mec\u001b[0m\u001b[0;34m,\u001b[0m\u001b[0macc\u001b[0m\u001b[0;34m,\u001b[0m\u001b[0mmean_score\u001b[0m\u001b[0;34m]\u001b[0m\u001b[0;34m]\u001b[0m\u001b[0;34m\u001b[0m\u001b[0;34m\u001b[0m\u001b[0m\n",
      "\u001b[0;32m<ipython-input-84-d0aa6f8a2179>\u001b[0m in \u001b[0;36mget_scores\u001b[0;34m(df)\u001b[0m\n\u001b[1;32m     22\u001b[0m     \u001b[0mseq_combos\u001b[0m \u001b[0;34m=\u001b[0m \u001b[0mget_combos\u001b[0m\u001b[0;34m(\u001b[0m\u001b[0mcombos\u001b[0m\u001b[0;34m,\u001b[0m \u001b[0mdf\u001b[0m\u001b[0;34m,\u001b[0m \u001b[0;34m'seq'\u001b[0m\u001b[0;34m)\u001b[0m\u001b[0;34m\u001b[0m\u001b[0;34m\u001b[0m\u001b[0m\n\u001b[1;32m     23\u001b[0m     \u001b[0;32mfor\u001b[0m \u001b[0mcombo\u001b[0m \u001b[0;32min\u001b[0m \u001b[0mseq_combos\u001b[0m\u001b[0;34m:\u001b[0m\u001b[0;34m\u001b[0m\u001b[0;34m\u001b[0m\u001b[0m\n\u001b[0;32m---> 24\u001b[0;31m         \u001b[0mseqsim\u001b[0m \u001b[0;34m=\u001b[0m \u001b[0mscore_alignment\u001b[0m\u001b[0;34m(\u001b[0m\u001b[0mcombo\u001b[0m\u001b[0;34m)\u001b[0m\u001b[0;34m\u001b[0m\u001b[0;34m\u001b[0m\u001b[0m\n\u001b[0m\u001b[1;32m     25\u001b[0m         \u001b[0mscores\u001b[0m\u001b[0;34m.\u001b[0m\u001b[0mappend\u001b[0m\u001b[0;34m(\u001b[0m\u001b[0mseqsim\u001b[0m\u001b[0;34m)\u001b[0m\u001b[0;34m\u001b[0m\u001b[0;34m\u001b[0m\u001b[0m\n\u001b[1;32m     26\u001b[0m     \u001b[0;32mreturn\u001b[0m \u001b[0mscores\u001b[0m\u001b[0;34m\u001b[0m\u001b[0;34m\u001b[0m\u001b[0m\n",
      "\u001b[0;32m<ipython-input-84-d0aa6f8a2179>\u001b[0m in \u001b[0;36mscore_alignment\u001b[0;34m(combo)\u001b[0m\n\u001b[1;32m     12\u001b[0m \u001b[0;31m#compute seq similarity (smith waterman bit score)\u001b[0m\u001b[0;34m\u001b[0m\u001b[0;34m\u001b[0m\u001b[0;34m\u001b[0m\u001b[0m\n\u001b[1;32m     13\u001b[0m \u001b[0;32mdef\u001b[0m \u001b[0mscore_alignment\u001b[0m\u001b[0;34m(\u001b[0m\u001b[0mcombo\u001b[0m\u001b[0;34m)\u001b[0m\u001b[0;34m:\u001b[0m\u001b[0;34m\u001b[0m\u001b[0;34m\u001b[0m\u001b[0m\n\u001b[0;32m---> 14\u001b[0;31m     \u001b[0malignment\u001b[0m \u001b[0;34m=\u001b[0m \u001b[0mpairwise2\u001b[0m\u001b[0;34m.\u001b[0m\u001b[0malign\u001b[0m\u001b[0;34m.\u001b[0m\u001b[0mlocalms\u001b[0m\u001b[0;34m(\u001b[0m\u001b[0mcombo\u001b[0m\u001b[0;34m[\u001b[0m\u001b[0;36m0\u001b[0m\u001b[0;34m]\u001b[0m\u001b[0;34m,\u001b[0m\u001b[0mcombo\u001b[0m\u001b[0;34m[\u001b[0m\u001b[0;36m1\u001b[0m\u001b[0;34m]\u001b[0m\u001b[0;34m,\u001b[0m\u001b[0;36m1\u001b[0m\u001b[0;34m,\u001b[0m\u001b[0;34m-\u001b[0m\u001b[0;36m1\u001b[0m\u001b[0;34m,\u001b[0m\u001b[0;34m-\u001b[0m\u001b[0;36m10.0\u001b[0m\u001b[0;34m,\u001b[0m\u001b[0;34m-\u001b[0m\u001b[0;36m1.0\u001b[0m\u001b[0;34m)\u001b[0m\u001b[0;34m\u001b[0m\u001b[0;34m\u001b[0m\u001b[0m\n\u001b[0m\u001b[1;32m     15\u001b[0m     \u001b[0mix\u001b[0m \u001b[0;34m=\u001b[0m \u001b[0mnp\u001b[0m\u001b[0;34m.\u001b[0m\u001b[0margmax\u001b[0m\u001b[0;34m(\u001b[0m\u001b[0;34m[\u001b[0m\u001b[0ma\u001b[0m\u001b[0;34m[\u001b[0m\u001b[0;36m2\u001b[0m\u001b[0;34m]\u001b[0m \u001b[0;32mfor\u001b[0m \u001b[0ma\u001b[0m \u001b[0;32min\u001b[0m \u001b[0malignment\u001b[0m\u001b[0;34m]\u001b[0m\u001b[0;34m)\u001b[0m\u001b[0;34m\u001b[0m\u001b[0;34m\u001b[0m\u001b[0m\n\u001b[1;32m     16\u001b[0m     \u001b[0mmax_score\u001b[0m \u001b[0;34m=\u001b[0m \u001b[0malignment\u001b[0m\u001b[0;34m[\u001b[0m\u001b[0mix\u001b[0m\u001b[0;34m]\u001b[0m\u001b[0;34m[\u001b[0m\u001b[0;36m2\u001b[0m\u001b[0;34m]\u001b[0m\u001b[0;34m\u001b[0m\u001b[0;34m\u001b[0m\u001b[0m\n",
      "\u001b[0;32m~/anaconda3/envs/fastai/lib/python3.7/site-packages/Bio/pairwise2.py\u001b[0m in \u001b[0;36m__call__\u001b[0;34m(self, *args, **keywds)\u001b[0m\n\u001b[1;32m    406\u001b[0m             \u001b[0;34m\"\"\"Call the alignment instance already created.\"\"\"\u001b[0m\u001b[0;34m\u001b[0m\u001b[0;34m\u001b[0m\u001b[0m\n\u001b[1;32m    407\u001b[0m             \u001b[0mkeywds\u001b[0m \u001b[0;34m=\u001b[0m \u001b[0mself\u001b[0m\u001b[0;34m.\u001b[0m\u001b[0mdecode\u001b[0m\u001b[0;34m(\u001b[0m\u001b[0;34m*\u001b[0m\u001b[0margs\u001b[0m\u001b[0;34m,\u001b[0m \u001b[0;34m**\u001b[0m\u001b[0mkeywds\u001b[0m\u001b[0;34m)\u001b[0m\u001b[0;34m\u001b[0m\u001b[0;34m\u001b[0m\u001b[0m\n\u001b[0;32m--> 408\u001b[0;31m             \u001b[0;32mreturn\u001b[0m \u001b[0m_align\u001b[0m\u001b[0;34m(\u001b[0m\u001b[0;34m**\u001b[0m\u001b[0mkeywds\u001b[0m\u001b[0;34m)\u001b[0m\u001b[0;34m\u001b[0m\u001b[0;34m\u001b[0m\u001b[0m\n\u001b[0m\u001b[1;32m    409\u001b[0m \u001b[0;34m\u001b[0m\u001b[0m\n\u001b[1;32m    410\u001b[0m     \u001b[0;32mdef\u001b[0m \u001b[0m__getattr__\u001b[0m\u001b[0;34m(\u001b[0m\u001b[0mself\u001b[0m\u001b[0;34m,\u001b[0m \u001b[0mattr\u001b[0m\u001b[0;34m)\u001b[0m\u001b[0;34m:\u001b[0m\u001b[0;34m\u001b[0m\u001b[0;34m\u001b[0m\u001b[0m\n",
      "\u001b[0;32m~/anaconda3/envs/fastai/lib/python3.7/site-packages/Bio/pairwise2.py\u001b[0m in \u001b[0;36m_align\u001b[0;34m(sequenceA, sequenceB, match_fn, gap_A_fn, gap_B_fn, penalize_extend_when_opening, penalize_end_gaps, align_globally, gap_char, force_generic, score_only, one_alignment_only)\u001b[0m\n\u001b[1;32m    474\u001b[0m     \u001b[0mstarts\u001b[0m \u001b[0;34m=\u001b[0m \u001b[0m_find_start\u001b[0m\u001b[0;34m(\u001b[0m\u001b[0mscore_matrix\u001b[0m\u001b[0;34m,\u001b[0m \u001b[0malign_globally\u001b[0m\u001b[0;34m)\u001b[0m\u001b[0;34m\u001b[0m\u001b[0;34m\u001b[0m\u001b[0m\n\u001b[1;32m    475\u001b[0m     \u001b[0;31m# Find the highest score.\u001b[0m\u001b[0;34m\u001b[0m\u001b[0;34m\u001b[0m\u001b[0;34m\u001b[0m\u001b[0m\n\u001b[0;32m--> 476\u001b[0;31m     \u001b[0mbest_score\u001b[0m \u001b[0;34m=\u001b[0m \u001b[0mmax\u001b[0m\u001b[0;34m(\u001b[0m\u001b[0;34m[\u001b[0m\u001b[0m_\u001b[0m\u001b[0;34m[\u001b[0m\u001b[0;36m0\u001b[0m\u001b[0;34m]\u001b[0m \u001b[0;32mfor\u001b[0m \u001b[0m_\u001b[0m \u001b[0;32min\u001b[0m \u001b[0mstarts\u001b[0m\u001b[0;34m]\u001b[0m\u001b[0;34m)\u001b[0m\u001b[0;34m\u001b[0m\u001b[0;34m\u001b[0m\u001b[0m\n\u001b[0m\u001b[1;32m    477\u001b[0m \u001b[0;34m\u001b[0m\u001b[0m\n\u001b[1;32m    478\u001b[0m     \u001b[0;31m# If they only want the score, then return it.\u001b[0m\u001b[0;34m\u001b[0m\u001b[0;34m\u001b[0m\u001b[0;34m\u001b[0m\u001b[0m\n",
      "\u001b[0;32m~/anaconda3/envs/fastai/lib/python3.7/site-packages/Bio/pairwise2.py\u001b[0m in \u001b[0;36m<listcomp>\u001b[0;34m(.0)\u001b[0m\n\u001b[1;32m    474\u001b[0m     \u001b[0mstarts\u001b[0m \u001b[0;34m=\u001b[0m \u001b[0m_find_start\u001b[0m\u001b[0;34m(\u001b[0m\u001b[0mscore_matrix\u001b[0m\u001b[0;34m,\u001b[0m \u001b[0malign_globally\u001b[0m\u001b[0;34m)\u001b[0m\u001b[0;34m\u001b[0m\u001b[0;34m\u001b[0m\u001b[0m\n\u001b[1;32m    475\u001b[0m     \u001b[0;31m# Find the highest score.\u001b[0m\u001b[0;34m\u001b[0m\u001b[0;34m\u001b[0m\u001b[0;34m\u001b[0m\u001b[0m\n\u001b[0;32m--> 476\u001b[0;31m     \u001b[0mbest_score\u001b[0m \u001b[0;34m=\u001b[0m \u001b[0mmax\u001b[0m\u001b[0;34m(\u001b[0m\u001b[0;34m[\u001b[0m\u001b[0m_\u001b[0m\u001b[0;34m[\u001b[0m\u001b[0;36m0\u001b[0m\u001b[0;34m]\u001b[0m \u001b[0;32mfor\u001b[0m \u001b[0m_\u001b[0m \u001b[0;32min\u001b[0m \u001b[0mstarts\u001b[0m\u001b[0;34m]\u001b[0m\u001b[0;34m)\u001b[0m\u001b[0;34m\u001b[0m\u001b[0;34m\u001b[0m\u001b[0m\n\u001b[0m\u001b[1;32m    477\u001b[0m \u001b[0;34m\u001b[0m\u001b[0m\n\u001b[1;32m    478\u001b[0m     \u001b[0;31m# If they only want the score, then return it.\u001b[0m\u001b[0;34m\u001b[0m\u001b[0;34m\u001b[0m\u001b[0;34m\u001b[0m\u001b[0m\n",
      "\u001b[0;31mKeyboardInterrupt\u001b[0m: "
     ]
    }
   ],
   "source": [
    "#for each EC number, what's the average within-group seqsim?\n",
    "#(do for full gene lengths, since reads subset from different parts of genes are of course going to be low)\n",
    "from tqdm import tqdm\n",
    "    \n",
    "sims = pd.DataFrame()\n",
    "for ix,ec in tqdm(enumerate(set(genesec['EC number']))):\n",
    "    subset = genesec[genesec['EC number']==ec]\n",
    "    if len(subset)>1:\n",
    "        print('calculating ec',ec,',',ix,'out of',len(set(genesec['EC number'])))\n",
    "        print(len(subset))\n",
    "        #calculate average within-group accuracy in the validset read-length predictions\n",
    "        read_subset = ecref[ecref['EC number']==ec]\n",
    "        acc = np.sum(read_subset['predicted_label']==read_subset['label'])/len(read_subset)\n",
    "        #calculate within-group (gene-length) seqsim \n",
    "        scores = get_scores(subset)\n",
    "        mean_score = np.array(scores).mean()\n",
    "        row = [[ec,acc,mean_score]]\n",
    "        sims = sims.append(row)"
   ]
  },
  {
   "cell_type": "code",
   "execution_count": 106,
   "metadata": {},
   "outputs": [],
   "source": [
    "genesec.to_csv('ecref_valid_genes.csv', index=False)"
   ]
  },
  {
   "cell_type": "code",
   "execution_count": 117,
   "metadata": {},
   "outputs": [
    {
     "data": {
      "text/html": [
       "<div>\n",
       "<style scoped>\n",
       "    .dataframe tbody tr th:only-of-type {\n",
       "        vertical-align: middle;\n",
       "    }\n",
       "\n",
       "    .dataframe tbody tr th {\n",
       "        vertical-align: top;\n",
       "    }\n",
       "\n",
       "    .dataframe thead th {\n",
       "        text-align: right;\n",
       "    }\n",
       "</style>\n",
       "<table border=\"1\" class=\"dataframe\">\n",
       "  <thead>\n",
       "    <tr style=\"text-align: right;\">\n",
       "      <th></th>\n",
       "      <th>EMBL_CDS_id</th>\n",
       "      <th>seq</th>\n",
       "      <th>Entry</th>\n",
       "      <th>EC number</th>\n",
       "    </tr>\n",
       "  </thead>\n",
       "  <tbody>\n",
       "    <tr>\n",
       "      <th>0</th>\n",
       "      <td>AAA97275.1</td>\n",
       "      <td>ATGAACAGCAGATGCGCTTTAGTCAGTAAGATTATCCCCTTCTCCT...</td>\n",
       "      <td>P39409</td>\n",
       "      <td>1.97.1.-</td>\n",
       "    </tr>\n",
       "    <tr>\n",
       "      <th>50</th>\n",
       "      <td>AAC77332.1</td>\n",
       "      <td>ATGAACAGCAGATGCGCTTTAGTCAGTAAGATTATCCCCTTCTCCT...</td>\n",
       "      <td>P39409</td>\n",
       "      <td>1.97.1.-</td>\n",
       "    </tr>\n",
       "    <tr>\n",
       "      <th>100</th>\n",
       "      <td>BAE78368.1</td>\n",
       "      <td>ATGAACAGCAGATGCGCTTTAGTCAGTAAGATTATCCCCTTCTCCT...</td>\n",
       "      <td>P39409</td>\n",
       "      <td>1.97.1.-</td>\n",
       "    </tr>\n",
       "    <tr>\n",
       "      <th>150</th>\n",
       "      <td>AAK45162.1</td>\n",
       "      <td>ATGACCGGGCGATGTCCGACGGTTGCCGTGGTCGGAGCGGGTATGT...</td>\n",
       "      <td>P9WNG0</td>\n",
       "      <td>1.14.13.-</td>\n",
       "    </tr>\n",
       "    <tr>\n",
       "      <th>200</th>\n",
       "      <td>SIT99514.1</td>\n",
       "      <td>ATGACCGGGCGATGTCCGACGGTTGCCGTGGTCGGAGCGGGTATGT...</td>\n",
       "      <td>P64746</td>\n",
       "      <td>1.14.13.-</td>\n",
       "    </tr>\n",
       "  </tbody>\n",
       "</table>\n",
       "</div>"
      ],
      "text/plain": [
       "    EMBL_CDS_id                                                seq   Entry  \\\n",
       "0    AAA97275.1  ATGAACAGCAGATGCGCTTTAGTCAGTAAGATTATCCCCTTCTCCT...  P39409   \n",
       "50   AAC77332.1  ATGAACAGCAGATGCGCTTTAGTCAGTAAGATTATCCCCTTCTCCT...  P39409   \n",
       "100  BAE78368.1  ATGAACAGCAGATGCGCTTTAGTCAGTAAGATTATCCCCTTCTCCT...  P39409   \n",
       "150  AAK45162.1  ATGACCGGGCGATGTCCGACGGTTGCCGTGGTCGGAGCGGGTATGT...  P9WNG0   \n",
       "200  SIT99514.1  ATGACCGGGCGATGTCCGACGGTTGCCGTGGTCGGAGCGGGTATGT...  P64746   \n",
       "\n",
       "     EC number  \n",
       "0     1.97.1.-  \n",
       "50    1.97.1.-  \n",
       "100   1.97.1.-  \n",
       "150  1.14.13.-  \n",
       "200  1.14.13.-  "
      ]
     },
     "execution_count": 117,
     "metadata": {},
     "output_type": "execute_result"
    }
   ],
   "source": [
    "genesec.head()"
   ]
  },
  {
   "cell_type": "code",
   "execution_count": 121,
   "metadata": {},
   "outputs": [
    {
     "data": {
      "text/html": [
       "<div>\n",
       "<style scoped>\n",
       "    .dataframe tbody tr th:only-of-type {\n",
       "        vertical-align: middle;\n",
       "    }\n",
       "\n",
       "    .dataframe tbody tr th {\n",
       "        vertical-align: top;\n",
       "    }\n",
       "\n",
       "    .dataframe thead th {\n",
       "        text-align: right;\n",
       "    }\n",
       "</style>\n",
       "<table border=\"1\" class=\"dataframe\">\n",
       "  <thead>\n",
       "    <tr style=\"text-align: right;\">\n",
       "      <th></th>\n",
       "      <th>EMBL_CDS_id</th>\n",
       "      <th>seq</th>\n",
       "      <th>Entry</th>\n",
       "      <th>EC number</th>\n",
       "    </tr>\n",
       "  </thead>\n",
       "  <tbody>\n",
       "    <tr>\n",
       "      <th>29150</th>\n",
       "      <td>CAP06632.1</td>\n",
       "      <td>ATGCGTAAAATTATACTCTGTTCGCCTAGAGGCTTCTGTGCGGGAG...</td>\n",
       "      <td>B0BAX0</td>\n",
       "      <td>1.17.7.4</td>\n",
       "    </tr>\n",
       "    <tr>\n",
       "      <th>29200</th>\n",
       "      <td>CAH64158.1</td>\n",
       "      <td>ATGCGTAGAGTGATTTTAAGTAATCCTAGAGGATTTTGCGCTGGAG...</td>\n",
       "      <td>Q5L5D3</td>\n",
       "      <td>1.17.7.4</td>\n",
       "    </tr>\n",
       "    <tr>\n",
       "      <th>29250</th>\n",
       "      <td>CAP03678.1</td>\n",
       "      <td>ATGCGTAAAATTATACTCTGTTCGCCTAGAGGCTTCTGTGCGGGAG...</td>\n",
       "      <td>B0B991</td>\n",
       "      <td>1.17.7.4</td>\n",
       "    </tr>\n",
       "    <tr>\n",
       "      <th>29300</th>\n",
       "      <td>AAX51144.1</td>\n",
       "      <td>ATGCGTAAAATTATACTCTGTTCGCCTAGAGGCTTCTGTGCGGGAG...</td>\n",
       "      <td>Q3KKH8</td>\n",
       "      <td>1.17.7.4</td>\n",
       "    </tr>\n",
       "    <tr>\n",
       "      <th>29350</th>\n",
       "      <td>BAE81044.1</td>\n",
       "      <td>ATGCGCAGGGTTATATTAAGTAATCCCAGAGGTTTTTGCGCCGGGG...</td>\n",
       "      <td>Q255J4</td>\n",
       "      <td>1.17.7.4</td>\n",
       "    </tr>\n",
       "    <tr>\n",
       "      <th>29400</th>\n",
       "      <td>AAF39118.1</td>\n",
       "      <td>ATGCGTAAGGTTATCATCTGTTCTCCTAGAGGTTTTTGTGCTGGAG...</td>\n",
       "      <td>Q9PL59</td>\n",
       "      <td>1.17.7.4</td>\n",
       "    </tr>\n",
       "    <tr>\n",
       "      <th>29450</th>\n",
       "      <td>AAP05485.1</td>\n",
       "      <td>ATGCGTAGGGTTATATTAAATAATCCTAGAGGGTTTTGTGCTGGGG...</td>\n",
       "      <td>Q822D9</td>\n",
       "      <td>1.17.7.4</td>\n",
       "    </tr>\n",
       "    <tr>\n",
       "      <th>29500</th>\n",
       "      <td>AAC68457.1</td>\n",
       "      <td>ATGCGTAAAATTATACTCTGTTCGCCTAGAGGCTTCTGTGCGGGAG...</td>\n",
       "      <td>O84867</td>\n",
       "      <td>1.17.7.4</td>\n",
       "    </tr>\n",
       "    <tr>\n",
       "      <th>53900</th>\n",
       "      <td>ACT17059.1</td>\n",
       "      <td>ATGCAAGTGATACTGGCCAAGCACGCCGGGTTCTGCTTCGGCGTTA...</td>\n",
       "      <td>C6E2B3</td>\n",
       "      <td>1.17.7.4</td>\n",
       "    </tr>\n",
       "    <tr>\n",
       "      <th>53950</th>\n",
       "      <td>ACD95862.1</td>\n",
       "      <td>ATGAAGGTAATCCTGGCAAAACGGGCCGGATTCTGTTTCGGTGTCA...</td>\n",
       "      <td>B3E441</td>\n",
       "      <td>1.17.7.4</td>\n",
       "    </tr>\n",
       "    <tr>\n",
       "      <th>54000</th>\n",
       "      <td>ABQ25665.1</td>\n",
       "      <td>ATGAAAGTCATACTTGCCAAACAGGCCGGTTTTTGTTTCGGTGTGA...</td>\n",
       "      <td>A5GE10</td>\n",
       "      <td>1.17.7.4</td>\n",
       "    </tr>\n",
       "    <tr>\n",
       "      <th>54050</th>\n",
       "      <td>ACM20717.1</td>\n",
       "      <td>ATGAAGATCATTCTGGCCAAGCAGGCGGGTTTCTGCTTTGGTGTAA...</td>\n",
       "      <td>B9LZG4</td>\n",
       "      <td>1.17.7.4</td>\n",
       "    </tr>\n",
       "    <tr>\n",
       "      <th>54100</th>\n",
       "      <td>AAR35976.1</td>\n",
       "      <td>ATGGAGATCGTACTGGCAAAGCGGGCCGGCTTCTGCTTCGGCGTGA...</td>\n",
       "      <td>Q749Y8</td>\n",
       "      <td>1.17.7.4</td>\n",
       "    </tr>\n",
       "    <tr>\n",
       "      <th>54150</th>\n",
       "      <td>ABA89124.1</td>\n",
       "      <td>ATGAAGATCATTCTGGCCGATAGTGCCGGTTTCTGTTTTGGCGTCA...</td>\n",
       "      <td>Q3A3D3</td>\n",
       "      <td>1.17.7.4</td>\n",
       "    </tr>\n",
       "    <tr>\n",
       "      <th>54200</th>\n",
       "      <td>ABK98969.1</td>\n",
       "      <td>ATGAGAGTAATCCTTGCCAAGCGAGCCGGTTTCTGCTTCGGCGTCA...</td>\n",
       "      <td>A1ANP9</td>\n",
       "      <td>1.17.7.4</td>\n",
       "    </tr>\n",
       "    <tr>\n",
       "      <th>54250</th>\n",
       "      <td>ACH40253.1</td>\n",
       "      <td>ATGCAAGTGATATTGGCCAAGCACGCCGGGTTTTGCTTCGGCGTCA...</td>\n",
       "      <td>B5E9S9</td>\n",
       "      <td>1.17.7.4</td>\n",
       "    </tr>\n",
       "    <tr>\n",
       "      <th>54300</th>\n",
       "      <td>ABB31108.1</td>\n",
       "      <td>ATGGAAATAATTCTGGCCAAGCGGGCCGGCTTTTGCTTCGGCGTTA...</td>\n",
       "      <td>Q39XB6</td>\n",
       "      <td>1.17.7.4</td>\n",
       "    </tr>\n",
       "    <tr>\n",
       "      <th>94951</th>\n",
       "      <td>ABY92892.1</td>\n",
       "      <td>ATGAAAATATTGATTGCTGAGTATGCAGGTTTCTGCTTTGGAGTAA...</td>\n",
       "      <td>B0K197</td>\n",
       "      <td>1.17.7.4</td>\n",
       "    </tr>\n",
       "    <tr>\n",
       "      <th>95001</th>\n",
       "      <td>ABY94823.1</td>\n",
       "      <td>ATGAAAATATTGATTGCTGAGTATGCAGGTTTCTGCTTTGGAGTAA...</td>\n",
       "      <td>B0K9L0</td>\n",
       "      <td>1.17.7.4</td>\n",
       "    </tr>\n",
       "    <tr>\n",
       "      <th>95051</th>\n",
       "      <td>AAM24574.1</td>\n",
       "      <td>ATGGAAATTTTAATTGCTGAACACGCGGGATTTTGTTTTGGTGTAA...</td>\n",
       "      <td>Q8RA76</td>\n",
       "      <td>1.17.7.4</td>\n",
       "    </tr>\n",
       "    <tr>\n",
       "      <th>95101</th>\n",
       "      <td>ABR48777.1</td>\n",
       "      <td>ATGGAATTAGTAATTGCAAAACATGCAGGATTTTGTTTTGGAGTAG...</td>\n",
       "      <td>A6TRF9</td>\n",
       "      <td>1.17.7.4</td>\n",
       "    </tr>\n",
       "    <tr>\n",
       "      <th>118852</th>\n",
       "      <td>AAZ37821.1</td>\n",
       "      <td>ATGCAAATCAAACTCGCCAACCCCCGCGGCTTTTGTGCCGGAGTGG...</td>\n",
       "      <td>Q48NK3</td>\n",
       "      <td>1.17.7.4</td>\n",
       "    </tr>\n",
       "    <tr>\n",
       "      <th>118902</th>\n",
       "      <td>CAW29694.1</td>\n",
       "      <td>ATGCAAATCAAACTCGCCAATCCCCGCGGCTTCTGCGCCGGCGTGG...</td>\n",
       "      <td>B7V0A0</td>\n",
       "      <td>1.17.7.4</td>\n",
       "    </tr>\n",
       "    <tr>\n",
       "      <th>118952</th>\n",
       "      <td>ABJ13936.1</td>\n",
       "      <td>ATGCAAATCAAACTCGCCAATCCCCGCGGCTTCTGCGCCGGCGTGG...</td>\n",
       "      <td>Q02GC0</td>\n",
       "      <td>1.17.7.4</td>\n",
       "    </tr>\n",
       "    <tr>\n",
       "      <th>119002</th>\n",
       "      <td>AAY35781.1</td>\n",
       "      <td>ATGCAAATCAAACTCGCCAACCCCCGCGGCTTTTGTGCCGGAGTGG...</td>\n",
       "      <td>Q4ZYJ1</td>\n",
       "      <td>1.17.7.4</td>\n",
       "    </tr>\n",
       "  </tbody>\n",
       "</table>\n",
       "</div>"
      ],
      "text/plain": [
       "       EMBL_CDS_id                                                seq   Entry  \\\n",
       "29150   CAP06632.1  ATGCGTAAAATTATACTCTGTTCGCCTAGAGGCTTCTGTGCGGGAG...  B0BAX0   \n",
       "29200   CAH64158.1  ATGCGTAGAGTGATTTTAAGTAATCCTAGAGGATTTTGCGCTGGAG...  Q5L5D3   \n",
       "29250   CAP03678.1  ATGCGTAAAATTATACTCTGTTCGCCTAGAGGCTTCTGTGCGGGAG...  B0B991   \n",
       "29300   AAX51144.1  ATGCGTAAAATTATACTCTGTTCGCCTAGAGGCTTCTGTGCGGGAG...  Q3KKH8   \n",
       "29350   BAE81044.1  ATGCGCAGGGTTATATTAAGTAATCCCAGAGGTTTTTGCGCCGGGG...  Q255J4   \n",
       "29400   AAF39118.1  ATGCGTAAGGTTATCATCTGTTCTCCTAGAGGTTTTTGTGCTGGAG...  Q9PL59   \n",
       "29450   AAP05485.1  ATGCGTAGGGTTATATTAAATAATCCTAGAGGGTTTTGTGCTGGGG...  Q822D9   \n",
       "29500   AAC68457.1  ATGCGTAAAATTATACTCTGTTCGCCTAGAGGCTTCTGTGCGGGAG...  O84867   \n",
       "53900   ACT17059.1  ATGCAAGTGATACTGGCCAAGCACGCCGGGTTCTGCTTCGGCGTTA...  C6E2B3   \n",
       "53950   ACD95862.1  ATGAAGGTAATCCTGGCAAAACGGGCCGGATTCTGTTTCGGTGTCA...  B3E441   \n",
       "54000   ABQ25665.1  ATGAAAGTCATACTTGCCAAACAGGCCGGTTTTTGTTTCGGTGTGA...  A5GE10   \n",
       "54050   ACM20717.1  ATGAAGATCATTCTGGCCAAGCAGGCGGGTTTCTGCTTTGGTGTAA...  B9LZG4   \n",
       "54100   AAR35976.1  ATGGAGATCGTACTGGCAAAGCGGGCCGGCTTCTGCTTCGGCGTGA...  Q749Y8   \n",
       "54150   ABA89124.1  ATGAAGATCATTCTGGCCGATAGTGCCGGTTTCTGTTTTGGCGTCA...  Q3A3D3   \n",
       "54200   ABK98969.1  ATGAGAGTAATCCTTGCCAAGCGAGCCGGTTTCTGCTTCGGCGTCA...  A1ANP9   \n",
       "54250   ACH40253.1  ATGCAAGTGATATTGGCCAAGCACGCCGGGTTTTGCTTCGGCGTCA...  B5E9S9   \n",
       "54300   ABB31108.1  ATGGAAATAATTCTGGCCAAGCGGGCCGGCTTTTGCTTCGGCGTTA...  Q39XB6   \n",
       "94951   ABY92892.1  ATGAAAATATTGATTGCTGAGTATGCAGGTTTCTGCTTTGGAGTAA...  B0K197   \n",
       "95001   ABY94823.1  ATGAAAATATTGATTGCTGAGTATGCAGGTTTCTGCTTTGGAGTAA...  B0K9L0   \n",
       "95051   AAM24574.1  ATGGAAATTTTAATTGCTGAACACGCGGGATTTTGTTTTGGTGTAA...  Q8RA76   \n",
       "95101   ABR48777.1  ATGGAATTAGTAATTGCAAAACATGCAGGATTTTGTTTTGGAGTAG...  A6TRF9   \n",
       "118852  AAZ37821.1  ATGCAAATCAAACTCGCCAACCCCCGCGGCTTTTGTGCCGGAGTGG...  Q48NK3   \n",
       "118902  CAW29694.1  ATGCAAATCAAACTCGCCAATCCCCGCGGCTTCTGCGCCGGCGTGG...  B7V0A0   \n",
       "118952  ABJ13936.1  ATGCAAATCAAACTCGCCAATCCCCGCGGCTTCTGCGCCGGCGTGG...  Q02GC0   \n",
       "119002  AAY35781.1  ATGCAAATCAAACTCGCCAACCCCCGCGGCTTTTGTGCCGGAGTGG...  Q4ZYJ1   \n",
       "\n",
       "       EC number  \n",
       "29150   1.17.7.4  \n",
       "29200   1.17.7.4  \n",
       "29250   1.17.7.4  \n",
       "29300   1.17.7.4  \n",
       "29350   1.17.7.4  \n",
       "29400   1.17.7.4  \n",
       "29450   1.17.7.4  \n",
       "29500   1.17.7.4  \n",
       "53900   1.17.7.4  \n",
       "53950   1.17.7.4  \n",
       "54000   1.17.7.4  \n",
       "54050   1.17.7.4  \n",
       "54100   1.17.7.4  \n",
       "54150   1.17.7.4  \n",
       "54200   1.17.7.4  \n",
       "54250   1.17.7.4  \n",
       "54300   1.17.7.4  \n",
       "94951   1.17.7.4  \n",
       "95001   1.17.7.4  \n",
       "95051   1.17.7.4  \n",
       "95101   1.17.7.4  \n",
       "118852  1.17.7.4  \n",
       "118902  1.17.7.4  \n",
       "118952  1.17.7.4  \n",
       "119002  1.17.7.4  "
      ]
     },
     "execution_count": 121,
     "metadata": {},
     "output_type": "execute_result"
    }
   ],
   "source": [
    "subset = genesec[genesec['EC number']=='1.17.7.4']\n",
    "subset"
   ]
  },
  {
   "cell_type": "code",
   "execution_count": 142,
   "metadata": {},
   "outputs": [
    {
     "name": "stdout",
     "output_type": "stream",
     "text": [
      "ATGCGTAAAATTATACTCTGTTCGCCTAGAGGCTTCTGTGCGGGAGTTATTCGTGCGATACAGACGGTTGAAGTAGCCCTGGAGAAGTGGGGGAGACCTATTTATGTAAAGCATGAGATTGTACATAATCGGCATGTCGTAGATAAATTACGGGAGAAAGGGGCTATTTTTATTGAAGATTTGCAAGAAGTTCCTCGTAATAGTCGAGTGATTTTTTCCGCACACGGAGTTCCCCCTTCCTTAAGAGAAGAAGCTACGGAAAGAGGATTGATTGCTATTGATGCGACATGTGGACTGGTTACGAAAGTGCATTCTGCAGTCAAAATGTACGCTAAAAAAGGGTATCACATCATCCTTATAGGCAAAAGAAAGCACGTTGAGATTATTGGGATACGCGGAGAAGCCCCCGATCAAATCACTGTGGTAGAAAATATCGCTGAAGTTGAAGCGCTGCCTTTTAGTGCTCAAGATCCTTTGTTTTATGTAACGCAAACGACATTGAGTATGGATGATGCTGCTGATATTGTTGCGGCTTTGAAGGCTCGTTATCCTCAAATCTTTACATTACCCAGTTCTTCTATCTGCTATGCTACACAGAACCGACAGGGAGCTTTACGAAATATCCTTCCTCAGGTCGACTTTGTGTATGTAATAGGGGACAGGCAAAGCTCCAACTCAAATCGTTTGAGAGAAGTGGCAGAGAGACGAGGAGTTACTGCTAGACTTGTCAATCATCCTGATGAAGTCACAGAAGAAATTTTACAATATTCAGGAAATATCGGCATAACCGCTGGGGCTTCTACTCCAGAAGATGTTGTGCAAGCTTGTTTAATGAAATTACAAGAGCTGATTCCTGATTTGTCTATAGAAATGGATCTTTTTGTAGAAGAAGATACAGTATTTCAGTTGCCTAAGGAATT------ATAA\n",
      "|||||||.|.|.||..|..||...||||||||.||.||.||.|||||..||||.||.||.||....||.|||...||..|.||.||.|||||....||||||||||||||.|||||.|||||.||.||.||.|||||.||.|||.|..|...|......|||||.||||||||.||||||.|..|.||.||||||.||.........||.||||.|||.||.|||||..|.||.||.....|..|.||.||.||.|.||...|.....|..|||.|||.||||||||.||||...||||.||.||..|.||||||||.||.||..|.||.||.|..|||||.|||||.||.||..|.||||||||.|..||||||||.||..||||.|||||.||.||.|||||.|||||.....||||.||.||||||||..|.|..||.||||......|.||.||...|..|||.|..|||||.||||.||||||.|||||.||.||||||.|.|||||||.|||.||..|.......|||||||||||.|||||||||||.||..||||.|||||.||||||||..|.||.|||||||||||.||.||.||.|.|||.|||||.....|.||.|||..|||..|.|||||.|||||.||.||.||....|||||.||.|||||.||.||.||..|.||.||.||.||.|.|.||....|..|.||..|.||.||.|||..|||.|||.|..|..|.||.|||||||||||.|||||.||..||||.|.|.||||.||.||.||.||.|||||.||..||.||.|.|||.|||||.|....|..||..||||..|.||.||||||||.....|.|||..||||.|.|||.....|||||||...|||||.||...||||||.||..|      .|||\n",
      "ATGCGTAGAGTGATTTTAAGTAATCCTAGAGGATTTTGCGCTGGAGTCGTTCGGGCTATTCAAGTTGTGGAATCTGCTTTAGAAAAATGGGGAGCTCCTATTTATGTAAAACATGAAATTGTTCACAACCGTCATGTAGTTGATGATCTTAAGAGACGTGGGGCAATTTTTATAGAAGATCTTAAGGATGTTCCTTGTGGAGAAAAGGTTATTTATTCTGCTCACGGTATCCCTCCAGAAGTTCGTGAGGAGGCAAAGGCTCGGAATCTTTTTGATATAGATGCGACCTGTGTCTTGGTAACTAAGATTCATTCTGCGGTTAAGCTTTATGCGAGCAAAGGTTATCAAATTATTTTGATAGGCAAGAAGAAGCACGTGGAAGTTATAGGGATTCGAGGTGAAGCTCCCGAGAGTGTCACCGTAGTAGAAAAAGTAGAAGATGTTGCCAACTTACCCTTCGATATTCATGTGCCTTTATTTTTTGTAACTCAAACCACTTTGAGTTTAGATGATGTTGCCGAGGTGACCCAAGCTTTGAAGGCACGTTATCCTCATATTATTACTTTACCGAGTTCTTCAGTATGTTATGCTACACAAAATCGCCAAGAAGCATTACGTGCAGTGCTGCCTAGGGTGAATTTTGTTTATGTTATTGGAGATGTTCAAAGTTCTAACTCTAACCGGTTACGTGAGGTTGCTGAAAAAAGAAATATCCCCGCACGGCTAGTGAATAGTCCCGATCATATTTCTGATGAAATTTTACATTATTCTGGTGATATTGCCGTAACAGCAGGAGCATCCACTCCTGAGCATATTATTCAATCTTGTATTTCTAGGTTGAAAGAATTAATACCTGATTTACAAGTTGAAGAGGATATATTTACTACAGAAGATGTCGTATTCCAACCGCCTAAAGAGCTTCGTACTTAA\n",
      "  Score=275\n",
      "\n"
     ]
    }
   ],
   "source": [
    "from Bio.pairwise2 import format_alignment\n",
    "alignment = pairwise2.align.globalms(subset['seq'][29150],subset['seq'][29200],1,-1,-10.0,-1.0)\n",
    "print(format_alignment(*alignment[0]))\n"
   ]
  },
  {
   "cell_type": "code",
   "execution_count": 139,
   "metadata": {},
   "outputs": [
    {
     "data": {
      "text/plain": [
       "('ATGCGTAAAATTATACTCTGTTCGCCTAGAGGCTTCTGTGCGGGAGTTATTCGTGCGATACAGACGGTTGAAGTAGCCCTGGAGAAGTGGGGGAGACCTATTTATGTAAAGCATGAGATTGTACATAATCGGCATGTCGTAGATAAATTACGGGAGAAAGGGGCTATTTTTATTGAAGATTTGCAAGAAGTTCCTCGTAATAGTCGAGTGATTTTTTCCGCACACGGAGTTCCCCCTTCCTTAAGAGAAGAAGCTACGGAAAGAGGATTGATTGCTATTGATGCGACATGTGGACTGGTTACGAAAGTGCATTCTGCAGTCAAAATGTACGCTAAAAAAGGGTATCACATCATCCTTATAGGCAAAAGAAAGCACGTTGAGATTATTGGGATACGCGGAGAAGCCCCCGATCAAATCACTGTGGTAGAAAATATCGCTGAAGTTGAAGCGCTGCCTTTTAGTGCTCAAGATCCTTTGTTTTATGTAACGCAAACGACATTGAGTATGGATGATGCTGCTGATATTGTTGCGGCTTTGAAGGCTCGTTATCCTCAAATCTTTACATTACCCAGTTCTTCTATCTGCTATGCTACACAGAACCGACAGGGAGCTTTACGAAATATCCTTCCTCAGGTCGACTTTGTGTATGTAATAGGGGACAGGCAAAGCTCCAACTCAAATCGTTTGAGAGAAGTGGCAGAGAGACGAGGAGTTACTGCTAGACTTGTCAATCATCCTGATGAAGTCACAGAAGAAATTTTACAATATTCAGGAAATATCGGCATAACCGCTGGGGCTTCTACTCCAGAAGATGTTGTGCAAGCTTGTTTAATGAAATTACAAGAGCTGATTCCTGATTTGTCTATAGAAATGGATCTTTTTGTAGAAGAAGATACAGTATTTCAGTTGCCTAAGGAATT------ATAA',\n",
       " 'ATGCGTAGAGTGATTTTAAGTAATCCTAGAGGATTTTGCGCTGGAGTCGTTCGGGCTATTCAAGTTGTGGAATCTGCTTTAGAAAAATGGGGAGCTCCTATTTATGTAAAACATGAAATTGTTCACAACCGTCATGTAGTTGATGATCTTAAGAGACGTGGGGCAATTTTTATAGAAGATCTTAAGGATGTTCCTTGTGGAGAAAAGGTTATTTATTCTGCTCACGGTATCCCTCCAGAAGTTCGTGAGGAGGCAAAGGCTCGGAATCTTTTTGATATAGATGCGACCTGTGTCTTGGTAACTAAGATTCATTCTGCGGTTAAGCTTTATGCGAGCAAAGGTTATCAAATTATTTTGATAGGCAAGAAGAAGCACGTGGAAGTTATAGGGATTCGAGGTGAAGCTCCCGAGAGTGTCACCGTAGTAGAAAAAGTAGAAGATGTTGCCAACTTACCCTTCGATATTCATGTGCCTTTATTTTTTGTAACTCAAACCACTTTGAGTTTAGATGATGTTGCCGAGGTGACCCAAGCTTTGAAGGCACGTTATCCTCATATTATTACTTTACCGAGTTCTTCAGTATGTTATGCTACACAAAATCGCCAAGAAGCATTACGTGCAGTGCTGCCTAGGGTGAATTTTGTTTATGTTATTGGAGATGTTCAAAGTTCTAACTCTAACCGGTTACGTGAGGTTGCTGAAAAAAGAAATATCCCCGCACGGCTAGTGAATAGTCCCGATCATATTTCTGATGAAATTTTACATTATTCTGGTGATATTGCCGTAACAGCAGGAGCATCCACTCCTGAGCATATTATTCAATCTTGTATTTCTAGGTTGAAAGAATTAATACCTGATTTACAAGTTGAAGAGGATATATTTACTACAGAAGATGTCGTATTCCAACCGCCTAAAGAGCTTCGTACTTAA',\n",
       " 275.0,\n",
       " 0,\n",
       " 930)"
      ]
     },
     "execution_count": 139,
     "metadata": {},
     "output_type": "execute_result"
    }
   ],
   "source": [
    "alignment[0]"
   ]
  },
  {
   "cell_type": "code",
   "execution_count": 158,
   "metadata": {},
   "outputs": [
    {
     "data": {
      "text/plain": [
       "array(['A', 'T', 'G', 'C', 'G', 'T', 'A', 'A', 'A', 'A', 'T', 'T', 'A',\n",
       "       'T', 'A', 'C', 'T', 'C', 'T', 'G', 'T', 'T', 'C', 'G', 'C', 'C',\n",
       "       'T', 'A', 'G', 'A', 'G', 'G', 'C', 'T', 'T', 'C', 'T', 'G', 'T',\n",
       "       'G', 'C', 'G', 'G', 'G', 'A', 'G', 'T', 'T', 'A', 'T', 'T', 'C',\n",
       "       'G', 'T', 'G', 'C', 'G', 'A', 'T', 'A', 'C', 'A', 'G', 'A', 'C',\n",
       "       'G', 'G', 'T', 'T', 'G', 'A', 'A', 'G', 'T', 'A', 'G', 'C', 'C',\n",
       "       'C', 'T', 'G', 'G', 'A', 'G', 'A', 'A', 'G', 'T', 'G', 'G', 'G',\n",
       "       'G', 'G', 'A', 'G', 'A', 'C', 'C', 'T', 'A', 'T', 'T', 'T', 'A',\n",
       "       'T', 'G', 'T', 'A', 'A', 'A', 'G', 'C', 'A', 'T', 'G', 'A', 'G',\n",
       "       'A', 'T', 'T', 'G', 'T', 'A', 'C', 'A', 'T', 'A', 'A', 'T', 'C',\n",
       "       'G', 'G', 'C', 'A', 'T', 'G', 'T', 'C', 'G', 'T', 'A', 'G', 'A',\n",
       "       'T', 'A', 'A', 'A', 'T', 'T', 'A', 'C', 'G', 'G', 'G', 'A', 'G',\n",
       "       'A', 'A', 'A', 'G', 'G', 'G', 'G', 'C', 'T', 'A', 'T', 'T', 'T',\n",
       "       'T', 'T', 'A', 'T', 'T', 'G', 'A', 'A', 'G', 'A', 'T', 'T', 'T',\n",
       "       'G', 'C', 'A', 'A', 'G', 'A', 'A', 'G', 'T', 'T', 'C', 'C', 'T',\n",
       "       'C', 'G', 'T', 'A', 'A', 'T', 'A', 'G', 'T', 'C', 'G', 'A', 'G',\n",
       "       'T', 'G', 'A', 'T', 'T', 'T', 'T', 'T', 'T', 'C', 'C', 'G', 'C',\n",
       "       'A', 'C', 'A', 'C', 'G', 'G', 'A', 'G', 'T', 'T', 'C', 'C', 'C',\n",
       "       'C', 'C', 'T', 'T', 'C', 'C', 'T', 'T', 'A', 'A', 'G', 'A', 'G',\n",
       "       'A', 'A', 'G', 'A', 'A', 'G', 'C', 'T', 'A', 'C', 'G', 'G', 'A',\n",
       "       'A', 'A', 'G', 'A', 'G', 'G', 'A', 'T', 'T', 'G', 'A', 'T', 'T',\n",
       "       'G', 'C', 'T', 'A', 'T', 'T', 'G', 'A', 'T', 'G', 'C', 'G', 'A',\n",
       "       'C', 'A', 'T', 'G', 'T', 'G', 'G', 'A', 'C', 'T', 'G', 'G', 'T',\n",
       "       'T', 'A', 'C', 'G', 'A', 'A', 'A', 'G', 'T', 'G', 'C', 'A', 'T',\n",
       "       'T', 'C', 'T', 'G', 'C', 'A', 'G', 'T', 'C', 'A', 'A', 'A', 'A',\n",
       "       'T', 'G', 'T', 'A', 'C', 'G', 'C', 'T', 'A', 'A', 'A', 'A', 'A',\n",
       "       'A', 'G', 'G', 'G', 'T', 'A', 'T', 'C', 'A', 'C', 'A', 'T', 'C',\n",
       "       'A', 'T', 'C', 'C', 'T', 'T', 'A', 'T', 'A', 'G', 'G', 'C', 'A',\n",
       "       'A', 'A', 'A', 'G', 'A', 'A', 'A', 'G', 'C', 'A', 'C', 'G', 'T',\n",
       "       'T', 'G', 'A', 'G', 'A', 'T', 'T', 'A', 'T', 'T', 'G', 'G', 'G',\n",
       "       'A', 'T', 'A', 'C', 'G', 'C', 'G', 'G', 'A', 'G', 'A', 'A', 'G',\n",
       "       'C', 'C', 'C', 'C', 'C', 'G', 'A', 'T', 'C', 'A', 'A', 'A', 'T',\n",
       "       'C', 'A', 'C', 'T', 'G', 'T', 'G', 'G', 'T', 'A', 'G', 'A', 'A',\n",
       "       'A', 'A', 'T', 'A', 'T', 'C', 'G', 'C', 'T', 'G', 'A', 'A', 'G',\n",
       "       'T', 'T', 'G', 'A', 'A', 'G', 'C', 'G', 'C', 'T', 'G', 'C', 'C',\n",
       "       'T', 'T', 'T', 'T', 'A', 'G', 'T', 'G', 'C', 'T', 'C', 'A', 'A',\n",
       "       'G', 'A', 'T', 'C', 'C', 'T', 'T', 'T', 'G', 'T', 'T', 'T', 'T',\n",
       "       'A', 'T', 'G', 'T', 'A', 'A', 'C', 'G', 'C', 'A', 'A', 'A', 'C',\n",
       "       'G', 'A', 'C', 'A', 'T', 'T', 'G', 'A', 'G', 'T', 'A', 'T', 'G',\n",
       "       'G', 'A', 'T', 'G', 'A', 'T', 'G', 'C', 'T', 'G', 'C', 'T', 'G',\n",
       "       'A', 'T', 'A', 'T', 'T', 'G', 'T', 'T', 'G', 'C', 'G', 'G', 'C',\n",
       "       'T', 'T', 'T', 'G', 'A', 'A', 'G', 'G', 'C', 'T', 'C', 'G', 'T',\n",
       "       'T', 'A', 'T', 'C', 'C', 'T', 'C', 'A', 'A', 'A', 'T', 'C', 'T',\n",
       "       'T', 'T', 'A', 'C', 'A', 'T', 'T', 'A', 'C', 'C', 'C', 'A', 'G',\n",
       "       'T', 'T', 'C', 'T', 'T', 'C', 'T', 'A', 'T', 'C', 'T', 'G', 'C',\n",
       "       'T', 'A', 'T', 'G', 'C', 'T', 'A', 'C', 'A', 'C', 'A', 'G', 'A',\n",
       "       'A', 'C', 'C', 'G', 'A', 'C', 'A', 'G', 'G', 'G', 'A', 'G', 'C',\n",
       "       'T', 'T', 'T', 'A', 'C', 'G', 'A', 'A', 'A', 'T', 'A', 'T', 'C',\n",
       "       'C', 'T', 'T', 'C', 'C', 'T', 'C', 'A', 'G', 'G', 'T', 'C', 'G',\n",
       "       'A', 'C', 'T', 'T', 'T', 'G', 'T', 'G', 'T', 'A', 'T', 'G', 'T',\n",
       "       'A', 'A', 'T', 'A', 'G', 'G', 'G', 'G', 'A', 'C', 'A', 'G', 'G',\n",
       "       'C', 'A', 'A', 'A', 'G', 'C', 'T', 'C', 'C', 'A', 'A', 'C', 'T',\n",
       "       'C', 'A', 'A', 'A', 'T', 'C', 'G', 'T', 'T', 'T', 'G', 'A', 'G',\n",
       "       'A', 'G', 'A', 'A', 'G', 'T', 'G', 'G', 'C', 'A', 'G', 'A', 'G',\n",
       "       'A', 'G', 'A', 'C', 'G', 'A', 'G', 'G', 'A', 'G', 'T', 'T', 'A',\n",
       "       'C', 'T', 'G', 'C', 'T', 'A', 'G', 'A', 'C', 'T', 'T', 'G', 'T',\n",
       "       'C', 'A', 'A', 'T', 'C', 'A', 'T', 'C', 'C', 'T', 'G', 'A', 'T',\n",
       "       'G', 'A', 'A', 'G', 'T', 'C', 'A', 'C', 'A', 'G', 'A', 'A', 'G',\n",
       "       'A', 'A', 'A', 'T', 'T', 'T', 'T', 'A', 'C', 'A', 'A', 'T', 'A',\n",
       "       'T', 'T', 'C', 'A', 'G', 'G', 'A', 'A', 'A', 'T', 'A', 'T', 'C',\n",
       "       'G', 'G', 'C', 'A', 'T', 'A', 'A', 'C', 'C', 'G', 'C', 'T', 'G',\n",
       "       'G', 'G', 'G', 'C', 'T', 'T', 'C', 'T', 'A', 'C', 'T', 'C', 'C',\n",
       "       'A', 'G', 'A', 'A', 'G', 'A', 'T', 'G', 'T', 'T', 'G', 'T', 'G',\n",
       "       'C', 'A', 'A', 'G', 'C', 'T', 'T', 'G', 'T', 'T', 'T', 'A', 'A',\n",
       "       'T', 'G', 'A', 'A', 'A', 'T', 'T', 'A', 'C', 'A', 'A', 'G', 'A',\n",
       "       'G', 'C', 'T', 'G', 'A', 'T', 'T', 'C', 'C', 'T', 'G', 'A', 'T',\n",
       "       'T', 'T', 'G', 'T', 'C', 'T', 'A', 'T', 'A', 'G', 'A', 'A', 'A',\n",
       "       'T', 'G', 'G', 'A', 'T', 'C', 'T', 'T', 'T', 'T', 'T', 'G', 'T',\n",
       "       'A', 'G', 'A', 'A', 'G', 'A', 'A', 'G', 'A', 'T', 'A', 'C', 'A',\n",
       "       'G', 'T', 'A', 'T', 'T', 'T', 'C', 'A', 'G', 'T', 'T', 'G', 'C',\n",
       "       'C', 'T', 'A', 'A', 'G', 'G', 'A', 'A', 'T', 'T', '-', '-', '-',\n",
       "       '-', '-', '-', 'A', 'T', 'A', 'A'], dtype='<U1')"
      ]
     },
     "execution_count": 158,
     "metadata": {},
     "output_type": "execute_result"
    }
   ],
   "source": [
    "np.array(list(alignment[0][0]))"
   ]
  },
  {
   "cell_type": "code",
   "execution_count": 160,
   "metadata": {},
   "outputs": [
    {
     "data": {
      "text/plain": [
       "array(['A', 'T', 'G', 'C', 'G', 'T', 'A', 'G', 'A', 'G', 'T', 'G', 'A',\n",
       "       'T', 'T', 'T', 'T', 'A', 'A', 'G', 'T', 'A', 'A', 'T', 'C', 'C',\n",
       "       'T', 'A', 'G', 'A', 'G', 'G', 'A', 'T', 'T', 'T', 'T', 'G', 'C',\n",
       "       'G', 'C', 'T', 'G', 'G', 'A', 'G', 'T', 'C', 'G', 'T', 'T', 'C',\n",
       "       'G', 'G', 'G', 'C', 'T', 'A', 'T', 'T', 'C', 'A', 'A', 'G', 'T',\n",
       "       'T', 'G', 'T', 'G', 'G', 'A', 'A', 'T', 'C', 'T', 'G', 'C', 'T',\n",
       "       'T', 'T', 'A', 'G', 'A', 'A', 'A', 'A', 'A', 'T', 'G', 'G', 'G',\n",
       "       'G', 'A', 'G', 'C', 'T', 'C', 'C', 'T', 'A', 'T', 'T', 'T', 'A',\n",
       "       'T', 'G', 'T', 'A', 'A', 'A', 'A', 'C', 'A', 'T', 'G', 'A', 'A',\n",
       "       'A', 'T', 'T', 'G', 'T', 'T', 'C', 'A', 'C', 'A', 'A', 'C', 'C',\n",
       "       'G', 'T', 'C', 'A', 'T', 'G', 'T', 'A', 'G', 'T', 'T', 'G', 'A',\n",
       "       'T', 'G', 'A', 'T', 'C', 'T', 'T', 'A', 'A', 'G', 'A', 'G', 'A',\n",
       "       'C', 'G', 'T', 'G', 'G', 'G', 'G', 'C', 'A', 'A', 'T', 'T', 'T',\n",
       "       'T', 'T', 'A', 'T', 'A', 'G', 'A', 'A', 'G', 'A', 'T', 'C', 'T',\n",
       "       'T', 'A', 'A', 'G', 'G', 'A', 'T', 'G', 'T', 'T', 'C', 'C', 'T',\n",
       "       'T', 'G', 'T', 'G', 'G', 'A', 'G', 'A', 'A', 'A', 'A', 'G', 'G',\n",
       "       'T', 'T', 'A', 'T', 'T', 'T', 'A', 'T', 'T', 'C', 'T', 'G', 'C',\n",
       "       'T', 'C', 'A', 'C', 'G', 'G', 'T', 'A', 'T', 'C', 'C', 'C', 'T',\n",
       "       'C', 'C', 'A', 'G', 'A', 'A', 'G', 'T', 'T', 'C', 'G', 'T', 'G',\n",
       "       'A', 'G', 'G', 'A', 'G', 'G', 'C', 'A', 'A', 'A', 'G', 'G', 'C',\n",
       "       'T', 'C', 'G', 'G', 'A', 'A', 'T', 'C', 'T', 'T', 'T', 'T', 'T',\n",
       "       'G', 'A', 'T', 'A', 'T', 'A', 'G', 'A', 'T', 'G', 'C', 'G', 'A',\n",
       "       'C', 'C', 'T', 'G', 'T', 'G', 'T', 'C', 'T', 'T', 'G', 'G', 'T',\n",
       "       'A', 'A', 'C', 'T', 'A', 'A', 'G', 'A', 'T', 'T', 'C', 'A', 'T',\n",
       "       'T', 'C', 'T', 'G', 'C', 'G', 'G', 'T', 'T', 'A', 'A', 'G', 'C',\n",
       "       'T', 'T', 'T', 'A', 'T', 'G', 'C', 'G', 'A', 'G', 'C', 'A', 'A',\n",
       "       'A', 'G', 'G', 'T', 'T', 'A', 'T', 'C', 'A', 'A', 'A', 'T', 'T',\n",
       "       'A', 'T', 'T', 'T', 'T', 'G', 'A', 'T', 'A', 'G', 'G', 'C', 'A',\n",
       "       'A', 'G', 'A', 'A', 'G', 'A', 'A', 'G', 'C', 'A', 'C', 'G', 'T',\n",
       "       'G', 'G', 'A', 'A', 'G', 'T', 'T', 'A', 'T', 'A', 'G', 'G', 'G',\n",
       "       'A', 'T', 'T', 'C', 'G', 'A', 'G', 'G', 'T', 'G', 'A', 'A', 'G',\n",
       "       'C', 'T', 'C', 'C', 'C', 'G', 'A', 'G', 'A', 'G', 'T', 'G', 'T',\n",
       "       'C', 'A', 'C', 'C', 'G', 'T', 'A', 'G', 'T', 'A', 'G', 'A', 'A',\n",
       "       'A', 'A', 'A', 'G', 'T', 'A', 'G', 'A', 'A', 'G', 'A', 'T', 'G',\n",
       "       'T', 'T', 'G', 'C', 'C', 'A', 'A', 'C', 'T', 'T', 'A', 'C', 'C',\n",
       "       'C', 'T', 'T', 'C', 'G', 'A', 'T', 'A', 'T', 'T', 'C', 'A', 'T',\n",
       "       'G', 'T', 'G', 'C', 'C', 'T', 'T', 'T', 'A', 'T', 'T', 'T', 'T',\n",
       "       'T', 'T', 'G', 'T', 'A', 'A', 'C', 'T', 'C', 'A', 'A', 'A', 'C',\n",
       "       'C', 'A', 'C', 'T', 'T', 'T', 'G', 'A', 'G', 'T', 'T', 'T', 'A',\n",
       "       'G', 'A', 'T', 'G', 'A', 'T', 'G', 'T', 'T', 'G', 'C', 'C', 'G',\n",
       "       'A', 'G', 'G', 'T', 'G', 'A', 'C', 'C', 'C', 'A', 'A', 'G', 'C',\n",
       "       'T', 'T', 'T', 'G', 'A', 'A', 'G', 'G', 'C', 'A', 'C', 'G', 'T',\n",
       "       'T', 'A', 'T', 'C', 'C', 'T', 'C', 'A', 'T', 'A', 'T', 'T', 'A',\n",
       "       'T', 'T', 'A', 'C', 'T', 'T', 'T', 'A', 'C', 'C', 'G', 'A', 'G',\n",
       "       'T', 'T', 'C', 'T', 'T', 'C', 'A', 'G', 'T', 'A', 'T', 'G', 'T',\n",
       "       'T', 'A', 'T', 'G', 'C', 'T', 'A', 'C', 'A', 'C', 'A', 'A', 'A',\n",
       "       'A', 'T', 'C', 'G', 'C', 'C', 'A', 'A', 'G', 'A', 'A', 'G', 'C',\n",
       "       'A', 'T', 'T', 'A', 'C', 'G', 'T', 'G', 'C', 'A', 'G', 'T', 'G',\n",
       "       'C', 'T', 'G', 'C', 'C', 'T', 'A', 'G', 'G', 'G', 'T', 'G', 'A',\n",
       "       'A', 'T', 'T', 'T', 'T', 'G', 'T', 'T', 'T', 'A', 'T', 'G', 'T',\n",
       "       'T', 'A', 'T', 'T', 'G', 'G', 'A', 'G', 'A', 'T', 'G', 'T', 'T',\n",
       "       'C', 'A', 'A', 'A', 'G', 'T', 'T', 'C', 'T', 'A', 'A', 'C', 'T',\n",
       "       'C', 'T', 'A', 'A', 'C', 'C', 'G', 'G', 'T', 'T', 'A', 'C', 'G',\n",
       "       'T', 'G', 'A', 'G', 'G', 'T', 'T', 'G', 'C', 'T', 'G', 'A', 'A',\n",
       "       'A', 'A', 'A', 'A', 'G', 'A', 'A', 'A', 'T', 'A', 'T', 'C', 'C',\n",
       "       'C', 'C', 'G', 'C', 'A', 'C', 'G', 'G', 'C', 'T', 'A', 'G', 'T',\n",
       "       'G', 'A', 'A', 'T', 'A', 'G', 'T', 'C', 'C', 'C', 'G', 'A', 'T',\n",
       "       'C', 'A', 'T', 'A', 'T', 'T', 'T', 'C', 'T', 'G', 'A', 'T', 'G',\n",
       "       'A', 'A', 'A', 'T', 'T', 'T', 'T', 'A', 'C', 'A', 'T', 'T', 'A',\n",
       "       'T', 'T', 'C', 'T', 'G', 'G', 'T', 'G', 'A', 'T', 'A', 'T', 'T',\n",
       "       'G', 'C', 'C', 'G', 'T', 'A', 'A', 'C', 'A', 'G', 'C', 'A', 'G',\n",
       "       'G', 'A', 'G', 'C', 'A', 'T', 'C', 'C', 'A', 'C', 'T', 'C', 'C',\n",
       "       'T', 'G', 'A', 'G', 'C', 'A', 'T', 'A', 'T', 'T', 'A', 'T', 'T',\n",
       "       'C', 'A', 'A', 'T', 'C', 'T', 'T', 'G', 'T', 'A', 'T', 'T', 'T',\n",
       "       'C', 'T', 'A', 'G', 'G', 'T', 'T', 'G', 'A', 'A', 'A', 'G', 'A',\n",
       "       'A', 'T', 'T', 'A', 'A', 'T', 'A', 'C', 'C', 'T', 'G', 'A', 'T',\n",
       "       'T', 'T', 'A', 'C', 'A', 'A', 'G', 'T', 'T', 'G', 'A', 'A', 'G',\n",
       "       'A', 'G', 'G', 'A', 'T', 'A', 'T', 'A', 'T', 'T', 'T', 'A', 'C',\n",
       "       'T', 'A', 'C', 'A', 'G', 'A', 'A', 'G', 'A', 'T', 'G', 'T', 'C',\n",
       "       'G', 'T', 'A', 'T', 'T', 'C', 'C', 'A', 'A', 'C', 'C', 'G', 'C',\n",
       "       'C', 'T', 'A', 'A', 'A', 'G', 'A', 'G', 'C', 'T', 'T', 'C', 'G',\n",
       "       'T', 'A', 'C', 'T', 'T', 'A', 'A'], dtype='<U1')"
      ]
     },
     "execution_count": 160,
     "metadata": {},
     "output_type": "execute_result"
    }
   ],
   "source": [
    "np.array(list(alignment[0][1]))"
   ]
  },
  {
   "cell_type": "code",
   "execution_count": 163,
   "metadata": {},
   "outputs": [
    {
     "data": {
      "text/plain": [
       "607"
      ]
     },
     "execution_count": 163,
     "metadata": {},
     "output_type": "execute_result"
    }
   ],
   "source": [
    "np.sum(np.array(list(alignment[0][0]))==np.array(list(alignment[0][1])))"
   ]
  },
  {
   "cell_type": "code",
   "execution_count": 165,
   "metadata": {},
   "outputs": [
    {
     "data": {
      "text/plain": [
       "930"
      ]
     },
     "execution_count": 165,
     "metadata": {},
     "output_type": "execute_result"
    }
   ],
   "source": [
    "alignment[0][4]"
   ]
  },
  {
   "cell_type": "code",
   "execution_count": 166,
   "metadata": {},
   "outputs": [
    {
     "data": {
      "text/plain": [
       "[('ATGCGTAAAATTATACTCTGTTCGCCTAGAGGCTTCTGTGCGGGAGTTATTCGTGCGATACAGACGGTTGAAGTAGCCCTGGAGAAGTGGGGGAGACCTATTTATGTAAAGCATGAGATTGTACATAATCGGCATGTCGTAGATAAATTACGGGAGAAAGGGGCTATTTTTATTGAAGATTTGCAAGAAGTTCCTCGTAATAGTCGAGTGATTTTTTCCGCACACGGAGTTCCCCCTTCCTTAAGAGAAGAAGCTACGGAAAGAGGATTGATTGCTATTGATGCGACATGTGGACTGGTTACGAAAGTGCATTCTGCAGTCAAAATGTACGCTAAAAAAGGGTATCACATCATCCTTATAGGCAAAAGAAAGCACGTTGAGATTATTGGGATACGCGGAGAAGCCCCCGATCAAATCACTGTGGTAGAAAATATCGCTGAAGTTGAAGCGCTGCCTTTTAGTGCTCAAGATCCTTTGTTTTATGTAACGCAAACGACATTGAGTATGGATGATGCTGCTGATATTGTTGCGGCTTTGAAGGCTCGTTATCCTCAAATCTTTACATTACCCAGTTCTTCTATCTGCTATGCTACACAGAACCGACAGGGAGCTTTACGAAATATCCTTCCTCAGGTCGACTTTGTGTATGTAATAGGGGACAGGCAAAGCTCCAACTCAAATCGTTTGAGAGAAGTGGCAGAGAGACGAGGAGTTACTGCTAGACTTGTCAATCATCCTGATGAAGTCACAGAAGAAATTTTACAATATTCAGGAAATATCGGCATAACCGCTGGGGCTTCTACTCCAGAAGATGTTGTGCAAGCTTGTTTAATGAAATTACAAGAGCTGATTCCTGATTTGTCTATAGAAATGGATCTTTTTGTAGAAGAAGATACAGTATTTCAGTTGCCTAAGGAATT------ATAA',\n",
       "  'ATGCGTAGAGTGATTTTAAGTAATCCTAGAGGATTTTGCGCTGGAGTCGTTCGGGCTATTCAAGTTGTGGAATCTGCTTTAGAAAAATGGGGAGCTCCTATTTATGTAAAACATGAAATTGTTCACAACCGTCATGTAGTTGATGATCTTAAGAGACGTGGGGCAATTTTTATAGAAGATCTTAAGGATGTTCCTTGTGGAGAAAAGGTTATTTATTCTGCTCACGGTATCCCTCCAGAAGTTCGTGAGGAGGCAAAGGCTCGGAATCTTTTTGATATAGATGCGACCTGTGTCTTGGTAACTAAGATTCATTCTGCGGTTAAGCTTTATGCGAGCAAAGGTTATCAAATTATTTTGATAGGCAAGAAGAAGCACGTGGAAGTTATAGGGATTCGAGGTGAAGCTCCCGAGAGTGTCACCGTAGTAGAAAAAGTAGAAGATGTTGCCAACTTACCCTTCGATATTCATGTGCCTTTATTTTTTGTAACTCAAACCACTTTGAGTTTAGATGATGTTGCCGAGGTGACCCAAGCTTTGAAGGCACGTTATCCTCATATTATTACTTTACCGAGTTCTTCAGTATGTTATGCTACACAAAATCGCCAAGAAGCATTACGTGCAGTGCTGCCTAGGGTGAATTTTGTTTATGTTATTGGAGATGTTCAAAGTTCTAACTCTAACCGGTTACGTGAGGTTGCTGAAAAAAGAAATATCCCCGCACGGCTAGTGAATAGTCCCGATCATATTTCTGATGAAATTTTACATTATTCTGGTGATATTGCCGTAACAGCAGGAGCATCCACTCCTGAGCATATTATTCAATCTTGTATTTCTAGGTTGAAAGAATTAATACCTGATTTACAAGTTGAAGAGGATATATTTACTACAGAAGATGTCGTATTCCAACCGCCTAAAGAGCTTCGTACTTAA',\n",
       "  275.0,\n",
       "  0,\n",
       "  930),\n",
       " ('ATGCGTAAAATTATACTCTGTTCGCCTAGAGGCTTCTGTGCGGGAGTTATTCGTGCGATACAGACGGTTGAAGTAGCCCTGGAGAAGTGGGGGAGACCTATTTATGTAAAGCATGAGATTGTACATAATCGGCATGTCGTAGATAAATTACGGGAGAAAGGGGCTATTTTTATTGAAGATTTGCAAGAAGTTCCTCGTAATAGTCGAGTGATTTTTTCCGCACACGGAGTTCCCCCTTCCTTAAGAGAAGAAGCTACGGAAAGAGGATTGATTGCTATTGATGCGACATGTGGACTGGTTACGAAAGTGCATTCTGCAGTCAAAATGTACGCTAAAAAAGGGTATCACATCATCCTTATAGGCAAAAGAAAGCACGTTGAGATTATTGGGATACGCGGAGAAGCCCCCGATCAAATCACTGTGGTAGAAAATATCGCTGAAGTTGAAGCGCTGCCTTTTAGTGCTCAAGATCCTTTGTTTTATGTAACGCAAACGACATTGAGTATGGATGATGCTGCTGATATTGTTGCGGCTTTGAAGGCTCGTTATCCTCAAATCTTTACATTACCCAGTTCTTCTATCTGCTATGCTACACAGAACCGACAGGGAGCTTTACGAAATATCCTTCCTCAGGTCGACTTTGTGTATGTAATAGGGGACAGGCAAAGCTCCAACTCAAATCGTTTGAGAGAAGTGGCAGAGAGACGAGGAGTTACTGCTAGACTTGTCAATCATCCTGATGAAGTCACAGAAGAAATTTTACAATATTCAGGAAATATCGGCATAACCGCTGGGGCTTCTACTCCAGAAGATGTTGTGCAAGCTTGTTTAATGAAATTACAAGAGCTGATTCCTGATTTGTCTATAGAAATGGATCTTTTTGTAGAAGAAGATACAGTATTTCAGTTGCCTAAGGAATTA------TAA',\n",
       "  'ATGCGTAGAGTGATTTTAAGTAATCCTAGAGGATTTTGCGCTGGAGTCGTTCGGGCTATTCAAGTTGTGGAATCTGCTTTAGAAAAATGGGGAGCTCCTATTTATGTAAAACATGAAATTGTTCACAACCGTCATGTAGTTGATGATCTTAAGAGACGTGGGGCAATTTTTATAGAAGATCTTAAGGATGTTCCTTGTGGAGAAAAGGTTATTTATTCTGCTCACGGTATCCCTCCAGAAGTTCGTGAGGAGGCAAAGGCTCGGAATCTTTTTGATATAGATGCGACCTGTGTCTTGGTAACTAAGATTCATTCTGCGGTTAAGCTTTATGCGAGCAAAGGTTATCAAATTATTTTGATAGGCAAGAAGAAGCACGTGGAAGTTATAGGGATTCGAGGTGAAGCTCCCGAGAGTGTCACCGTAGTAGAAAAAGTAGAAGATGTTGCCAACTTACCCTTCGATATTCATGTGCCTTTATTTTTTGTAACTCAAACCACTTTGAGTTTAGATGATGTTGCCGAGGTGACCCAAGCTTTGAAGGCACGTTATCCTCATATTATTACTTTACCGAGTTCTTCAGTATGTTATGCTACACAAAATCGCCAAGAAGCATTACGTGCAGTGCTGCCTAGGGTGAATTTTGTTTATGTTATTGGAGATGTTCAAAGTTCTAACTCTAACCGGTTACGTGAGGTTGCTGAAAAAAGAAATATCCCCGCACGGCTAGTGAATAGTCCCGATCATATTTCTGATGAAATTTTACATTATTCTGGTGATATTGCCGTAACAGCAGGAGCATCCACTCCTGAGCATATTATTCAATCTTGTATTTCTAGGTTGAAAGAATTAATACCTGATTTACAAGTTGAAGAGGATATATTTACTACAGAAGATGTCGTATTCCAACCGCCTAAAGAGCTTCGTACTTAA',\n",
       "  275.0,\n",
       "  0,\n",
       "  930)]"
      ]
     },
     "execution_count": 166,
     "metadata": {},
     "output_type": "execute_result"
    }
   ],
   "source": [
    "alignment"
   ]
  },
  {
   "cell_type": "code",
   "execution_count": 176,
   "metadata": {},
   "outputs": [
    {
     "data": {
      "text/html": [
       "<div>\n",
       "<style scoped>\n",
       "    .dataframe tbody tr th:only-of-type {\n",
       "        vertical-align: middle;\n",
       "    }\n",
       "\n",
       "    .dataframe tbody tr th {\n",
       "        vertical-align: top;\n",
       "    }\n",
       "\n",
       "    .dataframe thead th {\n",
       "        text-align: right;\n",
       "    }\n",
       "</style>\n",
       "<table border=\"1\" class=\"dataframe\">\n",
       "  <thead>\n",
       "    <tr style=\"text-align: right;\">\n",
       "      <th></th>\n",
       "      <th>EC number</th>\n",
       "      <th>accuracy</th>\n",
       "      <th>bit_score</th>\n",
       "      <th>num_matches</th>\n",
       "      <th>alignment_length</th>\n",
       "      <th>percent_identity</th>\n",
       "    </tr>\n",
       "  </thead>\n",
       "  <tbody>\n",
       "    <tr>\n",
       "      <th>0</th>\n",
       "      <td>1.1.1.22</td>\n",
       "      <td>0.660000</td>\n",
       "      <td>926.200000</td>\n",
       "      <td>1127.600000</td>\n",
       "      <td>1321.800000</td>\n",
       "      <td>0.853039</td>\n",
       "    </tr>\n",
       "    <tr>\n",
       "      <th>1</th>\n",
       "      <td>NaN</td>\n",
       "      <td>NaN</td>\n",
       "      <td>NaN</td>\n",
       "      <td>NaN</td>\n",
       "      <td>NaN</td>\n",
       "      <td>NaN</td>\n",
       "    </tr>\n",
       "    <tr>\n",
       "      <th>2</th>\n",
       "      <td>1.5.1.5; 3.5.4.9</td>\n",
       "      <td>0.946847</td>\n",
       "      <td>41.888445</td>\n",
       "      <td>475.254902</td>\n",
       "      <td>875.280411</td>\n",
       "      <td>0.544048</td>\n",
       "    </tr>\n",
       "    <tr>\n",
       "      <th>3</th>\n",
       "      <td>1.5.99.13</td>\n",
       "      <td>0.520000</td>\n",
       "      <td>NaN</td>\n",
       "      <td>NaN</td>\n",
       "      <td>NaN</td>\n",
       "      <td>NaN</td>\n",
       "    </tr>\n",
       "    <tr>\n",
       "      <th>4</th>\n",
       "      <td>1.2.7.1</td>\n",
       "      <td>0.590000</td>\n",
       "      <td>762.000000</td>\n",
       "      <td>957.000000</td>\n",
       "      <td>1152.000000</td>\n",
       "      <td>0.830729</td>\n",
       "    </tr>\n",
       "  </tbody>\n",
       "</table>\n",
       "</div>"
      ],
      "text/plain": [
       "          EC number  accuracy   bit_score  num_matches  alignment_length  \\\n",
       "0          1.1.1.22  0.660000  926.200000  1127.600000       1321.800000   \n",
       "1               NaN       NaN         NaN          NaN               NaN   \n",
       "2  1.5.1.5; 3.5.4.9  0.946847   41.888445   475.254902        875.280411   \n",
       "3         1.5.99.13  0.520000         NaN          NaN               NaN   \n",
       "4           1.2.7.1  0.590000  762.000000   957.000000       1152.000000   \n",
       "\n",
       "   percent_identity  \n",
       "0          0.853039  \n",
       "1               NaN  \n",
       "2          0.544048  \n",
       "3               NaN  \n",
       "4          0.830729  "
      ]
     },
     "execution_count": 176,
     "metadata": {},
     "output_type": "execute_result"
    }
   ],
   "source": [
    "seqsim = pd.read_csv('seqsim_ecs_genes.csv')\n",
    "seqsim.head()"
   ]
  },
  {
   "cell_type": "code",
   "execution_count": 214,
   "metadata": {},
   "outputs": [
    {
     "name": "stdout",
     "output_type": "stream",
     "text": [
      "0.6293114254712526\n",
      "0.5944480639432547\n",
      "0.16787678767876787\n",
      "1.0\n"
     ]
    }
   ],
   "source": [
    "print(seqsim['percent_identity'].mean())\n",
    "print(seqsim['percent_identity'].median())\n",
    "print(seqsim['percent_identity'].min())\n",
    "print(seqsim['percent_identity'].max())"
   ]
  },
  {
   "cell_type": "code",
   "execution_count": 187,
   "metadata": {},
   "outputs": [
    {
     "name": "stdout",
     "output_type": "stream",
     "text": [
      "0.6345988864224195\n",
      "0.64\n"
     ]
    }
   ],
   "source": [
    "print(seqsim['accuracy'].mean())\n",
    "print(seqsim['accuracy'].median())"
   ]
  },
  {
   "cell_type": "code",
   "execution_count": 208,
   "metadata": {},
   "outputs": [
    {
     "data": {
      "image/png": "[encoded data removed]",
      "text/plain": [
       "<Figure size 360x360 with 1 Axes>"
      ]
     },
     "metadata": {
      "needs_background": "light"
     },
     "output_type": "display_data"
    }
   ],
   "source": [
    "sns.lmplot(x='percent_identity',y='accuracy',data=seqsim)\n",
    "plt.xlim(0.1,1.1)\n",
    "plt.savefig('ec1_corr_percentidvsacc.png',dpi=200)"
   ]
  },
  {
   "cell_type": "code",
   "execution_count": 209,
   "metadata": {},
   "outputs": [
    {
     "data": {
      "image/png": "[encoded data removed]",
      "text/plain": [
       "<Figure size 1152x288 with 1 Axes>"
      ]
     },
     "metadata": {
      "needs_background": "light"
     },
     "output_type": "display_data"
    }
   ],
   "source": [
    "plt.figure(figsize=(16,4))\n",
    "sns.distplot(seqsim[\"percent_identity\"].dropna())\n",
    "plt.xlim(0.1, 1.1)\n",
    "plt.savefig('ec1_percentid_hist.png', dpi=200)"
   ]
  },
  {
   "cell_type": "code",
   "execution_count": 213,
   "metadata": {},
   "outputs": [
    {
     "data": {
      "image/png": "[encoded data removed]",
      "text/plain": [
       "<Figure size 1152x288 with 1 Axes>"
      ]
     },
     "metadata": {
      "needs_background": "light"
     },
     "output_type": "display_data"
    }
   ],
   "source": [
    "plt.figure(figsize=(16,4))\n",
    "sns.distplot(seqsim[\"accuracy\"].dropna())\n",
    "plt.xlim(0.1,1.03)\n",
    "plt.savefig('ec1_accuracy_hist.png')"
   ]
  },
  {
   "cell_type": "code",
   "execution_count": 190,
   "metadata": {},
   "outputs": [
    {
     "name": "stdout",
     "output_type": "stream",
     "text": [
      "(0.003878835963395456, 0.9626820776317436)\n"
     ]
    }
   ],
   "source": [
    "from scipy.stats import pearsonr\n",
    "#first number is r2, second is p-value\n",
    "print(pearsonr(seqsim.dropna()['accuracy'], seqsim.dropna()['percent_identity']))"
   ]
  },
  {
   "cell_type": "markdown",
   "metadata": {},
   "source": [
    "# percent annotated by mifaser"
   ]
  },
  {
   "cell_type": "code",
   "execution_count": 280,
   "metadata": {},
   "outputs": [],
   "source": [
    "from pathlib import Path\n",
    "folders = [f for f in Path('/Users/adrienne/Projects/LanguageofLife/TransferLearningTasks/EC1/Interpretation/mifaser_results/').iterdir()]\n"
   ]
  },
  {
   "cell_type": "code",
   "execution_count": 242,
   "metadata": {},
   "outputs": [
    {
     "data": {
      "text/plain": [
       "'ERR598963'"
      ]
     },
     "execution_count": 242,
     "metadata": {},
     "output_type": "execute_result"
    }
   ],
   "source": [
    "folders[0].stem.split('_')[0]"
   ]
  },
  {
   "cell_type": "code",
   "execution_count": 281,
   "metadata": {},
   "outputs": [
    {
     "data": {
      "text/html": [
       "<div>\n",
       "<style scoped>\n",
       "    .dataframe tbody tr th:only-of-type {\n",
       "        vertical-align: middle;\n",
       "    }\n",
       "\n",
       "    .dataframe tbody tr th {\n",
       "        vertical-align: top;\n",
       "    }\n",
       "\n",
       "    .dataframe thead th {\n",
       "        text-align: right;\n",
       "    }\n",
       "</style>\n",
       "<table border=\"1\" class=\"dataframe\">\n",
       "  <thead>\n",
       "    <tr style=\"text-align: right;\">\n",
       "      <th></th>\n",
       "      <th>ec</th>\n",
       "      <th>count</th>\n",
       "    </tr>\n",
       "  </thead>\n",
       "  <tbody>\n",
       "    <tr>\n",
       "      <th>0</th>\n",
       "      <td>571188</td>\n",
       "      <td>15415</td>\n",
       "    </tr>\n",
       "    <tr>\n",
       "      <th>1</th>\n",
       "      <td>1.1.1.1</td>\n",
       "      <td>32</td>\n",
       "    </tr>\n",
       "    <tr>\n",
       "      <th>2</th>\n",
       "      <td>1.1.1.2</td>\n",
       "      <td>82</td>\n",
       "    </tr>\n",
       "    <tr>\n",
       "      <th>3</th>\n",
       "      <td>1.1.1.6</td>\n",
       "      <td>2</td>\n",
       "    </tr>\n",
       "    <tr>\n",
       "      <th>4</th>\n",
       "      <td>1.1.1.18</td>\n",
       "      <td>324</td>\n",
       "    </tr>\n",
       "  </tbody>\n",
       "</table>\n",
       "</div>"
      ],
      "text/plain": [
       "         ec  count\n",
       "0    571188  15415\n",
       "1   1.1.1.1     32\n",
       "2   1.1.1.2     82\n",
       "3   1.1.1.6      2\n",
       "4  1.1.1.18    324"
      ]
     },
     "execution_count": 281,
     "metadata": {},
     "output_type": "execute_result"
    }
   ],
   "source": [
    "root = '/Users/adrienne/Projects/LanguageofLife/TransferLearningTasks/EC1/Interpretation/mifaser_results/'\n",
    "analysis = pd.read_csv(root+'ERR3589586_cut20M/analysis.tsv',sep='\\t',names=['ec','count'])\n",
    "analysis.head()"
   ]
  },
  {
   "cell_type": "code",
   "execution_count": 282,
   "metadata": {},
   "outputs": [],
   "source": [
    "ec1s = [x.split('.')[0] for x in analysis['ec']]\n",
    "analysis['ec_1'] = ec1s"
   ]
  },
  {
   "cell_type": "code",
   "execution_count": 283,
   "metadata": {},
   "outputs": [
    {
     "data": {
      "text/html": [
       "<div>\n",
       "<style scoped>\n",
       "    .dataframe tbody tr th:only-of-type {\n",
       "        vertical-align: middle;\n",
       "    }\n",
       "\n",
       "    .dataframe tbody tr th {\n",
       "        vertical-align: top;\n",
       "    }\n",
       "\n",
       "    .dataframe thead th {\n",
       "        text-align: right;\n",
       "    }\n",
       "</style>\n",
       "<table border=\"1\" class=\"dataframe\">\n",
       "  <thead>\n",
       "    <tr style=\"text-align: right;\">\n",
       "      <th></th>\n",
       "      <th>ec</th>\n",
       "      <th>count</th>\n",
       "      <th>ec_1</th>\n",
       "    </tr>\n",
       "  </thead>\n",
       "  <tbody>\n",
       "    <tr>\n",
       "      <th>0</th>\n",
       "      <td>571188</td>\n",
       "      <td>15415</td>\n",
       "      <td>571188</td>\n",
       "    </tr>\n",
       "    <tr>\n",
       "      <th>1</th>\n",
       "      <td>1.1.1.1</td>\n",
       "      <td>32</td>\n",
       "      <td>1</td>\n",
       "    </tr>\n",
       "    <tr>\n",
       "      <th>2</th>\n",
       "      <td>1.1.1.2</td>\n",
       "      <td>82</td>\n",
       "      <td>1</td>\n",
       "    </tr>\n",
       "    <tr>\n",
       "      <th>3</th>\n",
       "      <td>1.1.1.6</td>\n",
       "      <td>2</td>\n",
       "      <td>1</td>\n",
       "    </tr>\n",
       "    <tr>\n",
       "      <th>4</th>\n",
       "      <td>1.1.1.18</td>\n",
       "      <td>324</td>\n",
       "      <td>1</td>\n",
       "    </tr>\n",
       "  </tbody>\n",
       "</table>\n",
       "</div>"
      ],
      "text/plain": [
       "         ec  count    ec_1\n",
       "0    571188  15415  571188\n",
       "1   1.1.1.1     32       1\n",
       "2   1.1.1.2     82       1\n",
       "3   1.1.1.6      2       1\n",
       "4  1.1.1.18    324       1"
      ]
     },
     "execution_count": 283,
     "metadata": {},
     "output_type": "execute_result"
    }
   ],
   "source": [
    "analysis.head()"
   ]
  },
  {
   "cell_type": "code",
   "execution_count": 284,
   "metadata": {},
   "outputs": [
    {
     "data": {
      "text/plain": [
       "571188"
      ]
     },
     "execution_count": 284,
     "metadata": {},
     "output_type": "execute_result"
    }
   ],
   "source": [
    "num_annotated = analysis['count'].sum()\n",
    "num_annotated"
   ]
  },
  {
   "cell_type": "code",
   "execution_count": 285,
   "metadata": {},
   "outputs": [
    {
     "data": {
      "text/html": [
       "<div>\n",
       "<style scoped>\n",
       "    .dataframe tbody tr th:only-of-type {\n",
       "        vertical-align: middle;\n",
       "    }\n",
       "\n",
       "    .dataframe tbody tr th {\n",
       "        vertical-align: top;\n",
       "    }\n",
       "\n",
       "    .dataframe thead th {\n",
       "        text-align: right;\n",
       "    }\n",
       "</style>\n",
       "<table border=\"1\" class=\"dataframe\">\n",
       "  <thead>\n",
       "    <tr style=\"text-align: right;\">\n",
       "      <th></th>\n",
       "      <th>ec</th>\n",
       "      <th>count</th>\n",
       "      <th>ec_1</th>\n",
       "    </tr>\n",
       "  </thead>\n",
       "  <tbody>\n",
       "    <tr>\n",
       "      <th>1</th>\n",
       "      <td>1.1.1.1</td>\n",
       "      <td>32</td>\n",
       "      <td>1</td>\n",
       "    </tr>\n",
       "    <tr>\n",
       "      <th>2</th>\n",
       "      <td>1.1.1.2</td>\n",
       "      <td>82</td>\n",
       "      <td>1</td>\n",
       "    </tr>\n",
       "    <tr>\n",
       "      <th>3</th>\n",
       "      <td>1.1.1.6</td>\n",
       "      <td>2</td>\n",
       "      <td>1</td>\n",
       "    </tr>\n",
       "    <tr>\n",
       "      <th>4</th>\n",
       "      <td>1.1.1.18</td>\n",
       "      <td>324</td>\n",
       "      <td>1</td>\n",
       "    </tr>\n",
       "    <tr>\n",
       "      <th>5</th>\n",
       "      <td>1.1.1.22</td>\n",
       "      <td>292</td>\n",
       "      <td>1</td>\n",
       "    </tr>\n",
       "  </tbody>\n",
       "</table>\n",
       "</div>"
      ],
      "text/plain": [
       "         ec  count ec_1\n",
       "1   1.1.1.1     32    1\n",
       "2   1.1.1.2     82    1\n",
       "3   1.1.1.6      2    1\n",
       "4  1.1.1.18    324    1\n",
       "5  1.1.1.22    292    1"
      ]
     },
     "execution_count": 285,
     "metadata": {},
     "output_type": "execute_result"
    }
   ],
   "source": [
    "oxidos = analysis[analysis['ec_1']=='1']\n",
    "oxidos.head()"
   ]
  },
  {
   "cell_type": "code",
   "execution_count": 286,
   "metadata": {},
   "outputs": [
    {
     "data": {
      "text/plain": [
       "118289"
      ]
     },
     "execution_count": 286,
     "metadata": {},
     "output_type": "execute_result"
    }
   ],
   "source": [
    "num_oxidos = oxidos['count'].sum()\n",
    "num_oxidos"
   ]
  },
  {
   "cell_type": "code",
   "execution_count": 287,
   "metadata": {},
   "outputs": [],
   "source": [
    "def get_stats(folder):\n",
    "    srr = folder.stem.split('_')[0]\n",
    "    print(srr)\n",
    "    analysis = pd.read_csv(str(folder)+'/analysis.tsv',sep='\\t',names=['ec','count'])\n",
    "    ec1s = [x.split('.')[0] for x in analysis['ec']]\n",
    "    analysis['ec_1'] = ec1s\n",
    "    oxidos = analysis[analysis['ec_1']=='1']\n",
    "    \n",
    "    num_annotated = analysis['count'].sum()\n",
    "    num_oxidos = oxidos['count'].sum()\n",
    "    row = [srr,num_annotated/20000000,num_oxidos/20000000]\n",
    "    \n",
    "    return row"
   ]
  },
  {
   "cell_type": "code",
   "execution_count": 288,
   "metadata": {},
   "outputs": [
    {
     "name": "stdout",
     "output_type": "stream",
     "text": [
      "ERR598963\n",
      "ERR3589586\n",
      "ERR599105\n",
      "ERR599052\n",
      "ERR599176\n",
      "ERR599076\n",
      "ERR599115\n",
      "ERR599048\n",
      "ERR599039\n",
      "ERR599125\n",
      "ERR599020\n",
      "ERR598981\n",
      "ERR598964\n",
      "ERR3589593\n",
      "ERR598989\n",
      "ERR599063\n"
     ]
    }
   ],
   "source": [
    "rows = []\n",
    "for folder in folders:\n",
    "    if not folder.stem.startswith('.'):\n",
    "        row = get_stats(folder)\n",
    "        rows.append(row)\n",
    "    \n",
    "stats = pd.DataFrame(rows,columns=['SRR','percent_annotated','percent_oxidos'])"
   ]
  },
  {
   "cell_type": "code",
   "execution_count": 289,
   "metadata": {},
   "outputs": [
    {
     "data": {
      "text/html": [
       "<div>\n",
       "<style scoped>\n",
       "    .dataframe tbody tr th:only-of-type {\n",
       "        vertical-align: middle;\n",
       "    }\n",
       "\n",
       "    .dataframe tbody tr th {\n",
       "        vertical-align: top;\n",
       "    }\n",
       "\n",
       "    .dataframe thead th {\n",
       "        text-align: right;\n",
       "    }\n",
       "</style>\n",
       "<table border=\"1\" class=\"dataframe\">\n",
       "  <thead>\n",
       "    <tr style=\"text-align: right;\">\n",
       "      <th></th>\n",
       "      <th>SRR</th>\n",
       "      <th>percent_annotated</th>\n",
       "      <th>percent_oxidos</th>\n",
       "    </tr>\n",
       "  </thead>\n",
       "  <tbody>\n",
       "    <tr>\n",
       "      <th>0</th>\n",
       "      <td>ERR598963</td>\n",
       "      <td>0.018274</td>\n",
       "      <td>0.003392</td>\n",
       "    </tr>\n",
       "    <tr>\n",
       "      <th>1</th>\n",
       "      <td>ERR3589586</td>\n",
       "      <td>0.028559</td>\n",
       "      <td>0.005914</td>\n",
       "    </tr>\n",
       "    <tr>\n",
       "      <th>2</th>\n",
       "      <td>ERR599105</td>\n",
       "      <td>0.016069</td>\n",
       "      <td>0.003836</td>\n",
       "    </tr>\n",
       "    <tr>\n",
       "      <th>3</th>\n",
       "      <td>ERR599052</td>\n",
       "      <td>0.012741</td>\n",
       "      <td>0.002548</td>\n",
       "    </tr>\n",
       "    <tr>\n",
       "      <th>4</th>\n",
       "      <td>ERR599176</td>\n",
       "      <td>0.027172</td>\n",
       "      <td>0.004703</td>\n",
       "    </tr>\n",
       "    <tr>\n",
       "      <th>5</th>\n",
       "      <td>ERR599076</td>\n",
       "      <td>0.018800</td>\n",
       "      <td>0.002942</td>\n",
       "    </tr>\n",
       "    <tr>\n",
       "      <th>6</th>\n",
       "      <td>ERR599115</td>\n",
       "      <td>0.010099</td>\n",
       "      <td>0.001629</td>\n",
       "    </tr>\n",
       "    <tr>\n",
       "      <th>7</th>\n",
       "      <td>ERR599048</td>\n",
       "      <td>0.018757</td>\n",
       "      <td>0.003852</td>\n",
       "    </tr>\n",
       "    <tr>\n",
       "      <th>8</th>\n",
       "      <td>ERR599039</td>\n",
       "      <td>0.023412</td>\n",
       "      <td>0.004649</td>\n",
       "    </tr>\n",
       "    <tr>\n",
       "      <th>9</th>\n",
       "      <td>ERR599125</td>\n",
       "      <td>0.015060</td>\n",
       "      <td>0.002454</td>\n",
       "    </tr>\n",
       "    <tr>\n",
       "      <th>10</th>\n",
       "      <td>ERR599020</td>\n",
       "      <td>0.019407</td>\n",
       "      <td>0.003346</td>\n",
       "    </tr>\n",
       "    <tr>\n",
       "      <th>11</th>\n",
       "      <td>ERR598981</td>\n",
       "      <td>0.021667</td>\n",
       "      <td>0.003408</td>\n",
       "    </tr>\n",
       "    <tr>\n",
       "      <th>12</th>\n",
       "      <td>ERR598964</td>\n",
       "      <td>0.017322</td>\n",
       "      <td>0.002829</td>\n",
       "    </tr>\n",
       "    <tr>\n",
       "      <th>13</th>\n",
       "      <td>ERR3589593</td>\n",
       "      <td>0.018158</td>\n",
       "      <td>0.002944</td>\n",
       "    </tr>\n",
       "    <tr>\n",
       "      <th>14</th>\n",
       "      <td>ERR598989</td>\n",
       "      <td>0.024079</td>\n",
       "      <td>0.004829</td>\n",
       "    </tr>\n",
       "    <tr>\n",
       "      <th>15</th>\n",
       "      <td>ERR599063</td>\n",
       "      <td>0.001707</td>\n",
       "      <td>0.000353</td>\n",
       "    </tr>\n",
       "  </tbody>\n",
       "</table>\n",
       "</div>"
      ],
      "text/plain": [
       "           SRR  percent_annotated  percent_oxidos\n",
       "0    ERR598963           0.018274        0.003392\n",
       "1   ERR3589586           0.028559        0.005914\n",
       "2    ERR599105           0.016069        0.003836\n",
       "3    ERR599052           0.012741        0.002548\n",
       "4    ERR599176           0.027172        0.004703\n",
       "5    ERR599076           0.018800        0.002942\n",
       "6    ERR599115           0.010099        0.001629\n",
       "7    ERR599048           0.018757        0.003852\n",
       "8    ERR599039           0.023412        0.004649\n",
       "9    ERR599125           0.015060        0.002454\n",
       "10   ERR599020           0.019407        0.003346\n",
       "11   ERR598981           0.021667        0.003408\n",
       "12   ERR598964           0.017322        0.002829\n",
       "13  ERR3589593           0.018158        0.002944\n",
       "14   ERR598989           0.024079        0.004829\n",
       "15   ERR599063           0.001707        0.000353"
      ]
     },
     "execution_count": 289,
     "metadata": {},
     "output_type": "execute_result"
    }
   ],
   "source": [
    "stats"
   ]
  },
  {
   "cell_type": "markdown",
   "metadata": {
    "heading_collapsed": true
   },
   "source": [
    "# percent annotated by mgrast"
   ]
  },
  {
   "cell_type": "code",
   "execution_count": 304,
   "metadata": {
    "hidden": true
   },
   "outputs": [
    {
     "data": {
      "text/html": [
       "<div>\n",
       "<style scoped>\n",
       "    .dataframe tbody tr th:only-of-type {\n",
       "        vertical-align: middle;\n",
       "    }\n",
       "\n",
       "    .dataframe tbody tr th {\n",
       "        vertical-align: top;\n",
       "    }\n",
       "\n",
       "    .dataframe thead th {\n",
       "        text-align: right;\n",
       "    }\n",
       "</style>\n",
       "<table border=\"1\" class=\"dataframe\">\n",
       "  <thead>\n",
       "    <tr style=\"text-align: right;\">\n",
       "      <th></th>\n",
       "      <th>SRR</th>\n",
       "      <th>failed qc</th>\n",
       "      <th>predicted feature</th>\n",
       "      <th>unknown protein</th>\n",
       "      <th>annotated protein</th>\n",
       "      <th>ribosomal rna</th>\n",
       "      <th>percent_annotated</th>\n",
       "      <th>percent_annotated_full</th>\n",
       "    </tr>\n",
       "  </thead>\n",
       "  <tbody>\n",
       "    <tr>\n",
       "      <th>10</th>\n",
       "      <td>ERR599125</td>\n",
       "      <td>626264.0</td>\n",
       "      <td>17380761.0</td>\n",
       "      <td>12104800.0</td>\n",
       "      <td>5173535.0</td>\n",
       "      <td>102426.0</td>\n",
       "      <td>0.297659</td>\n",
       "      <td>0.267039</td>\n",
       "    </tr>\n",
       "    <tr>\n",
       "      <th>13</th>\n",
       "      <td>ERR599105</td>\n",
       "      <td>488799.0</td>\n",
       "      <td>17271688.0</td>\n",
       "      <td>11770067.0</td>\n",
       "      <td>5442685.0</td>\n",
       "      <td>58936.0</td>\n",
       "      <td>0.315122</td>\n",
       "      <td>0.278952</td>\n",
       "    </tr>\n",
       "    <tr>\n",
       "      <th>14</th>\n",
       "      <td>ERR598963</td>\n",
       "      <td>406223.0</td>\n",
       "      <td>17522905.0</td>\n",
       "      <td>11788956.0</td>\n",
       "      <td>5674293.0</td>\n",
       "      <td>59656.0</td>\n",
       "      <td>0.323821</td>\n",
       "      <td>0.289597</td>\n",
       "    </tr>\n",
       "    <tr>\n",
       "      <th>7</th>\n",
       "      <td>ERR3589593</td>\n",
       "      <td>450946.0</td>\n",
       "      <td>17493446.0</td>\n",
       "      <td>11744989.0</td>\n",
       "      <td>5676597.0</td>\n",
       "      <td>71860.0</td>\n",
       "      <td>0.324499</td>\n",
       "      <td>0.290377</td>\n",
       "    </tr>\n",
       "    <tr>\n",
       "      <th>3</th>\n",
       "      <td>ERR599020</td>\n",
       "      <td>441375.0</td>\n",
       "      <td>17655613.0</td>\n",
       "      <td>11712976.0</td>\n",
       "      <td>5892914.0</td>\n",
       "      <td>49723.0</td>\n",
       "      <td>0.333770</td>\n",
       "      <td>0.301295</td>\n",
       "    </tr>\n",
       "    <tr>\n",
       "      <th>5</th>\n",
       "      <td>ERR598964</td>\n",
       "      <td>462335.0</td>\n",
       "      <td>17573236.0</td>\n",
       "      <td>11611374.0</td>\n",
       "      <td>5925174.0</td>\n",
       "      <td>36688.0</td>\n",
       "      <td>0.337170</td>\n",
       "      <td>0.303269</td>\n",
       "    </tr>\n",
       "    <tr>\n",
       "      <th>0</th>\n",
       "      <td>ERR599048</td>\n",
       "      <td>483504.0</td>\n",
       "      <td>17554261.0</td>\n",
       "      <td>11514325.0</td>\n",
       "      <td>5986265.0</td>\n",
       "      <td>53671.0</td>\n",
       "      <td>0.341015</td>\n",
       "      <td>0.306728</td>\n",
       "    </tr>\n",
       "    <tr>\n",
       "      <th>4</th>\n",
       "      <td>ERR599115</td>\n",
       "      <td>486427.0</td>\n",
       "      <td>17590813.0</td>\n",
       "      <td>11354115.0</td>\n",
       "      <td>6196025.0</td>\n",
       "      <td>40673.0</td>\n",
       "      <td>0.352231</td>\n",
       "      <td>0.317524</td>\n",
       "    </tr>\n",
       "    <tr>\n",
       "      <th>2</th>\n",
       "      <td>ERR599076</td>\n",
       "      <td>518972.0</td>\n",
       "      <td>17905993.0</td>\n",
       "      <td>11627573.0</td>\n",
       "      <td>6244954.0</td>\n",
       "      <td>33466.0</td>\n",
       "      <td>0.348763</td>\n",
       "      <td>0.320566</td>\n",
       "    </tr>\n",
       "    <tr>\n",
       "      <th>8</th>\n",
       "      <td>ERR598981</td>\n",
       "      <td>552527.0</td>\n",
       "      <td>17894190.0</td>\n",
       "      <td>11406934.0</td>\n",
       "      <td>6449538.0</td>\n",
       "      <td>37718.0</td>\n",
       "      <td>0.360426</td>\n",
       "      <td>0.331639</td>\n",
       "    </tr>\n",
       "    <tr>\n",
       "      <th>11</th>\n",
       "      <td>ERR599052</td>\n",
       "      <td>492477.0</td>\n",
       "      <td>17722965.0</td>\n",
       "      <td>10489058.0</td>\n",
       "      <td>7190770.0</td>\n",
       "      <td>43137.0</td>\n",
       "      <td>0.405732</td>\n",
       "      <td>0.368615</td>\n",
       "    </tr>\n",
       "    <tr>\n",
       "      <th>1</th>\n",
       "      <td>ERR598989</td>\n",
       "      <td>382213.0</td>\n",
       "      <td>17802108.0</td>\n",
       "      <td>10374938.0</td>\n",
       "      <td>7377682.0</td>\n",
       "      <td>49488.0</td>\n",
       "      <td>0.414427</td>\n",
       "      <td>0.376071</td>\n",
       "    </tr>\n",
       "    <tr>\n",
       "      <th>6</th>\n",
       "      <td>ERR599063</td>\n",
       "      <td>505457.0</td>\n",
       "      <td>17812084.0</td>\n",
       "      <td>9911389.0</td>\n",
       "      <td>7857631.0</td>\n",
       "      <td>43064.0</td>\n",
       "      <td>0.441140</td>\n",
       "      <td>0.403068</td>\n",
       "    </tr>\n",
       "    <tr>\n",
       "      <th>12</th>\n",
       "      <td>ERR3589586</td>\n",
       "      <td>1402131.0</td>\n",
       "      <td>16750794.0</td>\n",
       "      <td>7809838.0</td>\n",
       "      <td>8776211.0</td>\n",
       "      <td>164745.0</td>\n",
       "      <td>0.523928</td>\n",
       "      <td>0.471893</td>\n",
       "    </tr>\n",
       "    <tr>\n",
       "      <th>9</th>\n",
       "      <td>ERR599176</td>\n",
       "      <td>1352315.0</td>\n",
       "      <td>16638917.0</td>\n",
       "      <td>7135474.0</td>\n",
       "      <td>9371939.0</td>\n",
       "      <td>131504.0</td>\n",
       "      <td>0.563254</td>\n",
       "      <td>0.502579</td>\n",
       "    </tr>\n",
       "    <tr>\n",
       "      <th>15</th>\n",
       "      <td>ERR599039</td>\n",
       "      <td>NaN</td>\n",
       "      <td>NaN</td>\n",
       "      <td>NaN</td>\n",
       "      <td>NaN</td>\n",
       "      <td>NaN</td>\n",
       "      <td>NaN</td>\n",
       "      <td>NaN</td>\n",
       "    </tr>\n",
       "  </tbody>\n",
       "</table>\n",
       "</div>"
      ],
      "text/plain": [
       "           SRR  failed qc  predicted feature  unknown protein  \\\n",
       "10   ERR599125   626264.0         17380761.0       12104800.0   \n",
       "13   ERR599105   488799.0         17271688.0       11770067.0   \n",
       "14   ERR598963   406223.0         17522905.0       11788956.0   \n",
       "7   ERR3589593   450946.0         17493446.0       11744989.0   \n",
       "3    ERR599020   441375.0         17655613.0       11712976.0   \n",
       "5    ERR598964   462335.0         17573236.0       11611374.0   \n",
       "0    ERR599048   483504.0         17554261.0       11514325.0   \n",
       "4    ERR599115   486427.0         17590813.0       11354115.0   \n",
       "2    ERR599076   518972.0         17905993.0       11627573.0   \n",
       "8    ERR598981   552527.0         17894190.0       11406934.0   \n",
       "11   ERR599052   492477.0         17722965.0       10489058.0   \n",
       "1    ERR598989   382213.0         17802108.0       10374938.0   \n",
       "6    ERR599063   505457.0         17812084.0        9911389.0   \n",
       "12  ERR3589586  1402131.0         16750794.0        7809838.0   \n",
       "9    ERR599176  1352315.0         16638917.0        7135474.0   \n",
       "15   ERR599039        NaN                NaN              NaN   \n",
       "\n",
       "    annotated protein  ribosomal rna  percent_annotated  \\\n",
       "10          5173535.0       102426.0           0.297659   \n",
       "13          5442685.0        58936.0           0.315122   \n",
       "14          5674293.0        59656.0           0.323821   \n",
       "7           5676597.0        71860.0           0.324499   \n",
       "3           5892914.0        49723.0           0.333770   \n",
       "5           5925174.0        36688.0           0.337170   \n",
       "0           5986265.0        53671.0           0.341015   \n",
       "4           6196025.0        40673.0           0.352231   \n",
       "2           6244954.0        33466.0           0.348763   \n",
       "8           6449538.0        37718.0           0.360426   \n",
       "11          7190770.0        43137.0           0.405732   \n",
       "1           7377682.0        49488.0           0.414427   \n",
       "6           7857631.0        43064.0           0.441140   \n",
       "12          8776211.0       164745.0           0.523928   \n",
       "9           9371939.0       131504.0           0.563254   \n",
       "15                NaN            NaN                NaN   \n",
       "\n",
       "    percent_annotated_full  \n",
       "10                0.267039  \n",
       "13                0.278952  \n",
       "14                0.289597  \n",
       "7                 0.290377  \n",
       "3                 0.301295  \n",
       "5                 0.303269  \n",
       "0                 0.306728  \n",
       "4                 0.317524  \n",
       "2                 0.320566  \n",
       "8                 0.331639  \n",
       "11                0.368615  \n",
       "1                 0.376071  \n",
       "6                 0.403068  \n",
       "12                0.471893  \n",
       "9                 0.502579  \n",
       "15                     NaN  "
      ]
     },
     "execution_count": 304,
     "metadata": {},
     "output_type": "execute_result"
    }
   ],
   "source": [
    "rast = pd.read_csv('mgrast_results/tara_percent_annotated_mgrast.csv')\n",
    "rast['percent_annotated_full'] = rast['annotated protein']/(20000000-rast['failed qc'])\n",
    "rast.sort_values('percent_annotated_full')"
   ]
  },
  {
   "cell_type": "code",
   "execution_count": 305,
   "metadata": {
    "hidden": true
   },
   "outputs": [
    {
     "data": {
      "text/html": [
       "<div>\n",
       "<style scoped>\n",
       "    .dataframe tbody tr th:only-of-type {\n",
       "        vertical-align: middle;\n",
       "    }\n",
       "\n",
       "    .dataframe tbody tr th {\n",
       "        vertical-align: top;\n",
       "    }\n",
       "\n",
       "    .dataframe thead th {\n",
       "        text-align: right;\n",
       "    }\n",
       "</style>\n",
       "<table border=\"1\" class=\"dataframe\">\n",
       "  <thead>\n",
       "    <tr style=\"text-align: right;\">\n",
       "      <th></th>\n",
       "      <th>level1</th>\n",
       "      <th>level2</th>\n",
       "      <th>level3</th>\n",
       "      <th>function</th>\n",
       "      <th>ERR599063</th>\n",
       "      <th>ERR599115</th>\n",
       "      <th>ERR599105</th>\n",
       "      <th>ERR3589586</th>\n",
       "      <th>ERR599052</th>\n",
       "      <th>ERR598981</th>\n",
       "      <th>ERR599048</th>\n",
       "      <th>ERR3589593</th>\n",
       "      <th>ERR598964</th>\n",
       "      <th>ERR599020</th>\n",
       "      <th>ERR599125</th>\n",
       "      <th>ERR598963</th>\n",
       "      <th>ERR598989</th>\n",
       "      <th>ERR599076</th>\n",
       "      <th>ERR599176</th>\n",
       "    </tr>\n",
       "  </thead>\n",
       "  <tbody>\n",
       "    <tr>\n",
       "      <th>0</th>\n",
       "      <td>Metabolism</td>\n",
       "      <td>Biosynthesis of Other Secondary Metabolites</td>\n",
       "      <td>00941 Flavonoid biosynthesis [PATH:ko00941]</td>\n",
       "      <td>6DCS; 6'-deoxychalcone synthase [EC:2.3.1.170]</td>\n",
       "      <td>822</td>\n",
       "      <td>125</td>\n",
       "      <td>135</td>\n",
       "      <td>0</td>\n",
       "      <td>988</td>\n",
       "      <td>219</td>\n",
       "      <td>172</td>\n",
       "      <td>151</td>\n",
       "      <td>197</td>\n",
       "      <td>248</td>\n",
       "      <td>161</td>\n",
       "      <td>176</td>\n",
       "      <td>653</td>\n",
       "      <td>0</td>\n",
       "      <td>97</td>\n",
       "    </tr>\n",
       "    <tr>\n",
       "      <th>1</th>\n",
       "      <td>Organismal Systems</td>\n",
       "      <td>Immune system</td>\n",
       "      <td>04610 Complement and coagulation cascades [PAT...</td>\n",
       "      <td>A2M; alpha-2-macroglobulin</td>\n",
       "      <td>0</td>\n",
       "      <td>0</td>\n",
       "      <td>0</td>\n",
       "      <td>0</td>\n",
       "      <td>0</td>\n",
       "      <td>0</td>\n",
       "      <td>1</td>\n",
       "      <td>0</td>\n",
       "      <td>0</td>\n",
       "      <td>0</td>\n",
       "      <td>1</td>\n",
       "      <td>0</td>\n",
       "      <td>0</td>\n",
       "      <td>0</td>\n",
       "      <td>1</td>\n",
       "    </tr>\n",
       "    <tr>\n",
       "      <th>2</th>\n",
       "      <td>Metabolism</td>\n",
       "      <td>Carbohydrate metabolism</td>\n",
       "      <td>00650 Butanoate metabolism [PATH:ko00650]</td>\n",
       "      <td>AACS, acsA; acetoacetyl-CoA synthetase [EC:6.2...</td>\n",
       "      <td>3054</td>\n",
       "      <td>3776</td>\n",
       "      <td>1836</td>\n",
       "      <td>8</td>\n",
       "      <td>2837</td>\n",
       "      <td>5357</td>\n",
       "      <td>2535</td>\n",
       "      <td>3000</td>\n",
       "      <td>4104</td>\n",
       "      <td>3848</td>\n",
       "      <td>3158</td>\n",
       "      <td>3303</td>\n",
       "      <td>3207</td>\n",
       "      <td>7</td>\n",
       "      <td>3806</td>\n",
       "    </tr>\n",
       "    <tr>\n",
       "      <th>3</th>\n",
       "      <td>Metabolism</td>\n",
       "      <td>Amino acid metabolism</td>\n",
       "      <td>00300 Lysine biosynthesis [PATH:ko00300]</td>\n",
       "      <td>AADAT, KAT2; kynurenine/2-aminoadipate aminotr...</td>\n",
       "      <td>0</td>\n",
       "      <td>0</td>\n",
       "      <td>0</td>\n",
       "      <td>0</td>\n",
       "      <td>0</td>\n",
       "      <td>0</td>\n",
       "      <td>1</td>\n",
       "      <td>1</td>\n",
       "      <td>0</td>\n",
       "      <td>2</td>\n",
       "      <td>0</td>\n",
       "      <td>5</td>\n",
       "      <td>4</td>\n",
       "      <td>0</td>\n",
       "      <td>2</td>\n",
       "    </tr>\n",
       "    <tr>\n",
       "      <th>4</th>\n",
       "      <td>Metabolism</td>\n",
       "      <td>Amino acid metabolism</td>\n",
       "      <td>00380 Tryptophan metabolism [PATH:ko00380]</td>\n",
       "      <td>AAO1_2; indole-3-acetaldehyde oxidase [EC:1.2....</td>\n",
       "      <td>1</td>\n",
       "      <td>1</td>\n",
       "      <td>1</td>\n",
       "      <td>0</td>\n",
       "      <td>0</td>\n",
       "      <td>1</td>\n",
       "      <td>0</td>\n",
       "      <td>1</td>\n",
       "      <td>2</td>\n",
       "      <td>0</td>\n",
       "      <td>0</td>\n",
       "      <td>2</td>\n",
       "      <td>0</td>\n",
       "      <td>0</td>\n",
       "      <td>0</td>\n",
       "    </tr>\n",
       "  </tbody>\n",
       "</table>\n",
       "</div>"
      ],
      "text/plain": [
       "               level1                                       level2  \\\n",
       "0          Metabolism  Biosynthesis of Other Secondary Metabolites   \n",
       "1  Organismal Systems                                Immune system   \n",
       "2          Metabolism                      Carbohydrate metabolism   \n",
       "3          Metabolism                        Amino acid metabolism   \n",
       "4          Metabolism                        Amino acid metabolism   \n",
       "\n",
       "                                              level3  \\\n",
       "0        00941 Flavonoid biosynthesis [PATH:ko00941]   \n",
       "1  04610 Complement and coagulation cascades [PAT...   \n",
       "2          00650 Butanoate metabolism [PATH:ko00650]   \n",
       "3           00300 Lysine biosynthesis [PATH:ko00300]   \n",
       "4         00380 Tryptophan metabolism [PATH:ko00380]   \n",
       "\n",
       "                                            function  ERR599063  ERR599115  \\\n",
       "0     6DCS; 6'-deoxychalcone synthase [EC:2.3.1.170]        822        125   \n",
       "1                         A2M; alpha-2-macroglobulin          0          0   \n",
       "2  AACS, acsA; acetoacetyl-CoA synthetase [EC:6.2...       3054       3776   \n",
       "3  AADAT, KAT2; kynurenine/2-aminoadipate aminotr...          0          0   \n",
       "4  AAO1_2; indole-3-acetaldehyde oxidase [EC:1.2....          1          1   \n",
       "\n",
       "   ERR599105  ERR3589586  ERR599052  ERR598981  ERR599048  ERR3589593  \\\n",
       "0        135           0        988        219        172         151   \n",
       "1          0           0          0          0          1           0   \n",
       "2       1836           8       2837       5357       2535        3000   \n",
       "3          0           0          0          0          1           1   \n",
       "4          1           0          0          1          0           1   \n",
       "\n",
       "   ERR598964  ERR599020  ERR599125  ERR598963  ERR598989  ERR599076  ERR599176  \n",
       "0        197        248        161        176        653          0         97  \n",
       "1          0          0          1          0          0          0          1  \n",
       "2       4104       3848       3158       3303       3207          7       3806  \n",
       "3          0          2          0          5          4          0          2  \n",
       "4          2          0          0          2          0          0          0  "
      ]
     },
     "execution_count": 305,
     "metadata": {},
     "output_type": "execute_result"
    }
   ],
   "source": [
    "fn = pd.read_csv('mgrast_results/meta15_functioncounts.txt',sep='\\t')\n",
    "fn.head()"
   ]
  },
  {
   "cell_type": "code",
   "execution_count": 312,
   "metadata": {
    "hidden": true
   },
   "outputs": [
    {
     "data": {
      "text/plain": [
       "'2'"
      ]
     },
     "execution_count": 312,
     "metadata": {},
     "output_type": "execute_result"
    }
   ],
   "source": [
    "fn['function'][0].split('[EC:')[-1].split('.')[0]"
   ]
  },
  {
   "cell_type": "code",
   "execution_count": 319,
   "metadata": {
    "hidden": true
   },
   "outputs": [
    {
     "data": {
      "text/plain": [
       "'2.3.1.170'"
      ]
     },
     "execution_count": 319,
     "metadata": {},
     "output_type": "execute_result"
    }
   ],
   "source": [
    "fn['function'][0].split('[EC:')[-1].split(']')[0]"
   ]
  },
  {
   "cell_type": "code",
   "execution_count": 320,
   "metadata": {
    "hidden": true
   },
   "outputs": [
    {
     "data": {
      "text/html": [
       "<div>\n",
       "<style scoped>\n",
       "    .dataframe tbody tr th:only-of-type {\n",
       "        vertical-align: middle;\n",
       "    }\n",
       "\n",
       "    .dataframe tbody tr th {\n",
       "        vertical-align: top;\n",
       "    }\n",
       "\n",
       "    .dataframe thead th {\n",
       "        text-align: right;\n",
       "    }\n",
       "</style>\n",
       "<table border=\"1\" class=\"dataframe\">\n",
       "  <thead>\n",
       "    <tr style=\"text-align: right;\">\n",
       "      <th></th>\n",
       "      <th>level1</th>\n",
       "      <th>level2</th>\n",
       "      <th>level3</th>\n",
       "      <th>function</th>\n",
       "      <th>ERR599063</th>\n",
       "      <th>ERR599115</th>\n",
       "      <th>ERR599105</th>\n",
       "      <th>ERR3589586</th>\n",
       "      <th>ERR599052</th>\n",
       "      <th>ERR598981</th>\n",
       "      <th>...</th>\n",
       "      <th>ERR3589593</th>\n",
       "      <th>ERR598964</th>\n",
       "      <th>ERR599020</th>\n",
       "      <th>ERR599125</th>\n",
       "      <th>ERR598963</th>\n",
       "      <th>ERR598989</th>\n",
       "      <th>ERR599076</th>\n",
       "      <th>ERR599176</th>\n",
       "      <th>ec_1</th>\n",
       "      <th>ec number</th>\n",
       "    </tr>\n",
       "  </thead>\n",
       "  <tbody>\n",
       "    <tr>\n",
       "      <th>0</th>\n",
       "      <td>Metabolism</td>\n",
       "      <td>Biosynthesis of Other Secondary Metabolites</td>\n",
       "      <td>00941 Flavonoid biosynthesis [PATH:ko00941]</td>\n",
       "      <td>6DCS; 6'-deoxychalcone synthase [EC:2.3.1.170]</td>\n",
       "      <td>822</td>\n",
       "      <td>125</td>\n",
       "      <td>135</td>\n",
       "      <td>0</td>\n",
       "      <td>988</td>\n",
       "      <td>219</td>\n",
       "      <td>...</td>\n",
       "      <td>151</td>\n",
       "      <td>197</td>\n",
       "      <td>248</td>\n",
       "      <td>161</td>\n",
       "      <td>176</td>\n",
       "      <td>653</td>\n",
       "      <td>0</td>\n",
       "      <td>97</td>\n",
       "      <td>2</td>\n",
       "      <td>2.3.1.170</td>\n",
       "    </tr>\n",
       "    <tr>\n",
       "      <th>1</th>\n",
       "      <td>Organismal Systems</td>\n",
       "      <td>Immune system</td>\n",
       "      <td>04610 Complement and coagulation cascades [PAT...</td>\n",
       "      <td>A2M; alpha-2-macroglobulin</td>\n",
       "      <td>0</td>\n",
       "      <td>0</td>\n",
       "      <td>0</td>\n",
       "      <td>0</td>\n",
       "      <td>0</td>\n",
       "      <td>0</td>\n",
       "      <td>...</td>\n",
       "      <td>0</td>\n",
       "      <td>0</td>\n",
       "      <td>0</td>\n",
       "      <td>1</td>\n",
       "      <td>0</td>\n",
       "      <td>0</td>\n",
       "      <td>0</td>\n",
       "      <td>1</td>\n",
       "      <td>A2M; alpha-2-macroglobulin</td>\n",
       "      <td>A2M; alpha-2-macroglobulin</td>\n",
       "    </tr>\n",
       "    <tr>\n",
       "      <th>2</th>\n",
       "      <td>Metabolism</td>\n",
       "      <td>Carbohydrate metabolism</td>\n",
       "      <td>00650 Butanoate metabolism [PATH:ko00650]</td>\n",
       "      <td>AACS, acsA; acetoacetyl-CoA synthetase [EC:6.2...</td>\n",
       "      <td>3054</td>\n",
       "      <td>3776</td>\n",
       "      <td>1836</td>\n",
       "      <td>8</td>\n",
       "      <td>2837</td>\n",
       "      <td>5357</td>\n",
       "      <td>...</td>\n",
       "      <td>3000</td>\n",
       "      <td>4104</td>\n",
       "      <td>3848</td>\n",
       "      <td>3158</td>\n",
       "      <td>3303</td>\n",
       "      <td>3207</td>\n",
       "      <td>7</td>\n",
       "      <td>3806</td>\n",
       "      <td>6</td>\n",
       "      <td>6.2.1.16</td>\n",
       "    </tr>\n",
       "    <tr>\n",
       "      <th>3</th>\n",
       "      <td>Metabolism</td>\n",
       "      <td>Amino acid metabolism</td>\n",
       "      <td>00300 Lysine biosynthesis [PATH:ko00300]</td>\n",
       "      <td>AADAT, KAT2; kynurenine/2-aminoadipate aminotr...</td>\n",
       "      <td>0</td>\n",
       "      <td>0</td>\n",
       "      <td>0</td>\n",
       "      <td>0</td>\n",
       "      <td>0</td>\n",
       "      <td>0</td>\n",
       "      <td>...</td>\n",
       "      <td>1</td>\n",
       "      <td>0</td>\n",
       "      <td>2</td>\n",
       "      <td>0</td>\n",
       "      <td>5</td>\n",
       "      <td>4</td>\n",
       "      <td>0</td>\n",
       "      <td>2</td>\n",
       "      <td>2</td>\n",
       "      <td>2.6.1.7 2.6.1.39</td>\n",
       "    </tr>\n",
       "    <tr>\n",
       "      <th>4</th>\n",
       "      <td>Metabolism</td>\n",
       "      <td>Amino acid metabolism</td>\n",
       "      <td>00380 Tryptophan metabolism [PATH:ko00380]</td>\n",
       "      <td>AAO1_2; indole-3-acetaldehyde oxidase [EC:1.2....</td>\n",
       "      <td>1</td>\n",
       "      <td>1</td>\n",
       "      <td>1</td>\n",
       "      <td>0</td>\n",
       "      <td>0</td>\n",
       "      <td>1</td>\n",
       "      <td>...</td>\n",
       "      <td>1</td>\n",
       "      <td>2</td>\n",
       "      <td>0</td>\n",
       "      <td>0</td>\n",
       "      <td>2</td>\n",
       "      <td>0</td>\n",
       "      <td>0</td>\n",
       "      <td>0</td>\n",
       "      <td>1</td>\n",
       "      <td>1.2.3.7</td>\n",
       "    </tr>\n",
       "  </tbody>\n",
       "</table>\n",
       "<p>5 rows × 21 columns</p>\n",
       "</div>"
      ],
      "text/plain": [
       "               level1                                       level2  \\\n",
       "0          Metabolism  Biosynthesis of Other Secondary Metabolites   \n",
       "1  Organismal Systems                                Immune system   \n",
       "2          Metabolism                      Carbohydrate metabolism   \n",
       "3          Metabolism                        Amino acid metabolism   \n",
       "4          Metabolism                        Amino acid metabolism   \n",
       "\n",
       "                                              level3  \\\n",
       "0        00941 Flavonoid biosynthesis [PATH:ko00941]   \n",
       "1  04610 Complement and coagulation cascades [PAT...   \n",
       "2          00650 Butanoate metabolism [PATH:ko00650]   \n",
       "3           00300 Lysine biosynthesis [PATH:ko00300]   \n",
       "4         00380 Tryptophan metabolism [PATH:ko00380]   \n",
       "\n",
       "                                            function  ERR599063  ERR599115  \\\n",
       "0     6DCS; 6'-deoxychalcone synthase [EC:2.3.1.170]        822        125   \n",
       "1                         A2M; alpha-2-macroglobulin          0          0   \n",
       "2  AACS, acsA; acetoacetyl-CoA synthetase [EC:6.2...       3054       3776   \n",
       "3  AADAT, KAT2; kynurenine/2-aminoadipate aminotr...          0          0   \n",
       "4  AAO1_2; indole-3-acetaldehyde oxidase [EC:1.2....          1          1   \n",
       "\n",
       "   ERR599105  ERR3589586  ERR599052  ERR598981  ...  ERR3589593  ERR598964  \\\n",
       "0        135           0        988        219  ...         151        197   \n",
       "1          0           0          0          0  ...           0          0   \n",
       "2       1836           8       2837       5357  ...        3000       4104   \n",
       "3          0           0          0          0  ...           1          0   \n",
       "4          1           0          0          1  ...           1          2   \n",
       "\n",
       "   ERR599020  ERR599125  ERR598963  ERR598989  ERR599076  ERR599176  \\\n",
       "0        248        161        176        653          0         97   \n",
       "1          0          1          0          0          0          1   \n",
       "2       3848       3158       3303       3207          7       3806   \n",
       "3          2          0          5          4          0          2   \n",
       "4          0          0          2          0          0          0   \n",
       "\n",
       "                         ec_1                   ec number  \n",
       "0                           2                   2.3.1.170  \n",
       "1  A2M; alpha-2-macroglobulin  A2M; alpha-2-macroglobulin  \n",
       "2                           6                    6.2.1.16  \n",
       "3                           2            2.6.1.7 2.6.1.39  \n",
       "4                           1                     1.2.3.7  \n",
       "\n",
       "[5 rows x 21 columns]"
      ]
     },
     "execution_count": 320,
     "metadata": {},
     "output_type": "execute_result"
    }
   ],
   "source": [
    "ec_1 = [x.split('[EC:')[-1].split('.')[0] for x in fn['function']]\n",
    "ecs = [x.split('[EC:')[-1].split(']')[0] for x in fn['function']]\n",
    "fn['ec number'] = ecs\n",
    "fn['ec_1'] = ec_1\n",
    "fn.head()"
   ]
  },
  {
   "cell_type": "code",
   "execution_count": 321,
   "metadata": {
    "hidden": true
   },
   "outputs": [
    {
     "name": "stdout",
     "output_type": "stream",
     "text": [
      "733\n"
     ]
    },
    {
     "data": {
      "text/html": [
       "<div>\n",
       "<style scoped>\n",
       "    .dataframe tbody tr th:only-of-type {\n",
       "        vertical-align: middle;\n",
       "    }\n",
       "\n",
       "    .dataframe tbody tr th {\n",
       "        vertical-align: top;\n",
       "    }\n",
       "\n",
       "    .dataframe thead th {\n",
       "        text-align: right;\n",
       "    }\n",
       "</style>\n",
       "<table border=\"1\" class=\"dataframe\">\n",
       "  <thead>\n",
       "    <tr style=\"text-align: right;\">\n",
       "      <th></th>\n",
       "      <th>level1</th>\n",
       "      <th>level2</th>\n",
       "      <th>level3</th>\n",
       "      <th>function</th>\n",
       "      <th>ERR599063</th>\n",
       "      <th>ERR599115</th>\n",
       "      <th>ERR599105</th>\n",
       "      <th>ERR3589586</th>\n",
       "      <th>ERR599052</th>\n",
       "      <th>ERR598981</th>\n",
       "      <th>...</th>\n",
       "      <th>ERR3589593</th>\n",
       "      <th>ERR598964</th>\n",
       "      <th>ERR599020</th>\n",
       "      <th>ERR599125</th>\n",
       "      <th>ERR598963</th>\n",
       "      <th>ERR598989</th>\n",
       "      <th>ERR599076</th>\n",
       "      <th>ERR599176</th>\n",
       "      <th>ec_1</th>\n",
       "      <th>ec number</th>\n",
       "    </tr>\n",
       "  </thead>\n",
       "  <tbody>\n",
       "    <tr>\n",
       "      <th>4</th>\n",
       "      <td>Metabolism</td>\n",
       "      <td>Amino acid metabolism</td>\n",
       "      <td>00380 Tryptophan metabolism [PATH:ko00380]</td>\n",
       "      <td>AAO1_2; indole-3-acetaldehyde oxidase [EC:1.2....</td>\n",
       "      <td>1</td>\n",
       "      <td>1</td>\n",
       "      <td>1</td>\n",
       "      <td>0</td>\n",
       "      <td>0</td>\n",
       "      <td>1</td>\n",
       "      <td>...</td>\n",
       "      <td>1</td>\n",
       "      <td>2</td>\n",
       "      <td>0</td>\n",
       "      <td>0</td>\n",
       "      <td>2</td>\n",
       "      <td>0</td>\n",
       "      <td>0</td>\n",
       "      <td>0</td>\n",
       "      <td>1</td>\n",
       "      <td>1.2.3.7</td>\n",
       "    </tr>\n",
       "    <tr>\n",
       "      <th>5</th>\n",
       "      <td>Metabolism</td>\n",
       "      <td>Metabolism of terpenoids and polyketides</td>\n",
       "      <td>00906 Carotenoid biosynthesis [PATH:ko00906]</td>\n",
       "      <td>AAO3; abscisic-aldehyde oxidase [EC:1.2.3.14]</td>\n",
       "      <td>0</td>\n",
       "      <td>3</td>\n",
       "      <td>0</td>\n",
       "      <td>0</td>\n",
       "      <td>0</td>\n",
       "      <td>4</td>\n",
       "      <td>...</td>\n",
       "      <td>8</td>\n",
       "      <td>5</td>\n",
       "      <td>3</td>\n",
       "      <td>2</td>\n",
       "      <td>2</td>\n",
       "      <td>0</td>\n",
       "      <td>0</td>\n",
       "      <td>2</td>\n",
       "      <td>1</td>\n",
       "      <td>1.2.3.14</td>\n",
       "    </tr>\n",
       "    <tr>\n",
       "      <th>7</th>\n",
       "      <td>Metabolism</td>\n",
       "      <td>Amino acid metabolism</td>\n",
       "      <td>00300 Lysine biosynthesis [PATH:ko00300]</td>\n",
       "      <td>AASS; alpha-aminoadipic semialdehyde synthase ...</td>\n",
       "      <td>22</td>\n",
       "      <td>19</td>\n",
       "      <td>11</td>\n",
       "      <td>0</td>\n",
       "      <td>17</td>\n",
       "      <td>14</td>\n",
       "      <td>...</td>\n",
       "      <td>27</td>\n",
       "      <td>11</td>\n",
       "      <td>13</td>\n",
       "      <td>14</td>\n",
       "      <td>27</td>\n",
       "      <td>24</td>\n",
       "      <td>0</td>\n",
       "      <td>35</td>\n",
       "      <td>1</td>\n",
       "      <td>1.5.1.8 1.5.1.9</td>\n",
       "    </tr>\n",
       "    <tr>\n",
       "      <th>8</th>\n",
       "      <td>Metabolism</td>\n",
       "      <td>Metabolism of terpenoids and polyketides</td>\n",
       "      <td>00906 Carotenoid biosynthesis [PATH:ko00906]</td>\n",
       "      <td>ABA2; xanthoxin dehydrogenase [EC:1.1.1.288]</td>\n",
       "      <td>1</td>\n",
       "      <td>2</td>\n",
       "      <td>3</td>\n",
       "      <td>3</td>\n",
       "      <td>2</td>\n",
       "      <td>1</td>\n",
       "      <td>...</td>\n",
       "      <td>2</td>\n",
       "      <td>0</td>\n",
       "      <td>1</td>\n",
       "      <td>1</td>\n",
       "      <td>1</td>\n",
       "      <td>1</td>\n",
       "      <td>0</td>\n",
       "      <td>1</td>\n",
       "      <td>1</td>\n",
       "      <td>1.1.1.288</td>\n",
       "    </tr>\n",
       "    <tr>\n",
       "      <th>109</th>\n",
       "      <td>Metabolism</td>\n",
       "      <td>Amino acid metabolism</td>\n",
       "      <td>00330 Arginine and proline metabolism [PATH:ko...</td>\n",
       "      <td>ABP1, AOC1; diamine oxidase [EC:1.4.3.22]</td>\n",
       "      <td>0</td>\n",
       "      <td>0</td>\n",
       "      <td>0</td>\n",
       "      <td>0</td>\n",
       "      <td>0</td>\n",
       "      <td>0</td>\n",
       "      <td>...</td>\n",
       "      <td>0</td>\n",
       "      <td>0</td>\n",
       "      <td>0</td>\n",
       "      <td>0</td>\n",
       "      <td>0</td>\n",
       "      <td>2</td>\n",
       "      <td>0</td>\n",
       "      <td>0</td>\n",
       "      <td>1</td>\n",
       "      <td>1.4.3.22</td>\n",
       "    </tr>\n",
       "  </tbody>\n",
       "</table>\n",
       "<p>5 rows × 21 columns</p>\n",
       "</div>"
      ],
      "text/plain": [
       "         level1                                    level2  \\\n",
       "4    Metabolism                     Amino acid metabolism   \n",
       "5    Metabolism  Metabolism of terpenoids and polyketides   \n",
       "7    Metabolism                     Amino acid metabolism   \n",
       "8    Metabolism  Metabolism of terpenoids and polyketides   \n",
       "109  Metabolism                     Amino acid metabolism   \n",
       "\n",
       "                                                level3  \\\n",
       "4           00380 Tryptophan metabolism [PATH:ko00380]   \n",
       "5         00906 Carotenoid biosynthesis [PATH:ko00906]   \n",
       "7             00300 Lysine biosynthesis [PATH:ko00300]   \n",
       "8         00906 Carotenoid biosynthesis [PATH:ko00906]   \n",
       "109  00330 Arginine and proline metabolism [PATH:ko...   \n",
       "\n",
       "                                              function  ERR599063  ERR599115  \\\n",
       "4    AAO1_2; indole-3-acetaldehyde oxidase [EC:1.2....          1          1   \n",
       "5        AAO3; abscisic-aldehyde oxidase [EC:1.2.3.14]          0          3   \n",
       "7    AASS; alpha-aminoadipic semialdehyde synthase ...         22         19   \n",
       "8         ABA2; xanthoxin dehydrogenase [EC:1.1.1.288]          1          2   \n",
       "109          ABP1, AOC1; diamine oxidase [EC:1.4.3.22]          0          0   \n",
       "\n",
       "     ERR599105  ERR3589586  ERR599052  ERR598981  ...  ERR3589593  ERR598964  \\\n",
       "4            1           0          0          1  ...           1          2   \n",
       "5            0           0          0          4  ...           8          5   \n",
       "7           11           0         17         14  ...          27         11   \n",
       "8            3           3          2          1  ...           2          0   \n",
       "109          0           0          0          0  ...           0          0   \n",
       "\n",
       "     ERR599020  ERR599125  ERR598963  ERR598989  ERR599076  ERR599176  ec_1  \\\n",
       "4            0          0          2          0          0          0     1   \n",
       "5            3          2          2          0          0          2     1   \n",
       "7           13         14         27         24          0         35     1   \n",
       "8            1          1          1          1          0          1     1   \n",
       "109          0          0          0          2          0          0     1   \n",
       "\n",
       "           ec number  \n",
       "4            1.2.3.7  \n",
       "5           1.2.3.14  \n",
       "7    1.5.1.8 1.5.1.9  \n",
       "8          1.1.1.288  \n",
       "109         1.4.3.22  \n",
       "\n",
       "[5 rows x 21 columns]"
      ]
     },
     "execution_count": 321,
     "metadata": {},
     "output_type": "execute_result"
    }
   ],
   "source": [
    "ec1 = fn[fn['ec_1']=='1']\n",
    "print(len(ec1))\n",
    "ec1.head()"
   ]
  },
  {
   "cell_type": "code",
   "execution_count": 329,
   "metadata": {
    "hidden": true
   },
   "outputs": [
    {
     "data": {
      "text/html": [
       "<div>\n",
       "<style scoped>\n",
       "    .dataframe tbody tr th:only-of-type {\n",
       "        vertical-align: middle;\n",
       "    }\n",
       "\n",
       "    .dataframe tbody tr th {\n",
       "        vertical-align: top;\n",
       "    }\n",
       "\n",
       "    .dataframe thead th {\n",
       "        text-align: right;\n",
       "    }\n",
       "</style>\n",
       "<table border=\"1\" class=\"dataframe\">\n",
       "  <thead>\n",
       "    <tr style=\"text-align: right;\">\n",
       "      <th></th>\n",
       "      <th>count_oxido</th>\n",
       "      <th>SRR</th>\n",
       "    </tr>\n",
       "  </thead>\n",
       "  <tbody>\n",
       "    <tr>\n",
       "      <th>ERR599063</th>\n",
       "      <td>719934</td>\n",
       "      <td>ERR599063</td>\n",
       "    </tr>\n",
       "    <tr>\n",
       "      <th>ERR599115</th>\n",
       "      <td>544068</td>\n",
       "      <td>ERR599115</td>\n",
       "    </tr>\n",
       "    <tr>\n",
       "      <th>ERR599105</th>\n",
       "      <td>452269</td>\n",
       "      <td>ERR599105</td>\n",
       "    </tr>\n",
       "    <tr>\n",
       "      <th>ERR3589586</th>\n",
       "      <td>3180</td>\n",
       "      <td>ERR3589586</td>\n",
       "    </tr>\n",
       "    <tr>\n",
       "      <th>ERR599052</th>\n",
       "      <td>697606</td>\n",
       "      <td>ERR599052</td>\n",
       "    </tr>\n",
       "    <tr>\n",
       "      <th>ERR598981</th>\n",
       "      <td>621365</td>\n",
       "      <td>ERR598981</td>\n",
       "    </tr>\n",
       "    <tr>\n",
       "      <th>ERR599048</th>\n",
       "      <td>536862</td>\n",
       "      <td>ERR599048</td>\n",
       "    </tr>\n",
       "    <tr>\n",
       "      <th>ERR3589593</th>\n",
       "      <td>525980</td>\n",
       "      <td>ERR3589593</td>\n",
       "    </tr>\n",
       "    <tr>\n",
       "      <th>ERR598964</th>\n",
       "      <td>569859</td>\n",
       "      <td>ERR598964</td>\n",
       "    </tr>\n",
       "    <tr>\n",
       "      <th>ERR599020</th>\n",
       "      <td>599512</td>\n",
       "      <td>ERR599020</td>\n",
       "    </tr>\n",
       "    <tr>\n",
       "      <th>ERR599125</th>\n",
       "      <td>429819</td>\n",
       "      <td>ERR599125</td>\n",
       "    </tr>\n",
       "    <tr>\n",
       "      <th>ERR598963</th>\n",
       "      <td>575424</td>\n",
       "      <td>ERR598963</td>\n",
       "    </tr>\n",
       "    <tr>\n",
       "      <th>ERR598989</th>\n",
       "      <td>712899</td>\n",
       "      <td>ERR598989</td>\n",
       "    </tr>\n",
       "    <tr>\n",
       "      <th>ERR599076</th>\n",
       "      <td>2093</td>\n",
       "      <td>ERR599076</td>\n",
       "    </tr>\n",
       "    <tr>\n",
       "      <th>ERR599176</th>\n",
       "      <td>751232</td>\n",
       "      <td>ERR599176</td>\n",
       "    </tr>\n",
       "  </tbody>\n",
       "</table>\n",
       "</div>"
      ],
      "text/plain": [
       "            count_oxido         SRR\n",
       "ERR599063        719934   ERR599063\n",
       "ERR599115        544068   ERR599115\n",
       "ERR599105        452269   ERR599105\n",
       "ERR3589586         3180  ERR3589586\n",
       "ERR599052        697606   ERR599052\n",
       "ERR598981        621365   ERR598981\n",
       "ERR599048        536862   ERR599048\n",
       "ERR3589593       525980  ERR3589593\n",
       "ERR598964        569859   ERR598964\n",
       "ERR599020        599512   ERR599020\n",
       "ERR599125        429819   ERR599125\n",
       "ERR598963        575424   ERR598963\n",
       "ERR598989        712899   ERR598989\n",
       "ERR599076          2093   ERR599076\n",
       "ERR599176        751232   ERR599176"
      ]
     },
     "execution_count": 329,
     "metadata": {},
     "output_type": "execute_result"
    }
   ],
   "source": [
    "ec1_counts = pd.DataFrame(ec1.iloc[:,4:-2].sum(),columns=['count_oxido'])\n",
    "ec1_counts['SRR'] = ec1_counts.index\n",
    "ec1_counts"
   ]
  },
  {
   "cell_type": "code",
   "execution_count": 331,
   "metadata": {
    "hidden": true
   },
   "outputs": [
    {
     "name": "stdout",
     "output_type": "stream",
     "text": [
      "15\n"
     ]
    },
    {
     "data": {
      "text/html": [
       "<div>\n",
       "<style scoped>\n",
       "    .dataframe tbody tr th:only-of-type {\n",
       "        vertical-align: middle;\n",
       "    }\n",
       "\n",
       "    .dataframe tbody tr th {\n",
       "        vertical-align: top;\n",
       "    }\n",
       "\n",
       "    .dataframe thead th {\n",
       "        text-align: right;\n",
       "    }\n",
       "</style>\n",
       "<table border=\"1\" class=\"dataframe\">\n",
       "  <thead>\n",
       "    <tr style=\"text-align: right;\">\n",
       "      <th></th>\n",
       "      <th>SRR</th>\n",
       "      <th>failed qc</th>\n",
       "      <th>predicted feature</th>\n",
       "      <th>unknown protein</th>\n",
       "      <th>annotated protein</th>\n",
       "      <th>ribosomal rna</th>\n",
       "      <th>percent_annotated</th>\n",
       "      <th>percent_annotated_full</th>\n",
       "      <th>count_oxido</th>\n",
       "    </tr>\n",
       "  </thead>\n",
       "  <tbody>\n",
       "    <tr>\n",
       "      <th>0</th>\n",
       "      <td>ERR599048</td>\n",
       "      <td>483504.0</td>\n",
       "      <td>17554261.0</td>\n",
       "      <td>11514325.0</td>\n",
       "      <td>5986265.0</td>\n",
       "      <td>53671.0</td>\n",
       "      <td>0.341015</td>\n",
       "      <td>0.306728</td>\n",
       "      <td>536862</td>\n",
       "    </tr>\n",
       "    <tr>\n",
       "      <th>1</th>\n",
       "      <td>ERR598989</td>\n",
       "      <td>382213.0</td>\n",
       "      <td>17802108.0</td>\n",
       "      <td>10374938.0</td>\n",
       "      <td>7377682.0</td>\n",
       "      <td>49488.0</td>\n",
       "      <td>0.414427</td>\n",
       "      <td>0.376071</td>\n",
       "      <td>712899</td>\n",
       "    </tr>\n",
       "    <tr>\n",
       "      <th>2</th>\n",
       "      <td>ERR599076</td>\n",
       "      <td>518972.0</td>\n",
       "      <td>17905993.0</td>\n",
       "      <td>11627573.0</td>\n",
       "      <td>6244954.0</td>\n",
       "      <td>33466.0</td>\n",
       "      <td>0.348763</td>\n",
       "      <td>0.320566</td>\n",
       "      <td>2093</td>\n",
       "    </tr>\n",
       "    <tr>\n",
       "      <th>3</th>\n",
       "      <td>ERR599020</td>\n",
       "      <td>441375.0</td>\n",
       "      <td>17655613.0</td>\n",
       "      <td>11712976.0</td>\n",
       "      <td>5892914.0</td>\n",
       "      <td>49723.0</td>\n",
       "      <td>0.333770</td>\n",
       "      <td>0.301295</td>\n",
       "      <td>599512</td>\n",
       "    </tr>\n",
       "    <tr>\n",
       "      <th>4</th>\n",
       "      <td>ERR599115</td>\n",
       "      <td>486427.0</td>\n",
       "      <td>17590813.0</td>\n",
       "      <td>11354115.0</td>\n",
       "      <td>6196025.0</td>\n",
       "      <td>40673.0</td>\n",
       "      <td>0.352231</td>\n",
       "      <td>0.317524</td>\n",
       "      <td>544068</td>\n",
       "    </tr>\n",
       "    <tr>\n",
       "      <th>5</th>\n",
       "      <td>ERR598964</td>\n",
       "      <td>462335.0</td>\n",
       "      <td>17573236.0</td>\n",
       "      <td>11611374.0</td>\n",
       "      <td>5925174.0</td>\n",
       "      <td>36688.0</td>\n",
       "      <td>0.337170</td>\n",
       "      <td>0.303269</td>\n",
       "      <td>569859</td>\n",
       "    </tr>\n",
       "    <tr>\n",
       "      <th>6</th>\n",
       "      <td>ERR599063</td>\n",
       "      <td>505457.0</td>\n",
       "      <td>17812084.0</td>\n",
       "      <td>9911389.0</td>\n",
       "      <td>7857631.0</td>\n",
       "      <td>43064.0</td>\n",
       "      <td>0.441140</td>\n",
       "      <td>0.403068</td>\n",
       "      <td>719934</td>\n",
       "    </tr>\n",
       "    <tr>\n",
       "      <th>7</th>\n",
       "      <td>ERR3589593</td>\n",
       "      <td>450946.0</td>\n",
       "      <td>17493446.0</td>\n",
       "      <td>11744989.0</td>\n",
       "      <td>5676597.0</td>\n",
       "      <td>71860.0</td>\n",
       "      <td>0.324499</td>\n",
       "      <td>0.290377</td>\n",
       "      <td>525980</td>\n",
       "    </tr>\n",
       "    <tr>\n",
       "      <th>8</th>\n",
       "      <td>ERR598981</td>\n",
       "      <td>552527.0</td>\n",
       "      <td>17894190.0</td>\n",
       "      <td>11406934.0</td>\n",
       "      <td>6449538.0</td>\n",
       "      <td>37718.0</td>\n",
       "      <td>0.360426</td>\n",
       "      <td>0.331639</td>\n",
       "      <td>621365</td>\n",
       "    </tr>\n",
       "    <tr>\n",
       "      <th>9</th>\n",
       "      <td>ERR599176</td>\n",
       "      <td>1352315.0</td>\n",
       "      <td>16638917.0</td>\n",
       "      <td>7135474.0</td>\n",
       "      <td>9371939.0</td>\n",
       "      <td>131504.0</td>\n",
       "      <td>0.563254</td>\n",
       "      <td>0.502579</td>\n",
       "      <td>751232</td>\n",
       "    </tr>\n",
       "    <tr>\n",
       "      <th>10</th>\n",
       "      <td>ERR599125</td>\n",
       "      <td>626264.0</td>\n",
       "      <td>17380761.0</td>\n",
       "      <td>12104800.0</td>\n",
       "      <td>5173535.0</td>\n",
       "      <td>102426.0</td>\n",
       "      <td>0.297659</td>\n",
       "      <td>0.267039</td>\n",
       "      <td>429819</td>\n",
       "    </tr>\n",
       "    <tr>\n",
       "      <th>11</th>\n",
       "      <td>ERR599052</td>\n",
       "      <td>492477.0</td>\n",
       "      <td>17722965.0</td>\n",
       "      <td>10489058.0</td>\n",
       "      <td>7190770.0</td>\n",
       "      <td>43137.0</td>\n",
       "      <td>0.405732</td>\n",
       "      <td>0.368615</td>\n",
       "      <td>697606</td>\n",
       "    </tr>\n",
       "    <tr>\n",
       "      <th>12</th>\n",
       "      <td>ERR3589586</td>\n",
       "      <td>1402131.0</td>\n",
       "      <td>16750794.0</td>\n",
       "      <td>7809838.0</td>\n",
       "      <td>8776211.0</td>\n",
       "      <td>164745.0</td>\n",
       "      <td>0.523928</td>\n",
       "      <td>0.471893</td>\n",
       "      <td>3180</td>\n",
       "    </tr>\n",
       "    <tr>\n",
       "      <th>13</th>\n",
       "      <td>ERR599105</td>\n",
       "      <td>488799.0</td>\n",
       "      <td>17271688.0</td>\n",
       "      <td>11770067.0</td>\n",
       "      <td>5442685.0</td>\n",
       "      <td>58936.0</td>\n",
       "      <td>0.315122</td>\n",
       "      <td>0.278952</td>\n",
       "      <td>452269</td>\n",
       "    </tr>\n",
       "    <tr>\n",
       "      <th>14</th>\n",
       "      <td>ERR598963</td>\n",
       "      <td>406223.0</td>\n",
       "      <td>17522905.0</td>\n",
       "      <td>11788956.0</td>\n",
       "      <td>5674293.0</td>\n",
       "      <td>59656.0</td>\n",
       "      <td>0.323821</td>\n",
       "      <td>0.289597</td>\n",
       "      <td>575424</td>\n",
       "    </tr>\n",
       "  </tbody>\n",
       "</table>\n",
       "</div>"
      ],
      "text/plain": [
       "           SRR  failed qc  predicted feature  unknown protein  \\\n",
       "0    ERR599048   483504.0         17554261.0       11514325.0   \n",
       "1    ERR598989   382213.0         17802108.0       10374938.0   \n",
       "2    ERR599076   518972.0         17905993.0       11627573.0   \n",
       "3    ERR599020   441375.0         17655613.0       11712976.0   \n",
       "4    ERR599115   486427.0         17590813.0       11354115.0   \n",
       "5    ERR598964   462335.0         17573236.0       11611374.0   \n",
       "6    ERR599063   505457.0         17812084.0        9911389.0   \n",
       "7   ERR3589593   450946.0         17493446.0       11744989.0   \n",
       "8    ERR598981   552527.0         17894190.0       11406934.0   \n",
       "9    ERR599176  1352315.0         16638917.0        7135474.0   \n",
       "10   ERR599125   626264.0         17380761.0       12104800.0   \n",
       "11   ERR599052   492477.0         17722965.0       10489058.0   \n",
       "12  ERR3589586  1402131.0         16750794.0        7809838.0   \n",
       "13   ERR599105   488799.0         17271688.0       11770067.0   \n",
       "14   ERR598963   406223.0         17522905.0       11788956.0   \n",
       "\n",
       "    annotated protein  ribosomal rna  percent_annotated  \\\n",
       "0           5986265.0        53671.0           0.341015   \n",
       "1           7377682.0        49488.0           0.414427   \n",
       "2           6244954.0        33466.0           0.348763   \n",
       "3           5892914.0        49723.0           0.333770   \n",
       "4           6196025.0        40673.0           0.352231   \n",
       "5           5925174.0        36688.0           0.337170   \n",
       "6           7857631.0        43064.0           0.441140   \n",
       "7           5676597.0        71860.0           0.324499   \n",
       "8           6449538.0        37718.0           0.360426   \n",
       "9           9371939.0       131504.0           0.563254   \n",
       "10          5173535.0       102426.0           0.297659   \n",
       "11          7190770.0        43137.0           0.405732   \n",
       "12          8776211.0       164745.0           0.523928   \n",
       "13          5442685.0        58936.0           0.315122   \n",
       "14          5674293.0        59656.0           0.323821   \n",
       "\n",
       "    percent_annotated_full  count_oxido  \n",
       "0                 0.306728       536862  \n",
       "1                 0.376071       712899  \n",
       "2                 0.320566         2093  \n",
       "3                 0.301295       599512  \n",
       "4                 0.317524       544068  \n",
       "5                 0.303269       569859  \n",
       "6                 0.403068       719934  \n",
       "7                 0.290377       525980  \n",
       "8                 0.331639       621365  \n",
       "9                 0.502579       751232  \n",
       "10                0.267039       429819  \n",
       "11                0.368615       697606  \n",
       "12                0.471893         3180  \n",
       "13                0.278952       452269  \n",
       "14                0.289597       575424  "
      ]
     },
     "execution_count": 331,
     "metadata": {},
     "output_type": "execute_result"
    }
   ],
   "source": [
    "merge_mgrast = rast.merge(ec1_counts,on='SRR')\n",
    "print(len(merge_mgrast))\n",
    "merge_mgrast"
   ]
  },
  {
   "cell_type": "code",
   "execution_count": 332,
   "metadata": {
    "hidden": true
   },
   "outputs": [
    {
     "data": {
      "text/html": [
       "<div>\n",
       "<style scoped>\n",
       "    .dataframe tbody tr th:only-of-type {\n",
       "        vertical-align: middle;\n",
       "    }\n",
       "\n",
       "    .dataframe tbody tr th {\n",
       "        vertical-align: top;\n",
       "    }\n",
       "\n",
       "    .dataframe thead th {\n",
       "        text-align: right;\n",
       "    }\n",
       "</style>\n",
       "<table border=\"1\" class=\"dataframe\">\n",
       "  <thead>\n",
       "    <tr style=\"text-align: right;\">\n",
       "      <th></th>\n",
       "      <th>SRR</th>\n",
       "      <th>failed qc</th>\n",
       "      <th>predicted feature</th>\n",
       "      <th>unknown protein</th>\n",
       "      <th>annotated protein</th>\n",
       "      <th>ribosomal rna</th>\n",
       "      <th>percent_annotated</th>\n",
       "      <th>percent_annotated_full</th>\n",
       "      <th>count_oxido</th>\n",
       "      <th>percent_oxido</th>\n",
       "    </tr>\n",
       "  </thead>\n",
       "  <tbody>\n",
       "    <tr>\n",
       "      <th>0</th>\n",
       "      <td>ERR599048</td>\n",
       "      <td>483504.0</td>\n",
       "      <td>17554261.0</td>\n",
       "      <td>11514325.0</td>\n",
       "      <td>5986265.0</td>\n",
       "      <td>53671.0</td>\n",
       "      <td>0.341015</td>\n",
       "      <td>0.306728</td>\n",
       "      <td>536862</td>\n",
       "      <td>0.027508</td>\n",
       "    </tr>\n",
       "    <tr>\n",
       "      <th>1</th>\n",
       "      <td>ERR598989</td>\n",
       "      <td>382213.0</td>\n",
       "      <td>17802108.0</td>\n",
       "      <td>10374938.0</td>\n",
       "      <td>7377682.0</td>\n",
       "      <td>49488.0</td>\n",
       "      <td>0.414427</td>\n",
       "      <td>0.376071</td>\n",
       "      <td>712899</td>\n",
       "      <td>0.036339</td>\n",
       "    </tr>\n",
       "    <tr>\n",
       "      <th>2</th>\n",
       "      <td>ERR599076</td>\n",
       "      <td>518972.0</td>\n",
       "      <td>17905993.0</td>\n",
       "      <td>11627573.0</td>\n",
       "      <td>6244954.0</td>\n",
       "      <td>33466.0</td>\n",
       "      <td>0.348763</td>\n",
       "      <td>0.320566</td>\n",
       "      <td>2093</td>\n",
       "      <td>0.000107</td>\n",
       "    </tr>\n",
       "    <tr>\n",
       "      <th>3</th>\n",
       "      <td>ERR599020</td>\n",
       "      <td>441375.0</td>\n",
       "      <td>17655613.0</td>\n",
       "      <td>11712976.0</td>\n",
       "      <td>5892914.0</td>\n",
       "      <td>49723.0</td>\n",
       "      <td>0.333770</td>\n",
       "      <td>0.301295</td>\n",
       "      <td>599512</td>\n",
       "      <td>0.030652</td>\n",
       "    </tr>\n",
       "    <tr>\n",
       "      <th>4</th>\n",
       "      <td>ERR599115</td>\n",
       "      <td>486427.0</td>\n",
       "      <td>17590813.0</td>\n",
       "      <td>11354115.0</td>\n",
       "      <td>6196025.0</td>\n",
       "      <td>40673.0</td>\n",
       "      <td>0.352231</td>\n",
       "      <td>0.317524</td>\n",
       "      <td>544068</td>\n",
       "      <td>0.027882</td>\n",
       "    </tr>\n",
       "    <tr>\n",
       "      <th>5</th>\n",
       "      <td>ERR598964</td>\n",
       "      <td>462335.0</td>\n",
       "      <td>17573236.0</td>\n",
       "      <td>11611374.0</td>\n",
       "      <td>5925174.0</td>\n",
       "      <td>36688.0</td>\n",
       "      <td>0.337170</td>\n",
       "      <td>0.303269</td>\n",
       "      <td>569859</td>\n",
       "      <td>0.029167</td>\n",
       "    </tr>\n",
       "    <tr>\n",
       "      <th>6</th>\n",
       "      <td>ERR599063</td>\n",
       "      <td>505457.0</td>\n",
       "      <td>17812084.0</td>\n",
       "      <td>9911389.0</td>\n",
       "      <td>7857631.0</td>\n",
       "      <td>43064.0</td>\n",
       "      <td>0.441140</td>\n",
       "      <td>0.403068</td>\n",
       "      <td>719934</td>\n",
       "      <td>0.036930</td>\n",
       "    </tr>\n",
       "    <tr>\n",
       "      <th>7</th>\n",
       "      <td>ERR3589593</td>\n",
       "      <td>450946.0</td>\n",
       "      <td>17493446.0</td>\n",
       "      <td>11744989.0</td>\n",
       "      <td>5676597.0</td>\n",
       "      <td>71860.0</td>\n",
       "      <td>0.324499</td>\n",
       "      <td>0.290377</td>\n",
       "      <td>525980</td>\n",
       "      <td>0.026906</td>\n",
       "    </tr>\n",
       "    <tr>\n",
       "      <th>8</th>\n",
       "      <td>ERR598981</td>\n",
       "      <td>552527.0</td>\n",
       "      <td>17894190.0</td>\n",
       "      <td>11406934.0</td>\n",
       "      <td>6449538.0</td>\n",
       "      <td>37718.0</td>\n",
       "      <td>0.360426</td>\n",
       "      <td>0.331639</td>\n",
       "      <td>621365</td>\n",
       "      <td>0.031951</td>\n",
       "    </tr>\n",
       "    <tr>\n",
       "      <th>9</th>\n",
       "      <td>ERR599176</td>\n",
       "      <td>1352315.0</td>\n",
       "      <td>16638917.0</td>\n",
       "      <td>7135474.0</td>\n",
       "      <td>9371939.0</td>\n",
       "      <td>131504.0</td>\n",
       "      <td>0.563254</td>\n",
       "      <td>0.502579</td>\n",
       "      <td>751232</td>\n",
       "      <td>0.040286</td>\n",
       "    </tr>\n",
       "    <tr>\n",
       "      <th>10</th>\n",
       "      <td>ERR599125</td>\n",
       "      <td>626264.0</td>\n",
       "      <td>17380761.0</td>\n",
       "      <td>12104800.0</td>\n",
       "      <td>5173535.0</td>\n",
       "      <td>102426.0</td>\n",
       "      <td>0.297659</td>\n",
       "      <td>0.267039</td>\n",
       "      <td>429819</td>\n",
       "      <td>0.022186</td>\n",
       "    </tr>\n",
       "    <tr>\n",
       "      <th>11</th>\n",
       "      <td>ERR599052</td>\n",
       "      <td>492477.0</td>\n",
       "      <td>17722965.0</td>\n",
       "      <td>10489058.0</td>\n",
       "      <td>7190770.0</td>\n",
       "      <td>43137.0</td>\n",
       "      <td>0.405732</td>\n",
       "      <td>0.368615</td>\n",
       "      <td>697606</td>\n",
       "      <td>0.035761</td>\n",
       "    </tr>\n",
       "    <tr>\n",
       "      <th>12</th>\n",
       "      <td>ERR3589586</td>\n",
       "      <td>1402131.0</td>\n",
       "      <td>16750794.0</td>\n",
       "      <td>7809838.0</td>\n",
       "      <td>8776211.0</td>\n",
       "      <td>164745.0</td>\n",
       "      <td>0.523928</td>\n",
       "      <td>0.471893</td>\n",
       "      <td>3180</td>\n",
       "      <td>0.000171</td>\n",
       "    </tr>\n",
       "    <tr>\n",
       "      <th>13</th>\n",
       "      <td>ERR599105</td>\n",
       "      <td>488799.0</td>\n",
       "      <td>17271688.0</td>\n",
       "      <td>11770067.0</td>\n",
       "      <td>5442685.0</td>\n",
       "      <td>58936.0</td>\n",
       "      <td>0.315122</td>\n",
       "      <td>0.278952</td>\n",
       "      <td>452269</td>\n",
       "      <td>0.023180</td>\n",
       "    </tr>\n",
       "    <tr>\n",
       "      <th>14</th>\n",
       "      <td>ERR598963</td>\n",
       "      <td>406223.0</td>\n",
       "      <td>17522905.0</td>\n",
       "      <td>11788956.0</td>\n",
       "      <td>5674293.0</td>\n",
       "      <td>59656.0</td>\n",
       "      <td>0.323821</td>\n",
       "      <td>0.289597</td>\n",
       "      <td>575424</td>\n",
       "      <td>0.029368</td>\n",
       "    </tr>\n",
       "  </tbody>\n",
       "</table>\n",
       "</div>"
      ],
      "text/plain": [
       "           SRR  failed qc  predicted feature  unknown protein  \\\n",
       "0    ERR599048   483504.0         17554261.0       11514325.0   \n",
       "1    ERR598989   382213.0         17802108.0       10374938.0   \n",
       "2    ERR599076   518972.0         17905993.0       11627573.0   \n",
       "3    ERR599020   441375.0         17655613.0       11712976.0   \n",
       "4    ERR599115   486427.0         17590813.0       11354115.0   \n",
       "5    ERR598964   462335.0         17573236.0       11611374.0   \n",
       "6    ERR599063   505457.0         17812084.0        9911389.0   \n",
       "7   ERR3589593   450946.0         17493446.0       11744989.0   \n",
       "8    ERR598981   552527.0         17894190.0       11406934.0   \n",
       "9    ERR599176  1352315.0         16638917.0        7135474.0   \n",
       "10   ERR599125   626264.0         17380761.0       12104800.0   \n",
       "11   ERR599052   492477.0         17722965.0       10489058.0   \n",
       "12  ERR3589586  1402131.0         16750794.0        7809838.0   \n",
       "13   ERR599105   488799.0         17271688.0       11770067.0   \n",
       "14   ERR598963   406223.0         17522905.0       11788956.0   \n",
       "\n",
       "    annotated protein  ribosomal rna  percent_annotated  \\\n",
       "0           5986265.0        53671.0           0.341015   \n",
       "1           7377682.0        49488.0           0.414427   \n",
       "2           6244954.0        33466.0           0.348763   \n",
       "3           5892914.0        49723.0           0.333770   \n",
       "4           6196025.0        40673.0           0.352231   \n",
       "5           5925174.0        36688.0           0.337170   \n",
       "6           7857631.0        43064.0           0.441140   \n",
       "7           5676597.0        71860.0           0.324499   \n",
       "8           6449538.0        37718.0           0.360426   \n",
       "9           9371939.0       131504.0           0.563254   \n",
       "10          5173535.0       102426.0           0.297659   \n",
       "11          7190770.0        43137.0           0.405732   \n",
       "12          8776211.0       164745.0           0.523928   \n",
       "13          5442685.0        58936.0           0.315122   \n",
       "14          5674293.0        59656.0           0.323821   \n",
       "\n",
       "    percent_annotated_full  count_oxido  percent_oxido  \n",
       "0                 0.306728       536862       0.027508  \n",
       "1                 0.376071       712899       0.036339  \n",
       "2                 0.320566         2093       0.000107  \n",
       "3                 0.301295       599512       0.030652  \n",
       "4                 0.317524       544068       0.027882  \n",
       "5                 0.303269       569859       0.029167  \n",
       "6                 0.403068       719934       0.036930  \n",
       "7                 0.290377       525980       0.026906  \n",
       "8                 0.331639       621365       0.031951  \n",
       "9                 0.502579       751232       0.040286  \n",
       "10                0.267039       429819       0.022186  \n",
       "11                0.368615       697606       0.035761  \n",
       "12                0.471893         3180       0.000171  \n",
       "13                0.278952       452269       0.023180  \n",
       "14                0.289597       575424       0.029368  "
      ]
     },
     "execution_count": 332,
     "metadata": {},
     "output_type": "execute_result"
    }
   ],
   "source": [
    "merge_mgrast['percent_oxido'] = merge_mgrast['count_oxido']/(20000000-merge_mgrast['failed qc'])\n",
    "merge_mgrast"
   ]
  },
  {
   "cell_type": "markdown",
   "metadata": {},
   "source": [
    "# classifier results"
   ]
  },
  {
   "cell_type": "code",
   "execution_count": 333,
   "metadata": {},
   "outputs": [
    {
     "data": {
      "text/html": [
       "<div>\n",
       "<style scoped>\n",
       "    .dataframe tbody tr th:only-of-type {\n",
       "        vertical-align: middle;\n",
       "    }\n",
       "\n",
       "    .dataframe tbody tr th {\n",
       "        vertical-align: top;\n",
       "    }\n",
       "\n",
       "    .dataframe thead th {\n",
       "        text-align: right;\n",
       "    }\n",
       "</style>\n",
       "<table border=\"1\" class=\"dataframe\">\n",
       "  <thead>\n",
       "    <tr style=\"text-align: right;\">\n",
       "      <th></th>\n",
       "      <th>SRR</th>\n",
       "      <th>percent_ec1</th>\n",
       "    </tr>\n",
       "  </thead>\n",
       "  <tbody>\n",
       "    <tr>\n",
       "      <th>0</th>\n",
       "      <td>ERR598989</td>\n",
       "      <td>0.182063</td>\n",
       "    </tr>\n",
       "    <tr>\n",
       "      <th>1</th>\n",
       "      <td>ERR599039</td>\n",
       "      <td>0.184558</td>\n",
       "    </tr>\n",
       "    <tr>\n",
       "      <th>2</th>\n",
       "      <td>ERR599020</td>\n",
       "      <td>0.187380</td>\n",
       "    </tr>\n",
       "    <tr>\n",
       "      <th>3</th>\n",
       "      <td>ERR3589593</td>\n",
       "      <td>0.184745</td>\n",
       "    </tr>\n",
       "    <tr>\n",
       "      <th>4</th>\n",
       "      <td>ERR599048</td>\n",
       "      <td>0.185329</td>\n",
       "    </tr>\n",
       "    <tr>\n",
       "      <th>5</th>\n",
       "      <td>ERR599076</td>\n",
       "      <td>0.206118</td>\n",
       "    </tr>\n",
       "    <tr>\n",
       "      <th>6</th>\n",
       "      <td>ERR599063</td>\n",
       "      <td>0.181815</td>\n",
       "    </tr>\n",
       "    <tr>\n",
       "      <th>7</th>\n",
       "      <td>ERR598964</td>\n",
       "      <td>0.197463</td>\n",
       "    </tr>\n",
       "    <tr>\n",
       "      <th>8</th>\n",
       "      <td>ERR599052</td>\n",
       "      <td>0.185898</td>\n",
       "    </tr>\n",
       "    <tr>\n",
       "      <th>9</th>\n",
       "      <td>ERR599125</td>\n",
       "      <td>0.192314</td>\n",
       "    </tr>\n",
       "    <tr>\n",
       "      <th>10</th>\n",
       "      <td>ERR3589586</td>\n",
       "      <td>0.196373</td>\n",
       "    </tr>\n",
       "    <tr>\n",
       "      <th>11</th>\n",
       "      <td>ERR598981</td>\n",
       "      <td>0.202250</td>\n",
       "    </tr>\n",
       "    <tr>\n",
       "      <th>12</th>\n",
       "      <td>ERR599105</td>\n",
       "      <td>0.163968</td>\n",
       "    </tr>\n",
       "    <tr>\n",
       "      <th>13</th>\n",
       "      <td>ERR599176</td>\n",
       "      <td>0.186171</td>\n",
       "    </tr>\n",
       "    <tr>\n",
       "      <th>14</th>\n",
       "      <td>ERR598963</td>\n",
       "      <td>0.183043</td>\n",
       "    </tr>\n",
       "    <tr>\n",
       "      <th>15</th>\n",
       "      <td>ERR599115</td>\n",
       "      <td>0.200113</td>\n",
       "    </tr>\n",
       "  </tbody>\n",
       "</table>\n",
       "</div>"
      ],
      "text/plain": [
       "           SRR  percent_ec1\n",
       "0    ERR598989     0.182063\n",
       "1    ERR599039     0.184558\n",
       "2    ERR599020     0.187380\n",
       "3   ERR3589593     0.184745\n",
       "4    ERR599048     0.185329\n",
       "5    ERR599076     0.206118\n",
       "6    ERR599063     0.181815\n",
       "7    ERR598964     0.197463\n",
       "8    ERR599052     0.185898\n",
       "9    ERR599125     0.192314\n",
       "10  ERR3589586     0.196373\n",
       "11   ERR598981     0.202250\n",
       "12   ERR599105     0.163968\n",
       "13   ERR599176     0.186171\n",
       "14   ERR598963     0.183043\n",
       "15   ERR599115     0.200113"
      ]
     },
     "execution_count": 333,
     "metadata": {},
     "output_type": "execute_result"
    }
   ],
   "source": [
    "results = pd.read_csv('classifier_results/EC1_predictions_summary.csv')\n",
    "results"
   ]
  },
  {
   "cell_type": "markdown",
   "metadata": {},
   "source": [
    "# merge with metadata"
   ]
  },
  {
   "cell_type": "code",
   "execution_count": 334,
   "metadata": {},
   "outputs": [
    {
     "data": {
      "text/html": [
       "<div>\n",
       "<style scoped>\n",
       "    .dataframe tbody tr th:only-of-type {\n",
       "        vertical-align: middle;\n",
       "    }\n",
       "\n",
       "    .dataframe tbody tr th {\n",
       "        vertical-align: top;\n",
       "    }\n",
       "\n",
       "    .dataframe thead th {\n",
       "        text-align: right;\n",
       "    }\n",
       "</style>\n",
       "<table border=\"1\" class=\"dataframe\">\n",
       "  <thead>\n",
       "    <tr style=\"text-align: right;\">\n",
       "      <th></th>\n",
       "      <th>SRA read accession</th>\n",
       "      <th>Lat</th>\n",
       "      <th>Lon</th>\n",
       "      <th>Ocean region</th>\n",
       "      <th>Depth category</th>\n",
       "      <th>depth_cat</th>\n",
       "      <th>Depth (m)</th>\n",
       "      <th>Temp (°C)</th>\n",
       "      <th>Oxygen (umol/kg)</th>\n",
       "      <th>OMZ?</th>\n",
       "      <th>TARA Station</th>\n",
       "    </tr>\n",
       "  </thead>\n",
       "  <tbody>\n",
       "    <tr>\n",
       "      <th>0</th>\n",
       "      <td>ERR598981</td>\n",
       "      <td>-12.93</td>\n",
       "      <td>-96.12</td>\n",
       "      <td>Pacific</td>\n",
       "      <td>MES</td>\n",
       "      <td>OMZ</td>\n",
       "      <td>175.3</td>\n",
       "      <td>13.0</td>\n",
       "      <td>0.7</td>\n",
       "      <td>Yes</td>\n",
       "      <td>100</td>\n",
       "    </tr>\n",
       "    <tr>\n",
       "      <th>1</th>\n",
       "      <td>ERR599063</td>\n",
       "      <td>-12.99</td>\n",
       "      <td>-95.99</td>\n",
       "      <td>Pacific</td>\n",
       "      <td>SRF</td>\n",
       "      <td>SRF</td>\n",
       "      <td>5.5</td>\n",
       "      <td>25.3</td>\n",
       "      <td>200.2</td>\n",
       "      <td>-</td>\n",
       "      <td>100</td>\n",
       "    </tr>\n",
       "    <tr>\n",
       "      <th>2</th>\n",
       "      <td>ERR599115</td>\n",
       "      <td>35.31</td>\n",
       "      <td>-127.74</td>\n",
       "      <td>Pacific</td>\n",
       "      <td>MES</td>\n",
       "      <td>OMZ</td>\n",
       "      <td>644.6</td>\n",
       "      <td>4.9</td>\n",
       "      <td>8.6</td>\n",
       "      <td>Yes</td>\n",
       "      <td>133</td>\n",
       "    </tr>\n",
       "    <tr>\n",
       "      <th>3</th>\n",
       "      <td>ERR599052</td>\n",
       "      <td>35.41</td>\n",
       "      <td>-127.74</td>\n",
       "      <td>Pacific</td>\n",
       "      <td>SRF</td>\n",
       "      <td>SRF</td>\n",
       "      <td>5.5</td>\n",
       "      <td>19.2</td>\n",
       "      <td>224.4</td>\n",
       "      <td>-</td>\n",
       "      <td>133</td>\n",
       "    </tr>\n",
       "    <tr>\n",
       "      <th>4</th>\n",
       "      <td>ERR599020</td>\n",
       "      <td>-1.87</td>\n",
       "      <td>-84.62</td>\n",
       "      <td>Pacific</td>\n",
       "      <td>MES</td>\n",
       "      <td>OMZ</td>\n",
       "      <td>376.9</td>\n",
       "      <td>10.3</td>\n",
       "      <td>1.3</td>\n",
       "      <td>Yes</td>\n",
       "      <td>110</td>\n",
       "    </tr>\n",
       "  </tbody>\n",
       "</table>\n",
       "</div>"
      ],
      "text/plain": [
       "  SRA read accession    Lat     Lon Ocean region Depth category depth_cat  \\\n",
       "0          ERR598981 -12.93  -96.12      Pacific            MES       OMZ   \n",
       "1          ERR599063 -12.99  -95.99      Pacific            SRF       SRF   \n",
       "2          ERR599115  35.31 -127.74      Pacific            MES       OMZ   \n",
       "3          ERR599052  35.41 -127.74      Pacific            SRF       SRF   \n",
       "4          ERR599020  -1.87  -84.62      Pacific            MES       OMZ   \n",
       "\n",
       "   Depth (m)  Temp (°C)  Oxygen (umol/kg) OMZ?  TARA Station  \n",
       "0      175.3       13.0               0.7  Yes           100  \n",
       "1        5.5       25.3             200.2    -           100  \n",
       "2      644.6        4.9               8.6  Yes           133  \n",
       "3        5.5       19.2             224.4    -           133  \n",
       "4      376.9       10.3               1.3  Yes           110  "
      ]
     },
     "execution_count": 334,
     "metadata": {},
     "output_type": "execute_result"
    }
   ],
   "source": [
    "meta = pd.read_csv('TARA_sample_metadata.csv')\n",
    "meta.head()"
   ]
  },
  {
   "cell_type": "code",
   "execution_count": 341,
   "metadata": {},
   "outputs": [
    {
     "data": {
      "text/html": [
       "<div>\n",
       "<style scoped>\n",
       "    .dataframe tbody tr th:only-of-type {\n",
       "        vertical-align: middle;\n",
       "    }\n",
       "\n",
       "    .dataframe tbody tr th {\n",
       "        vertical-align: top;\n",
       "    }\n",
       "\n",
       "    .dataframe thead th {\n",
       "        text-align: right;\n",
       "    }\n",
       "</style>\n",
       "<table border=\"1\" class=\"dataframe\">\n",
       "  <thead>\n",
       "    <tr style=\"text-align: right;\">\n",
       "      <th></th>\n",
       "      <th>SRA read accession</th>\n",
       "      <th>Lat</th>\n",
       "      <th>Lon</th>\n",
       "      <th>Ocean region</th>\n",
       "      <th>Depth category</th>\n",
       "      <th>depth_cat</th>\n",
       "      <th>Depth (m)</th>\n",
       "      <th>Temp (°C)</th>\n",
       "      <th>Oxygen (umol/kg)</th>\n",
       "      <th>OMZ?</th>\n",
       "      <th>TARA Station</th>\n",
       "      <th>percent_oxido_classifier</th>\n",
       "    </tr>\n",
       "  </thead>\n",
       "  <tbody>\n",
       "    <tr>\n",
       "      <th>0</th>\n",
       "      <td>ERR598981</td>\n",
       "      <td>-12.93</td>\n",
       "      <td>-96.12</td>\n",
       "      <td>Pacific</td>\n",
       "      <td>MES</td>\n",
       "      <td>OMZ</td>\n",
       "      <td>175.3</td>\n",
       "      <td>13.0</td>\n",
       "      <td>0.7</td>\n",
       "      <td>Yes</td>\n",
       "      <td>100</td>\n",
       "      <td>0.202250</td>\n",
       "    </tr>\n",
       "    <tr>\n",
       "      <th>1</th>\n",
       "      <td>ERR599063</td>\n",
       "      <td>-12.99</td>\n",
       "      <td>-95.99</td>\n",
       "      <td>Pacific</td>\n",
       "      <td>SRF</td>\n",
       "      <td>SRF</td>\n",
       "      <td>5.5</td>\n",
       "      <td>25.3</td>\n",
       "      <td>200.2</td>\n",
       "      <td>-</td>\n",
       "      <td>100</td>\n",
       "      <td>0.181815</td>\n",
       "    </tr>\n",
       "    <tr>\n",
       "      <th>2</th>\n",
       "      <td>ERR599115</td>\n",
       "      <td>35.31</td>\n",
       "      <td>-127.74</td>\n",
       "      <td>Pacific</td>\n",
       "      <td>MES</td>\n",
       "      <td>OMZ</td>\n",
       "      <td>644.6</td>\n",
       "      <td>4.9</td>\n",
       "      <td>8.6</td>\n",
       "      <td>Yes</td>\n",
       "      <td>133</td>\n",
       "      <td>0.200113</td>\n",
       "    </tr>\n",
       "    <tr>\n",
       "      <th>3</th>\n",
       "      <td>ERR599052</td>\n",
       "      <td>35.41</td>\n",
       "      <td>-127.74</td>\n",
       "      <td>Pacific</td>\n",
       "      <td>SRF</td>\n",
       "      <td>SRF</td>\n",
       "      <td>5.5</td>\n",
       "      <td>19.2</td>\n",
       "      <td>224.4</td>\n",
       "      <td>-</td>\n",
       "      <td>133</td>\n",
       "      <td>0.185898</td>\n",
       "    </tr>\n",
       "    <tr>\n",
       "      <th>4</th>\n",
       "      <td>ERR599020</td>\n",
       "      <td>-1.87</td>\n",
       "      <td>-84.62</td>\n",
       "      <td>Pacific</td>\n",
       "      <td>MES</td>\n",
       "      <td>OMZ</td>\n",
       "      <td>376.9</td>\n",
       "      <td>10.3</td>\n",
       "      <td>1.3</td>\n",
       "      <td>Yes</td>\n",
       "      <td>110</td>\n",
       "      <td>0.187380</td>\n",
       "    </tr>\n",
       "  </tbody>\n",
       "</table>\n",
       "</div>"
      ],
      "text/plain": [
       "  SRA read accession    Lat     Lon Ocean region Depth category depth_cat  \\\n",
       "0          ERR598981 -12.93  -96.12      Pacific            MES       OMZ   \n",
       "1          ERR599063 -12.99  -95.99      Pacific            SRF       SRF   \n",
       "2          ERR599115  35.31 -127.74      Pacific            MES       OMZ   \n",
       "3          ERR599052  35.41 -127.74      Pacific            SRF       SRF   \n",
       "4          ERR599020  -1.87  -84.62      Pacific            MES       OMZ   \n",
       "\n",
       "   Depth (m)  Temp (°C)  Oxygen (umol/kg) OMZ?  TARA Station  \\\n",
       "0      175.3       13.0               0.7  Yes           100   \n",
       "1        5.5       25.3             200.2    -           100   \n",
       "2      644.6        4.9               8.6  Yes           133   \n",
       "3        5.5       19.2             224.4    -           133   \n",
       "4      376.9       10.3               1.3  Yes           110   \n",
       "\n",
       "   percent_oxido_classifier  \n",
       "0                  0.202250  \n",
       "1                  0.181815  \n",
       "2                  0.200113  \n",
       "3                  0.185898  \n",
       "4                  0.187380  "
      ]
     },
     "execution_count": 341,
     "metadata": {},
     "output_type": "execute_result"
    }
   ],
   "source": [
    "m1 = meta.merge(results,left_on='SRA read accession',right_on='SRR')\n",
    "m1.drop(labels='SRR',axis=1,inplace=True)\n",
    "m1.rename(columns={'percent_ec1': 'percent_oxido_classifier'},inplace=True)\n",
    "m1.head()\n"
   ]
  },
  {
   "cell_type": "code",
   "execution_count": 342,
   "metadata": {},
   "outputs": [
    {
     "data": {
      "text/html": [
       "<div>\n",
       "<style scoped>\n",
       "    .dataframe tbody tr th:only-of-type {\n",
       "        vertical-align: middle;\n",
       "    }\n",
       "\n",
       "    .dataframe tbody tr th {\n",
       "        vertical-align: top;\n",
       "    }\n",
       "\n",
       "    .dataframe thead th {\n",
       "        text-align: right;\n",
       "    }\n",
       "</style>\n",
       "<table border=\"1\" class=\"dataframe\">\n",
       "  <thead>\n",
       "    <tr style=\"text-align: right;\">\n",
       "      <th></th>\n",
       "      <th>SRA read accession</th>\n",
       "      <th>Lat</th>\n",
       "      <th>Lon</th>\n",
       "      <th>Ocean region</th>\n",
       "      <th>Depth category</th>\n",
       "      <th>depth_cat</th>\n",
       "      <th>Depth (m)</th>\n",
       "      <th>Temp (°C)</th>\n",
       "      <th>Oxygen (umol/kg)</th>\n",
       "      <th>OMZ?</th>\n",
       "      <th>TARA Station</th>\n",
       "      <th>percent_oxido_classifier</th>\n",
       "      <th>percent_annotated_mgrast</th>\n",
       "      <th>percent_oxido_mgrast</th>\n",
       "    </tr>\n",
       "  </thead>\n",
       "  <tbody>\n",
       "    <tr>\n",
       "      <th>0</th>\n",
       "      <td>ERR598981</td>\n",
       "      <td>-12.93</td>\n",
       "      <td>-96.12</td>\n",
       "      <td>Pacific</td>\n",
       "      <td>MES</td>\n",
       "      <td>OMZ</td>\n",
       "      <td>175.3</td>\n",
       "      <td>13.0</td>\n",
       "      <td>0.7</td>\n",
       "      <td>Yes</td>\n",
       "      <td>100</td>\n",
       "      <td>0.202250</td>\n",
       "      <td>0.331639</td>\n",
       "      <td>0.031951</td>\n",
       "    </tr>\n",
       "    <tr>\n",
       "      <th>1</th>\n",
       "      <td>ERR599063</td>\n",
       "      <td>-12.99</td>\n",
       "      <td>-95.99</td>\n",
       "      <td>Pacific</td>\n",
       "      <td>SRF</td>\n",
       "      <td>SRF</td>\n",
       "      <td>5.5</td>\n",
       "      <td>25.3</td>\n",
       "      <td>200.2</td>\n",
       "      <td>-</td>\n",
       "      <td>100</td>\n",
       "      <td>0.181815</td>\n",
       "      <td>0.403068</td>\n",
       "      <td>0.036930</td>\n",
       "    </tr>\n",
       "    <tr>\n",
       "      <th>2</th>\n",
       "      <td>ERR599115</td>\n",
       "      <td>35.31</td>\n",
       "      <td>-127.74</td>\n",
       "      <td>Pacific</td>\n",
       "      <td>MES</td>\n",
       "      <td>OMZ</td>\n",
       "      <td>644.6</td>\n",
       "      <td>4.9</td>\n",
       "      <td>8.6</td>\n",
       "      <td>Yes</td>\n",
       "      <td>133</td>\n",
       "      <td>0.200113</td>\n",
       "      <td>0.317524</td>\n",
       "      <td>0.027882</td>\n",
       "    </tr>\n",
       "    <tr>\n",
       "      <th>3</th>\n",
       "      <td>ERR599052</td>\n",
       "      <td>35.41</td>\n",
       "      <td>-127.74</td>\n",
       "      <td>Pacific</td>\n",
       "      <td>SRF</td>\n",
       "      <td>SRF</td>\n",
       "      <td>5.5</td>\n",
       "      <td>19.2</td>\n",
       "      <td>224.4</td>\n",
       "      <td>-</td>\n",
       "      <td>133</td>\n",
       "      <td>0.185898</td>\n",
       "      <td>0.368615</td>\n",
       "      <td>0.035761</td>\n",
       "    </tr>\n",
       "    <tr>\n",
       "      <th>4</th>\n",
       "      <td>ERR599020</td>\n",
       "      <td>-1.87</td>\n",
       "      <td>-84.62</td>\n",
       "      <td>Pacific</td>\n",
       "      <td>MES</td>\n",
       "      <td>OMZ</td>\n",
       "      <td>376.9</td>\n",
       "      <td>10.3</td>\n",
       "      <td>1.3</td>\n",
       "      <td>Yes</td>\n",
       "      <td>110</td>\n",
       "      <td>0.187380</td>\n",
       "      <td>0.301295</td>\n",
       "      <td>0.030652</td>\n",
       "    </tr>\n",
       "  </tbody>\n",
       "</table>\n",
       "</div>"
      ],
      "text/plain": [
       "  SRA read accession    Lat     Lon Ocean region Depth category depth_cat  \\\n",
       "0          ERR598981 -12.93  -96.12      Pacific            MES       OMZ   \n",
       "1          ERR599063 -12.99  -95.99      Pacific            SRF       SRF   \n",
       "2          ERR599115  35.31 -127.74      Pacific            MES       OMZ   \n",
       "3          ERR599052  35.41 -127.74      Pacific            SRF       SRF   \n",
       "4          ERR599020  -1.87  -84.62      Pacific            MES       OMZ   \n",
       "\n",
       "   Depth (m)  Temp (°C)  Oxygen (umol/kg) OMZ?  TARA Station  \\\n",
       "0      175.3       13.0               0.7  Yes           100   \n",
       "1        5.5       25.3             200.2    -           100   \n",
       "2      644.6        4.9               8.6  Yes           133   \n",
       "3        5.5       19.2             224.4    -           133   \n",
       "4      376.9       10.3               1.3  Yes           110   \n",
       "\n",
       "   percent_oxido_classifier  percent_annotated_mgrast  percent_oxido_mgrast  \n",
       "0                  0.202250                  0.331639              0.031951  \n",
       "1                  0.181815                  0.403068              0.036930  \n",
       "2                  0.200113                  0.317524              0.027882  \n",
       "3                  0.185898                  0.368615              0.035761  \n",
       "4                  0.187380                  0.301295              0.030652  "
      ]
     },
     "execution_count": 342,
     "metadata": {},
     "output_type": "execute_result"
    }
   ],
   "source": [
    "m2 = m1.merge(merge_mgrast[['SRR','percent_annotated_full','percent_oxido']],left_on='SRA read accession',right_on='SRR')\n",
    "m2.drop(labels='SRR',axis=1,inplace=True)\n",
    "m2.rename(columns={'percent_annotated_full': 'percent_annotated_mgrast','percent_oxido':'percent_oxido_mgrast'},inplace=True)\n",
    "m2.head()"
   ]
  },
  {
   "cell_type": "code",
   "execution_count": 343,
   "metadata": {},
   "outputs": [
    {
     "data": {
      "text/html": [
       "<div>\n",
       "<style scoped>\n",
       "    .dataframe tbody tr th:only-of-type {\n",
       "        vertical-align: middle;\n",
       "    }\n",
       "\n",
       "    .dataframe tbody tr th {\n",
       "        vertical-align: top;\n",
       "    }\n",
       "\n",
       "    .dataframe thead th {\n",
       "        text-align: right;\n",
       "    }\n",
       "</style>\n",
       "<table border=\"1\" class=\"dataframe\">\n",
       "  <thead>\n",
       "    <tr style=\"text-align: right;\">\n",
       "      <th></th>\n",
       "      <th>SRA read accession</th>\n",
       "      <th>Lat</th>\n",
       "      <th>Lon</th>\n",
       "      <th>Ocean region</th>\n",
       "      <th>Depth category</th>\n",
       "      <th>depth_cat</th>\n",
       "      <th>Depth (m)</th>\n",
       "      <th>Temp (°C)</th>\n",
       "      <th>Oxygen (umol/kg)</th>\n",
       "      <th>OMZ?</th>\n",
       "      <th>TARA Station</th>\n",
       "      <th>percent_oxido_classifier</th>\n",
       "      <th>percent_annotated_mgrast</th>\n",
       "      <th>percent_oxido_mgrast</th>\n",
       "      <th>percent_annotated_mifaser</th>\n",
       "      <th>percent_oxido_mifaser</th>\n",
       "    </tr>\n",
       "  </thead>\n",
       "  <tbody>\n",
       "    <tr>\n",
       "      <th>0</th>\n",
       "      <td>ERR598981</td>\n",
       "      <td>-12.93</td>\n",
       "      <td>-96.12</td>\n",
       "      <td>Pacific</td>\n",
       "      <td>MES</td>\n",
       "      <td>OMZ</td>\n",
       "      <td>175.3</td>\n",
       "      <td>13.0</td>\n",
       "      <td>0.7</td>\n",
       "      <td>Yes</td>\n",
       "      <td>100</td>\n",
       "      <td>0.202250</td>\n",
       "      <td>0.331639</td>\n",
       "      <td>0.031951</td>\n",
       "      <td>0.021667</td>\n",
       "      <td>0.003408</td>\n",
       "    </tr>\n",
       "    <tr>\n",
       "      <th>1</th>\n",
       "      <td>ERR599063</td>\n",
       "      <td>-12.99</td>\n",
       "      <td>-95.99</td>\n",
       "      <td>Pacific</td>\n",
       "      <td>SRF</td>\n",
       "      <td>SRF</td>\n",
       "      <td>5.5</td>\n",
       "      <td>25.3</td>\n",
       "      <td>200.2</td>\n",
       "      <td>-</td>\n",
       "      <td>100</td>\n",
       "      <td>0.181815</td>\n",
       "      <td>0.403068</td>\n",
       "      <td>0.036930</td>\n",
       "      <td>0.001707</td>\n",
       "      <td>0.000353</td>\n",
       "    </tr>\n",
       "    <tr>\n",
       "      <th>2</th>\n",
       "      <td>ERR599115</td>\n",
       "      <td>35.31</td>\n",
       "      <td>-127.74</td>\n",
       "      <td>Pacific</td>\n",
       "      <td>MES</td>\n",
       "      <td>OMZ</td>\n",
       "      <td>644.6</td>\n",
       "      <td>4.9</td>\n",
       "      <td>8.6</td>\n",
       "      <td>Yes</td>\n",
       "      <td>133</td>\n",
       "      <td>0.200113</td>\n",
       "      <td>0.317524</td>\n",
       "      <td>0.027882</td>\n",
       "      <td>0.010099</td>\n",
       "      <td>0.001629</td>\n",
       "    </tr>\n",
       "    <tr>\n",
       "      <th>3</th>\n",
       "      <td>ERR599052</td>\n",
       "      <td>35.41</td>\n",
       "      <td>-127.74</td>\n",
       "      <td>Pacific</td>\n",
       "      <td>SRF</td>\n",
       "      <td>SRF</td>\n",
       "      <td>5.5</td>\n",
       "      <td>19.2</td>\n",
       "      <td>224.4</td>\n",
       "      <td>-</td>\n",
       "      <td>133</td>\n",
       "      <td>0.185898</td>\n",
       "      <td>0.368615</td>\n",
       "      <td>0.035761</td>\n",
       "      <td>0.012741</td>\n",
       "      <td>0.002548</td>\n",
       "    </tr>\n",
       "    <tr>\n",
       "      <th>4</th>\n",
       "      <td>ERR599020</td>\n",
       "      <td>-1.87</td>\n",
       "      <td>-84.62</td>\n",
       "      <td>Pacific</td>\n",
       "      <td>MES</td>\n",
       "      <td>OMZ</td>\n",
       "      <td>376.9</td>\n",
       "      <td>10.3</td>\n",
       "      <td>1.3</td>\n",
       "      <td>Yes</td>\n",
       "      <td>110</td>\n",
       "      <td>0.187380</td>\n",
       "      <td>0.301295</td>\n",
       "      <td>0.030652</td>\n",
       "      <td>0.019407</td>\n",
       "      <td>0.003346</td>\n",
       "    </tr>\n",
       "  </tbody>\n",
       "</table>\n",
       "</div>"
      ],
      "text/plain": [
       "  SRA read accession    Lat     Lon Ocean region Depth category depth_cat  \\\n",
       "0          ERR598981 -12.93  -96.12      Pacific            MES       OMZ   \n",
       "1          ERR599063 -12.99  -95.99      Pacific            SRF       SRF   \n",
       "2          ERR599115  35.31 -127.74      Pacific            MES       OMZ   \n",
       "3          ERR599052  35.41 -127.74      Pacific            SRF       SRF   \n",
       "4          ERR599020  -1.87  -84.62      Pacific            MES       OMZ   \n",
       "\n",
       "   Depth (m)  Temp (°C)  Oxygen (umol/kg) OMZ?  TARA Station  \\\n",
       "0      175.3       13.0               0.7  Yes           100   \n",
       "1        5.5       25.3             200.2    -           100   \n",
       "2      644.6        4.9               8.6  Yes           133   \n",
       "3        5.5       19.2             224.4    -           133   \n",
       "4      376.9       10.3               1.3  Yes           110   \n",
       "\n",
       "   percent_oxido_classifier  percent_annotated_mgrast  percent_oxido_mgrast  \\\n",
       "0                  0.202250                  0.331639              0.031951   \n",
       "1                  0.181815                  0.403068              0.036930   \n",
       "2                  0.200113                  0.317524              0.027882   \n",
       "3                  0.185898                  0.368615              0.035761   \n",
       "4                  0.187380                  0.301295              0.030652   \n",
       "\n",
       "   percent_annotated_mifaser  percent_oxido_mifaser  \n",
       "0                   0.021667               0.003408  \n",
       "1                   0.001707               0.000353  \n",
       "2                   0.010099               0.001629  \n",
       "3                   0.012741               0.002548  \n",
       "4                   0.019407               0.003346  "
      ]
     },
     "execution_count": 343,
     "metadata": {},
     "output_type": "execute_result"
    }
   ],
   "source": [
    "m3 = m2.merge(stats,left_on='SRA read accession',right_on='SRR')\n",
    "m3.drop(labels='SRR',axis=1,inplace=True)\n",
    "m3.rename(columns={'percent_annotated': 'percent_annotated_mifaser','percent_oxidos':'percent_oxido_mifaser'},inplace=True)\n",
    "m3.head()"
   ]
  },
  {
   "cell_type": "code",
   "execution_count": 344,
   "metadata": {},
   "outputs": [
    {
     "data": {
      "text/html": [
       "<div>\n",
       "<style scoped>\n",
       "    .dataframe tbody tr th:only-of-type {\n",
       "        vertical-align: middle;\n",
       "    }\n",
       "\n",
       "    .dataframe tbody tr th {\n",
       "        vertical-align: top;\n",
       "    }\n",
       "\n",
       "    .dataframe thead th {\n",
       "        text-align: right;\n",
       "    }\n",
       "</style>\n",
       "<table border=\"1\" class=\"dataframe\">\n",
       "  <thead>\n",
       "    <tr style=\"text-align: right;\">\n",
       "      <th></th>\n",
       "      <th>SRA read accession</th>\n",
       "      <th>Lat</th>\n",
       "      <th>Lon</th>\n",
       "      <th>Ocean region</th>\n",
       "      <th>Depth category</th>\n",
       "      <th>depth_cat</th>\n",
       "      <th>Depth (m)</th>\n",
       "      <th>Temp (°C)</th>\n",
       "      <th>Oxygen (umol/kg)</th>\n",
       "      <th>OMZ?</th>\n",
       "      <th>TARA Station</th>\n",
       "      <th>percent_oxido_classifier</th>\n",
       "      <th>percent_annotated_mgrast</th>\n",
       "      <th>percent_oxido_mgrast</th>\n",
       "      <th>percent_annotated_mifaser</th>\n",
       "      <th>percent_oxido_mifaser</th>\n",
       "    </tr>\n",
       "  </thead>\n",
       "  <tbody>\n",
       "    <tr>\n",
       "      <th>8</th>\n",
       "      <td>ERR599105</td>\n",
       "      <td>-8.78</td>\n",
       "      <td>-17.91</td>\n",
       "      <td>Atlantic</td>\n",
       "      <td>SRF</td>\n",
       "      <td>SRF</td>\n",
       "      <td>5.8</td>\n",
       "      <td>25.0</td>\n",
       "      <td>199.1</td>\n",
       "      <td>-</td>\n",
       "      <td>72</td>\n",
       "      <td>0.163968</td>\n",
       "      <td>0.278952</td>\n",
       "      <td>0.023180</td>\n",
       "      <td>0.016069</td>\n",
       "      <td>0.003836</td>\n",
       "    </tr>\n",
       "    <tr>\n",
       "      <th>1</th>\n",
       "      <td>ERR599063</td>\n",
       "      <td>-12.99</td>\n",
       "      <td>-95.99</td>\n",
       "      <td>Pacific</td>\n",
       "      <td>SRF</td>\n",
       "      <td>SRF</td>\n",
       "      <td>5.5</td>\n",
       "      <td>25.3</td>\n",
       "      <td>200.2</td>\n",
       "      <td>-</td>\n",
       "      <td>100</td>\n",
       "      <td>0.181815</td>\n",
       "      <td>0.403068</td>\n",
       "      <td>0.036930</td>\n",
       "      <td>0.001707</td>\n",
       "      <td>0.000353</td>\n",
       "    </tr>\n",
       "    <tr>\n",
       "      <th>6</th>\n",
       "      <td>ERR598989</td>\n",
       "      <td>14.20</td>\n",
       "      <td>-116.63</td>\n",
       "      <td>Pacific</td>\n",
       "      <td>SRF</td>\n",
       "      <td>SRF</td>\n",
       "      <td>5.4</td>\n",
       "      <td>26.4</td>\n",
       "      <td>195.1</td>\n",
       "      <td>-</td>\n",
       "      <td>137</td>\n",
       "      <td>0.182063</td>\n",
       "      <td>0.376071</td>\n",
       "      <td>0.036339</td>\n",
       "      <td>0.024079</td>\n",
       "      <td>0.004829</td>\n",
       "    </tr>\n",
       "    <tr>\n",
       "      <th>10</th>\n",
       "      <td>ERR598963</td>\n",
       "      <td>34.10</td>\n",
       "      <td>-49.89</td>\n",
       "      <td>Atlantic</td>\n",
       "      <td>SRF</td>\n",
       "      <td>SRF</td>\n",
       "      <td>5.5</td>\n",
       "      <td>18.7</td>\n",
       "      <td>220.2</td>\n",
       "      <td>-</td>\n",
       "      <td>149</td>\n",
       "      <td>0.183043</td>\n",
       "      <td>0.289597</td>\n",
       "      <td>0.029368</td>\n",
       "      <td>0.018274</td>\n",
       "      <td>0.003392</td>\n",
       "    </tr>\n",
       "    <tr>\n",
       "      <th>13</th>\n",
       "      <td>ERR3589593</td>\n",
       "      <td>76.12</td>\n",
       "      <td>1.36</td>\n",
       "      <td>Polar</td>\n",
       "      <td>MES</td>\n",
       "      <td>MES</td>\n",
       "      <td>490.5</td>\n",
       "      <td>0.1</td>\n",
       "      <td>315.4</td>\n",
       "      <td>No</td>\n",
       "      <td>163</td>\n",
       "      <td>0.184745</td>\n",
       "      <td>0.290377</td>\n",
       "      <td>0.026906</td>\n",
       "      <td>0.018158</td>\n",
       "      <td>0.002944</td>\n",
       "    </tr>\n",
       "    <tr>\n",
       "      <th>7</th>\n",
       "      <td>ERR599048</td>\n",
       "      <td>-8.80</td>\n",
       "      <td>-17.91</td>\n",
       "      <td>Atlantic</td>\n",
       "      <td>MES</td>\n",
       "      <td>MES</td>\n",
       "      <td>792.7</td>\n",
       "      <td>4.7</td>\n",
       "      <td>143.2</td>\n",
       "      <td>No</td>\n",
       "      <td>72</td>\n",
       "      <td>0.185329</td>\n",
       "      <td>0.306728</td>\n",
       "      <td>0.027508</td>\n",
       "      <td>0.018757</td>\n",
       "      <td>0.003852</td>\n",
       "    </tr>\n",
       "    <tr>\n",
       "      <th>3</th>\n",
       "      <td>ERR599052</td>\n",
       "      <td>35.41</td>\n",
       "      <td>-127.74</td>\n",
       "      <td>Pacific</td>\n",
       "      <td>SRF</td>\n",
       "      <td>SRF</td>\n",
       "      <td>5.5</td>\n",
       "      <td>19.2</td>\n",
       "      <td>224.4</td>\n",
       "      <td>-</td>\n",
       "      <td>133</td>\n",
       "      <td>0.185898</td>\n",
       "      <td>0.368615</td>\n",
       "      <td>0.035761</td>\n",
       "      <td>0.012741</td>\n",
       "      <td>0.002548</td>\n",
       "    </tr>\n",
       "    <tr>\n",
       "      <th>12</th>\n",
       "      <td>ERR599176</td>\n",
       "      <td>-62.03</td>\n",
       "      <td>-49.54</td>\n",
       "      <td>Polar</td>\n",
       "      <td>SRF</td>\n",
       "      <td>SRF</td>\n",
       "      <td>5.9</td>\n",
       "      <td>0.7</td>\n",
       "      <td>343.4</td>\n",
       "      <td>-</td>\n",
       "      <td>85</td>\n",
       "      <td>0.186171</td>\n",
       "      <td>0.502579</td>\n",
       "      <td>0.040286</td>\n",
       "      <td>0.027172</td>\n",
       "      <td>0.004703</td>\n",
       "    </tr>\n",
       "    <tr>\n",
       "      <th>4</th>\n",
       "      <td>ERR599020</td>\n",
       "      <td>-1.87</td>\n",
       "      <td>-84.62</td>\n",
       "      <td>Pacific</td>\n",
       "      <td>MES</td>\n",
       "      <td>OMZ</td>\n",
       "      <td>376.9</td>\n",
       "      <td>10.3</td>\n",
       "      <td>1.3</td>\n",
       "      <td>Yes</td>\n",
       "      <td>110</td>\n",
       "      <td>0.187380</td>\n",
       "      <td>0.301295</td>\n",
       "      <td>0.030652</td>\n",
       "      <td>0.019407</td>\n",
       "      <td>0.003346</td>\n",
       "    </tr>\n",
       "    <tr>\n",
       "      <th>11</th>\n",
       "      <td>ERR599125</td>\n",
       "      <td>-61.98</td>\n",
       "      <td>-49.45</td>\n",
       "      <td>Polar</td>\n",
       "      <td>MES</td>\n",
       "      <td>MES</td>\n",
       "      <td>783.8</td>\n",
       "      <td>0.5</td>\n",
       "      <td>203.8</td>\n",
       "      <td>No</td>\n",
       "      <td>85</td>\n",
       "      <td>0.192314</td>\n",
       "      <td>0.267039</td>\n",
       "      <td>0.022186</td>\n",
       "      <td>0.015060</td>\n",
       "      <td>0.002454</td>\n",
       "    </tr>\n",
       "    <tr>\n",
       "      <th>14</th>\n",
       "      <td>ERR3589586</td>\n",
       "      <td>76.18</td>\n",
       "      <td>1.39</td>\n",
       "      <td>Polar</td>\n",
       "      <td>SRF</td>\n",
       "      <td>SRF</td>\n",
       "      <td>5.0</td>\n",
       "      <td>1.9</td>\n",
       "      <td>363.0</td>\n",
       "      <td>-</td>\n",
       "      <td>163</td>\n",
       "      <td>0.196373</td>\n",
       "      <td>0.471893</td>\n",
       "      <td>0.000171</td>\n",
       "      <td>0.028559</td>\n",
       "      <td>0.005914</td>\n",
       "    </tr>\n",
       "    <tr>\n",
       "      <th>9</th>\n",
       "      <td>ERR598964</td>\n",
       "      <td>34.10</td>\n",
       "      <td>-49.78</td>\n",
       "      <td>Atlantic</td>\n",
       "      <td>MES</td>\n",
       "      <td>MES</td>\n",
       "      <td>734.3</td>\n",
       "      <td>10.6</td>\n",
       "      <td>155.2</td>\n",
       "      <td>No</td>\n",
       "      <td>149</td>\n",
       "      <td>0.197463</td>\n",
       "      <td>0.303269</td>\n",
       "      <td>0.029167</td>\n",
       "      <td>0.017322</td>\n",
       "      <td>0.002829</td>\n",
       "    </tr>\n",
       "    <tr>\n",
       "      <th>2</th>\n",
       "      <td>ERR599115</td>\n",
       "      <td>35.31</td>\n",
       "      <td>-127.74</td>\n",
       "      <td>Pacific</td>\n",
       "      <td>MES</td>\n",
       "      <td>OMZ</td>\n",
       "      <td>644.6</td>\n",
       "      <td>4.9</td>\n",
       "      <td>8.6</td>\n",
       "      <td>Yes</td>\n",
       "      <td>133</td>\n",
       "      <td>0.200113</td>\n",
       "      <td>0.317524</td>\n",
       "      <td>0.027882</td>\n",
       "      <td>0.010099</td>\n",
       "      <td>0.001629</td>\n",
       "    </tr>\n",
       "    <tr>\n",
       "      <th>0</th>\n",
       "      <td>ERR598981</td>\n",
       "      <td>-12.93</td>\n",
       "      <td>-96.12</td>\n",
       "      <td>Pacific</td>\n",
       "      <td>MES</td>\n",
       "      <td>OMZ</td>\n",
       "      <td>175.3</td>\n",
       "      <td>13.0</td>\n",
       "      <td>0.7</td>\n",
       "      <td>Yes</td>\n",
       "      <td>100</td>\n",
       "      <td>0.202250</td>\n",
       "      <td>0.331639</td>\n",
       "      <td>0.031951</td>\n",
       "      <td>0.021667</td>\n",
       "      <td>0.003408</td>\n",
       "    </tr>\n",
       "    <tr>\n",
       "      <th>5</th>\n",
       "      <td>ERR599076</td>\n",
       "      <td>14.17</td>\n",
       "      <td>-116.66</td>\n",
       "      <td>Pacific</td>\n",
       "      <td>MES</td>\n",
       "      <td>OMZ</td>\n",
       "      <td>371.0</td>\n",
       "      <td>8.9</td>\n",
       "      <td>0.6</td>\n",
       "      <td>Yes</td>\n",
       "      <td>137</td>\n",
       "      <td>0.206118</td>\n",
       "      <td>0.320566</td>\n",
       "      <td>0.000107</td>\n",
       "      <td>0.018800</td>\n",
       "      <td>0.002942</td>\n",
       "    </tr>\n",
       "  </tbody>\n",
       "</table>\n",
       "</div>"
      ],
      "text/plain": [
       "   SRA read accession    Lat     Lon Ocean region Depth category depth_cat  \\\n",
       "8           ERR599105  -8.78  -17.91     Atlantic            SRF       SRF   \n",
       "1           ERR599063 -12.99  -95.99      Pacific            SRF       SRF   \n",
       "6           ERR598989  14.20 -116.63      Pacific            SRF       SRF   \n",
       "10          ERR598963  34.10  -49.89     Atlantic            SRF       SRF   \n",
       "13         ERR3589593  76.12    1.36        Polar            MES       MES   \n",
       "7           ERR599048  -8.80  -17.91     Atlantic            MES       MES   \n",
       "3           ERR599052  35.41 -127.74      Pacific            SRF       SRF   \n",
       "12          ERR599176 -62.03  -49.54        Polar            SRF       SRF   \n",
       "4           ERR599020  -1.87  -84.62      Pacific            MES       OMZ   \n",
       "11          ERR599125 -61.98  -49.45        Polar            MES       MES   \n",
       "14         ERR3589586  76.18    1.39        Polar            SRF       SRF   \n",
       "9           ERR598964  34.10  -49.78     Atlantic            MES       MES   \n",
       "2           ERR599115  35.31 -127.74      Pacific            MES       OMZ   \n",
       "0           ERR598981 -12.93  -96.12      Pacific            MES       OMZ   \n",
       "5           ERR599076  14.17 -116.66      Pacific            MES       OMZ   \n",
       "\n",
       "    Depth (m)  Temp (°C)  Oxygen (umol/kg) OMZ?  TARA Station  \\\n",
       "8         5.8       25.0             199.1    -            72   \n",
       "1         5.5       25.3             200.2    -           100   \n",
       "6         5.4       26.4             195.1    -           137   \n",
       "10        5.5       18.7             220.2    -           149   \n",
       "13      490.5        0.1             315.4   No           163   \n",
       "7       792.7        4.7             143.2   No            72   \n",
       "3         5.5       19.2             224.4    -           133   \n",
       "12        5.9        0.7             343.4    -            85   \n",
       "4       376.9       10.3               1.3  Yes           110   \n",
       "11      783.8        0.5             203.8   No            85   \n",
       "14        5.0        1.9             363.0    -           163   \n",
       "9       734.3       10.6             155.2   No           149   \n",
       "2       644.6        4.9               8.6  Yes           133   \n",
       "0       175.3       13.0               0.7  Yes           100   \n",
       "5       371.0        8.9               0.6  Yes           137   \n",
       "\n",
       "    percent_oxido_classifier  percent_annotated_mgrast  percent_oxido_mgrast  \\\n",
       "8                   0.163968                  0.278952              0.023180   \n",
       "1                   0.181815                  0.403068              0.036930   \n",
       "6                   0.182063                  0.376071              0.036339   \n",
       "10                  0.183043                  0.289597              0.029368   \n",
       "13                  0.184745                  0.290377              0.026906   \n",
       "7                   0.185329                  0.306728              0.027508   \n",
       "3                   0.185898                  0.368615              0.035761   \n",
       "12                  0.186171                  0.502579              0.040286   \n",
       "4                   0.187380                  0.301295              0.030652   \n",
       "11                  0.192314                  0.267039              0.022186   \n",
       "14                  0.196373                  0.471893              0.000171   \n",
       "9                   0.197463                  0.303269              0.029167   \n",
       "2                   0.200113                  0.317524              0.027882   \n",
       "0                   0.202250                  0.331639              0.031951   \n",
       "5                   0.206118                  0.320566              0.000107   \n",
       "\n",
       "    percent_annotated_mifaser  percent_oxido_mifaser  \n",
       "8                    0.016069               0.003836  \n",
       "1                    0.001707               0.000353  \n",
       "6                    0.024079               0.004829  \n",
       "10                   0.018274               0.003392  \n",
       "13                   0.018158               0.002944  \n",
       "7                    0.018757               0.003852  \n",
       "3                    0.012741               0.002548  \n",
       "12                   0.027172               0.004703  \n",
       "4                    0.019407               0.003346  \n",
       "11                   0.015060               0.002454  \n",
       "14                   0.028559               0.005914  \n",
       "9                    0.017322               0.002829  \n",
       "2                    0.010099               0.001629  \n",
       "0                    0.021667               0.003408  \n",
       "5                    0.018800               0.002942  "
      ]
     },
     "execution_count": 344,
     "metadata": {},
     "output_type": "execute_result"
    }
   ],
   "source": [
    "m3.sort_values('percent_oxido_classifier')"
   ]
  },
  {
   "cell_type": "code",
   "execution_count": 345,
   "metadata": {},
   "outputs": [],
   "source": [
    "m3.to_csv('classifier_annotation_comparison_withmetadata.csv',index=False)"
   ]
  },
  {
   "cell_type": "code",
   "execution_count": 548,
   "metadata": {},
   "outputs": [
    {
     "name": "stdout",
     "output_type": "stream",
     "text": [
      "6.805277223182836 0.02164593020198755\n"
     ]
    },
    {
     "data": {
      "text/html": [
       "<div>\n",
       "<style scoped>\n",
       "    .dataframe tbody tr th:only-of-type {\n",
       "        vertical-align: middle;\n",
       "    }\n",
       "\n",
       "    .dataframe tbody tr th {\n",
       "        vertical-align: top;\n",
       "    }\n",
       "\n",
       "    .dataframe thead th {\n",
       "        text-align: right;\n",
       "    }\n",
       "</style>\n",
       "<table border=\"1\" class=\"dataframe\">\n",
       "  <thead>\n",
       "    <tr style=\"text-align: right;\">\n",
       "      <th></th>\n",
       "      <th>SRA read accession</th>\n",
       "      <th>Lat</th>\n",
       "      <th>Lon</th>\n",
       "      <th>Ocean region</th>\n",
       "      <th>Depth category</th>\n",
       "      <th>depth_cat</th>\n",
       "      <th>Depth (m)</th>\n",
       "      <th>Temp (°C)</th>\n",
       "      <th>Oxygen (umol/kg)</th>\n",
       "      <th>OMZ?</th>\n",
       "      <th>TARA Station</th>\n",
       "      <th>percent_oxido_classifier</th>\n",
       "      <th>percent_annotated_mgrast</th>\n",
       "      <th>percent_oxido_mgrast</th>\n",
       "      <th>percent_annotated_mifaser</th>\n",
       "      <th>percent_oxido_mifaser</th>\n",
       "      <th>abs_lat</th>\n",
       "    </tr>\n",
       "  </thead>\n",
       "  <tbody>\n",
       "    <tr>\n",
       "      <th>11</th>\n",
       "      <td>ERR599125</td>\n",
       "      <td>-61.98</td>\n",
       "      <td>-49.45</td>\n",
       "      <td>Polar</td>\n",
       "      <td>MES</td>\n",
       "      <td>MES</td>\n",
       "      <td>783.8</td>\n",
       "      <td>0.5</td>\n",
       "      <td>203.8</td>\n",
       "      <td>No</td>\n",
       "      <td>85</td>\n",
       "      <td>0.192314</td>\n",
       "      <td>0.267039</td>\n",
       "      <td>0.022186</td>\n",
       "      <td>0.015060</td>\n",
       "      <td>0.002454</td>\n",
       "      <td>61.98</td>\n",
       "    </tr>\n",
       "    <tr>\n",
       "      <th>8</th>\n",
       "      <td>ERR599105</td>\n",
       "      <td>-8.78</td>\n",
       "      <td>-17.91</td>\n",
       "      <td>Atlantic</td>\n",
       "      <td>SRF</td>\n",
       "      <td>SRF</td>\n",
       "      <td>5.8</td>\n",
       "      <td>25.0</td>\n",
       "      <td>199.1</td>\n",
       "      <td>-</td>\n",
       "      <td>72</td>\n",
       "      <td>0.163968</td>\n",
       "      <td>0.278952</td>\n",
       "      <td>0.023180</td>\n",
       "      <td>0.016069</td>\n",
       "      <td>0.003836</td>\n",
       "      <td>8.78</td>\n",
       "    </tr>\n",
       "    <tr>\n",
       "      <th>10</th>\n",
       "      <td>ERR598963</td>\n",
       "      <td>34.10</td>\n",
       "      <td>-49.89</td>\n",
       "      <td>Atlantic</td>\n",
       "      <td>SRF</td>\n",
       "      <td>SRF</td>\n",
       "      <td>5.5</td>\n",
       "      <td>18.7</td>\n",
       "      <td>220.2</td>\n",
       "      <td>-</td>\n",
       "      <td>149</td>\n",
       "      <td>0.183043</td>\n",
       "      <td>0.289597</td>\n",
       "      <td>0.029368</td>\n",
       "      <td>0.018274</td>\n",
       "      <td>0.003392</td>\n",
       "      <td>34.10</td>\n",
       "    </tr>\n",
       "    <tr>\n",
       "      <th>13</th>\n",
       "      <td>ERR3589593</td>\n",
       "      <td>76.12</td>\n",
       "      <td>1.36</td>\n",
       "      <td>Polar</td>\n",
       "      <td>MES</td>\n",
       "      <td>MES</td>\n",
       "      <td>490.5</td>\n",
       "      <td>0.1</td>\n",
       "      <td>315.4</td>\n",
       "      <td>No</td>\n",
       "      <td>163</td>\n",
       "      <td>0.184745</td>\n",
       "      <td>0.290377</td>\n",
       "      <td>0.026906</td>\n",
       "      <td>0.018158</td>\n",
       "      <td>0.002944</td>\n",
       "      <td>76.12</td>\n",
       "    </tr>\n",
       "    <tr>\n",
       "      <th>4</th>\n",
       "      <td>ERR599020</td>\n",
       "      <td>-1.87</td>\n",
       "      <td>-84.62</td>\n",
       "      <td>Pacific</td>\n",
       "      <td>MES</td>\n",
       "      <td>OMZ</td>\n",
       "      <td>376.9</td>\n",
       "      <td>10.3</td>\n",
       "      <td>1.3</td>\n",
       "      <td>Yes</td>\n",
       "      <td>110</td>\n",
       "      <td>0.187380</td>\n",
       "      <td>0.301295</td>\n",
       "      <td>0.030652</td>\n",
       "      <td>0.019407</td>\n",
       "      <td>0.003346</td>\n",
       "      <td>1.87</td>\n",
       "    </tr>\n",
       "    <tr>\n",
       "      <th>9</th>\n",
       "      <td>ERR598964</td>\n",
       "      <td>34.10</td>\n",
       "      <td>-49.78</td>\n",
       "      <td>Atlantic</td>\n",
       "      <td>MES</td>\n",
       "      <td>MES</td>\n",
       "      <td>734.3</td>\n",
       "      <td>10.6</td>\n",
       "      <td>155.2</td>\n",
       "      <td>No</td>\n",
       "      <td>149</td>\n",
       "      <td>0.197463</td>\n",
       "      <td>0.303269</td>\n",
       "      <td>0.029167</td>\n",
       "      <td>0.017322</td>\n",
       "      <td>0.002829</td>\n",
       "      <td>34.10</td>\n",
       "    </tr>\n",
       "    <tr>\n",
       "      <th>7</th>\n",
       "      <td>ERR599048</td>\n",
       "      <td>-8.80</td>\n",
       "      <td>-17.91</td>\n",
       "      <td>Atlantic</td>\n",
       "      <td>MES</td>\n",
       "      <td>MES</td>\n",
       "      <td>792.7</td>\n",
       "      <td>4.7</td>\n",
       "      <td>143.2</td>\n",
       "      <td>No</td>\n",
       "      <td>72</td>\n",
       "      <td>0.185329</td>\n",
       "      <td>0.306728</td>\n",
       "      <td>0.027508</td>\n",
       "      <td>0.018757</td>\n",
       "      <td>0.003852</td>\n",
       "      <td>8.80</td>\n",
       "    </tr>\n",
       "    <tr>\n",
       "      <th>2</th>\n",
       "      <td>ERR599115</td>\n",
       "      <td>35.31</td>\n",
       "      <td>-127.74</td>\n",
       "      <td>Pacific</td>\n",
       "      <td>MES</td>\n",
       "      <td>OMZ</td>\n",
       "      <td>644.6</td>\n",
       "      <td>4.9</td>\n",
       "      <td>8.6</td>\n",
       "      <td>Yes</td>\n",
       "      <td>133</td>\n",
       "      <td>0.200113</td>\n",
       "      <td>0.317524</td>\n",
       "      <td>0.027882</td>\n",
       "      <td>0.010099</td>\n",
       "      <td>0.001629</td>\n",
       "      <td>35.31</td>\n",
       "    </tr>\n",
       "    <tr>\n",
       "      <th>5</th>\n",
       "      <td>ERR599076</td>\n",
       "      <td>14.17</td>\n",
       "      <td>-116.66</td>\n",
       "      <td>Pacific</td>\n",
       "      <td>MES</td>\n",
       "      <td>OMZ</td>\n",
       "      <td>371.0</td>\n",
       "      <td>8.9</td>\n",
       "      <td>0.6</td>\n",
       "      <td>Yes</td>\n",
       "      <td>137</td>\n",
       "      <td>0.206118</td>\n",
       "      <td>0.320566</td>\n",
       "      <td>0.000107</td>\n",
       "      <td>0.018800</td>\n",
       "      <td>0.002942</td>\n",
       "      <td>14.17</td>\n",
       "    </tr>\n",
       "    <tr>\n",
       "      <th>0</th>\n",
       "      <td>ERR598981</td>\n",
       "      <td>-12.93</td>\n",
       "      <td>-96.12</td>\n",
       "      <td>Pacific</td>\n",
       "      <td>MES</td>\n",
       "      <td>OMZ</td>\n",
       "      <td>175.3</td>\n",
       "      <td>13.0</td>\n",
       "      <td>0.7</td>\n",
       "      <td>Yes</td>\n",
       "      <td>100</td>\n",
       "      <td>0.202250</td>\n",
       "      <td>0.331639</td>\n",
       "      <td>0.031951</td>\n",
       "      <td>0.021667</td>\n",
       "      <td>0.003408</td>\n",
       "      <td>12.93</td>\n",
       "    </tr>\n",
       "    <tr>\n",
       "      <th>3</th>\n",
       "      <td>ERR599052</td>\n",
       "      <td>35.41</td>\n",
       "      <td>-127.74</td>\n",
       "      <td>Pacific</td>\n",
       "      <td>SRF</td>\n",
       "      <td>SRF</td>\n",
       "      <td>5.5</td>\n",
       "      <td>19.2</td>\n",
       "      <td>224.4</td>\n",
       "      <td>-</td>\n",
       "      <td>133</td>\n",
       "      <td>0.185898</td>\n",
       "      <td>0.368615</td>\n",
       "      <td>0.035761</td>\n",
       "      <td>0.012741</td>\n",
       "      <td>0.002548</td>\n",
       "      <td>35.41</td>\n",
       "    </tr>\n",
       "    <tr>\n",
       "      <th>6</th>\n",
       "      <td>ERR598989</td>\n",
       "      <td>14.20</td>\n",
       "      <td>-116.63</td>\n",
       "      <td>Pacific</td>\n",
       "      <td>SRF</td>\n",
       "      <td>SRF</td>\n",
       "      <td>5.4</td>\n",
       "      <td>26.4</td>\n",
       "      <td>195.1</td>\n",
       "      <td>-</td>\n",
       "      <td>137</td>\n",
       "      <td>0.182063</td>\n",
       "      <td>0.376071</td>\n",
       "      <td>0.036339</td>\n",
       "      <td>0.024079</td>\n",
       "      <td>0.004829</td>\n",
       "      <td>14.20</td>\n",
       "    </tr>\n",
       "    <tr>\n",
       "      <th>1</th>\n",
       "      <td>ERR599063</td>\n",
       "      <td>-12.99</td>\n",
       "      <td>-95.99</td>\n",
       "      <td>Pacific</td>\n",
       "      <td>SRF</td>\n",
       "      <td>SRF</td>\n",
       "      <td>5.5</td>\n",
       "      <td>25.3</td>\n",
       "      <td>200.2</td>\n",
       "      <td>-</td>\n",
       "      <td>100</td>\n",
       "      <td>0.181815</td>\n",
       "      <td>0.403068</td>\n",
       "      <td>0.036930</td>\n",
       "      <td>0.001707</td>\n",
       "      <td>0.000353</td>\n",
       "      <td>12.99</td>\n",
       "    </tr>\n",
       "    <tr>\n",
       "      <th>14</th>\n",
       "      <td>ERR3589586</td>\n",
       "      <td>76.18</td>\n",
       "      <td>1.39</td>\n",
       "      <td>Polar</td>\n",
       "      <td>SRF</td>\n",
       "      <td>SRF</td>\n",
       "      <td>5.0</td>\n",
       "      <td>1.9</td>\n",
       "      <td>363.0</td>\n",
       "      <td>-</td>\n",
       "      <td>163</td>\n",
       "      <td>0.196373</td>\n",
       "      <td>0.471893</td>\n",
       "      <td>0.000171</td>\n",
       "      <td>0.028559</td>\n",
       "      <td>0.005914</td>\n",
       "      <td>76.18</td>\n",
       "    </tr>\n",
       "    <tr>\n",
       "      <th>12</th>\n",
       "      <td>ERR599176</td>\n",
       "      <td>-62.03</td>\n",
       "      <td>-49.54</td>\n",
       "      <td>Polar</td>\n",
       "      <td>SRF</td>\n",
       "      <td>SRF</td>\n",
       "      <td>5.9</td>\n",
       "      <td>0.7</td>\n",
       "      <td>343.4</td>\n",
       "      <td>-</td>\n",
       "      <td>85</td>\n",
       "      <td>0.186171</td>\n",
       "      <td>0.502579</td>\n",
       "      <td>0.040286</td>\n",
       "      <td>0.027172</td>\n",
       "      <td>0.004703</td>\n",
       "      <td>62.03</td>\n",
       "    </tr>\n",
       "  </tbody>\n",
       "</table>\n",
       "</div>"
      ],
      "text/plain": [
       "   SRA read accession    Lat     Lon Ocean region Depth category depth_cat  \\\n",
       "11          ERR599125 -61.98  -49.45        Polar            MES       MES   \n",
       "8           ERR599105  -8.78  -17.91     Atlantic            SRF       SRF   \n",
       "10          ERR598963  34.10  -49.89     Atlantic            SRF       SRF   \n",
       "13         ERR3589593  76.12    1.36        Polar            MES       MES   \n",
       "4           ERR599020  -1.87  -84.62      Pacific            MES       OMZ   \n",
       "9           ERR598964  34.10  -49.78     Atlantic            MES       MES   \n",
       "7           ERR599048  -8.80  -17.91     Atlantic            MES       MES   \n",
       "2           ERR599115  35.31 -127.74      Pacific            MES       OMZ   \n",
       "5           ERR599076  14.17 -116.66      Pacific            MES       OMZ   \n",
       "0           ERR598981 -12.93  -96.12      Pacific            MES       OMZ   \n",
       "3           ERR599052  35.41 -127.74      Pacific            SRF       SRF   \n",
       "6           ERR598989  14.20 -116.63      Pacific            SRF       SRF   \n",
       "1           ERR599063 -12.99  -95.99      Pacific            SRF       SRF   \n",
       "14         ERR3589586  76.18    1.39        Polar            SRF       SRF   \n",
       "12          ERR599176 -62.03  -49.54        Polar            SRF       SRF   \n",
       "\n",
       "    Depth (m)  Temp (°C)  Oxygen (umol/kg) OMZ?  TARA Station  \\\n",
       "11      783.8        0.5             203.8   No            85   \n",
       "8         5.8       25.0             199.1    -            72   \n",
       "10        5.5       18.7             220.2    -           149   \n",
       "13      490.5        0.1             315.4   No           163   \n",
       "4       376.9       10.3               1.3  Yes           110   \n",
       "9       734.3       10.6             155.2   No           149   \n",
       "7       792.7        4.7             143.2   No            72   \n",
       "2       644.6        4.9               8.6  Yes           133   \n",
       "5       371.0        8.9               0.6  Yes           137   \n",
       "0       175.3       13.0               0.7  Yes           100   \n",
       "3         5.5       19.2             224.4    -           133   \n",
       "6         5.4       26.4             195.1    -           137   \n",
       "1         5.5       25.3             200.2    -           100   \n",
       "14        5.0        1.9             363.0    -           163   \n",
       "12        5.9        0.7             343.4    -            85   \n",
       "\n",
       "    percent_oxido_classifier  percent_annotated_mgrast  percent_oxido_mgrast  \\\n",
       "11                  0.192314                  0.267039              0.022186   \n",
       "8                   0.163968                  0.278952              0.023180   \n",
       "10                  0.183043                  0.289597              0.029368   \n",
       "13                  0.184745                  0.290377              0.026906   \n",
       "4                   0.187380                  0.301295              0.030652   \n",
       "9                   0.197463                  0.303269              0.029167   \n",
       "7                   0.185329                  0.306728              0.027508   \n",
       "2                   0.200113                  0.317524              0.027882   \n",
       "5                   0.206118                  0.320566              0.000107   \n",
       "0                   0.202250                  0.331639              0.031951   \n",
       "3                   0.185898                  0.368615              0.035761   \n",
       "6                   0.182063                  0.376071              0.036339   \n",
       "1                   0.181815                  0.403068              0.036930   \n",
       "14                  0.196373                  0.471893              0.000171   \n",
       "12                  0.186171                  0.502579              0.040286   \n",
       "\n",
       "    percent_annotated_mifaser  percent_oxido_mifaser  abs_lat  \n",
       "11                   0.015060               0.002454    61.98  \n",
       "8                    0.016069               0.003836     8.78  \n",
       "10                   0.018274               0.003392    34.10  \n",
       "13                   0.018158               0.002944    76.12  \n",
       "4                    0.019407               0.003346     1.87  \n",
       "9                    0.017322               0.002829    34.10  \n",
       "7                    0.018757               0.003852     8.80  \n",
       "2                    0.010099               0.001629    35.31  \n",
       "5                    0.018800               0.002942    14.17  \n",
       "0                    0.021667               0.003408    12.93  \n",
       "3                    0.012741               0.002548    35.41  \n",
       "6                    0.024079               0.004829    14.20  \n",
       "1                    0.001707               0.000353    12.99  \n",
       "14                   0.028559               0.005914    76.18  \n",
       "12                   0.027172               0.004703    62.03  "
      ]
     },
     "execution_count": 548,
     "metadata": {},
     "output_type": "execute_result"
    },
    {
     "data": {
      "image/png": "[encoded data removed]",
      "text/plain": [
       "<Figure size 432x576 with 1 Axes>"
      ]
     },
     "metadata": {
      "needs_background": "light"
     },
     "output_type": "display_data"
    }
   ],
   "source": [
    "plt.figure(figsize=(6,8))\n",
    "ax = sns.boxplot(x=\"Depth category\", y=\"percent_annotated_mgrast\", data=m3, order=['SRF','MES'],palette=['#ADD8E6','#6294B7'])\n",
    "plt.ylabel('Percent Annotated')\n",
    "plt.xlabel('')\n",
    "plt.xticks([0,1,2],('Surface', 'Mesopelagic'),rotation=0)\n",
    "\n",
    "srf = m3[m3['Depth category']=='SRF']['percent_annotated_mgrast']\n",
    "mes = m3[m3['Depth category']=='MES']['percent_annotated_mgrast']\n",
    "F,p = anova(srf,mes)\n",
    "print(F,p)\n",
    "\n",
    "m3.sort_values('percent_annotated_mgrast')"
   ]
  },
  {
   "cell_type": "code",
   "execution_count": 549,
   "metadata": {},
   "outputs": [
    {
     "name": "stdout",
     "output_type": "stream",
     "text": [
      "0.07332244813016679 0.7908109688174321\n"
     ]
    },
    {
     "data": {
      "text/html": [
       "<div>\n",
       "<style scoped>\n",
       "    .dataframe tbody tr th:only-of-type {\n",
       "        vertical-align: middle;\n",
       "    }\n",
       "\n",
       "    .dataframe tbody tr th {\n",
       "        vertical-align: top;\n",
       "    }\n",
       "\n",
       "    .dataframe thead th {\n",
       "        text-align: right;\n",
       "    }\n",
       "</style>\n",
       "<table border=\"1\" class=\"dataframe\">\n",
       "  <thead>\n",
       "    <tr style=\"text-align: right;\">\n",
       "      <th></th>\n",
       "      <th>SRA read accession</th>\n",
       "      <th>Lat</th>\n",
       "      <th>Lon</th>\n",
       "      <th>Ocean region</th>\n",
       "      <th>Depth category</th>\n",
       "      <th>depth_cat</th>\n",
       "      <th>Depth (m)</th>\n",
       "      <th>Temp (°C)</th>\n",
       "      <th>Oxygen (umol/kg)</th>\n",
       "      <th>OMZ?</th>\n",
       "      <th>TARA Station</th>\n",
       "      <th>percent_oxido_classifier</th>\n",
       "      <th>percent_annotated_mgrast</th>\n",
       "      <th>percent_oxido_mgrast</th>\n",
       "      <th>percent_annotated_mifaser</th>\n",
       "      <th>percent_oxido_mifaser</th>\n",
       "      <th>abs_lat</th>\n",
       "    </tr>\n",
       "  </thead>\n",
       "  <tbody>\n",
       "    <tr>\n",
       "      <th>1</th>\n",
       "      <td>ERR599063</td>\n",
       "      <td>-12.99</td>\n",
       "      <td>-95.99</td>\n",
       "      <td>Pacific</td>\n",
       "      <td>SRF</td>\n",
       "      <td>SRF</td>\n",
       "      <td>5.5</td>\n",
       "      <td>25.3</td>\n",
       "      <td>200.2</td>\n",
       "      <td>-</td>\n",
       "      <td>100</td>\n",
       "      <td>0.181815</td>\n",
       "      <td>0.403068</td>\n",
       "      <td>0.036930</td>\n",
       "      <td>0.001707</td>\n",
       "      <td>0.000353</td>\n",
       "      <td>12.99</td>\n",
       "    </tr>\n",
       "    <tr>\n",
       "      <th>2</th>\n",
       "      <td>ERR599115</td>\n",
       "      <td>35.31</td>\n",
       "      <td>-127.74</td>\n",
       "      <td>Pacific</td>\n",
       "      <td>MES</td>\n",
       "      <td>OMZ</td>\n",
       "      <td>644.6</td>\n",
       "      <td>4.9</td>\n",
       "      <td>8.6</td>\n",
       "      <td>Yes</td>\n",
       "      <td>133</td>\n",
       "      <td>0.200113</td>\n",
       "      <td>0.317524</td>\n",
       "      <td>0.027882</td>\n",
       "      <td>0.010099</td>\n",
       "      <td>0.001629</td>\n",
       "      <td>35.31</td>\n",
       "    </tr>\n",
       "    <tr>\n",
       "      <th>3</th>\n",
       "      <td>ERR599052</td>\n",
       "      <td>35.41</td>\n",
       "      <td>-127.74</td>\n",
       "      <td>Pacific</td>\n",
       "      <td>SRF</td>\n",
       "      <td>SRF</td>\n",
       "      <td>5.5</td>\n",
       "      <td>19.2</td>\n",
       "      <td>224.4</td>\n",
       "      <td>-</td>\n",
       "      <td>133</td>\n",
       "      <td>0.185898</td>\n",
       "      <td>0.368615</td>\n",
       "      <td>0.035761</td>\n",
       "      <td>0.012741</td>\n",
       "      <td>0.002548</td>\n",
       "      <td>35.41</td>\n",
       "    </tr>\n",
       "    <tr>\n",
       "      <th>11</th>\n",
       "      <td>ERR599125</td>\n",
       "      <td>-61.98</td>\n",
       "      <td>-49.45</td>\n",
       "      <td>Polar</td>\n",
       "      <td>MES</td>\n",
       "      <td>MES</td>\n",
       "      <td>783.8</td>\n",
       "      <td>0.5</td>\n",
       "      <td>203.8</td>\n",
       "      <td>No</td>\n",
       "      <td>85</td>\n",
       "      <td>0.192314</td>\n",
       "      <td>0.267039</td>\n",
       "      <td>0.022186</td>\n",
       "      <td>0.015060</td>\n",
       "      <td>0.002454</td>\n",
       "      <td>61.98</td>\n",
       "    </tr>\n",
       "    <tr>\n",
       "      <th>8</th>\n",
       "      <td>ERR599105</td>\n",
       "      <td>-8.78</td>\n",
       "      <td>-17.91</td>\n",
       "      <td>Atlantic</td>\n",
       "      <td>SRF</td>\n",
       "      <td>SRF</td>\n",
       "      <td>5.8</td>\n",
       "      <td>25.0</td>\n",
       "      <td>199.1</td>\n",
       "      <td>-</td>\n",
       "      <td>72</td>\n",
       "      <td>0.163968</td>\n",
       "      <td>0.278952</td>\n",
       "      <td>0.023180</td>\n",
       "      <td>0.016069</td>\n",
       "      <td>0.003836</td>\n",
       "      <td>8.78</td>\n",
       "    </tr>\n",
       "    <tr>\n",
       "      <th>9</th>\n",
       "      <td>ERR598964</td>\n",
       "      <td>34.10</td>\n",
       "      <td>-49.78</td>\n",
       "      <td>Atlantic</td>\n",
       "      <td>MES</td>\n",
       "      <td>MES</td>\n",
       "      <td>734.3</td>\n",
       "      <td>10.6</td>\n",
       "      <td>155.2</td>\n",
       "      <td>No</td>\n",
       "      <td>149</td>\n",
       "      <td>0.197463</td>\n",
       "      <td>0.303269</td>\n",
       "      <td>0.029167</td>\n",
       "      <td>0.017322</td>\n",
       "      <td>0.002829</td>\n",
       "      <td>34.10</td>\n",
       "    </tr>\n",
       "    <tr>\n",
       "      <th>13</th>\n",
       "      <td>ERR3589593</td>\n",
       "      <td>76.12</td>\n",
       "      <td>1.36</td>\n",
       "      <td>Polar</td>\n",
       "      <td>MES</td>\n",
       "      <td>MES</td>\n",
       "      <td>490.5</td>\n",
       "      <td>0.1</td>\n",
       "      <td>315.4</td>\n",
       "      <td>No</td>\n",
       "      <td>163</td>\n",
       "      <td>0.184745</td>\n",
       "      <td>0.290377</td>\n",
       "      <td>0.026906</td>\n",
       "      <td>0.018158</td>\n",
       "      <td>0.002944</td>\n",
       "      <td>76.12</td>\n",
       "    </tr>\n",
       "    <tr>\n",
       "      <th>10</th>\n",
       "      <td>ERR598963</td>\n",
       "      <td>34.10</td>\n",
       "      <td>-49.89</td>\n",
       "      <td>Atlantic</td>\n",
       "      <td>SRF</td>\n",
       "      <td>SRF</td>\n",
       "      <td>5.5</td>\n",
       "      <td>18.7</td>\n",
       "      <td>220.2</td>\n",
       "      <td>-</td>\n",
       "      <td>149</td>\n",
       "      <td>0.183043</td>\n",
       "      <td>0.289597</td>\n",
       "      <td>0.029368</td>\n",
       "      <td>0.018274</td>\n",
       "      <td>0.003392</td>\n",
       "      <td>34.10</td>\n",
       "    </tr>\n",
       "    <tr>\n",
       "      <th>7</th>\n",
       "      <td>ERR599048</td>\n",
       "      <td>-8.80</td>\n",
       "      <td>-17.91</td>\n",
       "      <td>Atlantic</td>\n",
       "      <td>MES</td>\n",
       "      <td>MES</td>\n",
       "      <td>792.7</td>\n",
       "      <td>4.7</td>\n",
       "      <td>143.2</td>\n",
       "      <td>No</td>\n",
       "      <td>72</td>\n",
       "      <td>0.185329</td>\n",
       "      <td>0.306728</td>\n",
       "      <td>0.027508</td>\n",
       "      <td>0.018757</td>\n",
       "      <td>0.003852</td>\n",
       "      <td>8.80</td>\n",
       "    </tr>\n",
       "    <tr>\n",
       "      <th>5</th>\n",
       "      <td>ERR599076</td>\n",
       "      <td>14.17</td>\n",
       "      <td>-116.66</td>\n",
       "      <td>Pacific</td>\n",
       "      <td>MES</td>\n",
       "      <td>OMZ</td>\n",
       "      <td>371.0</td>\n",
       "      <td>8.9</td>\n",
       "      <td>0.6</td>\n",
       "      <td>Yes</td>\n",
       "      <td>137</td>\n",
       "      <td>0.206118</td>\n",
       "      <td>0.320566</td>\n",
       "      <td>0.000107</td>\n",
       "      <td>0.018800</td>\n",
       "      <td>0.002942</td>\n",
       "      <td>14.17</td>\n",
       "    </tr>\n",
       "    <tr>\n",
       "      <th>4</th>\n",
       "      <td>ERR599020</td>\n",
       "      <td>-1.87</td>\n",
       "      <td>-84.62</td>\n",
       "      <td>Pacific</td>\n",
       "      <td>MES</td>\n",
       "      <td>OMZ</td>\n",
       "      <td>376.9</td>\n",
       "      <td>10.3</td>\n",
       "      <td>1.3</td>\n",
       "      <td>Yes</td>\n",
       "      <td>110</td>\n",
       "      <td>0.187380</td>\n",
       "      <td>0.301295</td>\n",
       "      <td>0.030652</td>\n",
       "      <td>0.019407</td>\n",
       "      <td>0.003346</td>\n",
       "      <td>1.87</td>\n",
       "    </tr>\n",
       "    <tr>\n",
       "      <th>0</th>\n",
       "      <td>ERR598981</td>\n",
       "      <td>-12.93</td>\n",
       "      <td>-96.12</td>\n",
       "      <td>Pacific</td>\n",
       "      <td>MES</td>\n",
       "      <td>OMZ</td>\n",
       "      <td>175.3</td>\n",
       "      <td>13.0</td>\n",
       "      <td>0.7</td>\n",
       "      <td>Yes</td>\n",
       "      <td>100</td>\n",
       "      <td>0.202250</td>\n",
       "      <td>0.331639</td>\n",
       "      <td>0.031951</td>\n",
       "      <td>0.021667</td>\n",
       "      <td>0.003408</td>\n",
       "      <td>12.93</td>\n",
       "    </tr>\n",
       "    <tr>\n",
       "      <th>6</th>\n",
       "      <td>ERR598989</td>\n",
       "      <td>14.20</td>\n",
       "      <td>-116.63</td>\n",
       "      <td>Pacific</td>\n",
       "      <td>SRF</td>\n",
       "      <td>SRF</td>\n",
       "      <td>5.4</td>\n",
       "      <td>26.4</td>\n",
       "      <td>195.1</td>\n",
       "      <td>-</td>\n",
       "      <td>137</td>\n",
       "      <td>0.182063</td>\n",
       "      <td>0.376071</td>\n",
       "      <td>0.036339</td>\n",
       "      <td>0.024079</td>\n",
       "      <td>0.004829</td>\n",
       "      <td>14.20</td>\n",
       "    </tr>\n",
       "    <tr>\n",
       "      <th>12</th>\n",
       "      <td>ERR599176</td>\n",
       "      <td>-62.03</td>\n",
       "      <td>-49.54</td>\n",
       "      <td>Polar</td>\n",
       "      <td>SRF</td>\n",
       "      <td>SRF</td>\n",
       "      <td>5.9</td>\n",
       "      <td>0.7</td>\n",
       "      <td>343.4</td>\n",
       "      <td>-</td>\n",
       "      <td>85</td>\n",
       "      <td>0.186171</td>\n",
       "      <td>0.502579</td>\n",
       "      <td>0.040286</td>\n",
       "      <td>0.027172</td>\n",
       "      <td>0.004703</td>\n",
       "      <td>62.03</td>\n",
       "    </tr>\n",
       "    <tr>\n",
       "      <th>14</th>\n",
       "      <td>ERR3589586</td>\n",
       "      <td>76.18</td>\n",
       "      <td>1.39</td>\n",
       "      <td>Polar</td>\n",
       "      <td>SRF</td>\n",
       "      <td>SRF</td>\n",
       "      <td>5.0</td>\n",
       "      <td>1.9</td>\n",
       "      <td>363.0</td>\n",
       "      <td>-</td>\n",
       "      <td>163</td>\n",
       "      <td>0.196373</td>\n",
       "      <td>0.471893</td>\n",
       "      <td>0.000171</td>\n",
       "      <td>0.028559</td>\n",
       "      <td>0.005914</td>\n",
       "      <td>76.18</td>\n",
       "    </tr>\n",
       "  </tbody>\n",
       "</table>\n",
       "</div>"
      ],
      "text/plain": [
       "   SRA read accession    Lat     Lon Ocean region Depth category depth_cat  \\\n",
       "1           ERR599063 -12.99  -95.99      Pacific            SRF       SRF   \n",
       "2           ERR599115  35.31 -127.74      Pacific            MES       OMZ   \n",
       "3           ERR599052  35.41 -127.74      Pacific            SRF       SRF   \n",
       "11          ERR599125 -61.98  -49.45        Polar            MES       MES   \n",
       "8           ERR599105  -8.78  -17.91     Atlantic            SRF       SRF   \n",
       "9           ERR598964  34.10  -49.78     Atlantic            MES       MES   \n",
       "13         ERR3589593  76.12    1.36        Polar            MES       MES   \n",
       "10          ERR598963  34.10  -49.89     Atlantic            SRF       SRF   \n",
       "7           ERR599048  -8.80  -17.91     Atlantic            MES       MES   \n",
       "5           ERR599076  14.17 -116.66      Pacific            MES       OMZ   \n",
       "4           ERR599020  -1.87  -84.62      Pacific            MES       OMZ   \n",
       "0           ERR598981 -12.93  -96.12      Pacific            MES       OMZ   \n",
       "6           ERR598989  14.20 -116.63      Pacific            SRF       SRF   \n",
       "12          ERR599176 -62.03  -49.54        Polar            SRF       SRF   \n",
       "14         ERR3589586  76.18    1.39        Polar            SRF       SRF   \n",
       "\n",
       "    Depth (m)  Temp (°C)  Oxygen (umol/kg) OMZ?  TARA Station  \\\n",
       "1         5.5       25.3             200.2    -           100   \n",
       "2       644.6        4.9               8.6  Yes           133   \n",
       "3         5.5       19.2             224.4    -           133   \n",
       "11      783.8        0.5             203.8   No            85   \n",
       "8         5.8       25.0             199.1    -            72   \n",
       "9       734.3       10.6             155.2   No           149   \n",
       "13      490.5        0.1             315.4   No           163   \n",
       "10        5.5       18.7             220.2    -           149   \n",
       "7       792.7        4.7             143.2   No            72   \n",
       "5       371.0        8.9               0.6  Yes           137   \n",
       "4       376.9       10.3               1.3  Yes           110   \n",
       "0       175.3       13.0               0.7  Yes           100   \n",
       "6         5.4       26.4             195.1    -           137   \n",
       "12        5.9        0.7             343.4    -            85   \n",
       "14        5.0        1.9             363.0    -           163   \n",
       "\n",
       "    percent_oxido_classifier  percent_annotated_mgrast  percent_oxido_mgrast  \\\n",
       "1                   0.181815                  0.403068              0.036930   \n",
       "2                   0.200113                  0.317524              0.027882   \n",
       "3                   0.185898                  0.368615              0.035761   \n",
       "11                  0.192314                  0.267039              0.022186   \n",
       "8                   0.163968                  0.278952              0.023180   \n",
       "9                   0.197463                  0.303269              0.029167   \n",
       "13                  0.184745                  0.290377              0.026906   \n",
       "10                  0.183043                  0.289597              0.029368   \n",
       "7                   0.185329                  0.306728              0.027508   \n",
       "5                   0.206118                  0.320566              0.000107   \n",
       "4                   0.187380                  0.301295              0.030652   \n",
       "0                   0.202250                  0.331639              0.031951   \n",
       "6                   0.182063                  0.376071              0.036339   \n",
       "12                  0.186171                  0.502579              0.040286   \n",
       "14                  0.196373                  0.471893              0.000171   \n",
       "\n",
       "    percent_annotated_mifaser  percent_oxido_mifaser  abs_lat  \n",
       "1                    0.001707               0.000353    12.99  \n",
       "2                    0.010099               0.001629    35.31  \n",
       "3                    0.012741               0.002548    35.41  \n",
       "11                   0.015060               0.002454    61.98  \n",
       "8                    0.016069               0.003836     8.78  \n",
       "9                    0.017322               0.002829    34.10  \n",
       "13                   0.018158               0.002944    76.12  \n",
       "10                   0.018274               0.003392    34.10  \n",
       "7                    0.018757               0.003852     8.80  \n",
       "5                    0.018800               0.002942    14.17  \n",
       "4                    0.019407               0.003346     1.87  \n",
       "0                    0.021667               0.003408    12.93  \n",
       "6                    0.024079               0.004829    14.20  \n",
       "12                   0.027172               0.004703    62.03  \n",
       "14                   0.028559               0.005914    76.18  "
      ]
     },
     "execution_count": 549,
     "metadata": {},
     "output_type": "execute_result"
    },
    {
     "data": {
      "image/png": "[encoded data removed]",
      "text/plain": [
       "<Figure size 432x576 with 1 Axes>"
      ]
     },
     "metadata": {
      "needs_background": "light"
     },
     "output_type": "display_data"
    }
   ],
   "source": [
    "plt.figure(figsize=(6,8))\n",
    "ax = sns.boxplot(x=\"Depth category\", y=\"percent_annotated_mifaser\", data=m3, order=['SRF','MES'],palette=['#ADD8E6','#6294B7'])\n",
    "plt.ylabel('Percent Annotated')\n",
    "plt.xlabel('')\n",
    "plt.xticks([0,1,2],('Surface', 'Mesopelagic'),rotation=0)\n",
    "\n",
    "srf = m3[m3['Depth category']=='SRF']['percent_annotated_mifaser']\n",
    "mes = m3[m3['Depth category']=='MES']['percent_annotated_mifaser']\n",
    "F,p = anova(srf,mes)\n",
    "print(F,p)\n",
    "\n",
    "m3.sort_values('percent_annotated_mifaser')"
   ]
  },
  {
   "cell_type": "markdown",
   "metadata": {},
   "source": [
    "## average percent annotated barchart"
   ]
  },
  {
   "cell_type": "code",
   "execution_count": 433,
   "metadata": {},
   "outputs": [
    {
     "name": "stdout",
     "output_type": "stream",
     "text": [
      "[0.18900274666666667, 0.026559537539509206, 0.003265413333333333] [0.8109972533333334, 0.34194750749398306, 0.01785809] [0, 0.6314929549665077, 0.9788764966666667]\n"
     ]
    }
   ],
   "source": [
    "oxido_means = [m3['percent_oxido_classifier'].mean(),m3['percent_oxido_mgrast'].mean(),m3['percent_oxido_mifaser'].mean()]\n",
    "not_oxido_means = [1-m3['percent_oxido_classifier'].mean(),m3['percent_annotated_mgrast'].mean(),m3['percent_annotated_mifaser'].mean()]\n",
    "unannotated = [0,(1-m3['percent_oxido_mgrast'].mean()-m3['percent_annotated_mgrast'].mean()),(1-m3['percent_oxido_mifaser'].mean()-m3['percent_annotated_mifaser'].mean())]\n",
    "oxido_std = [m3['percent_oxido_classifier'].std(),m3['percent_oxido_mgrast'].std(),m3['percent_oxido_mifaser'].std()]\n",
    "not_oxido_std = [1-m3['percent_oxido_classifier'].std(),m3['percent_annotated_mgrast'].std(),m3['percent_annotated_mifaser'].std()]\n",
    "print(oxido_means,not_oxido_means,unannotated)"
   ]
  },
  {
   "cell_type": "code",
   "execution_count": 551,
   "metadata": {},
   "outputs": [
    {
     "data": {
      "image/png": "[encoded data removed]",
      "text/plain": [
       "<Figure size 864x432 with 1 Axes>"
      ]
     },
     "metadata": {
      "needs_background": "light"
     },
     "output_type": "display_data"
    }
   ],
   "source": [
    "N = 3\n",
    "menMeans = (20, 35, 30, 35, 27)\n",
    "womenMeans = (25, 32, 34, 20, 25)\n",
    "menStd = (2, 3, 4, 1, 2)\n",
    "womenStd = (3, 5, 2, 3, 3)\n",
    "ind = np.arange(N)    # the x locations for the groups\n",
    "width = 0.5       # the width of the bars: can also be len(x) sequence\n",
    "\n",
    "plt.figure(figsize=(12,6))\n",
    "p1 = plt.bar(ind, oxido_means, width, color='mediumslateblue')\n",
    "p2 = plt.bar(ind, not_oxido_means, width, color='#F6C85F', bottom=oxido_means)\n",
    "p3 = plt.bar(ind, unannotated, width, color='darkgray', bottom=not_oxido_means)\n",
    "\n",
    "plt.ylabel('Percent Annotated')\n",
    "#plt.title('percent annotated by method')\n",
    "plt.xticks(ind, ('oxidoreductase classifier', 'MG-RAST', 'mi-faser'),rotation=0)\n",
    "#plt.yticks(np.arange(0, 81, 10))\n",
    "plt.legend((p1[0], p2[0], p3[0]), ('oxidoreductase', 'not oxidoreductase', 'unannotated'), bbox_to_anchor=(1.04,0.6))\n",
    "plt.savefig('Fig5c_percentannotatedoxido.png',dpi=150,bbox_inches='tight')"
   ]
  },
  {
   "cell_type": "markdown",
   "metadata": {},
   "source": [
    "## depth gradient"
   ]
  },
  {
   "cell_type": "code",
   "execution_count": 351,
   "metadata": {},
   "outputs": [],
   "source": [
    "from scipy.stats import f_oneway as anova"
   ]
  },
  {
   "cell_type": "code",
   "execution_count": 354,
   "metadata": {},
   "outputs": [
    {
     "name": "stdout",
     "output_type": "stream",
     "text": [
      "4.647311721087953 0.0320234182649505\n"
     ]
    }
   ],
   "source": [
    "#test that all three cats are different\n",
    "srf = m3[m3['depth_cat']=='SRF']['percent_oxido_classifier']\n",
    "mes = m3[m3['depth_cat']=='MES']['percent_oxido_classifier']\n",
    "omz = m3[m3['depth_cat']=='OMZ']['percent_oxido_classifier']\n",
    "F,p = anova(srf,mes,omz)\n",
    "print(F,p)"
   ]
  },
  {
   "cell_type": "code",
   "execution_count": 355,
   "metadata": {},
   "outputs": [
    {
     "name": "stdout",
     "output_type": "stream",
     "text": [
      "6.443905128051485 0.024725229413401717\n"
     ]
    }
   ],
   "source": [
    "srf = m3[m3['Depth category']=='SRF']['percent_oxido_classifier']\n",
    "mes = m3[m3['Depth category']=='MES']['percent_oxido_classifier']\n",
    "F,p = anova(srf,mes)\n",
    "print(F,p)"
   ]
  },
  {
   "cell_type": "code",
   "execution_count": 357,
   "metadata": {},
   "outputs": [
    {
     "name": "stdout",
     "output_type": "stream",
     "text": [
      "7.926228760717954 0.020199602780843016\n"
     ]
    }
   ],
   "source": [
    "srf = m3[m3['depth_cat']=='SRF']['percent_oxido_classifier']\n",
    "omz = m3[m3['depth_cat']=='OMZ']['percent_oxido_classifier']\n",
    "F,p = anova(srf,omz)\n",
    "print(F,p)"
   ]
  },
  {
   "cell_type": "code",
   "execution_count": 421,
   "metadata": {},
   "outputs": [
    {
     "name": "stdout",
     "output_type": "stream",
     "text": [
      "6.443905128051482 0.024725229413401717\n"
     ]
    }
   ],
   "source": [
    "mes = m3[m3['depth_cat']=='MES']['percent_oxido_classifier']\n",
    "omz = m3[m3['depth_cat']=='OMZ']['percent_oxido_classifier']\n",
    "srf = m3[m3['depth_cat']=='SRF']['percent_oxido_classifier']\n",
    "F,p = anova(mes.append(omz),srf)\n",
    "print(F,p)"
   ]
  },
  {
   "cell_type": "code",
   "execution_count": 358,
   "metadata": {},
   "outputs": [
    {
     "name": "stdout",
     "output_type": "stream",
     "text": [
      "3.157855343651905 0.12589216644908507\n"
     ]
    }
   ],
   "source": [
    "mes = m3[m3['depth_cat']=='MES']['percent_oxido_classifier']\n",
    "omz = m3[m3['depth_cat']=='OMZ']['percent_oxido_classifier']\n",
    "F,p = anova(mes,omz)\n",
    "print(F,p)"
   ]
  },
  {
   "cell_type": "code",
   "execution_count": 359,
   "metadata": {},
   "outputs": [],
   "source": [
    "#both MES and OMZ are significantly different that SRF; all three are different than eachother; \n",
    "#but MES and OMZ are not significantly different"
   ]
  },
  {
   "cell_type": "code",
   "execution_count": 364,
   "metadata": {},
   "outputs": [
    {
     "name": "stdout",
     "output_type": "stream",
     "text": [
      "0.18276140714285719 +/- 0.009672866729216863\n",
      "0.1899626625 +/- 0.006068539811241667\n",
      "0.19896517500000002 +/- 0.00811365504386484\n"
     ]
    }
   ],
   "source": [
    "print(srf.mean(), '+/-', srf.std())\n",
    "print(mes.mean(), '+/-', mes.std())\n",
    "print(omz.mean(), '+/-', omz.std())"
   ]
  },
  {
   "cell_type": "code",
   "execution_count": 550,
   "metadata": {},
   "outputs": [
    {
     "data": {
      "image/png": "[encoded data removed]",
      "text/plain": [
       "<Figure size 432x432 with 1 Axes>"
      ]
     },
     "metadata": {
      "needs_background": "light"
     },
     "output_type": "display_data"
    }
   ],
   "source": [
    "plt.figure(figsize=(6,6))\n",
    "ax = sns.boxplot(x=\"depth_cat\", y=\"percent_oxido_classifier\", data=m3, order=['SRF','MES','OMZ'],palette=['#ADD8E6','#6294B7','#FF9912'])\n",
    "plt.ylabel('Percent Oxidoreductases')\n",
    "plt.xlabel('')\n",
    "plt.xticks([0,1,2],('Surface', 'Mesopelagic', 'OMZ'),rotation=0)\n",
    "\n",
    "plt.savefig('Fig5a_percoxido_by_depth.png',dpi=150)"
   ]
  },
  {
   "cell_type": "markdown",
   "metadata": {},
   "source": [
    "## ocean region gradient (no significant differences)"
   ]
  },
  {
   "cell_type": "code",
   "execution_count": 417,
   "metadata": {},
   "outputs": [
    {
     "name": "stdout",
     "output_type": "stream",
     "text": [
      "1.1494317632506763 0.34936415947496874\n",
      "0.03716099146650929 0.8501165986483635\n"
     ]
    },
    {
     "data": {
      "image/png": "[encoded data removed]",
      "text/plain": [
       "<Figure size 432x288 with 1 Axes>"
      ]
     },
     "metadata": {
      "needs_background": "light"
     },
     "output_type": "display_data"
    }
   ],
   "source": [
    "#what about ocean regions?\n",
    "#test that all three cats are different, or that polar is different - not when depths are mixed together\n",
    "pac = m3[m3['Ocean region']=='Pacific']['percent_oxido_classifier']\n",
    "atl = m3[m3['Ocean region']=='Atlantic']['percent_oxido_classifier']\n",
    "polar = m3[m3['Ocean region']=='Polar']['percent_oxido_classifier']\n",
    "F,p = anova(pac,atl,polar)\n",
    "print(F,p)\n",
    "F,p = anova(pac.append(atl),polar)\n",
    "print(F,p)\n",
    "ax = sns.boxplot(x=\"Ocean region\", y=\"percent_oxido_classifier\", data=m3)\n"
   ]
  },
  {
   "cell_type": "code",
   "execution_count": 418,
   "metadata": {},
   "outputs": [
    {
     "name": "stdout",
     "output_type": "stream",
     "text": [
      "2.59328173424188 0.18958929994549759\n",
      "2.827637606899451 0.15348283092535123\n"
     ]
    },
    {
     "data": {
      "image/png": "[encoded data removed]",
      "text/plain": [
       "<Figure size 432x288 with 1 Axes>"
      ]
     },
     "metadata": {
      "needs_background": "light"
     },
     "output_type": "display_data"
    }
   ],
   "source": [
    "#or when look at just surface\n",
    "srf_df = m3[m3['depth_cat']=='SRF']\n",
    "pac = srf_df[srf_df['Ocean region']=='Pacific']['percent_oxido_classifier']\n",
    "atl = srf_df[srf_df['Ocean region']=='Atlantic']['percent_oxido_classifier']\n",
    "polar = srf_df[srf_df['Ocean region']=='Polar']['percent_oxido_classifier']\n",
    "F,p = anova(pac,atl,polar)\n",
    "print(F,p)\n",
    "F,p = anova(pac.append(atl),polar)\n",
    "print(F,p)\n",
    "\n",
    "ax = sns.boxplot(x=\"Ocean region\", y=\"percent_oxido_classifier\", data=srf_df)"
   ]
  },
  {
   "cell_type": "code",
   "execution_count": 420,
   "metadata": {},
   "outputs": [
    {
     "name": "stdout",
     "output_type": "stream",
     "text": [
      "1.420359511702904 0.3247396239815368\n",
      "1.4980145746597016 0.2668540601466966\n",
      "3.157855343651905 0.12589216644908507\n"
     ]
    },
    {
     "data": {
      "image/png": "[encoded data removed]",
      "text/plain": [
       "<Figure size 432x288 with 1 Axes>"
      ]
     },
     "metadata": {
      "needs_background": "light"
     },
     "output_type": "display_data"
    }
   ],
   "source": [
    "#or when look at just mes\n",
    "mes_df = m3[m3['Depth category']=='MES']\n",
    "\n",
    "pac = mes_df[mes_df['Ocean region']=='Pacific']['percent_oxido_classifier']\n",
    "atl = mes_df[mes_df['Ocean region']=='Atlantic']['percent_oxido_classifier']\n",
    "polar = mes_df[mes_df['Ocean region']=='Polar']['percent_oxido_classifier']\n",
    "F,p = anova(pac,atl,polar)\n",
    "print(F,p)\n",
    "F,p = anova(pac.append(atl),polar)\n",
    "print(F,p)\n",
    "F,p = anova(pac,atl.append(polar)) #pacific is all the omz ones, also not significantly different (same as above)\n",
    "print(F,p)\n",
    "\n",
    "ax = sns.boxplot(x=\"Ocean region\", y=\"percent_oxido_classifier\", data=mes_df)"
   ]
  },
  {
   "cell_type": "markdown",
   "metadata": {},
   "source": [
    "## latitudinal gradient"
   ]
  },
  {
   "cell_type": "code",
   "execution_count": 368,
   "metadata": {},
   "outputs": [
    {
     "data": {
      "text/html": [
       "<div>\n",
       "<style scoped>\n",
       "    .dataframe tbody tr th:only-of-type {\n",
       "        vertical-align: middle;\n",
       "    }\n",
       "\n",
       "    .dataframe tbody tr th {\n",
       "        vertical-align: top;\n",
       "    }\n",
       "\n",
       "    .dataframe thead th {\n",
       "        text-align: right;\n",
       "    }\n",
       "</style>\n",
       "<table border=\"1\" class=\"dataframe\">\n",
       "  <thead>\n",
       "    <tr style=\"text-align: right;\">\n",
       "      <th></th>\n",
       "      <th>SRA read accession</th>\n",
       "      <th>Lat</th>\n",
       "      <th>Lon</th>\n",
       "      <th>Ocean region</th>\n",
       "      <th>Depth category</th>\n",
       "      <th>depth_cat</th>\n",
       "      <th>Depth (m)</th>\n",
       "      <th>Temp (°C)</th>\n",
       "      <th>Oxygen (umol/kg)</th>\n",
       "      <th>OMZ?</th>\n",
       "      <th>TARA Station</th>\n",
       "      <th>percent_oxido_classifier</th>\n",
       "      <th>percent_annotated_mgrast</th>\n",
       "      <th>percent_oxido_mgrast</th>\n",
       "      <th>percent_annotated_mifaser</th>\n",
       "      <th>percent_oxido_mifaser</th>\n",
       "      <th>abs_lat</th>\n",
       "    </tr>\n",
       "  </thead>\n",
       "  <tbody>\n",
       "    <tr>\n",
       "      <th>4</th>\n",
       "      <td>ERR599020</td>\n",
       "      <td>-1.87</td>\n",
       "      <td>-84.62</td>\n",
       "      <td>Pacific</td>\n",
       "      <td>MES</td>\n",
       "      <td>OMZ</td>\n",
       "      <td>376.9</td>\n",
       "      <td>10.3</td>\n",
       "      <td>1.3</td>\n",
       "      <td>Yes</td>\n",
       "      <td>110</td>\n",
       "      <td>0.187380</td>\n",
       "      <td>0.301295</td>\n",
       "      <td>0.030652</td>\n",
       "      <td>0.019407</td>\n",
       "      <td>0.003346</td>\n",
       "      <td>1.87</td>\n",
       "    </tr>\n",
       "    <tr>\n",
       "      <th>8</th>\n",
       "      <td>ERR599105</td>\n",
       "      <td>-8.78</td>\n",
       "      <td>-17.91</td>\n",
       "      <td>Atlantic</td>\n",
       "      <td>SRF</td>\n",
       "      <td>SRF</td>\n",
       "      <td>5.8</td>\n",
       "      <td>25.0</td>\n",
       "      <td>199.1</td>\n",
       "      <td>-</td>\n",
       "      <td>72</td>\n",
       "      <td>0.163968</td>\n",
       "      <td>0.278952</td>\n",
       "      <td>0.023180</td>\n",
       "      <td>0.016069</td>\n",
       "      <td>0.003836</td>\n",
       "      <td>8.78</td>\n",
       "    </tr>\n",
       "    <tr>\n",
       "      <th>7</th>\n",
       "      <td>ERR599048</td>\n",
       "      <td>-8.80</td>\n",
       "      <td>-17.91</td>\n",
       "      <td>Atlantic</td>\n",
       "      <td>MES</td>\n",
       "      <td>MES</td>\n",
       "      <td>792.7</td>\n",
       "      <td>4.7</td>\n",
       "      <td>143.2</td>\n",
       "      <td>No</td>\n",
       "      <td>72</td>\n",
       "      <td>0.185329</td>\n",
       "      <td>0.306728</td>\n",
       "      <td>0.027508</td>\n",
       "      <td>0.018757</td>\n",
       "      <td>0.003852</td>\n",
       "      <td>8.80</td>\n",
       "    </tr>\n",
       "    <tr>\n",
       "      <th>0</th>\n",
       "      <td>ERR598981</td>\n",
       "      <td>-12.93</td>\n",
       "      <td>-96.12</td>\n",
       "      <td>Pacific</td>\n",
       "      <td>MES</td>\n",
       "      <td>OMZ</td>\n",
       "      <td>175.3</td>\n",
       "      <td>13.0</td>\n",
       "      <td>0.7</td>\n",
       "      <td>Yes</td>\n",
       "      <td>100</td>\n",
       "      <td>0.202250</td>\n",
       "      <td>0.331639</td>\n",
       "      <td>0.031951</td>\n",
       "      <td>0.021667</td>\n",
       "      <td>0.003408</td>\n",
       "      <td>12.93</td>\n",
       "    </tr>\n",
       "    <tr>\n",
       "      <th>1</th>\n",
       "      <td>ERR599063</td>\n",
       "      <td>-12.99</td>\n",
       "      <td>-95.99</td>\n",
       "      <td>Pacific</td>\n",
       "      <td>SRF</td>\n",
       "      <td>SRF</td>\n",
       "      <td>5.5</td>\n",
       "      <td>25.3</td>\n",
       "      <td>200.2</td>\n",
       "      <td>-</td>\n",
       "      <td>100</td>\n",
       "      <td>0.181815</td>\n",
       "      <td>0.403068</td>\n",
       "      <td>0.036930</td>\n",
       "      <td>0.001707</td>\n",
       "      <td>0.000353</td>\n",
       "      <td>12.99</td>\n",
       "    </tr>\n",
       "    <tr>\n",
       "      <th>5</th>\n",
       "      <td>ERR599076</td>\n",
       "      <td>14.17</td>\n",
       "      <td>-116.66</td>\n",
       "      <td>Pacific</td>\n",
       "      <td>MES</td>\n",
       "      <td>OMZ</td>\n",
       "      <td>371.0</td>\n",
       "      <td>8.9</td>\n",
       "      <td>0.6</td>\n",
       "      <td>Yes</td>\n",
       "      <td>137</td>\n",
       "      <td>0.206118</td>\n",
       "      <td>0.320566</td>\n",
       "      <td>0.000107</td>\n",
       "      <td>0.018800</td>\n",
       "      <td>0.002942</td>\n",
       "      <td>14.17</td>\n",
       "    </tr>\n",
       "    <tr>\n",
       "      <th>6</th>\n",
       "      <td>ERR598989</td>\n",
       "      <td>14.20</td>\n",
       "      <td>-116.63</td>\n",
       "      <td>Pacific</td>\n",
       "      <td>SRF</td>\n",
       "      <td>SRF</td>\n",
       "      <td>5.4</td>\n",
       "      <td>26.4</td>\n",
       "      <td>195.1</td>\n",
       "      <td>-</td>\n",
       "      <td>137</td>\n",
       "      <td>0.182063</td>\n",
       "      <td>0.376071</td>\n",
       "      <td>0.036339</td>\n",
       "      <td>0.024079</td>\n",
       "      <td>0.004829</td>\n",
       "      <td>14.20</td>\n",
       "    </tr>\n",
       "    <tr>\n",
       "      <th>9</th>\n",
       "      <td>ERR598964</td>\n",
       "      <td>34.10</td>\n",
       "      <td>-49.78</td>\n",
       "      <td>Atlantic</td>\n",
       "      <td>MES</td>\n",
       "      <td>MES</td>\n",
       "      <td>734.3</td>\n",
       "      <td>10.6</td>\n",
       "      <td>155.2</td>\n",
       "      <td>No</td>\n",
       "      <td>149</td>\n",
       "      <td>0.197463</td>\n",
       "      <td>0.303269</td>\n",
       "      <td>0.029167</td>\n",
       "      <td>0.017322</td>\n",
       "      <td>0.002829</td>\n",
       "      <td>34.10</td>\n",
       "    </tr>\n",
       "    <tr>\n",
       "      <th>10</th>\n",
       "      <td>ERR598963</td>\n",
       "      <td>34.10</td>\n",
       "      <td>-49.89</td>\n",
       "      <td>Atlantic</td>\n",
       "      <td>SRF</td>\n",
       "      <td>SRF</td>\n",
       "      <td>5.5</td>\n",
       "      <td>18.7</td>\n",
       "      <td>220.2</td>\n",
       "      <td>-</td>\n",
       "      <td>149</td>\n",
       "      <td>0.183043</td>\n",
       "      <td>0.289597</td>\n",
       "      <td>0.029368</td>\n",
       "      <td>0.018274</td>\n",
       "      <td>0.003392</td>\n",
       "      <td>34.10</td>\n",
       "    </tr>\n",
       "    <tr>\n",
       "      <th>2</th>\n",
       "      <td>ERR599115</td>\n",
       "      <td>35.31</td>\n",
       "      <td>-127.74</td>\n",
       "      <td>Pacific</td>\n",
       "      <td>MES</td>\n",
       "      <td>OMZ</td>\n",
       "      <td>644.6</td>\n",
       "      <td>4.9</td>\n",
       "      <td>8.6</td>\n",
       "      <td>Yes</td>\n",
       "      <td>133</td>\n",
       "      <td>0.200113</td>\n",
       "      <td>0.317524</td>\n",
       "      <td>0.027882</td>\n",
       "      <td>0.010099</td>\n",
       "      <td>0.001629</td>\n",
       "      <td>35.31</td>\n",
       "    </tr>\n",
       "    <tr>\n",
       "      <th>3</th>\n",
       "      <td>ERR599052</td>\n",
       "      <td>35.41</td>\n",
       "      <td>-127.74</td>\n",
       "      <td>Pacific</td>\n",
       "      <td>SRF</td>\n",
       "      <td>SRF</td>\n",
       "      <td>5.5</td>\n",
       "      <td>19.2</td>\n",
       "      <td>224.4</td>\n",
       "      <td>-</td>\n",
       "      <td>133</td>\n",
       "      <td>0.185898</td>\n",
       "      <td>0.368615</td>\n",
       "      <td>0.035761</td>\n",
       "      <td>0.012741</td>\n",
       "      <td>0.002548</td>\n",
       "      <td>35.41</td>\n",
       "    </tr>\n",
       "    <tr>\n",
       "      <th>11</th>\n",
       "      <td>ERR599125</td>\n",
       "      <td>-61.98</td>\n",
       "      <td>-49.45</td>\n",
       "      <td>Polar</td>\n",
       "      <td>MES</td>\n",
       "      <td>MES</td>\n",
       "      <td>783.8</td>\n",
       "      <td>0.5</td>\n",
       "      <td>203.8</td>\n",
       "      <td>No</td>\n",
       "      <td>85</td>\n",
       "      <td>0.192314</td>\n",
       "      <td>0.267039</td>\n",
       "      <td>0.022186</td>\n",
       "      <td>0.015060</td>\n",
       "      <td>0.002454</td>\n",
       "      <td>61.98</td>\n",
       "    </tr>\n",
       "    <tr>\n",
       "      <th>12</th>\n",
       "      <td>ERR599176</td>\n",
       "      <td>-62.03</td>\n",
       "      <td>-49.54</td>\n",
       "      <td>Polar</td>\n",
       "      <td>SRF</td>\n",
       "      <td>SRF</td>\n",
       "      <td>5.9</td>\n",
       "      <td>0.7</td>\n",
       "      <td>343.4</td>\n",
       "      <td>-</td>\n",
       "      <td>85</td>\n",
       "      <td>0.186171</td>\n",
       "      <td>0.502579</td>\n",
       "      <td>0.040286</td>\n",
       "      <td>0.027172</td>\n",
       "      <td>0.004703</td>\n",
       "      <td>62.03</td>\n",
       "    </tr>\n",
       "    <tr>\n",
       "      <th>13</th>\n",
       "      <td>ERR3589593</td>\n",
       "      <td>76.12</td>\n",
       "      <td>1.36</td>\n",
       "      <td>Polar</td>\n",
       "      <td>MES</td>\n",
       "      <td>MES</td>\n",
       "      <td>490.5</td>\n",
       "      <td>0.1</td>\n",
       "      <td>315.4</td>\n",
       "      <td>No</td>\n",
       "      <td>163</td>\n",
       "      <td>0.184745</td>\n",
       "      <td>0.290377</td>\n",
       "      <td>0.026906</td>\n",
       "      <td>0.018158</td>\n",
       "      <td>0.002944</td>\n",
       "      <td>76.12</td>\n",
       "    </tr>\n",
       "    <tr>\n",
       "      <th>14</th>\n",
       "      <td>ERR3589586</td>\n",
       "      <td>76.18</td>\n",
       "      <td>1.39</td>\n",
       "      <td>Polar</td>\n",
       "      <td>SRF</td>\n",
       "      <td>SRF</td>\n",
       "      <td>5.0</td>\n",
       "      <td>1.9</td>\n",
       "      <td>363.0</td>\n",
       "      <td>-</td>\n",
       "      <td>163</td>\n",
       "      <td>0.196373</td>\n",
       "      <td>0.471893</td>\n",
       "      <td>0.000171</td>\n",
       "      <td>0.028559</td>\n",
       "      <td>0.005914</td>\n",
       "      <td>76.18</td>\n",
       "    </tr>\n",
       "  </tbody>\n",
       "</table>\n",
       "</div>"
      ],
      "text/plain": [
       "   SRA read accession    Lat     Lon Ocean region Depth category depth_cat  \\\n",
       "4           ERR599020  -1.87  -84.62      Pacific            MES       OMZ   \n",
       "8           ERR599105  -8.78  -17.91     Atlantic            SRF       SRF   \n",
       "7           ERR599048  -8.80  -17.91     Atlantic            MES       MES   \n",
       "0           ERR598981 -12.93  -96.12      Pacific            MES       OMZ   \n",
       "1           ERR599063 -12.99  -95.99      Pacific            SRF       SRF   \n",
       "5           ERR599076  14.17 -116.66      Pacific            MES       OMZ   \n",
       "6           ERR598989  14.20 -116.63      Pacific            SRF       SRF   \n",
       "9           ERR598964  34.10  -49.78     Atlantic            MES       MES   \n",
       "10          ERR598963  34.10  -49.89     Atlantic            SRF       SRF   \n",
       "2           ERR599115  35.31 -127.74      Pacific            MES       OMZ   \n",
       "3           ERR599052  35.41 -127.74      Pacific            SRF       SRF   \n",
       "11          ERR599125 -61.98  -49.45        Polar            MES       MES   \n",
       "12          ERR599176 -62.03  -49.54        Polar            SRF       SRF   \n",
       "13         ERR3589593  76.12    1.36        Polar            MES       MES   \n",
       "14         ERR3589586  76.18    1.39        Polar            SRF       SRF   \n",
       "\n",
       "    Depth (m)  Temp (°C)  Oxygen (umol/kg) OMZ?  TARA Station  \\\n",
       "4       376.9       10.3               1.3  Yes           110   \n",
       "8         5.8       25.0             199.1    -            72   \n",
       "7       792.7        4.7             143.2   No            72   \n",
       "0       175.3       13.0               0.7  Yes           100   \n",
       "1         5.5       25.3             200.2    -           100   \n",
       "5       371.0        8.9               0.6  Yes           137   \n",
       "6         5.4       26.4             195.1    -           137   \n",
       "9       734.3       10.6             155.2   No           149   \n",
       "10        5.5       18.7             220.2    -           149   \n",
       "2       644.6        4.9               8.6  Yes           133   \n",
       "3         5.5       19.2             224.4    -           133   \n",
       "11      783.8        0.5             203.8   No            85   \n",
       "12        5.9        0.7             343.4    -            85   \n",
       "13      490.5        0.1             315.4   No           163   \n",
       "14        5.0        1.9             363.0    -           163   \n",
       "\n",
       "    percent_oxido_classifier  percent_annotated_mgrast  percent_oxido_mgrast  \\\n",
       "4                   0.187380                  0.301295              0.030652   \n",
       "8                   0.163968                  0.278952              0.023180   \n",
       "7                   0.185329                  0.306728              0.027508   \n",
       "0                   0.202250                  0.331639              0.031951   \n",
       "1                   0.181815                  0.403068              0.036930   \n",
       "5                   0.206118                  0.320566              0.000107   \n",
       "6                   0.182063                  0.376071              0.036339   \n",
       "9                   0.197463                  0.303269              0.029167   \n",
       "10                  0.183043                  0.289597              0.029368   \n",
       "2                   0.200113                  0.317524              0.027882   \n",
       "3                   0.185898                  0.368615              0.035761   \n",
       "11                  0.192314                  0.267039              0.022186   \n",
       "12                  0.186171                  0.502579              0.040286   \n",
       "13                  0.184745                  0.290377              0.026906   \n",
       "14                  0.196373                  0.471893              0.000171   \n",
       "\n",
       "    percent_annotated_mifaser  percent_oxido_mifaser  abs_lat  \n",
       "4                    0.019407               0.003346     1.87  \n",
       "8                    0.016069               0.003836     8.78  \n",
       "7                    0.018757               0.003852     8.80  \n",
       "0                    0.021667               0.003408    12.93  \n",
       "1                    0.001707               0.000353    12.99  \n",
       "5                    0.018800               0.002942    14.17  \n",
       "6                    0.024079               0.004829    14.20  \n",
       "9                    0.017322               0.002829    34.10  \n",
       "10                   0.018274               0.003392    34.10  \n",
       "2                    0.010099               0.001629    35.31  \n",
       "3                    0.012741               0.002548    35.41  \n",
       "11                   0.015060               0.002454    61.98  \n",
       "12                   0.027172               0.004703    62.03  \n",
       "13                   0.018158               0.002944    76.12  \n",
       "14                   0.028559               0.005914    76.18  "
      ]
     },
     "execution_count": 368,
     "metadata": {},
     "output_type": "execute_result"
    }
   ],
   "source": [
    "m3['abs_lat'] = m3['Lat'].abs()\n",
    "m3.sort_values('abs_lat')"
   ]
  },
  {
   "cell_type": "code",
   "execution_count": 422,
   "metadata": {},
   "outputs": [
    {
     "name": "stdout",
     "output_type": "stream",
     "text": [
      "(0.1607305157039407, 0.5671570426972612)\n"
     ]
    },
    {
     "data": {
      "image/png": "[encoded data removed]",
      "text/plain": [
       "<Figure size 360x360 with 1 Axes>"
      ]
     },
     "metadata": {
      "needs_background": "light"
     },
     "output_type": "display_data"
    }
   ],
   "source": [
    "sns.lmplot(x='abs_lat',y='percent_oxido_classifier',data=m3)\n",
    "from scipy.stats import pearsonr\n",
    "#first number is r2, second is p-value\n",
    "print(pearsonr(m3['abs_lat'], m3['percent_oxido_classifier']))\n",
    "#no significant latitudinal trend looking at all depths together"
   ]
  },
  {
   "cell_type": "code",
   "execution_count": 429,
   "metadata": {},
   "outputs": [
    {
     "name": "stdout",
     "output_type": "stream",
     "text": [
      "(0.7855579879327558, 0.036301300119799366)\n",
      "(-0.26103756767438263, 0.5323341220152193)\n"
     ]
    },
    {
     "data": {
      "image/png": "[encoded data removed]",
      "text/plain": [
       "<Figure size 720x360 with 2 Axes>"
      ]
     },
     "metadata": {
      "needs_background": "light"
     },
     "output_type": "display_data"
    }
   ],
   "source": [
    "#but there is a significant latitudinal trend in surface waters only\n",
    "sns.lmplot(x='abs_lat',y='percent_oxido_classifier',data=m3,col='Depth category')\n",
    "srf = m3[m3['Depth category']=='SRF']\n",
    "mes = m3[m3['Depth category']=='MES']\n",
    "print(pearsonr(srf['abs_lat'], srf['percent_oxido_classifier']))\n",
    "print(pearsonr(mes['abs_lat'], mes['percent_oxido_classifier']))"
   ]
  },
  {
   "cell_type": "code",
   "execution_count": 516,
   "metadata": {},
   "outputs": [
    {
     "data": {
      "text/plain": [
       "<Figure size 432x576 with 0 Axes>"
      ]
     },
     "metadata": {},
     "output_type": "display_data"
    },
    {
     "data": {
      "image/png": "[encoded data removed]",
      "text/plain": [
       "<Figure size 360x360 with 1 Axes>"
      ]
     },
     "metadata": {
      "needs_background": "light"
     },
     "output_type": "display_data"
    }
   ],
   "source": [
    "srf = m3[m3['Depth category']=='SRF']\n",
    "\n",
    "plt.figure(figsize=(6,8))\n",
    "ax = sns.lmplot(x='abs_lat',y='percent_oxido_classifier',data=srf)\n",
    "plt.ylabel('Percent Oxidoreductases')\n",
    "plt.xlabel('Absolute Latitude')\n",
    "\n",
    "plt.savefig('Fig5b_percoxido_srf_by_lat.png',dpi=150)"
   ]
  },
  {
   "cell_type": "code",
   "execution_count": 539,
   "metadata": {},
   "outputs": [
    {
     "name": "stdout",
     "output_type": "stream",
     "text": [
      "(-0.6572426873972845, 0.10867657040322394)\n"
     ]
    },
    {
     "data": {
      "image/png": "[encoded data removed]",
      "text/plain": [
       "<Figure size 360x360 with 1 Axes>"
      ]
     },
     "metadata": {
      "needs_background": "light"
     },
     "output_type": "display_data"
    }
   ],
   "source": [
    "#a marginally significant temperature trend - but this is all due to depth I think\n",
    "sns.lmplot(x='Temp (°C)',y='percent_oxido_classifier',data=srf_df)\n",
    "plt.ylabel('Percent Oxidoreductases')\n",
    "plt.savefig('percoxido_srf_by_temp.png',dpi=150)\n",
    "print(pearsonr(srf_df['Temp (°C)'], srf_df['percent_oxido_classifier']))"
   ]
  },
  {
   "cell_type": "code",
   "execution_count": 431,
   "metadata": {},
   "outputs": [
    {
     "name": "stdout",
     "output_type": "stream",
     "text": [
      "(-0.6572426873972845, 0.10867657040322394)\n",
      "(0.53092369336875, 0.17576955180086853)\n"
     ]
    },
    {
     "data": {
      "image/png": "[encoded data removed]",
      "text/plain": [
       "<Figure size 720x360 with 2 Axes>"
      ]
     },
     "metadata": {
      "needs_background": "light"
     },
     "output_type": "display_data"
    }
   ],
   "source": [
    "#yup - a similar temperature-related trend in surface waters albeit less statistically significant\n",
    "sns.lmplot(x='Temp (°C)',y='percent_oxido_classifier',data=m3,col='Depth category')\n",
    "plt.ylim(0.15,0.21)\n",
    "print(pearsonr(srf['Temp (°C)'], srf['percent_oxido_classifier']))\n",
    "print(pearsonr(mes['Temp (°C)'], mes['percent_oxido_classifier']))"
   ]
  },
  {
   "cell_type": "code",
   "execution_count": 535,
   "metadata": {},
   "outputs": [
    {
     "name": "stdout",
     "output_type": "stream",
     "text": [
      "(-0.4886897765155783, 0.265781638723572)\n"
     ]
    },
    {
     "data": {
      "image/png": "[encoded data removed]",
      "text/plain": [
       "<Figure size 360x360 with 1 Axes>"
      ]
     },
     "metadata": {
      "needs_background": "light"
     },
     "output_type": "display_data"
    }
   ],
   "source": [
    "#note this trend goes away when look at mgrast or mifaser, no significant relationship; and the trend even reverses with mgrast\n",
    "sns.lmplot(x='abs_lat',y='percent_oxido_mgrast',data=srf_df)\n",
    "plt.title('MG-RAST')\n",
    "plt.ylabel('Percent Oxidoreductases')\n",
    "plt.xlabel('Absolute Latitude')\n",
    "plt.savefig('mgrast_percoxido_srf_by_lat.png', dpi=150)\n",
    "\n",
    "srf = m3[m3['Depth category']=='SRF']\n",
    "print(pearsonr(srf['abs_lat'], srf['percent_oxido_mgrast']))"
   ]
  },
  {
   "cell_type": "code",
   "execution_count": 536,
   "metadata": {},
   "outputs": [
    {
     "name": "stdout",
     "output_type": "stream",
     "text": [
      "(0.5826663195134658, 0.16980930740896127)\n"
     ]
    },
    {
     "data": {
      "image/png": "[encoded data removed]",
      "text/plain": [
       "<Figure size 360x360 with 1 Axes>"
      ]
     },
     "metadata": {
      "needs_background": "light"
     },
     "output_type": "display_data"
    }
   ],
   "source": [
    "sns.lmplot(x='abs_lat',y='percent_oxido_mifaser',data=srf_df)\n",
    "plt.title('mi-faser')\n",
    "plt.ylabel('Percent Oxidoreductases')\n",
    "plt.xlabel('Absolute Latitude')\n",
    "plt.savefig('mifaser_percoxido_srf_by_lat.png', dpi=150)\n",
    "\n",
    "srf = m3[m3['Depth category']=='SRF']\n",
    "print(pearsonr(srf['abs_lat'], srf['percent_oxido_mifaser']))"
   ]
  },
  {
   "cell_type": "code",
   "execution_count": 531,
   "metadata": {},
   "outputs": [
    {
     "name": "stdout",
     "output_type": "stream",
     "text": [
      "0.3159944350609087 0.7349487747073334\n"
     ]
    },
    {
     "data": {
      "image/png": "[encoded data removed]",
      "text/plain": [
       "<Figure size 432x432 with 1 Axes>"
      ]
     },
     "metadata": {
      "needs_background": "light"
     },
     "output_type": "display_data"
    }
   ],
   "source": [
    "#and same story for the depth-related differences\n",
    "plt.figure(figsize=(6,6))\n",
    "ax = sns.boxplot(x=\"depth_cat\", y=\"percent_oxido_mgrast\", data=m3, order=['SRF','MES','OMZ'],palette=['#ADD8E6','#6294B7','#FF9912'])\n",
    "plt.ylabel('Percent Oxidoreductases')\n",
    "plt.title('MG-RAST')\n",
    "plt.xlabel('')\n",
    "plt.xticks([0,1,2],('Surface', 'Mesopelagic', 'OMZ'),rotation=0)\n",
    "\n",
    "plt.savefig('mgrast_percoxido_by_depth.png',dpi=150)\n",
    "\n",
    "#test that all three cats are different\n",
    "srf = m3[m3['depth_cat']=='SRF']['percent_oxido_mgrast']\n",
    "mes = m3[m3['depth_cat']=='MES']['percent_oxido_mgrast']\n",
    "omz = m3[m3['depth_cat']=='OMZ']['percent_oxido_mgrast']\n",
    "F,p = anova(srf,mes,omz)\n",
    "print(F,p)"
   ]
  },
  {
   "cell_type": "code",
   "execution_count": 532,
   "metadata": {},
   "outputs": [
    {
     "name": "stdout",
     "output_type": "stream",
     "text": [
      "0.5365182809000791 0.5981755003898673\n"
     ]
    },
    {
     "data": {
      "image/png": "[encoded data removed]",
      "text/plain": [
       "<Figure size 432x432 with 1 Axes>"
      ]
     },
     "metadata": {
      "needs_background": "light"
     },
     "output_type": "display_data"
    }
   ],
   "source": [
    "#and same story for the depth-related differences\n",
    "plt.figure(figsize=(6,6))\n",
    "ax = sns.boxplot(x=\"depth_cat\", y=\"percent_oxido_mifaser\", data=m3, order=['SRF','MES','OMZ'],palette=['#ADD8E6','#6294B7','#FF9912'])\n",
    "plt.ylabel('Percent Oxidoreductases')\n",
    "plt.title('mi-faser')\n",
    "plt.xlabel('')\n",
    "plt.xticks([0,1,2],('Surface', 'Mesopelagic', 'OMZ'),rotation=0)\n",
    "\n",
    "plt.savefig('mifaser_percoxido_by_depth.png',dpi=150)\n",
    "\n",
    "#test that all three cats are different\n",
    "srf = m3[m3['depth_cat']=='SRF']['percent_oxido_mifaser']\n",
    "mes = m3[m3['depth_cat']=='MES']['percent_oxido_mifaser']\n",
    "omz = m3[m3['depth_cat']=='OMZ']['percent_oxido_mifaser']\n",
    "F,p = anova(srf,mes,omz)\n",
    "print(F,p)"
   ]
  },
  {
   "cell_type": "markdown",
   "metadata": {},
   "source": [
    "# just looking again at TARA metadata..."
   ]
  },
  {
   "cell_type": "code",
   "execution_count": 396,
   "metadata": {},
   "outputs": [
    {
     "data": {
      "text/html": [
       "<div>\n",
       "<style scoped>\n",
       "    .dataframe tbody tr th:only-of-type {\n",
       "        vertical-align: middle;\n",
       "    }\n",
       "\n",
       "    .dataframe tbody tr th {\n",
       "        vertical-align: top;\n",
       "    }\n",
       "\n",
       "    .dataframe thead th {\n",
       "        text-align: right;\n",
       "    }\n",
       "</style>\n",
       "<table border=\"1\" class=\"dataframe\">\n",
       "  <thead>\n",
       "    <tr style=\"text-align: right;\">\n",
       "      <th></th>\n",
       "      <th>PANGAEA Sample ID</th>\n",
       "      <th>Mean_Date [YY/MM/DD hh:mm]*</th>\n",
       "      <th>Mean_Lat*</th>\n",
       "      <th>Mean_Long*</th>\n",
       "      <th>Mean_Depth [m]*</th>\n",
       "      <th>Mean_Temperature [deg C]*</th>\n",
       "      <th>Mean Depth MLD Sigma [m]*</th>\n",
       "      <th>Mean_Salinity [PSU]*</th>\n",
       "      <th>Mean_Oxygen [umol/kg]*</th>\n",
       "      <th>Mean_Nitrates[umol/L]*</th>\n",
       "      <th>...</th>\n",
       "      <th>miTAG.SILVA.ace</th>\n",
       "      <th>miTAG.SILVA.Shannon</th>\n",
       "      <th>OG.Shannon</th>\n",
       "      <th>OG.Richness</th>\n",
       "      <th>OG.Evenness</th>\n",
       "      <th>FC - heterotrophs [cells/mL]</th>\n",
       "      <th>FC - autotrophs [cells/mL]</th>\n",
       "      <th>FC - bacteria [cells/mL]</th>\n",
       "      <th>FC - picoeukaryotes [cells/mL]</th>\n",
       "      <th>minimum generation time [h]</th>\n",
       "    </tr>\n",
       "  </thead>\n",
       "  <tbody>\n",
       "    <tr>\n",
       "      <th>0</th>\n",
       "      <td>TARA_B100000161</td>\n",
       "      <td>4/13/10 3:21</td>\n",
       "      <td>0.00</td>\n",
       "      <td>71.64</td>\n",
       "      <td>5.5</td>\n",
       "      <td>30.5</td>\n",
       "      <td>14.0</td>\n",
       "      <td>35.1</td>\n",
       "      <td>185.2</td>\n",
       "      <td>2.6</td>\n",
       "      <td>...</td>\n",
       "      <td>3226.0</td>\n",
       "      <td>6.30</td>\n",
       "      <td>7.06</td>\n",
       "      <td>14553.0</td>\n",
       "      <td>0.736</td>\n",
       "      <td>393599.0</td>\n",
       "      <td>305984.0</td>\n",
       "      <td>699583.0</td>\n",
       "      <td>818.0</td>\n",
       "      <td>13.0</td>\n",
       "    </tr>\n",
       "    <tr>\n",
       "      <th>1</th>\n",
       "      <td>TARA_R100000406</td>\n",
       "      <td>4/15/10 2:38</td>\n",
       "      <td>-0.66</td>\n",
       "      <td>73.16</td>\n",
       "      <td>5.5</td>\n",
       "      <td>30.1</td>\n",
       "      <td>12.0</td>\n",
       "      <td>35.1</td>\n",
       "      <td>185.7</td>\n",
       "      <td>0.5</td>\n",
       "      <td>...</td>\n",
       "      <td>NaN</td>\n",
       "      <td>NaN</td>\n",
       "      <td>NaN</td>\n",
       "      <td>NaN</td>\n",
       "      <td>NaN</td>\n",
       "      <td>773570.0</td>\n",
       "      <td>433402.0</td>\n",
       "      <td>1206972.0</td>\n",
       "      <td>16620.0</td>\n",
       "      <td>NaN</td>\n",
       "    </tr>\n",
       "    <tr>\n",
       "      <th>2</th>\n",
       "      <td>TARA_R100000149</td>\n",
       "      <td>4/4/10 3:13</td>\n",
       "      <td>6.03</td>\n",
       "      <td>73.89</td>\n",
       "      <td>5.4</td>\n",
       "      <td>30.0</td>\n",
       "      <td>21.0</td>\n",
       "      <td>34.6</td>\n",
       "      <td>189.3</td>\n",
       "      <td>-1.5</td>\n",
       "      <td>...</td>\n",
       "      <td>NaN</td>\n",
       "      <td>NaN</td>\n",
       "      <td>NaN</td>\n",
       "      <td>NaN</td>\n",
       "      <td>NaN</td>\n",
       "      <td>808564.0</td>\n",
       "      <td>188746.0</td>\n",
       "      <td>997310.0</td>\n",
       "      <td>909.0</td>\n",
       "      <td>NaN</td>\n",
       "    </tr>\n",
       "    <tr>\n",
       "      <th>3</th>\n",
       "      <td>TARA_B100000123</td>\n",
       "      <td>4/4/10 3:13</td>\n",
       "      <td>6.03</td>\n",
       "      <td>73.89</td>\n",
       "      <td>5.4</td>\n",
       "      <td>30.0</td>\n",
       "      <td>21.0</td>\n",
       "      <td>34.6</td>\n",
       "      <td>189.3</td>\n",
       "      <td>-1.5</td>\n",
       "      <td>...</td>\n",
       "      <td>3569.0</td>\n",
       "      <td>6.51</td>\n",
       "      <td>7.09</td>\n",
       "      <td>15541.0</td>\n",
       "      <td>0.735</td>\n",
       "      <td>808564.0</td>\n",
       "      <td>188746.0</td>\n",
       "      <td>997310.0</td>\n",
       "      <td>909.0</td>\n",
       "      <td>14.0</td>\n",
       "    </tr>\n",
       "    <tr>\n",
       "      <th>4</th>\n",
       "      <td>TARA_Y100000114</td>\n",
       "      <td>4/19/10 7:54</td>\n",
       "      <td>-9.39</td>\n",
       "      <td>66.42</td>\n",
       "      <td>5.4</td>\n",
       "      <td>29.8</td>\n",
       "      <td>17.0</td>\n",
       "      <td>34.2</td>\n",
       "      <td>187.3</td>\n",
       "      <td>-2.2</td>\n",
       "      <td>...</td>\n",
       "      <td>NaN</td>\n",
       "      <td>NaN</td>\n",
       "      <td>NaN</td>\n",
       "      <td>NaN</td>\n",
       "      <td>NaN</td>\n",
       "      <td>313030.0</td>\n",
       "      <td>148147.0</td>\n",
       "      <td>461176.0</td>\n",
       "      <td>566.0</td>\n",
       "      <td>NaN</td>\n",
       "    </tr>\n",
       "  </tbody>\n",
       "</table>\n",
       "<p>5 rows × 37 columns</p>\n",
       "</div>"
      ],
      "text/plain": [
       "  PANGAEA Sample ID Mean_Date [YY/MM/DD hh:mm]*  Mean_Lat*  Mean_Long*  \\\n",
       "0   TARA_B100000161                4/13/10 3:21       0.00       71.64   \n",
       "1   TARA_R100000406                4/15/10 2:38      -0.66       73.16   \n",
       "2   TARA_R100000149                 4/4/10 3:13       6.03       73.89   \n",
       "3   TARA_B100000123                 4/4/10 3:13       6.03       73.89   \n",
       "4   TARA_Y100000114                4/19/10 7:54      -9.39       66.42   \n",
       "\n",
       "   Mean_Depth [m]*  Mean_Temperature [deg C]*  Mean Depth MLD Sigma [m]*  \\\n",
       "0              5.5                       30.5                       14.0   \n",
       "1              5.5                       30.1                       12.0   \n",
       "2              5.4                       30.0                       21.0   \n",
       "3              5.4                       30.0                       21.0   \n",
       "4              5.4                       29.8                       17.0   \n",
       "\n",
       "   Mean_Salinity [PSU]*  Mean_Oxygen [umol/kg]*  Mean_Nitrates[umol/L]*  ...  \\\n",
       "0                  35.1                   185.2                     2.6  ...   \n",
       "1                  35.1                   185.7                     0.5  ...   \n",
       "2                  34.6                   189.3                    -1.5  ...   \n",
       "3                  34.6                   189.3                    -1.5  ...   \n",
       "4                  34.2                   187.3                    -2.2  ...   \n",
       "\n",
       "   miTAG.SILVA.ace  miTAG.SILVA.Shannon  OG.Shannon  OG.Richness  OG.Evenness  \\\n",
       "0           3226.0                 6.30        7.06      14553.0        0.736   \n",
       "1              NaN                  NaN         NaN          NaN          NaN   \n",
       "2              NaN                  NaN         NaN          NaN          NaN   \n",
       "3           3569.0                 6.51        7.09      15541.0        0.735   \n",
       "4              NaN                  NaN         NaN          NaN          NaN   \n",
       "\n",
       "   FC - heterotrophs [cells/mL]  FC - autotrophs [cells/mL]  \\\n",
       "0                      393599.0                    305984.0   \n",
       "1                      773570.0                    433402.0   \n",
       "2                      808564.0                    188746.0   \n",
       "3                      808564.0                    188746.0   \n",
       "4                      313030.0                    148147.0   \n",
       "\n",
       "   FC - bacteria [cells/mL]  FC - picoeukaryotes [cells/mL]  \\\n",
       "0                  699583.0                           818.0   \n",
       "1                 1206972.0                         16620.0   \n",
       "2                  997310.0                           909.0   \n",
       "3                  997310.0                           909.0   \n",
       "4                  461176.0                           566.0   \n",
       "\n",
       "   minimum generation time [h]  \n",
       "0                         13.0  \n",
       "1                          NaN  \n",
       "2                          NaN  \n",
       "3                         14.0  \n",
       "4                          NaN  \n",
       "\n",
       "[5 rows x 37 columns]"
      ]
     },
     "execution_count": 396,
     "metadata": {},
     "output_type": "execute_result"
    }
   ],
   "source": [
    "om1 = pd.read_csv('OM.CompanionTables-W8.csv')\n",
    "om1.head()"
   ]
  },
  {
   "cell_type": "code",
   "execution_count": 397,
   "metadata": {},
   "outputs": [
    {
     "data": {
      "text/html": [
       "<div>\n",
       "<style scoped>\n",
       "    .dataframe tbody tr th:only-of-type {\n",
       "        vertical-align: middle;\n",
       "    }\n",
       "\n",
       "    .dataframe tbody tr th {\n",
       "        vertical-align: top;\n",
       "    }\n",
       "\n",
       "    .dataframe thead th {\n",
       "        text-align: right;\n",
       "    }\n",
       "</style>\n",
       "<table border=\"1\" class=\"dataframe\">\n",
       "  <thead>\n",
       "    <tr style=\"text-align: right;\">\n",
       "      <th></th>\n",
       "      <th>Sample label [TARA_station#_environmental-feature_size-fraction]</th>\n",
       "      <th>Station identifier [TARA_station#]</th>\n",
       "      <th>Marine pelagic biomes (Longhurst 2007)</th>\n",
       "      <th>Marine pelagic biomes  (Longhurst 2007) [MRGID registered at www.marineregions.com]</th>\n",
       "      <th>INSDC sample accession number(s)</th>\n",
       "      <th>INSDC run accession number(s)</th>\n",
       "      <th>Corresponding nucleotides data published at ENA</th>\n",
       "      <th>PANGAEA sample identifier</th>\n",
       "      <th>Corresponding contextual data published at PANGAEA</th>\n",
       "      <th>Date/Time [yyyy-mm-ddThh:mm]</th>\n",
       "      <th>Latitude [degrees North]</th>\n",
       "      <th>Longitude [degrees East]</th>\n",
       "      <th>Sampling depth [m]</th>\n",
       "      <th>Environmental Feature</th>\n",
       "      <th>Size fraction lower threshold [micrometre]</th>\n",
       "      <th>Size fraction upper threshold [micrometre]</th>\n",
       "      <th>Ocean and sea regions (IHO General Sea Areas 1953) [MRGID registered at www.marineregions.com]</th>\n",
       "    </tr>\n",
       "  </thead>\n",
       "  <tbody>\n",
       "    <tr>\n",
       "      <th>0</th>\n",
       "      <td>TARA_004_DCM_0.22-1.6</td>\n",
       "      <td>TARA_004</td>\n",
       "      <td>Westerlies Biome</td>\n",
       "      <td>(NAST-E) North Atlantic Subtropical Gyral Prov...</td>\n",
       "      <td>ERS487936</td>\n",
       "      <td>ERR598950|ERR599095</td>\n",
       "      <td>http://www.ebi.ac.uk/ena/data/view/ERR598950,E...</td>\n",
       "      <td>TARA_X000000368</td>\n",
       "      <td>http://www.pangaea.de/search?All&amp;q=TARA_X00000...</td>\n",
       "      <td>2009-09-15T18:00</td>\n",
       "      <td>36.5533</td>\n",
       "      <td>-6.5669</td>\n",
       "      <td>40.0</td>\n",
       "      <td>(DCM) deep chlorophyll maximum layer (ENVO:010...</td>\n",
       "      <td>0.22</td>\n",
       "      <td>1.6</td>\n",
       "      <td>(NAO) North Atlantic Ocean [MRGID:1912]</td>\n",
       "    </tr>\n",
       "    <tr>\n",
       "      <th>1</th>\n",
       "      <td>TARA_004_SRF_0.22-1.6</td>\n",
       "      <td>TARA_004</td>\n",
       "      <td>Westerlies Biome</td>\n",
       "      <td>(NAST-E) North Atlantic Subtropical Gyral Prov...</td>\n",
       "      <td>ERS487899</td>\n",
       "      <td>ERR598955|ERR599003</td>\n",
       "      <td>http://www.ebi.ac.uk/ena/data/view/ERR598955,E...</td>\n",
       "      <td>TARA_Y200000002</td>\n",
       "      <td>http://www.pangaea.de/search?All&amp;q=TARA_Y20000...</td>\n",
       "      <td>2009-09-15T11:30</td>\n",
       "      <td>36.5533</td>\n",
       "      <td>-6.5669</td>\n",
       "      <td>5.0</td>\n",
       "      <td>(SRF) surface water layer (ENVO:00002042)</td>\n",
       "      <td>0.22</td>\n",
       "      <td>1.6</td>\n",
       "      <td>(NAO) North Atlantic Ocean [MRGID:1912]</td>\n",
       "    </tr>\n",
       "    <tr>\n",
       "      <th>2</th>\n",
       "      <td>TARA_007_DCM_0.22-1.6</td>\n",
       "      <td>TARA_007</td>\n",
       "      <td>Westerlies Biome</td>\n",
       "      <td>(MEDI) Mediterranean Sea, Black Sea Province [...</td>\n",
       "      <td>ERS477953</td>\n",
       "      <td>ERR315856</td>\n",
       "      <td>http://www.ebi.ac.uk/ena/data/view/ERR315856</td>\n",
       "      <td>TARA_A200000159</td>\n",
       "      <td>http://www.pangaea.de/search?All&amp;q=TARA_A20000...</td>\n",
       "      <td>2009-09-23T16:08</td>\n",
       "      <td>37.0541</td>\n",
       "      <td>1.9478</td>\n",
       "      <td>42.0</td>\n",
       "      <td>(DCM) deep chlorophyll maximum layer (ENVO:010...</td>\n",
       "      <td>0.22</td>\n",
       "      <td>1.6</td>\n",
       "      <td>(MS) Mediterranean Sea [MRGID:1905]</td>\n",
       "    </tr>\n",
       "    <tr>\n",
       "      <th>3</th>\n",
       "      <td>TARA_007_SRF_0.22-1.6</td>\n",
       "      <td>TARA_007</td>\n",
       "      <td>Westerlies Biome</td>\n",
       "      <td>(MEDI) Mediterranean Sea, Black Sea Province [...</td>\n",
       "      <td>ERS477931</td>\n",
       "      <td>ERR315857</td>\n",
       "      <td>http://www.ebi.ac.uk/ena/data/view/ERR315857</td>\n",
       "      <td>TARA_A200000113</td>\n",
       "      <td>http://www.pangaea.de/search?All&amp;q=TARA_A20000...</td>\n",
       "      <td>2009-09-23T12:50</td>\n",
       "      <td>37.0510</td>\n",
       "      <td>1.9378</td>\n",
       "      <td>5.0</td>\n",
       "      <td>(SRF) surface water layer (ENVO:00002042)</td>\n",
       "      <td>0.22</td>\n",
       "      <td>1.6</td>\n",
       "      <td>(MS) Mediterranean Sea [MRGID:1905]</td>\n",
       "    </tr>\n",
       "    <tr>\n",
       "      <th>4</th>\n",
       "      <td>TARA_009_DCM_0.22-1.6</td>\n",
       "      <td>TARA_009</td>\n",
       "      <td>Westerlies Biome</td>\n",
       "      <td>(MEDI) Mediterranean Sea, Black Sea Province [...</td>\n",
       "      <td>ERS488147</td>\n",
       "      <td>ERR594315|ERR594329</td>\n",
       "      <td>http://www.ebi.ac.uk/ena/data/view/ERR594315,E...</td>\n",
       "      <td>TARA_X000001036</td>\n",
       "      <td>http://www.pangaea.de/search?All&amp;q=TARA_X00000...</td>\n",
       "      <td>2009-09-28T16:59</td>\n",
       "      <td>39.0609</td>\n",
       "      <td>5.9422</td>\n",
       "      <td>55.0</td>\n",
       "      <td>(DCM) deep chlorophyll maximum layer (ENVO:010...</td>\n",
       "      <td>0.22</td>\n",
       "      <td>1.6</td>\n",
       "      <td>(MS) Mediterranean Sea [MRGID:1905]</td>\n",
       "    </tr>\n",
       "  </tbody>\n",
       "</table>\n",
       "</div>"
      ],
      "text/plain": [
       "  Sample label [TARA_station#_environmental-feature_size-fraction]  \\\n",
       "0                              TARA_004_DCM_0.22-1.6                 \n",
       "1                              TARA_004_SRF_0.22-1.6                 \n",
       "2                              TARA_007_DCM_0.22-1.6                 \n",
       "3                              TARA_007_SRF_0.22-1.6                 \n",
       "4                              TARA_009_DCM_0.22-1.6                 \n",
       "\n",
       "  Station identifier [TARA_station#] Marine pelagic biomes (Longhurst 2007)  \\\n",
       "0                           TARA_004                       Westerlies Biome   \n",
       "1                           TARA_004                       Westerlies Biome   \n",
       "2                           TARA_007                       Westerlies Biome   \n",
       "3                           TARA_007                       Westerlies Biome   \n",
       "4                           TARA_009                       Westerlies Biome   \n",
       "\n",
       "  Marine pelagic biomes  (Longhurst 2007) [MRGID registered at www.marineregions.com]   \\\n",
       "0  (NAST-E) North Atlantic Subtropical Gyral Prov...                                     \n",
       "1  (NAST-E) North Atlantic Subtropical Gyral Prov...                                     \n",
       "2  (MEDI) Mediterranean Sea, Black Sea Province [...                                     \n",
       "3  (MEDI) Mediterranean Sea, Black Sea Province [...                                     \n",
       "4  (MEDI) Mediterranean Sea, Black Sea Province [...                                     \n",
       "\n",
       "  INSDC sample accession number(s) INSDC run accession number(s)  \\\n",
       "0                        ERS487936           ERR598950|ERR599095   \n",
       "1                        ERS487899           ERR598955|ERR599003   \n",
       "2                        ERS477953                     ERR315856   \n",
       "3                        ERS477931                     ERR315857   \n",
       "4                        ERS488147           ERR594315|ERR594329   \n",
       "\n",
       "     Corresponding nucleotides data published at ENA  \\\n",
       "0  http://www.ebi.ac.uk/ena/data/view/ERR598950,E...   \n",
       "1  http://www.ebi.ac.uk/ena/data/view/ERR598955,E...   \n",
       "2       http://www.ebi.ac.uk/ena/data/view/ERR315856   \n",
       "3       http://www.ebi.ac.uk/ena/data/view/ERR315857   \n",
       "4  http://www.ebi.ac.uk/ena/data/view/ERR594315,E...   \n",
       "\n",
       "  PANGAEA sample identifier  \\\n",
       "0           TARA_X000000368   \n",
       "1           TARA_Y200000002   \n",
       "2           TARA_A200000159   \n",
       "3           TARA_A200000113   \n",
       "4           TARA_X000001036   \n",
       "\n",
       "  Corresponding contextual data published at PANGAEA  \\\n",
       "0  http://www.pangaea.de/search?All&q=TARA_X00000...   \n",
       "1  http://www.pangaea.de/search?All&q=TARA_Y20000...   \n",
       "2  http://www.pangaea.de/search?All&q=TARA_A20000...   \n",
       "3  http://www.pangaea.de/search?All&q=TARA_A20000...   \n",
       "4  http://www.pangaea.de/search?All&q=TARA_X00000...   \n",
       "\n",
       "  Date/Time [yyyy-mm-ddThh:mm]  Latitude [degrees North]  \\\n",
       "0             2009-09-15T18:00                   36.5533   \n",
       "1             2009-09-15T11:30                   36.5533   \n",
       "2             2009-09-23T16:08                   37.0541   \n",
       "3             2009-09-23T12:50                   37.0510   \n",
       "4             2009-09-28T16:59                   39.0609   \n",
       "\n",
       "   Longitude [degrees East]  Sampling depth [m]  \\\n",
       "0                   -6.5669                40.0   \n",
       "1                   -6.5669                 5.0   \n",
       "2                    1.9478                42.0   \n",
       "3                    1.9378                 5.0   \n",
       "4                    5.9422                55.0   \n",
       "\n",
       "                               Environmental Feature  \\\n",
       "0  (DCM) deep chlorophyll maximum layer (ENVO:010...   \n",
       "1          (SRF) surface water layer (ENVO:00002042)   \n",
       "2  (DCM) deep chlorophyll maximum layer (ENVO:010...   \n",
       "3          (SRF) surface water layer (ENVO:00002042)   \n",
       "4  (DCM) deep chlorophyll maximum layer (ENVO:010...   \n",
       "\n",
       "  Size fraction lower threshold [micrometre]  \\\n",
       "0                                       0.22   \n",
       "1                                       0.22   \n",
       "2                                       0.22   \n",
       "3                                       0.22   \n",
       "4                                       0.22   \n",
       "\n",
       "   Size fraction upper threshold [micrometre]  \\\n",
       "0                                         1.6   \n",
       "1                                         1.6   \n",
       "2                                         1.6   \n",
       "3                                         1.6   \n",
       "4                                         1.6   \n",
       "\n",
       "  Ocean and sea regions (IHO General Sea Areas 1953) [MRGID registered at www.marineregions.com]  \n",
       "0            (NAO) North Atlantic Ocean [MRGID:1912]                                              \n",
       "1            (NAO) North Atlantic Ocean [MRGID:1912]                                              \n",
       "2                (MS) Mediterranean Sea [MRGID:1905]                                              \n",
       "3                (MS) Mediterranean Sea [MRGID:1905]                                              \n",
       "4                (MS) Mediterranean Sea [MRGID:1905]                                              "
      ]
     },
     "execution_count": 397,
     "metadata": {},
     "output_type": "execute_result"
    }
   ],
   "source": [
    "om2 = pd.read_csv('OM.CompanionTables-1.csv')\n",
    "om2.head()"
   ]
  },
  {
   "cell_type": "code",
   "execution_count": 398,
   "metadata": {},
   "outputs": [
    {
     "data": {
      "text/html": [
       "<div>\n",
       "<style scoped>\n",
       "    .dataframe tbody tr th:only-of-type {\n",
       "        vertical-align: middle;\n",
       "    }\n",
       "\n",
       "    .dataframe tbody tr th {\n",
       "        vertical-align: top;\n",
       "    }\n",
       "\n",
       "    .dataframe thead th {\n",
       "        text-align: right;\n",
       "    }\n",
       "</style>\n",
       "<table border=\"1\" class=\"dataframe\">\n",
       "  <thead>\n",
       "    <tr style=\"text-align: right;\">\n",
       "      <th></th>\n",
       "      <th>PANGAEA Sample ID</th>\n",
       "      <th>Mean_Date [YY/MM/DD hh:mm]*</th>\n",
       "      <th>Mean_Lat*</th>\n",
       "      <th>Mean_Long*</th>\n",
       "      <th>Mean_Depth [m]*</th>\n",
       "      <th>Mean_Temperature [deg C]*</th>\n",
       "      <th>Mean Depth MLD Sigma [m]*</th>\n",
       "      <th>Mean_Salinity [PSU]*</th>\n",
       "      <th>Mean_Oxygen [umol/kg]*</th>\n",
       "      <th>Mean_Nitrates[umol/L]*</th>\n",
       "      <th>...</th>\n",
       "      <th>PANGAEA sample identifier</th>\n",
       "      <th>Corresponding contextual data published at PANGAEA</th>\n",
       "      <th>Date/Time [yyyy-mm-ddThh:mm]</th>\n",
       "      <th>Latitude [degrees North]</th>\n",
       "      <th>Longitude [degrees East]</th>\n",
       "      <th>Sampling depth [m]</th>\n",
       "      <th>Environmental Feature</th>\n",
       "      <th>Size fraction lower threshold [micrometre]</th>\n",
       "      <th>Size fraction upper threshold [micrometre]</th>\n",
       "      <th>Ocean and sea regions (IHO General Sea Areas 1953) [MRGID registered at www.marineregions.com]</th>\n",
       "    </tr>\n",
       "  </thead>\n",
       "  <tbody>\n",
       "    <tr>\n",
       "      <th>0</th>\n",
       "      <td>TARA_B100000161</td>\n",
       "      <td>4/13/10 3:21</td>\n",
       "      <td>0.00</td>\n",
       "      <td>71.64</td>\n",
       "      <td>5.5</td>\n",
       "      <td>30.5</td>\n",
       "      <td>14.0</td>\n",
       "      <td>35.1</td>\n",
       "      <td>185.2</td>\n",
       "      <td>2.6</td>\n",
       "      <td>...</td>\n",
       "      <td>TARA_B100000161</td>\n",
       "      <td>http://www.pangaea.de/search?All&amp;q=TARA_B10000...</td>\n",
       "      <td>2010-04-13T03:21</td>\n",
       "      <td>0.0033</td>\n",
       "      <td>71.6428</td>\n",
       "      <td>5.0</td>\n",
       "      <td>(SRF) surface water layer (ENVO:00002042)</td>\n",
       "      <td>0.22</td>\n",
       "      <td>1.60</td>\n",
       "      <td>(IO) Indian Ocean [MRGID:1904]</td>\n",
       "    </tr>\n",
       "    <tr>\n",
       "      <th>1</th>\n",
       "      <td>TARA_R100000406</td>\n",
       "      <td>4/15/10 2:38</td>\n",
       "      <td>-0.66</td>\n",
       "      <td>73.16</td>\n",
       "      <td>5.5</td>\n",
       "      <td>30.1</td>\n",
       "      <td>12.0</td>\n",
       "      <td>35.1</td>\n",
       "      <td>185.7</td>\n",
       "      <td>0.5</td>\n",
       "      <td>...</td>\n",
       "      <td>TARA_R100000406</td>\n",
       "      <td>http://www.pangaea.de/search?All&amp;q=TARA_R10000...</td>\n",
       "      <td>2010-04-15T02:01</td>\n",
       "      <td>-0.6625</td>\n",
       "      <td>73.1610</td>\n",
       "      <td>5.0</td>\n",
       "      <td>(SRF) surface water layer (ENVO:00002042)</td>\n",
       "      <td>&lt;</td>\n",
       "      <td>0.22</td>\n",
       "      <td>(IO) Indian Ocean [MRGID:1904]</td>\n",
       "    </tr>\n",
       "    <tr>\n",
       "      <th>2</th>\n",
       "      <td>TARA_R100000149</td>\n",
       "      <td>4/4/10 3:13</td>\n",
       "      <td>6.03</td>\n",
       "      <td>73.89</td>\n",
       "      <td>5.4</td>\n",
       "      <td>30.0</td>\n",
       "      <td>21.0</td>\n",
       "      <td>34.6</td>\n",
       "      <td>189.3</td>\n",
       "      <td>-1.5</td>\n",
       "      <td>...</td>\n",
       "      <td>TARA_R100000149</td>\n",
       "      <td>http://www.pangaea.de/search?All&amp;q=TARA_R10000...</td>\n",
       "      <td>2010-04-04T02:47</td>\n",
       "      <td>6.0001</td>\n",
       "      <td>73.8955</td>\n",
       "      <td>5.0</td>\n",
       "      <td>(SRF) surface water layer (ENVO:00002042)</td>\n",
       "      <td>&lt;</td>\n",
       "      <td>0.22</td>\n",
       "      <td>(IO) Indian Ocean [MRGID:1904]</td>\n",
       "    </tr>\n",
       "    <tr>\n",
       "      <th>3</th>\n",
       "      <td>TARA_B100000123</td>\n",
       "      <td>4/4/10 3:13</td>\n",
       "      <td>6.03</td>\n",
       "      <td>73.89</td>\n",
       "      <td>5.4</td>\n",
       "      <td>30.0</td>\n",
       "      <td>21.0</td>\n",
       "      <td>34.6</td>\n",
       "      <td>189.3</td>\n",
       "      <td>-1.5</td>\n",
       "      <td>...</td>\n",
       "      <td>TARA_B100000123</td>\n",
       "      <td>http://www.pangaea.de/search?All&amp;q=TARA_B10000...</td>\n",
       "      <td>2010-04-04T02:47</td>\n",
       "      <td>6.0001</td>\n",
       "      <td>73.8955</td>\n",
       "      <td>5.0</td>\n",
       "      <td>(SRF) surface water layer (ENVO:00002042)</td>\n",
       "      <td>0.22</td>\n",
       "      <td>1.60</td>\n",
       "      <td>(IO) Indian Ocean [MRGID:1904]</td>\n",
       "    </tr>\n",
       "    <tr>\n",
       "      <th>4</th>\n",
       "      <td>TARA_Y100000114</td>\n",
       "      <td>4/19/10 7:54</td>\n",
       "      <td>-9.39</td>\n",
       "      <td>66.42</td>\n",
       "      <td>5.4</td>\n",
       "      <td>29.8</td>\n",
       "      <td>17.0</td>\n",
       "      <td>34.2</td>\n",
       "      <td>187.3</td>\n",
       "      <td>-2.2</td>\n",
       "      <td>...</td>\n",
       "      <td>TARA_Y100000114</td>\n",
       "      <td>http://www.pangaea.de/search?All&amp;q=TARA_Y10000...</td>\n",
       "      <td>2010-04-19T07:56</td>\n",
       "      <td>-9.3921</td>\n",
       "      <td>66.4228</td>\n",
       "      <td>5.0</td>\n",
       "      <td>(SRF) surface water layer (ENVO:00002042)</td>\n",
       "      <td>0.1</td>\n",
       "      <td>0.22</td>\n",
       "      <td>(IO) Indian Ocean [MRGID:1904]</td>\n",
       "    </tr>\n",
       "  </tbody>\n",
       "</table>\n",
       "<p>5 rows × 54 columns</p>\n",
       "</div>"
      ],
      "text/plain": [
       "  PANGAEA Sample ID Mean_Date [YY/MM/DD hh:mm]*  Mean_Lat*  Mean_Long*  \\\n",
       "0   TARA_B100000161                4/13/10 3:21       0.00       71.64   \n",
       "1   TARA_R100000406                4/15/10 2:38      -0.66       73.16   \n",
       "2   TARA_R100000149                 4/4/10 3:13       6.03       73.89   \n",
       "3   TARA_B100000123                 4/4/10 3:13       6.03       73.89   \n",
       "4   TARA_Y100000114                4/19/10 7:54      -9.39       66.42   \n",
       "\n",
       "   Mean_Depth [m]*  Mean_Temperature [deg C]*  Mean Depth MLD Sigma [m]*  \\\n",
       "0              5.5                       30.5                       14.0   \n",
       "1              5.5                       30.1                       12.0   \n",
       "2              5.4                       30.0                       21.0   \n",
       "3              5.4                       30.0                       21.0   \n",
       "4              5.4                       29.8                       17.0   \n",
       "\n",
       "   Mean_Salinity [PSU]*  Mean_Oxygen [umol/kg]*  Mean_Nitrates[umol/L]*  ...  \\\n",
       "0                  35.1                   185.2                     2.6  ...   \n",
       "1                  35.1                   185.7                     0.5  ...   \n",
       "2                  34.6                   189.3                    -1.5  ...   \n",
       "3                  34.6                   189.3                    -1.5  ...   \n",
       "4                  34.2                   187.3                    -2.2  ...   \n",
       "\n",
       "   PANGAEA sample identifier  \\\n",
       "0            TARA_B100000161   \n",
       "1            TARA_R100000406   \n",
       "2            TARA_R100000149   \n",
       "3            TARA_B100000123   \n",
       "4            TARA_Y100000114   \n",
       "\n",
       "   Corresponding contextual data published at PANGAEA  \\\n",
       "0  http://www.pangaea.de/search?All&q=TARA_B10000...    \n",
       "1  http://www.pangaea.de/search?All&q=TARA_R10000...    \n",
       "2  http://www.pangaea.de/search?All&q=TARA_R10000...    \n",
       "3  http://www.pangaea.de/search?All&q=TARA_B10000...    \n",
       "4  http://www.pangaea.de/search?All&q=TARA_Y10000...    \n",
       "\n",
       "   Date/Time [yyyy-mm-ddThh:mm]  Latitude [degrees North]  \\\n",
       "0              2010-04-13T03:21                    0.0033   \n",
       "1              2010-04-15T02:01                   -0.6625   \n",
       "2              2010-04-04T02:47                    6.0001   \n",
       "3              2010-04-04T02:47                    6.0001   \n",
       "4              2010-04-19T07:56                   -9.3921   \n",
       "\n",
       "   Longitude [degrees East]  Sampling depth [m]  \\\n",
       "0                   71.6428                 5.0   \n",
       "1                   73.1610                 5.0   \n",
       "2                   73.8955                 5.0   \n",
       "3                   73.8955                 5.0   \n",
       "4                   66.4228                 5.0   \n",
       "\n",
       "                       Environmental Feature  \\\n",
       "0  (SRF) surface water layer (ENVO:00002042)   \n",
       "1  (SRF) surface water layer (ENVO:00002042)   \n",
       "2  (SRF) surface water layer (ENVO:00002042)   \n",
       "3  (SRF) surface water layer (ENVO:00002042)   \n",
       "4  (SRF) surface water layer (ENVO:00002042)   \n",
       "\n",
       "   Size fraction lower threshold [micrometre]  \\\n",
       "0                                        0.22   \n",
       "1                                           <   \n",
       "2                                           <   \n",
       "3                                        0.22   \n",
       "4                                         0.1   \n",
       "\n",
       "   Size fraction upper threshold [micrometre]  \\\n",
       "0                                        1.60   \n",
       "1                                        0.22   \n",
       "2                                        0.22   \n",
       "3                                        1.60   \n",
       "4                                        0.22   \n",
       "\n",
       "   Ocean and sea regions (IHO General Sea Areas 1953) [MRGID registered at www.marineregions.com]  \n",
       "0                     (IO) Indian Ocean [MRGID:1904]                                               \n",
       "1                     (IO) Indian Ocean [MRGID:1904]                                               \n",
       "2                     (IO) Indian Ocean [MRGID:1904]                                               \n",
       "3                     (IO) Indian Ocean [MRGID:1904]                                               \n",
       "4                     (IO) Indian Ocean [MRGID:1904]                                               \n",
       "\n",
       "[5 rows x 54 columns]"
      ]
     },
     "execution_count": 398,
     "metadata": {},
     "output_type": "execute_result"
    }
   ],
   "source": [
    "merge = om1.merge(om2,left_on='PANGAEA Sample ID',right_on='PANGAEA sample identifier')\n",
    "merge.head()"
   ]
  },
  {
   "cell_type": "code",
   "execution_count": 403,
   "metadata": {},
   "outputs": [
    {
     "data": {
      "text/html": [
       "<div>\n",
       "<style scoped>\n",
       "    .dataframe tbody tr th:only-of-type {\n",
       "        vertical-align: middle;\n",
       "    }\n",
       "\n",
       "    .dataframe tbody tr th {\n",
       "        vertical-align: top;\n",
       "    }\n",
       "\n",
       "    .dataframe thead th {\n",
       "        text-align: right;\n",
       "    }\n",
       "</style>\n",
       "<table border=\"1\" class=\"dataframe\">\n",
       "  <thead>\n",
       "    <tr style=\"text-align: right;\">\n",
       "      <th></th>\n",
       "      <th>PANGAEA Sample ID</th>\n",
       "      <th>Mean_Date [YY/MM/DD hh:mm]*</th>\n",
       "      <th>Mean_Lat*</th>\n",
       "      <th>Mean_Long*</th>\n",
       "      <th>Mean_Depth [m]*</th>\n",
       "      <th>Mean_Temperature [deg C]*</th>\n",
       "      <th>Mean Depth MLD Sigma [m]*</th>\n",
       "      <th>Mean_Salinity [PSU]*</th>\n",
       "      <th>Mean_Oxygen [umol/kg]*</th>\n",
       "      <th>Mean_Nitrates[umol/L]*</th>\n",
       "      <th>...</th>\n",
       "      <th>PANGAEA sample identifier</th>\n",
       "      <th>Corresponding contextual data published at PANGAEA</th>\n",
       "      <th>Date/Time [yyyy-mm-ddThh:mm]</th>\n",
       "      <th>Latitude [degrees North]</th>\n",
       "      <th>Longitude [degrees East]</th>\n",
       "      <th>Sampling depth [m]</th>\n",
       "      <th>Environmental Feature</th>\n",
       "      <th>Size fraction lower threshold [micrometre]</th>\n",
       "      <th>Size fraction upper threshold [micrometre]</th>\n",
       "      <th>Ocean and sea regions (IHO General Sea Areas 1953) [MRGID registered at www.marineregions.com]</th>\n",
       "    </tr>\n",
       "  </thead>\n",
       "  <tbody>\n",
       "    <tr>\n",
       "      <th>209</th>\n",
       "      <td>TARA_B100001971</td>\n",
       "      <td>12/3/11 16:31</td>\n",
       "      <td>14.17</td>\n",
       "      <td>-116.66</td>\n",
       "      <td>371.0</td>\n",
       "      <td>8.9</td>\n",
       "      <td>17.0</td>\n",
       "      <td>34.6</td>\n",
       "      <td>0.6</td>\n",
       "      <td>35.7</td>\n",
       "      <td>...</td>\n",
       "      <td>TARA_B100001971</td>\n",
       "      <td>http://www.pangaea.de/search?All&amp;q=TARA_B10000...</td>\n",
       "      <td>2011-12-03T14:31:20</td>\n",
       "      <td>14.2025</td>\n",
       "      <td>-116.6433</td>\n",
       "      <td>375.0</td>\n",
       "      <td>(MES) mesopelagic zone (ENVO:00000213)</td>\n",
       "      <td>0.22</td>\n",
       "      <td>3.0</td>\n",
       "      <td>(NPO) North Pacific Ocean [MRGID:1908]</td>\n",
       "    </tr>\n",
       "    <tr>\n",
       "      <th>194</th>\n",
       "      <td>TARA_B100000959</td>\n",
       "      <td>4/16/11 16:09</td>\n",
       "      <td>-12.93</td>\n",
       "      <td>-96.12</td>\n",
       "      <td>175.3</td>\n",
       "      <td>13.0</td>\n",
       "      <td>35.0</td>\n",
       "      <td>34.8</td>\n",
       "      <td>0.7</td>\n",
       "      <td>21.1</td>\n",
       "      <td>...</td>\n",
       "      <td>TARA_B100000959</td>\n",
       "      <td>http://www.pangaea.de/search?All&amp;q=TARA_B10000...</td>\n",
       "      <td>2011-04-16T13:03:08</td>\n",
       "      <td>-12.9794</td>\n",
       "      <td>-96.0232</td>\n",
       "      <td>177.0</td>\n",
       "      <td>(DCM) deep chlorophyll maximum layer (ENVO:010...</td>\n",
       "      <td>0.22</td>\n",
       "      <td>3.0</td>\n",
       "      <td>(SPO) South Pacific Ocean [MRGID:1910]</td>\n",
       "    </tr>\n",
       "    <tr>\n",
       "      <th>211</th>\n",
       "      <td>TARA_B100002003</td>\n",
       "      <td>12/11/11 22:51</td>\n",
       "      <td>6.37</td>\n",
       "      <td>-103.07</td>\n",
       "      <td>444.9</td>\n",
       "      <td>8.2</td>\n",
       "      <td>24.0</td>\n",
       "      <td>34.6</td>\n",
       "      <td>0.8</td>\n",
       "      <td>36.9</td>\n",
       "      <td>...</td>\n",
       "      <td>TARA_B100002003</td>\n",
       "      <td>http://www.pangaea.de/search?All&amp;q=TARA_B10000...</td>\n",
       "      <td>2011-12-11T20:37:22</td>\n",
       "      <td>6.3559</td>\n",
       "      <td>-103.0598</td>\n",
       "      <td>450.0</td>\n",
       "      <td>(MES) mesopelagic zone (ENVO:00000213)</td>\n",
       "      <td>0.22</td>\n",
       "      <td>3.0</td>\n",
       "      <td>(NPO) North Pacific Ocean [MRGID:1908]</td>\n",
       "    </tr>\n",
       "    <tr>\n",
       "      <th>205</th>\n",
       "      <td>TARA_B100001079</td>\n",
       "      <td>5/22/11 17:56</td>\n",
       "      <td>-1.87</td>\n",
       "      <td>-84.62</td>\n",
       "      <td>376.9</td>\n",
       "      <td>10.3</td>\n",
       "      <td>22.0</td>\n",
       "      <td>34.8</td>\n",
       "      <td>1.3</td>\n",
       "      <td>34.6</td>\n",
       "      <td>...</td>\n",
       "      <td>TARA_B100001079</td>\n",
       "      <td>http://www.pangaea.de/search?All&amp;q=TARA_B10000...</td>\n",
       "      <td>2011-05-22T13:20</td>\n",
       "      <td>-1.8902</td>\n",
       "      <td>-84.6141</td>\n",
       "      <td>380.0</td>\n",
       "      <td>(MES) mesopelagic zone (ENVO:00000213) &amp; marin...</td>\n",
       "      <td>0.22</td>\n",
       "      <td>3.0</td>\n",
       "      <td>(SPO) South Pacific Ocean [MRGID:1910]</td>\n",
       "    </tr>\n",
       "    <tr>\n",
       "      <th>201</th>\n",
       "      <td>TARA_B100000929</td>\n",
       "      <td>5/13/11 19:44</td>\n",
       "      <td>2.07</td>\n",
       "      <td>-84.54</td>\n",
       "      <td>376.4</td>\n",
       "      <td>11.3</td>\n",
       "      <td>9.0</td>\n",
       "      <td>34.8</td>\n",
       "      <td>2.5</td>\n",
       "      <td>33.9</td>\n",
       "      <td>...</td>\n",
       "      <td>TARA_B100000929</td>\n",
       "      <td>http://www.pangaea.de/search?All&amp;q=TARA_B10000...</td>\n",
       "      <td>2011-05-13T16:08:58</td>\n",
       "      <td>2.0649</td>\n",
       "      <td>-84.5546</td>\n",
       "      <td>380.0</td>\n",
       "      <td>(MES) mesopelagic zone (ENVO:00000213) &amp; marin...</td>\n",
       "      <td>0.22</td>\n",
       "      <td>3.0</td>\n",
       "      <td>(NPO) North Pacific Ocean [MRGID:1908]</td>\n",
       "    </tr>\n",
       "    <tr>\n",
       "      <th>203</th>\n",
       "      <td>TARA_B100000586</td>\n",
       "      <td>6/1/11 18:24</td>\n",
       "      <td>-16.96</td>\n",
       "      <td>-100.66</td>\n",
       "      <td>347.1</td>\n",
       "      <td>10.9</td>\n",
       "      <td>67.0</td>\n",
       "      <td>34.7</td>\n",
       "      <td>3.2</td>\n",
       "      <td>30.4</td>\n",
       "      <td>...</td>\n",
       "      <td>TARA_B100000586</td>\n",
       "      <td>http://www.pangaea.de/search?All&amp;q=TARA_B10000...</td>\n",
       "      <td>2011-06-01T16:00:59</td>\n",
       "      <td>-16.9486</td>\n",
       "      <td>-100.6715</td>\n",
       "      <td>350.0</td>\n",
       "      <td>(MES) mesopelagic zone (ENVO:00000213) &amp; marin...</td>\n",
       "      <td>0.22</td>\n",
       "      <td>3.0</td>\n",
       "      <td>(SPO) South Pacific Ocean [MRGID:1910]</td>\n",
       "    </tr>\n",
       "    <tr>\n",
       "      <th>208</th>\n",
       "      <td>TARA_B100000953</td>\n",
       "      <td>4/22/11 14:16</td>\n",
       "      <td>-5.27</td>\n",
       "      <td>-85.22</td>\n",
       "      <td>475.6</td>\n",
       "      <td>9.2</td>\n",
       "      <td>18.0</td>\n",
       "      <td>34.7</td>\n",
       "      <td>4.4</td>\n",
       "      <td>40.0</td>\n",
       "      <td>...</td>\n",
       "      <td>TARA_B100000953</td>\n",
       "      <td>http://www.pangaea.de/search?All&amp;q=TARA_B10000...</td>\n",
       "      <td>2011-04-22T12:08:28</td>\n",
       "      <td>-5.2610</td>\n",
       "      <td>-85.1678</td>\n",
       "      <td>480.0</td>\n",
       "      <td>(MES) mesopelagic zone (ENVO:00000213) &amp; marin...</td>\n",
       "      <td>0.22</td>\n",
       "      <td>3.0</td>\n",
       "      <td>(SPO) South Pacific Ocean [MRGID:1910]</td>\n",
       "    </tr>\n",
       "    <tr>\n",
       "      <th>229</th>\n",
       "      <td>TARA_B100001105</td>\n",
       "      <td>10/19/11 21:20</td>\n",
       "      <td>35.31</td>\n",
       "      <td>-127.74</td>\n",
       "      <td>644.6</td>\n",
       "      <td>4.9</td>\n",
       "      <td>10.0</td>\n",
       "      <td>34.3</td>\n",
       "      <td>8.6</td>\n",
       "      <td>44.1</td>\n",
       "      <td>...</td>\n",
       "      <td>TARA_B100001105</td>\n",
       "      <td>http://www.pangaea.de/search?All&amp;q=TARA_B10000...</td>\n",
       "      <td>2011-10-19T19:27:16</td>\n",
       "      <td>35.2698</td>\n",
       "      <td>-127.7268</td>\n",
       "      <td>650.0</td>\n",
       "      <td>(MES) mesopelagic zone (ENVO:00000213)</td>\n",
       "      <td>0.22</td>\n",
       "      <td>3.0</td>\n",
       "      <td>(NPO) North Pacific Ocean [MRGID:1908]</td>\n",
       "    </tr>\n",
       "    <tr>\n",
       "      <th>217</th>\n",
       "      <td>TARA_B100000678</td>\n",
       "      <td>7/27/11 23:48</td>\n",
       "      <td>-8.99</td>\n",
       "      <td>-139.23</td>\n",
       "      <td>594.6</td>\n",
       "      <td>7.2</td>\n",
       "      <td>71.0</td>\n",
       "      <td>34.6</td>\n",
       "      <td>38.1</td>\n",
       "      <td>42.5</td>\n",
       "      <td>...</td>\n",
       "      <td>TARA_B100000678</td>\n",
       "      <td>http://www.pangaea.de/search?All&amp;q=TARA_B10000...</td>\n",
       "      <td>2011-07-27T19:28:43</td>\n",
       "      <td>-8.9729</td>\n",
       "      <td>-139.2393</td>\n",
       "      <td>600.0</td>\n",
       "      <td>(MES) mesopelagic zone (ENVO:00000213)</td>\n",
       "      <td>0.22</td>\n",
       "      <td>3.0</td>\n",
       "      <td>(SPO) South Pacific Ocean [MRGID:1910]</td>\n",
       "    </tr>\n",
       "    <tr>\n",
       "      <th>148</th>\n",
       "      <td>TARA_B100001996</td>\n",
       "      <td>12/11/11 14:14</td>\n",
       "      <td>6.34</td>\n",
       "      <td>-102.98</td>\n",
       "      <td>58.1</td>\n",
       "      <td>19.0</td>\n",
       "      <td>24.0</td>\n",
       "      <td>34.6</td>\n",
       "      <td>77.0</td>\n",
       "      <td>22.1</td>\n",
       "      <td>...</td>\n",
       "      <td>TARA_B100001996</td>\n",
       "      <td>http://www.pangaea.de/search?All&amp;q=TARA_B10000...</td>\n",
       "      <td>2011-12-11T13:27:34</td>\n",
       "      <td>6.3378</td>\n",
       "      <td>-102.9538</td>\n",
       "      <td>60.0</td>\n",
       "      <td>(DCM) deep chlorophyll maximum layer (ENVO:010...</td>\n",
       "      <td>0.22</td>\n",
       "      <td>3.0</td>\n",
       "      <td>(NPO) North Pacific Ocean [MRGID:1908]</td>\n",
       "    </tr>\n",
       "    <tr>\n",
       "      <th>224</th>\n",
       "      <td>TARA_B100000378</td>\n",
       "      <td>6/26/10 7:12</td>\n",
       "      <td>-15.34</td>\n",
       "      <td>43.29</td>\n",
       "      <td>989.6</td>\n",
       "      <td>6.2</td>\n",
       "      <td>80.0</td>\n",
       "      <td>34.8</td>\n",
       "      <td>88.2</td>\n",
       "      <td>NaN</td>\n",
       "      <td>...</td>\n",
       "      <td>TARA_B100000378</td>\n",
       "      <td>http://www.pangaea.de/search?All&amp;q=TARA_B10000...</td>\n",
       "      <td>2010-06-26T07:12:30</td>\n",
       "      <td>-15.3379</td>\n",
       "      <td>43.2948</td>\n",
       "      <td>1000.0</td>\n",
       "      <td>(MES) mesopelagic zone (ENVO:00000213)</td>\n",
       "      <td>0.22</td>\n",
       "      <td>3.0</td>\n",
       "      <td>(IO) Indian Ocean [MRGID:1904]</td>\n",
       "    </tr>\n",
       "    <tr>\n",
       "      <th>152</th>\n",
       "      <td>TARA_B100001964</td>\n",
       "      <td>12/2/11 17:44</td>\n",
       "      <td>14.17</td>\n",
       "      <td>-116.71</td>\n",
       "      <td>44.2</td>\n",
       "      <td>18.6</td>\n",
       "      <td>17.0</td>\n",
       "      <td>34.4</td>\n",
       "      <td>95.4</td>\n",
       "      <td>11.0</td>\n",
       "      <td>...</td>\n",
       "      <td>TARA_B100001964</td>\n",
       "      <td>http://www.pangaea.de/search?All&amp;q=TARA_B10000...</td>\n",
       "      <td>2011-12-02T20:42</td>\n",
       "      <td>14.2075</td>\n",
       "      <td>-116.6468</td>\n",
       "      <td>40.0</td>\n",
       "      <td>(DCM) deep chlorophyll maximum layer (ENVO:010...</td>\n",
       "      <td>0.22</td>\n",
       "      <td>3.0</td>\n",
       "      <td>(NPO) North Pacific Ocean [MRGID:1908]</td>\n",
       "    </tr>\n",
       "    <tr>\n",
       "      <th>142</th>\n",
       "      <td>TARA_B100000902</td>\n",
       "      <td>4/22/11 19:51</td>\n",
       "      <td>-5.27</td>\n",
       "      <td>-85.23</td>\n",
       "      <td>45.7</td>\n",
       "      <td>19.6</td>\n",
       "      <td>18.0</td>\n",
       "      <td>34.9</td>\n",
       "      <td>103.9</td>\n",
       "      <td>20.3</td>\n",
       "      <td>...</td>\n",
       "      <td>TARA_B100000902</td>\n",
       "      <td>http://www.pangaea.de/search?All&amp;q=TARA_B10000...</td>\n",
       "      <td>2011-04-22T21:13</td>\n",
       "      <td>-5.2669</td>\n",
       "      <td>-85.2732</td>\n",
       "      <td>40.0</td>\n",
       "      <td>(DCM) deep chlorophyll maximum layer (ENVO:010...</td>\n",
       "      <td>0.22</td>\n",
       "      <td>3.0</td>\n",
       "      <td>(SPO) South Pacific Ocean [MRGID:1910]</td>\n",
       "    </tr>\n",
       "    <tr>\n",
       "      <th>207</th>\n",
       "      <td>TARA_B100002049</td>\n",
       "      <td>1/10/12 16:43</td>\n",
       "      <td>25.63</td>\n",
       "      <td>-88.44</td>\n",
       "      <td>634.8</td>\n",
       "      <td>9.8</td>\n",
       "      <td>142.0</td>\n",
       "      <td>35.2</td>\n",
       "      <td>108.2</td>\n",
       "      <td>31.9</td>\n",
       "      <td>...</td>\n",
       "      <td>TARA_B100002049</td>\n",
       "      <td>http://www.pangaea.de/search?All&amp;q=TARA_B10000...</td>\n",
       "      <td>2012-01-10T14:49:35</td>\n",
       "      <td>25.6236</td>\n",
       "      <td>-88.4500</td>\n",
       "      <td>640.0</td>\n",
       "      <td>(MES) mesopelagic zone (ENVO:00000213)</td>\n",
       "      <td>0.22</td>\n",
       "      <td>3.0</td>\n",
       "      <td>(NAO) North Atlantic Ocean [MRGID:1912]</td>\n",
       "    </tr>\n",
       "    <tr>\n",
       "      <th>202</th>\n",
       "      <td>TARA_B100001167</td>\n",
       "      <td>2/16/12 14:53</td>\n",
       "      <td>34.63</td>\n",
       "      <td>-71.26</td>\n",
       "      <td>633.3</td>\n",
       "      <td>11.0</td>\n",
       "      <td>187.0</td>\n",
       "      <td>35.4</td>\n",
       "      <td>138.1</td>\n",
       "      <td>21.8</td>\n",
       "      <td>...</td>\n",
       "      <td>TARA_B100001167</td>\n",
       "      <td>http://www.pangaea.de/search?All&amp;q=TARA_B10000...</td>\n",
       "      <td>2012-02-16T12:01:25</td>\n",
       "      <td>34.6663</td>\n",
       "      <td>-71.2907</td>\n",
       "      <td>640.0</td>\n",
       "      <td>(MES) mesopelagic zone (ENVO:00000213)</td>\n",
       "      <td>0.22</td>\n",
       "      <td>3.0</td>\n",
       "      <td>(NAO) North Atlantic Ocean [MRGID:1912]</td>\n",
       "    </tr>\n",
       "    <tr>\n",
       "      <th>223</th>\n",
       "      <td>TARA_B100001245</td>\n",
       "      <td>10/5/11 21:53</td>\n",
       "      <td>31.53</td>\n",
       "      <td>-159.02</td>\n",
       "      <td>545.5</td>\n",
       "      <td>6.7</td>\n",
       "      <td>41.0</td>\n",
       "      <td>34.0</td>\n",
       "      <td>138.7</td>\n",
       "      <td>29.1</td>\n",
       "      <td>...</td>\n",
       "      <td>TARA_B100001245</td>\n",
       "      <td>http://www.pangaea.de/search?All&amp;q=TARA_B10000...</td>\n",
       "      <td>2011-10-05T20:45:47</td>\n",
       "      <td>31.5280</td>\n",
       "      <td>-159.0224</td>\n",
       "      <td>550.0</td>\n",
       "      <td>(MES) mesopelagic zone (ENVO:00000213)</td>\n",
       "      <td>0.22</td>\n",
       "      <td>3.0</td>\n",
       "      <td>(NPO) North Pacific Ocean [MRGID:1908]</td>\n",
       "    </tr>\n",
       "    <tr>\n",
       "      <th>233</th>\n",
       "      <td>TARA_B100000508</td>\n",
       "      <td>10/6/10 9:59</td>\n",
       "      <td>-8.80</td>\n",
       "      <td>-17.91</td>\n",
       "      <td>792.7</td>\n",
       "      <td>4.7</td>\n",
       "      <td>75.0</td>\n",
       "      <td>34.5</td>\n",
       "      <td>143.2</td>\n",
       "      <td>38.4</td>\n",
       "      <td>...</td>\n",
       "      <td>TARA_B100000508</td>\n",
       "      <td>http://www.pangaea.de/search?All&amp;q=TARA_B10000...</td>\n",
       "      <td>2010-10-06T07:58:54</td>\n",
       "      <td>-8.7986</td>\n",
       "      <td>-17.9034</td>\n",
       "      <td>800.0</td>\n",
       "      <td>(MES) mesopelagic zone (ENVO:00000213)</td>\n",
       "      <td>0.22</td>\n",
       "      <td>3.0</td>\n",
       "      <td>(SAO) South Atlantic Ocean [MRGID:1914]</td>\n",
       "    </tr>\n",
       "    <tr>\n",
       "      <th>120</th>\n",
       "      <td>TARA_B100001113</td>\n",
       "      <td>5/21/11 23:21</td>\n",
       "      <td>-1.84</td>\n",
       "      <td>-84.63</td>\n",
       "      <td>48.7</td>\n",
       "      <td>21.8</td>\n",
       "      <td>22.0</td>\n",
       "      <td>35.1</td>\n",
       "      <td>144.6</td>\n",
       "      <td>10.9</td>\n",
       "      <td>...</td>\n",
       "      <td>TARA_B100001113</td>\n",
       "      <td>http://www.pangaea.de/search?All&amp;q=TARA_B10000...</td>\n",
       "      <td>2011-05-21T21:00</td>\n",
       "      <td>-1.9002</td>\n",
       "      <td>-84.6265</td>\n",
       "      <td>50.0</td>\n",
       "      <td>(DCM) deep chlorophyll maximum layer (ENVO:010...</td>\n",
       "      <td>0.22</td>\n",
       "      <td>3.0</td>\n",
       "      <td>(SPO) South Pacific Ocean [MRGID:1910]</td>\n",
       "    </tr>\n",
       "    <tr>\n",
       "      <th>204</th>\n",
       "      <td>TARA_B100001765</td>\n",
       "      <td>3/1/12 20:06</td>\n",
       "      <td>34.10</td>\n",
       "      <td>-49.78</td>\n",
       "      <td>734.3</td>\n",
       "      <td>10.6</td>\n",
       "      <td>113.0</td>\n",
       "      <td>35.4</td>\n",
       "      <td>155.2</td>\n",
       "      <td>21.3</td>\n",
       "      <td>...</td>\n",
       "      <td>TARA_B100001765</td>\n",
       "      <td>http://www.pangaea.de/search?All&amp;q=TARA_B10000...</td>\n",
       "      <td>2012-03-01T18:50:26</td>\n",
       "      <td>34.0771</td>\n",
       "      <td>-49.8233</td>\n",
       "      <td>740.0</td>\n",
       "      <td>(MES) mesopelagic zone (ENVO:00000213)</td>\n",
       "      <td>0.22</td>\n",
       "      <td>3.0</td>\n",
       "      <td>(NAO) North Atlantic Ocean [MRGID:1912]</td>\n",
       "    </tr>\n",
       "    <tr>\n",
       "      <th>212</th>\n",
       "      <td>TARA_B100001013</td>\n",
       "      <td>4/4/11 17:28</td>\n",
       "      <td>-25.82</td>\n",
       "      <td>-111.74</td>\n",
       "      <td>481.1</td>\n",
       "      <td>8.1</td>\n",
       "      <td>53.0</td>\n",
       "      <td>34.4</td>\n",
       "      <td>155.6</td>\n",
       "      <td>24.6</td>\n",
       "      <td>...</td>\n",
       "      <td>TARA_B100001013</td>\n",
       "      <td>http://www.pangaea.de/search?All&amp;q=TARA_B10000...</td>\n",
       "      <td>2011-04-04T13:55:02</td>\n",
       "      <td>-25.8076</td>\n",
       "      <td>-111.6906</td>\n",
       "      <td>488.0</td>\n",
       "      <td>(MES) mesopelagic zone (ENVO:00000213)</td>\n",
       "      <td>0.22</td>\n",
       "      <td>3.0</td>\n",
       "      <td>(SPO) South Pacific Ocean [MRGID:1910]</td>\n",
       "    </tr>\n",
       "    <tr>\n",
       "      <th>97</th>\n",
       "      <td>TARA_B100001123</td>\n",
       "      <td>8/9/11 19:06</td>\n",
       "      <td>-8.90</td>\n",
       "      <td>-142.58</td>\n",
       "      <td>138.2</td>\n",
       "      <td>23.7</td>\n",
       "      <td>95.0</td>\n",
       "      <td>36.3</td>\n",
       "      <td>160.5</td>\n",
       "      <td>3.7</td>\n",
       "      <td>...</td>\n",
       "      <td>TARA_B100001123</td>\n",
       "      <td>http://www.pangaea.de/search?All&amp;q=TARA_B10000...</td>\n",
       "      <td>2011-08-09T17:05:33</td>\n",
       "      <td>-8.8999</td>\n",
       "      <td>-142.5461</td>\n",
       "      <td>140.0</td>\n",
       "      <td>(MIX) marine epipelagic mixed layer (ENVO:0100...</td>\n",
       "      <td>0.22</td>\n",
       "      <td>3.0</td>\n",
       "      <td>(SPO) South Pacific Ocean [MRGID:1910]</td>\n",
       "    </tr>\n",
       "    <tr>\n",
       "      <th>112</th>\n",
       "      <td>TARA_B100000686</td>\n",
       "      <td>8/1/11 20:13</td>\n",
       "      <td>-8.90</td>\n",
       "      <td>-140.29</td>\n",
       "      <td>148.0</td>\n",
       "      <td>22.1</td>\n",
       "      <td>88.0</td>\n",
       "      <td>35.9</td>\n",
       "      <td>161.3</td>\n",
       "      <td>5.0</td>\n",
       "      <td>...</td>\n",
       "      <td>TARA_B100000686</td>\n",
       "      <td>http://www.pangaea.de/search?All&amp;q=TARA_B10000...</td>\n",
       "      <td>2011-08-01T17:52:45</td>\n",
       "      <td>-8.9109</td>\n",
       "      <td>-140.2845</td>\n",
       "      <td>150.0</td>\n",
       "      <td>(MIX) marine epipelagic mixed layer (ENVO:0100...</td>\n",
       "      <td>0.22</td>\n",
       "      <td>3.0</td>\n",
       "      <td>(SPO) South Pacific Ocean [MRGID:1910]</td>\n",
       "    </tr>\n",
       "    <tr>\n",
       "      <th>236</th>\n",
       "      <td>TARA_B100000446</td>\n",
       "      <td>9/22/10 10:38</td>\n",
       "      <td>-20.37</td>\n",
       "      <td>-3.22</td>\n",
       "      <td>791.6</td>\n",
       "      <td>4.2</td>\n",
       "      <td>147.0</td>\n",
       "      <td>34.4</td>\n",
       "      <td>161.7</td>\n",
       "      <td>37.8</td>\n",
       "      <td>...</td>\n",
       "      <td>TARA_B100000446</td>\n",
       "      <td>http://www.pangaea.de/search?All&amp;q=TARA_B10000...</td>\n",
       "      <td>2010-09-21T11:57:54</td>\n",
       "      <td>-20.4075</td>\n",
       "      <td>-3.1641</td>\n",
       "      <td>800.0</td>\n",
       "      <td>(MES) mesopelagic zone (ENVO:00000213)</td>\n",
       "      <td>0.22</td>\n",
       "      <td>3.0</td>\n",
       "      <td>(SAO) South Atlantic Ocean [MRGID:1914]</td>\n",
       "    </tr>\n",
       "    <tr>\n",
       "      <th>206</th>\n",
       "      <td>TARA_B100001179</td>\n",
       "      <td>3/19/12 16:14</td>\n",
       "      <td>43.74</td>\n",
       "      <td>-16.88</td>\n",
       "      <td>791.8</td>\n",
       "      <td>10.2</td>\n",
       "      <td>168.0</td>\n",
       "      <td>35.5</td>\n",
       "      <td>175.3</td>\n",
       "      <td>18.2</td>\n",
       "      <td>...</td>\n",
       "      <td>TARA_B100001179</td>\n",
       "      <td>http://www.pangaea.de/search?All&amp;q=TARA_B10000...</td>\n",
       "      <td>2012-03-19T14:59:48</td>\n",
       "      <td>43.7182</td>\n",
       "      <td>-16.8714</td>\n",
       "      <td>800.0</td>\n",
       "      <td>(MES) mesopelagic zone (ENVO:00000213)</td>\n",
       "      <td>0.22</td>\n",
       "      <td>3.0</td>\n",
       "      <td>(NAO) North Atlantic Ocean [MRGID:1912]</td>\n",
       "    </tr>\n",
       "    <tr>\n",
       "      <th>69</th>\n",
       "      <td>TARA_B100000676</td>\n",
       "      <td>8/5/11 19:30</td>\n",
       "      <td>-9.07</td>\n",
       "      <td>-140.62</td>\n",
       "      <td>118.3</td>\n",
       "      <td>25.2</td>\n",
       "      <td>92.0</td>\n",
       "      <td>35.8</td>\n",
       "      <td>175.9</td>\n",
       "      <td>4.5</td>\n",
       "      <td>...</td>\n",
       "      <td>TARA_B100000676</td>\n",
       "      <td>http://www.pangaea.de/search?All&amp;q=TARA_B10000...</td>\n",
       "      <td>2011-08-05T17:31:19</td>\n",
       "      <td>-9.0714</td>\n",
       "      <td>-140.5973</td>\n",
       "      <td>120.0</td>\n",
       "      <td>(MIX) marine epipelagic mixed layer (ENVO:0100...</td>\n",
       "      <td>0.22</td>\n",
       "      <td>3.0</td>\n",
       "      <td>(SPO) South Pacific Ocean [MRGID:1910]</td>\n",
       "    </tr>\n",
       "    <tr>\n",
       "      <th>52</th>\n",
       "      <td>TARA_B100000614</td>\n",
       "      <td>9/4/11 23:14</td>\n",
       "      <td>0.00</td>\n",
       "      <td>-153.68</td>\n",
       "      <td>41.7</td>\n",
       "      <td>26.1</td>\n",
       "      <td>35.0</td>\n",
       "      <td>35.1</td>\n",
       "      <td>177.0</td>\n",
       "      <td>4.4</td>\n",
       "      <td>...</td>\n",
       "      <td>TARA_B100000614</td>\n",
       "      <td>http://www.pangaea.de/search?All&amp;q=TARA_B10000...</td>\n",
       "      <td>2011-09-05T18:40</td>\n",
       "      <td>0.0222</td>\n",
       "      <td>-153.6858</td>\n",
       "      <td>40.0</td>\n",
       "      <td>(DCM) deep chlorophyll maximum layer (ENVO:010...</td>\n",
       "      <td>0.22</td>\n",
       "      <td>3.0</td>\n",
       "      <td>(SPO) South Pacific Ocean [MRGID:1910]</td>\n",
       "    </tr>\n",
       "    <tr>\n",
       "      <th>85</th>\n",
       "      <td>TARA_B100000700</td>\n",
       "      <td>7/28/11 19:36</td>\n",
       "      <td>-8.98</td>\n",
       "      <td>-139.20</td>\n",
       "      <td>113.3</td>\n",
       "      <td>24.7</td>\n",
       "      <td>71.0</td>\n",
       "      <td>36.1</td>\n",
       "      <td>179.9</td>\n",
       "      <td>2.3</td>\n",
       "      <td>...</td>\n",
       "      <td>TARA_B100000700</td>\n",
       "      <td>http://www.pangaea.de/search?All&amp;q=TARA_B10000...</td>\n",
       "      <td>2011-07-28T17:15:56</td>\n",
       "      <td>-9.0063</td>\n",
       "      <td>-139.1394</td>\n",
       "      <td>115.0</td>\n",
       "      <td>(DCM) deep chlorophyll maximum layer (ENVO:010...</td>\n",
       "      <td>0.22</td>\n",
       "      <td>3.0</td>\n",
       "      <td>(SPO) South Pacific Ocean [MRGID:1910]</td>\n",
       "    </tr>\n",
       "    <tr>\n",
       "      <th>53</th>\n",
       "      <td>TARA_B100000609</td>\n",
       "      <td>9/4/11 18:04</td>\n",
       "      <td>0.00</td>\n",
       "      <td>-153.68</td>\n",
       "      <td>5.4</td>\n",
       "      <td>26.1</td>\n",
       "      <td>35.0</td>\n",
       "      <td>35.1</td>\n",
       "      <td>179.9</td>\n",
       "      <td>2.5</td>\n",
       "      <td>...</td>\n",
       "      <td>TARA_B100000609</td>\n",
       "      <td>http://www.pangaea.de/search?All&amp;q=TARA_B10000...</td>\n",
       "      <td>2011-09-04T18:00</td>\n",
       "      <td>0.0003</td>\n",
       "      <td>-153.6759</td>\n",
       "      <td>5.0</td>\n",
       "      <td>(SRF) surface water layer (ENVO:00002042)</td>\n",
       "      <td>0.22</td>\n",
       "      <td>3.0</td>\n",
       "      <td>(SPO) South Pacific Ocean [MRGID:1910]</td>\n",
       "    </tr>\n",
       "    <tr>\n",
       "      <th>65</th>\n",
       "      <td>TARA_B000000557</td>\n",
       "      <td>6/29/10 13:12</td>\n",
       "      <td>-17.32</td>\n",
       "      <td>42.29</td>\n",
       "      <td>67.1</td>\n",
       "      <td>25.3</td>\n",
       "      <td>17.0</td>\n",
       "      <td>35.2</td>\n",
       "      <td>185.0</td>\n",
       "      <td>0.8</td>\n",
       "      <td>...</td>\n",
       "      <td>TARA_B000000557</td>\n",
       "      <td>http://www.pangaea.de/search?All&amp;q=TARA_B00000...</td>\n",
       "      <td>2010-06-29T15:00</td>\n",
       "      <td>-17.2855</td>\n",
       "      <td>42.2866</td>\n",
       "      <td>66.0</td>\n",
       "      <td>(DCM) deep chlorophyll maximum layer (ENVO:010...</td>\n",
       "      <td>0.22</td>\n",
       "      <td>3.0</td>\n",
       "      <td>(IO) Indian Ocean [MRGID:1904]</td>\n",
       "    </tr>\n",
       "    <tr>\n",
       "      <th>40</th>\n",
       "      <td>TARA_B100001115</td>\n",
       "      <td>7/26/11 17:34</td>\n",
       "      <td>-8.99</td>\n",
       "      <td>-139.21</td>\n",
       "      <td>5.9</td>\n",
       "      <td>26.5</td>\n",
       "      <td>71.0</td>\n",
       "      <td>35.4</td>\n",
       "      <td>186.2</td>\n",
       "      <td>4.0</td>\n",
       "      <td>...</td>\n",
       "      <td>TARA_B100001115</td>\n",
       "      <td>http://www.pangaea.de/search?All&amp;q=TARA_B10000...</td>\n",
       "      <td>2011-07-26T17:10</td>\n",
       "      <td>-8.9971</td>\n",
       "      <td>-139.1963</td>\n",
       "      <td>5.0</td>\n",
       "      <td>(SRF) surface water layer (ENVO:00002042)</td>\n",
       "      <td>0.22</td>\n",
       "      <td>3.0</td>\n",
       "      <td>(SPO) South Pacific Ocean [MRGID:1910]</td>\n",
       "    </tr>\n",
       "    <tr>\n",
       "      <th>...</th>\n",
       "      <td>...</td>\n",
       "      <td>...</td>\n",
       "      <td>...</td>\n",
       "      <td>...</td>\n",
       "      <td>...</td>\n",
       "      <td>...</td>\n",
       "      <td>...</td>\n",
       "      <td>...</td>\n",
       "      <td>...</td>\n",
       "      <td>...</td>\n",
       "      <td>...</td>\n",
       "      <td>...</td>\n",
       "      <td>...</td>\n",
       "      <td>...</td>\n",
       "      <td>...</td>\n",
       "      <td>...</td>\n",
       "      <td>...</td>\n",
       "      <td>...</td>\n",
       "      <td>...</td>\n",
       "      <td>...</td>\n",
       "      <td>...</td>\n",
       "    </tr>\n",
       "    <tr>\n",
       "      <th>225</th>\n",
       "      <td>TARA_B100000745</td>\n",
       "      <td>11/5/10 12:33</td>\n",
       "      <td>-30.15</td>\n",
       "      <td>-43.29</td>\n",
       "      <td>792.7</td>\n",
       "      <td>5.9</td>\n",
       "      <td>34.0</td>\n",
       "      <td>34.4</td>\n",
       "      <td>214.8</td>\n",
       "      <td>29.8</td>\n",
       "      <td>...</td>\n",
       "      <td>TARA_B100000745</td>\n",
       "      <td>http://www.pangaea.de/search?All&amp;q=TARA_B10000...</td>\n",
       "      <td>2010-11-05T12:33:27</td>\n",
       "      <td>-30.1471</td>\n",
       "      <td>-43.2915</td>\n",
       "      <td>800.0</td>\n",
       "      <td>(MES) mesopelagic zone (ENVO:00000213)</td>\n",
       "      <td>0.22</td>\n",
       "      <td>3.0</td>\n",
       "      <td>(SAO) South Atlantic Ocean [MRGID:1914]</td>\n",
       "    </tr>\n",
       "    <tr>\n",
       "      <th>140</th>\n",
       "      <td>TARA_B100000459</td>\n",
       "      <td>9/21/10 7:05</td>\n",
       "      <td>-20.44</td>\n",
       "      <td>-3.19</td>\n",
       "      <td>5.4</td>\n",
       "      <td>19.8</td>\n",
       "      <td>147.0</td>\n",
       "      <td>36.4</td>\n",
       "      <td>215.7</td>\n",
       "      <td>0.2</td>\n",
       "      <td>...</td>\n",
       "      <td>TARA_B100000459</td>\n",
       "      <td>http://www.pangaea.de/search?All&amp;q=TARA_B10000...</td>\n",
       "      <td>2010-09-21T06:55</td>\n",
       "      <td>-20.4091</td>\n",
       "      <td>-3.1759</td>\n",
       "      <td>5.0</td>\n",
       "      <td>(SRF) surface water layer (ENVO:00002042)</td>\n",
       "      <td>0.22</td>\n",
       "      <td>3.0</td>\n",
       "      <td>(SAO) South Atlantic Ocean [MRGID:1914]</td>\n",
       "    </tr>\n",
       "    <tr>\n",
       "      <th>128</th>\n",
       "      <td>TARA_B100000965</td>\n",
       "      <td>4/15/11 13:10</td>\n",
       "      <td>-12.99</td>\n",
       "      <td>-95.99</td>\n",
       "      <td>57.6</td>\n",
       "      <td>20.6</td>\n",
       "      <td>35.0</td>\n",
       "      <td>35.5</td>\n",
       "      <td>216.8</td>\n",
       "      <td>1.5</td>\n",
       "      <td>...</td>\n",
       "      <td>TARA_B100000965</td>\n",
       "      <td>http://www.pangaea.de/search?All&amp;q=TARA_B10000...</td>\n",
       "      <td>2011-04-15T19:38</td>\n",
       "      <td>-12.9723</td>\n",
       "      <td>-96.0122</td>\n",
       "      <td>50.0</td>\n",
       "      <td>(DCM) deep chlorophyll maximum layer (ENVO:010...</td>\n",
       "      <td>0.22</td>\n",
       "      <td>3.0</td>\n",
       "      <td>(SPO) South Pacific Ocean [MRGID:1910]</td>\n",
       "    </tr>\n",
       "    <tr>\n",
       "      <th>144</th>\n",
       "      <td>TARA_B100000530</td>\n",
       "      <td>11/4/10 19:34</td>\n",
       "      <td>-30.15</td>\n",
       "      <td>-43.25</td>\n",
       "      <td>118.3</td>\n",
       "      <td>19.3</td>\n",
       "      <td>34.0</td>\n",
       "      <td>36.3</td>\n",
       "      <td>217.1</td>\n",
       "      <td>0.5</td>\n",
       "      <td>...</td>\n",
       "      <td>TARA_B100000530</td>\n",
       "      <td>http://www.pangaea.de/search?All&amp;q=TARA_B10000...</td>\n",
       "      <td>2010-11-04T18:16:53</td>\n",
       "      <td>-30.1484</td>\n",
       "      <td>-43.2705</td>\n",
       "      <td>120.0</td>\n",
       "      <td>(DCM) deep chlorophyll maximum layer (ENVO:010...</td>\n",
       "      <td>0.22</td>\n",
       "      <td>3.0</td>\n",
       "      <td>(SAO) South Atlantic Ocean [MRGID:1914]</td>\n",
       "    </tr>\n",
       "    <tr>\n",
       "      <th>127</th>\n",
       "      <td>TARA_B100001057</td>\n",
       "      <td>3/18/11 14:16</td>\n",
       "      <td>-32.78</td>\n",
       "      <td>-87.09</td>\n",
       "      <td>5.4</td>\n",
       "      <td>21.1</td>\n",
       "      <td>43.0</td>\n",
       "      <td>34.7</td>\n",
       "      <td>219.2</td>\n",
       "      <td>-0.4</td>\n",
       "      <td>...</td>\n",
       "      <td>TARA_B100001057</td>\n",
       "      <td>http://www.pangaea.de/search?All&amp;q=TARA_B10000...</td>\n",
       "      <td>2011-03-18T11:57</td>\n",
       "      <td>-32.7971</td>\n",
       "      <td>-87.0693</td>\n",
       "      <td>5.0</td>\n",
       "      <td>(SRF) surface water layer (ENVO:00002042)</td>\n",
       "      <td>0.22</td>\n",
       "      <td>3.0</td>\n",
       "      <td>(SPO) South Pacific Ocean [MRGID:1910]</td>\n",
       "    </tr>\n",
       "    <tr>\n",
       "      <th>151</th>\n",
       "      <td>TARA_B100001758</td>\n",
       "      <td>3/1/12 11:55</td>\n",
       "      <td>34.10</td>\n",
       "      <td>-49.89</td>\n",
       "      <td>5.5</td>\n",
       "      <td>18.7</td>\n",
       "      <td>113.0</td>\n",
       "      <td>36.4</td>\n",
       "      <td>220.2</td>\n",
       "      <td>-1.2</td>\n",
       "      <td>...</td>\n",
       "      <td>TARA_B100001758</td>\n",
       "      <td>http://www.pangaea.de/search?All&amp;q=TARA_B10000...</td>\n",
       "      <td>2012-03-01T10:48</td>\n",
       "      <td>34.1132</td>\n",
       "      <td>-49.9181</td>\n",
       "      <td>5.0</td>\n",
       "      <td>(SRF) surface water layer (ENVO:00002042)</td>\n",
       "      <td>0.22</td>\n",
       "      <td>3.0</td>\n",
       "      <td>(NAO) North Atlantic Ocean [MRGID:1912]</td>\n",
       "    </tr>\n",
       "    <tr>\n",
       "      <th>136</th>\n",
       "      <td>TARA_B100000524</td>\n",
       "      <td>11/4/10 10:24</td>\n",
       "      <td>-30.14</td>\n",
       "      <td>-43.29</td>\n",
       "      <td>5.6</td>\n",
       "      <td>19.9</td>\n",
       "      <td>34.0</td>\n",
       "      <td>36.3</td>\n",
       "      <td>221.5</td>\n",
       "      <td>-0.4</td>\n",
       "      <td>...</td>\n",
       "      <td>TARA_B100000524</td>\n",
       "      <td>http://www.pangaea.de/search?All&amp;q=TARA_B10000...</td>\n",
       "      <td>2010-11-04T10:04</td>\n",
       "      <td>-30.1367</td>\n",
       "      <td>-43.2899</td>\n",
       "      <td>5.0</td>\n",
       "      <td>(SRF) surface water layer (ENVO:00002042)</td>\n",
       "      <td>0.22</td>\n",
       "      <td>3.0</td>\n",
       "      <td>(SAO) South Atlantic Ocean [MRGID:1914]</td>\n",
       "    </tr>\n",
       "    <tr>\n",
       "      <th>146</th>\n",
       "      <td>TARA_B100001093</td>\n",
       "      <td>10/18/11 18:58</td>\n",
       "      <td>35.41</td>\n",
       "      <td>-127.74</td>\n",
       "      <td>5.5</td>\n",
       "      <td>19.2</td>\n",
       "      <td>10.0</td>\n",
       "      <td>33.1</td>\n",
       "      <td>224.4</td>\n",
       "      <td>-0.7</td>\n",
       "      <td>...</td>\n",
       "      <td>TARA_B100001093</td>\n",
       "      <td>http://www.pangaea.de/search?All&amp;q=TARA_B10000...</td>\n",
       "      <td>2011-10-18T15:35</td>\n",
       "      <td>35.3671</td>\n",
       "      <td>-127.7422</td>\n",
       "      <td>5.0</td>\n",
       "      <td>(SRF) surface water layer (ENVO:00002042)</td>\n",
       "      <td>0.22</td>\n",
       "      <td>3.0</td>\n",
       "      <td>(NPO) North Pacific Ocean [MRGID:1908]</td>\n",
       "    </tr>\n",
       "    <tr>\n",
       "      <th>181</th>\n",
       "      <td>TARA_B100001250</td>\n",
       "      <td>10/5/11 1:55</td>\n",
       "      <td>31.50</td>\n",
       "      <td>-159.06</td>\n",
       "      <td>113.8</td>\n",
       "      <td>15.3</td>\n",
       "      <td>41.0</td>\n",
       "      <td>34.4</td>\n",
       "      <td>225.5</td>\n",
       "      <td>0.7</td>\n",
       "      <td>...</td>\n",
       "      <td>TARA_B100001250</td>\n",
       "      <td>http://www.pangaea.de/search?All&amp;q=TARA_B10000...</td>\n",
       "      <td>2011-10-05T00:59:03</td>\n",
       "      <td>31.5168</td>\n",
       "      <td>-159.0460</td>\n",
       "      <td>115.0</td>\n",
       "      <td>(DCM) deep chlorophyll maximum layer (ENVO:010...</td>\n",
       "      <td>0.22</td>\n",
       "      <td>3.0</td>\n",
       "      <td>(NPO) North Pacific Ocean [MRGID:1908]</td>\n",
       "    </tr>\n",
       "    <tr>\n",
       "      <th>193</th>\n",
       "      <td>TARA_B100001094</td>\n",
       "      <td>10/19/11 2:53</td>\n",
       "      <td>35.42</td>\n",
       "      <td>-127.69</td>\n",
       "      <td>47.2</td>\n",
       "      <td>13.2</td>\n",
       "      <td>10.0</td>\n",
       "      <td>33.2</td>\n",
       "      <td>227.7</td>\n",
       "      <td>4.8</td>\n",
       "      <td>...</td>\n",
       "      <td>TARA_B100001094</td>\n",
       "      <td>http://www.pangaea.de/search?All&amp;q=TARA_B10000...</td>\n",
       "      <td>2011-10-19T00:09</td>\n",
       "      <td>35.4002</td>\n",
       "      <td>-127.7499</td>\n",
       "      <td>45.0</td>\n",
       "      <td>(DCM) deep chlorophyll maximum layer (ENVO:010...</td>\n",
       "      <td>0.22</td>\n",
       "      <td>3.0</td>\n",
       "      <td>(NPO) North Pacific Ocean [MRGID:1908]</td>\n",
       "    </tr>\n",
       "    <tr>\n",
       "      <th>161</th>\n",
       "      <td>TARA_B100001769</td>\n",
       "      <td>3/5/12 11:02</td>\n",
       "      <td>35.91</td>\n",
       "      <td>-37.26</td>\n",
       "      <td>5.5</td>\n",
       "      <td>17.6</td>\n",
       "      <td>77.0</td>\n",
       "      <td>36.3</td>\n",
       "      <td>228.4</td>\n",
       "      <td>-0.3</td>\n",
       "      <td>...</td>\n",
       "      <td>TARA_B100001769</td>\n",
       "      <td>http://www.pangaea.de/search?All&amp;q=TARA_B10000...</td>\n",
       "      <td>2012-03-05T09:25</td>\n",
       "      <td>35.9346</td>\n",
       "      <td>-37.3032</td>\n",
       "      <td>5.0</td>\n",
       "      <td>(SRF) surface water layer (ENVO:00002042)</td>\n",
       "      <td>0.22</td>\n",
       "      <td>3.0</td>\n",
       "      <td>(NAO) North Atlantic Ocean [MRGID:1912]</td>\n",
       "    </tr>\n",
       "    <tr>\n",
       "      <th>173</th>\n",
       "      <td>TARA_B100001559</td>\n",
       "      <td>3/9/12 18:49</td>\n",
       "      <td>36.19</td>\n",
       "      <td>-28.88</td>\n",
       "      <td>77.6</td>\n",
       "      <td>16.8</td>\n",
       "      <td>36.0</td>\n",
       "      <td>36.2</td>\n",
       "      <td>228.5</td>\n",
       "      <td>1.6</td>\n",
       "      <td>...</td>\n",
       "      <td>TARA_B100001559</td>\n",
       "      <td>http://www.pangaea.de/search?All&amp;q=TARA_B10000...</td>\n",
       "      <td>2012-03-09T17:42:29</td>\n",
       "      <td>36.1811</td>\n",
       "      <td>-28.9373</td>\n",
       "      <td>80.0</td>\n",
       "      <td>(DCM) deep chlorophyll maximum layer (ENVO:010...</td>\n",
       "      <td>0.22</td>\n",
       "      <td>3.0</td>\n",
       "      <td>(NAO) North Atlantic Ocean [MRGID:1912]</td>\n",
       "    </tr>\n",
       "    <tr>\n",
       "      <th>159</th>\n",
       "      <td>TARA_B100001778</td>\n",
       "      <td>3/5/12 21:32</td>\n",
       "      <td>35.75</td>\n",
       "      <td>-37.05</td>\n",
       "      <td>39.8</td>\n",
       "      <td>17.7</td>\n",
       "      <td>77.0</td>\n",
       "      <td>36.2</td>\n",
       "      <td>230.1</td>\n",
       "      <td>1.2</td>\n",
       "      <td>...</td>\n",
       "      <td>TARA_B100001778</td>\n",
       "      <td>http://www.pangaea.de/search?All&amp;q=TARA_B10000...</td>\n",
       "      <td>2012-03-05T17:34</td>\n",
       "      <td>35.8427</td>\n",
       "      <td>-37.1526</td>\n",
       "      <td>40.0</td>\n",
       "      <td>(DCM) deep chlorophyll maximum layer (ENVO:010...</td>\n",
       "      <td>0.22</td>\n",
       "      <td>3.0</td>\n",
       "      <td>(NAO) North Atlantic Ocean [MRGID:1912]</td>\n",
       "    </tr>\n",
       "    <tr>\n",
       "      <th>228</th>\n",
       "      <td>TARA_B100001146</td>\n",
       "      <td>2/2/12 20:29</td>\n",
       "      <td>39.19</td>\n",
       "      <td>-70.08</td>\n",
       "      <td>585.7</td>\n",
       "      <td>5.1</td>\n",
       "      <td>89.0</td>\n",
       "      <td>35.0</td>\n",
       "      <td>230.2</td>\n",
       "      <td>19.9</td>\n",
       "      <td>...</td>\n",
       "      <td>TARA_B100001146</td>\n",
       "      <td>http://www.pangaea.de/search?All&amp;q=TARA_B10000...</td>\n",
       "      <td>2012-02-02T18:36:58</td>\n",
       "      <td>39.2392</td>\n",
       "      <td>-70.0343</td>\n",
       "      <td>590.0</td>\n",
       "      <td>(MES) mesopelagic zone (ENVO:00000213) &amp; marin...</td>\n",
       "      <td>0.22</td>\n",
       "      <td>3.0</td>\n",
       "      <td>(NAO) North Atlantic Ocean [MRGID:1912]</td>\n",
       "    </tr>\n",
       "    <tr>\n",
       "      <th>171</th>\n",
       "      <td>TARA_B100000482</td>\n",
       "      <td>9/14/10 9:14</td>\n",
       "      <td>-31.03</td>\n",
       "      <td>4.69</td>\n",
       "      <td>40.3</td>\n",
       "      <td>16.8</td>\n",
       "      <td>187.0</td>\n",
       "      <td>35.7</td>\n",
       "      <td>231.7</td>\n",
       "      <td>NaN</td>\n",
       "      <td>...</td>\n",
       "      <td>TARA_B100000482</td>\n",
       "      <td>http://www.pangaea.de/search?All&amp;q=TARA_B10000...</td>\n",
       "      <td>2010-09-14T13:30</td>\n",
       "      <td>-31.0270</td>\n",
       "      <td>4.6802</td>\n",
       "      <td>50.0</td>\n",
       "      <td>(DCM) deep chlorophyll maximum layer (ENVO:010...</td>\n",
       "      <td>0.22</td>\n",
       "      <td>3.0</td>\n",
       "      <td>(SAO) South Atlantic Ocean [MRGID:1914]</td>\n",
       "    </tr>\n",
       "    <tr>\n",
       "      <th>167</th>\n",
       "      <td>TARA_B100000475</td>\n",
       "      <td>9/14/10 9:14</td>\n",
       "      <td>-31.03</td>\n",
       "      <td>4.69</td>\n",
       "      <td>5.4</td>\n",
       "      <td>16.8</td>\n",
       "      <td>187.0</td>\n",
       "      <td>35.7</td>\n",
       "      <td>231.9</td>\n",
       "      <td>NaN</td>\n",
       "      <td>...</td>\n",
       "      <td>TARA_B100000475</td>\n",
       "      <td>http://www.pangaea.de/search?All&amp;q=TARA_B10000...</td>\n",
       "      <td>2010-09-14T06:55</td>\n",
       "      <td>-31.0266</td>\n",
       "      <td>4.6650</td>\n",
       "      <td>5.0</td>\n",
       "      <td>(SRF) surface water layer (ENVO:00002042)</td>\n",
       "      <td>0.22</td>\n",
       "      <td>3.0</td>\n",
       "      <td>(SAO) South Atlantic Ocean [MRGID:1914]</td>\n",
       "    </tr>\n",
       "    <tr>\n",
       "      <th>163</th>\n",
       "      <td>TARA_B100001564</td>\n",
       "      <td>3/9/12 10:13</td>\n",
       "      <td>36.16</td>\n",
       "      <td>-29.01</td>\n",
       "      <td>5.4</td>\n",
       "      <td>17.3</td>\n",
       "      <td>36.0</td>\n",
       "      <td>36.2</td>\n",
       "      <td>232.1</td>\n",
       "      <td>0.3</td>\n",
       "      <td>...</td>\n",
       "      <td>TARA_B100001564</td>\n",
       "      <td>http://www.pangaea.de/search?All&amp;q=TARA_B10000...</td>\n",
       "      <td>2012-03-09T08:59</td>\n",
       "      <td>36.1715</td>\n",
       "      <td>-29.0230</td>\n",
       "      <td>5.0</td>\n",
       "      <td>(SRF) surface water layer (ENVO:00002042)</td>\n",
       "      <td>0.22</td>\n",
       "      <td>3.0</td>\n",
       "      <td>(NAO) North Atlantic Ocean [MRGID:1912]</td>\n",
       "    </tr>\n",
       "    <tr>\n",
       "      <th>192</th>\n",
       "      <td>TARA_B100001142</td>\n",
       "      <td>2/2/12 12:02</td>\n",
       "      <td>39.23</td>\n",
       "      <td>-70.03</td>\n",
       "      <td>5.5</td>\n",
       "      <td>14.1</td>\n",
       "      <td>89.0</td>\n",
       "      <td>35.2</td>\n",
       "      <td>233.9</td>\n",
       "      <td>3.5</td>\n",
       "      <td>...</td>\n",
       "      <td>TARA_B100001142</td>\n",
       "      <td>http://www.pangaea.de/search?All&amp;q=TARA_B10000...</td>\n",
       "      <td>2012-02-02T11:52</td>\n",
       "      <td>39.2305</td>\n",
       "      <td>-70.0377</td>\n",
       "      <td>5.0</td>\n",
       "      <td>(SRF) surface water layer (ENVO:00002042)</td>\n",
       "      <td>0.22</td>\n",
       "      <td>3.0</td>\n",
       "      <td>(NAO) North Atlantic Ocean [MRGID:1912]</td>\n",
       "    </tr>\n",
       "    <tr>\n",
       "      <th>174</th>\n",
       "      <td>TARA_B100001059</td>\n",
       "      <td>3/12/11 20:07</td>\n",
       "      <td>-33.88</td>\n",
       "      <td>-73.05</td>\n",
       "      <td>33.8</td>\n",
       "      <td>16.4</td>\n",
       "      <td>22.0</td>\n",
       "      <td>34.3</td>\n",
       "      <td>237.2</td>\n",
       "      <td>0.7</td>\n",
       "      <td>...</td>\n",
       "      <td>TARA_B100001059</td>\n",
       "      <td>http://www.pangaea.de/search?All&amp;q=TARA_B10000...</td>\n",
       "      <td>2011-03-12T19:36:38</td>\n",
       "      <td>-33.9116</td>\n",
       "      <td>-73.0537</td>\n",
       "      <td>35.0</td>\n",
       "      <td>(DCM) deep chlorophyll maximum layer (ENVO:010...</td>\n",
       "      <td>0.22</td>\n",
       "      <td>3.0</td>\n",
       "      <td>(SPO) South Pacific Ocean [MRGID:1910]</td>\n",
       "    </tr>\n",
       "    <tr>\n",
       "      <th>185</th>\n",
       "      <td>TARA_B000000475</td>\n",
       "      <td>7/15/10 12:26</td>\n",
       "      <td>-34.94</td>\n",
       "      <td>17.94</td>\n",
       "      <td>5.4</td>\n",
       "      <td>15.0</td>\n",
       "      <td>90.0</td>\n",
       "      <td>35.3</td>\n",
       "      <td>238.9</td>\n",
       "      <td>2.5</td>\n",
       "      <td>...</td>\n",
       "      <td>TARA_B000000475</td>\n",
       "      <td>http://www.pangaea.de/search?All&amp;q=TARA_B00000...</td>\n",
       "      <td>2010-07-15T12:22</td>\n",
       "      <td>-34.9449</td>\n",
       "      <td>17.9189</td>\n",
       "      <td>5.0</td>\n",
       "      <td>(SRF) surface water layer (ENVO:00002042)</td>\n",
       "      <td>0.22</td>\n",
       "      <td>3.0</td>\n",
       "      <td>(SAO) South Atlantic Ocean [MRGID:1914]</td>\n",
       "    </tr>\n",
       "    <tr>\n",
       "      <th>190</th>\n",
       "      <td>TARA_B100001175</td>\n",
       "      <td>3/20/12 12:20</td>\n",
       "      <td>43.79</td>\n",
       "      <td>-16.89</td>\n",
       "      <td>23.9</td>\n",
       "      <td>14.3</td>\n",
       "      <td>168.0</td>\n",
       "      <td>36.0</td>\n",
       "      <td>239.4</td>\n",
       "      <td>3.8</td>\n",
       "      <td>...</td>\n",
       "      <td>TARA_B100001175</td>\n",
       "      <td>http://www.pangaea.de/search?All&amp;q=TARA_B10000...</td>\n",
       "      <td>2012-03-20T08:48:42</td>\n",
       "      <td>43.7056</td>\n",
       "      <td>-16.8794</td>\n",
       "      <td>25.0</td>\n",
       "      <td>(MIX) marine epipelagic mixed layer (ENVO:0100...</td>\n",
       "      <td>0.22</td>\n",
       "      <td>3.0</td>\n",
       "      <td>(NAO) North Atlantic Ocean [MRGID:1912]</td>\n",
       "    </tr>\n",
       "    <tr>\n",
       "      <th>187</th>\n",
       "      <td>TARA_B000000477</td>\n",
       "      <td>7/15/10 16:32</td>\n",
       "      <td>-34.89</td>\n",
       "      <td>18.07</td>\n",
       "      <td>28.6</td>\n",
       "      <td>15.0</td>\n",
       "      <td>90.0</td>\n",
       "      <td>35.3</td>\n",
       "      <td>240.4</td>\n",
       "      <td>NaN</td>\n",
       "      <td>...</td>\n",
       "      <td>TARA_B000000477</td>\n",
       "      <td>http://www.pangaea.de/search?All&amp;q=TARA_B00000...</td>\n",
       "      <td>2010-07-15T15:36:10</td>\n",
       "      <td>-34.8901</td>\n",
       "      <td>18.0459</td>\n",
       "      <td>30.0</td>\n",
       "      <td>(DCM) deep chlorophyll maximum layer (ENVO:010...</td>\n",
       "      <td>0.22</td>\n",
       "      <td>3.0</td>\n",
       "      <td>(SAO) South Atlantic Ocean [MRGID:1914]</td>\n",
       "    </tr>\n",
       "    <tr>\n",
       "      <th>191</th>\n",
       "      <td>TARA_B100001173</td>\n",
       "      <td>3/19/12 10:42</td>\n",
       "      <td>43.69</td>\n",
       "      <td>-16.85</td>\n",
       "      <td>5.4</td>\n",
       "      <td>14.3</td>\n",
       "      <td>168.0</td>\n",
       "      <td>36.0</td>\n",
       "      <td>243.1</td>\n",
       "      <td>3.0</td>\n",
       "      <td>...</td>\n",
       "      <td>TARA_B100001173</td>\n",
       "      <td>http://www.pangaea.de/search?All&amp;q=TARA_B10000...</td>\n",
       "      <td>2012-03-19T08:18</td>\n",
       "      <td>43.6792</td>\n",
       "      <td>-16.8344</td>\n",
       "      <td>5.0</td>\n",
       "      <td>(SRF) surface water layer (ENVO:00002042)</td>\n",
       "      <td>0.22</td>\n",
       "      <td>3.0</td>\n",
       "      <td>(NAO) North Atlantic Ocean [MRGID:1912]</td>\n",
       "    </tr>\n",
       "    <tr>\n",
       "      <th>158</th>\n",
       "      <td>TARA_B100001063</td>\n",
       "      <td>3/12/11 11:49</td>\n",
       "      <td>-34.05</td>\n",
       "      <td>-73.08</td>\n",
       "      <td>5.3</td>\n",
       "      <td>18.0</td>\n",
       "      <td>22.0</td>\n",
       "      <td>34.3</td>\n",
       "      <td>244.9</td>\n",
       "      <td>-1.5</td>\n",
       "      <td>...</td>\n",
       "      <td>TARA_B100001063</td>\n",
       "      <td>http://www.pangaea.de/search?All&amp;q=TARA_B10000...</td>\n",
       "      <td>2011-03-12T11:34</td>\n",
       "      <td>-34.0614</td>\n",
       "      <td>-73.1066</td>\n",
       "      <td>5.0</td>\n",
       "      <td>(SRF) surface water layer (ENVO:00002042)</td>\n",
       "      <td>0.22</td>\n",
       "      <td>3.0</td>\n",
       "      <td>(SPO) South Pacific Ocean [MRGID:1910]</td>\n",
       "    </tr>\n",
       "    <tr>\n",
       "      <th>197</th>\n",
       "      <td>TARA_B100000497</td>\n",
       "      <td>9/7/10 6:35</td>\n",
       "      <td>-32.23</td>\n",
       "      <td>17.71</td>\n",
       "      <td>5.5</td>\n",
       "      <td>12.8</td>\n",
       "      <td>12.0</td>\n",
       "      <td>34.8</td>\n",
       "      <td>249.4</td>\n",
       "      <td>0.4</td>\n",
       "      <td>...</td>\n",
       "      <td>TARA_B100000497</td>\n",
       "      <td>http://www.pangaea.de/search?All&amp;q=TARA_B10000...</td>\n",
       "      <td>2010-09-07T06:19</td>\n",
       "      <td>-32.2401</td>\n",
       "      <td>17.7103</td>\n",
       "      <td>5.0</td>\n",
       "      <td>(SRF) surface water layer (ENVO:00002042)</td>\n",
       "      <td>0.22</td>\n",
       "      <td>3.0</td>\n",
       "      <td>(SAO) South Atlantic Ocean [MRGID:1914]</td>\n",
       "    </tr>\n",
       "    <tr>\n",
       "      <th>214</th>\n",
       "      <td>TARA_B100000768</td>\n",
       "      <td>12/6/10 10:25</td>\n",
       "      <td>-47.18</td>\n",
       "      <td>-58.30</td>\n",
       "      <td>5.5</td>\n",
       "      <td>7.3</td>\n",
       "      <td>29.0</td>\n",
       "      <td>34.0</td>\n",
       "      <td>305.0</td>\n",
       "      <td>17.1</td>\n",
       "      <td>...</td>\n",
       "      <td>TARA_B100000768</td>\n",
       "      <td>http://www.pangaea.de/search?All&amp;q=TARA_B10000...</td>\n",
       "      <td>2010-12-06T10:33</td>\n",
       "      <td>-47.1863</td>\n",
       "      <td>-58.2902</td>\n",
       "      <td>5.0</td>\n",
       "      <td>(SRF) surface water layer (ENVO:00002042)</td>\n",
       "      <td>0.22</td>\n",
       "      <td>3.0</td>\n",
       "      <td>(SAO) South Atlantic Ocean [MRGID:1914]</td>\n",
       "    </tr>\n",
       "    <tr>\n",
       "      <th>222</th>\n",
       "      <td>TARA_B100000767</td>\n",
       "      <td>12/6/10 16:37</td>\n",
       "      <td>-47.21</td>\n",
       "      <td>-58.06</td>\n",
       "      <td>41.8</td>\n",
       "      <td>7.0</td>\n",
       "      <td>29.0</td>\n",
       "      <td>34.1</td>\n",
       "      <td>306.2</td>\n",
       "      <td>17.1</td>\n",
       "      <td>...</td>\n",
       "      <td>TARA_B100000767</td>\n",
       "      <td>http://www.pangaea.de/search?All&amp;q=TARA_B10000...</td>\n",
       "      <td>2010-12-06T18:58</td>\n",
       "      <td>-47.2007</td>\n",
       "      <td>-57.9446</td>\n",
       "      <td>40.0</td>\n",
       "      <td>(DCM) deep chlorophyll maximum layer (ENVO:010...</td>\n",
       "      <td>0.22</td>\n",
       "      <td>3.0</td>\n",
       "      <td>(SAO) South Atlantic Ocean [MRGID:1914]</td>\n",
       "    </tr>\n",
       "    <tr>\n",
       "      <th>242</th>\n",
       "      <td>TARA_B100000795</td>\n",
       "      <td>1/6/11 20:36</td>\n",
       "      <td>-62.24</td>\n",
       "      <td>-49.18</td>\n",
       "      <td>87.4</td>\n",
       "      <td>-0.8</td>\n",
       "      <td>38.0</td>\n",
       "      <td>34.3</td>\n",
       "      <td>325.4</td>\n",
       "      <td>33.1</td>\n",
       "      <td>...</td>\n",
       "      <td>TARA_B100000795</td>\n",
       "      <td>http://www.pangaea.de/search?All&amp;q=TARA_B10000...</td>\n",
       "      <td>2011-01-06T19:34:21</td>\n",
       "      <td>-62.2231</td>\n",
       "      <td>-49.2139</td>\n",
       "      <td>90.0</td>\n",
       "      <td>(DCM) deep chlorophyll maximum layer (ENVO:010...</td>\n",
       "      <td>0.22</td>\n",
       "      <td>3.0</td>\n",
       "      <td>(SO) Southern Ocean [MRGID:1907]</td>\n",
       "    </tr>\n",
       "    <tr>\n",
       "      <th>238</th>\n",
       "      <td>TARA_B100000780</td>\n",
       "      <td>1/3/11 11:10</td>\n",
       "      <td>-60.23</td>\n",
       "      <td>-60.65</td>\n",
       "      <td>5.9</td>\n",
       "      <td>1.8</td>\n",
       "      <td>42.0</td>\n",
       "      <td>33.7</td>\n",
       "      <td>338.3</td>\n",
       "      <td>24.4</td>\n",
       "      <td>...</td>\n",
       "      <td>TARA_B100000780</td>\n",
       "      <td>http://www.pangaea.de/search?All&amp;q=TARA_B10000...</td>\n",
       "      <td>2011-01-03T11:05</td>\n",
       "      <td>-60.2287</td>\n",
       "      <td>-60.6476</td>\n",
       "      <td>5.0</td>\n",
       "      <td>(SRF) surface water layer (ENVO:00002042)</td>\n",
       "      <td>0.22</td>\n",
       "      <td>3.0</td>\n",
       "      <td>(SO) Southern Ocean [MRGID:1907]</td>\n",
       "    </tr>\n",
       "    <tr>\n",
       "      <th>239</th>\n",
       "      <td>TARA_B100000787</td>\n",
       "      <td>1/6/11 10:26</td>\n",
       "      <td>-62.03</td>\n",
       "      <td>-49.54</td>\n",
       "      <td>5.9</td>\n",
       "      <td>0.7</td>\n",
       "      <td>38.0</td>\n",
       "      <td>34.4</td>\n",
       "      <td>343.4</td>\n",
       "      <td>27.5</td>\n",
       "      <td>...</td>\n",
       "      <td>TARA_B100000787</td>\n",
       "      <td>http://www.pangaea.de/search?All&amp;q=TARA_B10000...</td>\n",
       "      <td>2011-01-06T10:38</td>\n",
       "      <td>-62.0385</td>\n",
       "      <td>-49.5290</td>\n",
       "      <td>5.0</td>\n",
       "      <td>(SRF) surface water layer (ENVO:00002042)</td>\n",
       "      <td>0.22</td>\n",
       "      <td>3.0</td>\n",
       "      <td>(SO) Southern Ocean [MRGID:1907]</td>\n",
       "    </tr>\n",
       "  </tbody>\n",
       "</table>\n",
       "<p>103 rows × 54 columns</p>\n",
       "</div>"
      ],
      "text/plain": [
       "    PANGAEA Sample ID Mean_Date [YY/MM/DD hh:mm]*  Mean_Lat*  Mean_Long*  \\\n",
       "209   TARA_B100001971               12/3/11 16:31      14.17     -116.66   \n",
       "194   TARA_B100000959               4/16/11 16:09     -12.93      -96.12   \n",
       "211   TARA_B100002003              12/11/11 22:51       6.37     -103.07   \n",
       "205   TARA_B100001079               5/22/11 17:56      -1.87      -84.62   \n",
       "201   TARA_B100000929               5/13/11 19:44       2.07      -84.54   \n",
       "203   TARA_B100000586                6/1/11 18:24     -16.96     -100.66   \n",
       "208   TARA_B100000953               4/22/11 14:16      -5.27      -85.22   \n",
       "229   TARA_B100001105              10/19/11 21:20      35.31     -127.74   \n",
       "217   TARA_B100000678               7/27/11 23:48      -8.99     -139.23   \n",
       "148   TARA_B100001996              12/11/11 14:14       6.34     -102.98   \n",
       "224   TARA_B100000378                6/26/10 7:12     -15.34       43.29   \n",
       "152   TARA_B100001964               12/2/11 17:44      14.17     -116.71   \n",
       "142   TARA_B100000902               4/22/11 19:51      -5.27      -85.23   \n",
       "207   TARA_B100002049               1/10/12 16:43      25.63      -88.44   \n",
       "202   TARA_B100001167               2/16/12 14:53      34.63      -71.26   \n",
       "223   TARA_B100001245               10/5/11 21:53      31.53     -159.02   \n",
       "233   TARA_B100000508                10/6/10 9:59      -8.80      -17.91   \n",
       "120   TARA_B100001113               5/21/11 23:21      -1.84      -84.63   \n",
       "204   TARA_B100001765                3/1/12 20:06      34.10      -49.78   \n",
       "212   TARA_B100001013                4/4/11 17:28     -25.82     -111.74   \n",
       "97    TARA_B100001123                8/9/11 19:06      -8.90     -142.58   \n",
       "112   TARA_B100000686                8/1/11 20:13      -8.90     -140.29   \n",
       "236   TARA_B100000446               9/22/10 10:38     -20.37       -3.22   \n",
       "206   TARA_B100001179               3/19/12 16:14      43.74      -16.88   \n",
       "69    TARA_B100000676                8/5/11 19:30      -9.07     -140.62   \n",
       "52    TARA_B100000614                9/4/11 23:14       0.00     -153.68   \n",
       "85    TARA_B100000700               7/28/11 19:36      -8.98     -139.20   \n",
       "53    TARA_B100000609                9/4/11 18:04       0.00     -153.68   \n",
       "65    TARA_B000000557               6/29/10 13:12     -17.32       42.29   \n",
       "40    TARA_B100001115               7/26/11 17:34      -8.99     -139.21   \n",
       "..                ...                         ...        ...         ...   \n",
       "225   TARA_B100000745               11/5/10 12:33     -30.15      -43.29   \n",
       "140   TARA_B100000459                9/21/10 7:05     -20.44       -3.19   \n",
       "128   TARA_B100000965               4/15/11 13:10     -12.99      -95.99   \n",
       "144   TARA_B100000530               11/4/10 19:34     -30.15      -43.25   \n",
       "127   TARA_B100001057               3/18/11 14:16     -32.78      -87.09   \n",
       "151   TARA_B100001758                3/1/12 11:55      34.10      -49.89   \n",
       "136   TARA_B100000524               11/4/10 10:24     -30.14      -43.29   \n",
       "146   TARA_B100001093              10/18/11 18:58      35.41     -127.74   \n",
       "181   TARA_B100001250                10/5/11 1:55      31.50     -159.06   \n",
       "193   TARA_B100001094               10/19/11 2:53      35.42     -127.69   \n",
       "161   TARA_B100001769                3/5/12 11:02      35.91      -37.26   \n",
       "173   TARA_B100001559                3/9/12 18:49      36.19      -28.88   \n",
       "159   TARA_B100001778                3/5/12 21:32      35.75      -37.05   \n",
       "228   TARA_B100001146                2/2/12 20:29      39.19      -70.08   \n",
       "171   TARA_B100000482                9/14/10 9:14     -31.03        4.69   \n",
       "167   TARA_B100000475                9/14/10 9:14     -31.03        4.69   \n",
       "163   TARA_B100001564                3/9/12 10:13      36.16      -29.01   \n",
       "192   TARA_B100001142                2/2/12 12:02      39.23      -70.03   \n",
       "174   TARA_B100001059               3/12/11 20:07     -33.88      -73.05   \n",
       "185   TARA_B000000475               7/15/10 12:26     -34.94       17.94   \n",
       "190   TARA_B100001175               3/20/12 12:20      43.79      -16.89   \n",
       "187   TARA_B000000477               7/15/10 16:32     -34.89       18.07   \n",
       "191   TARA_B100001173               3/19/12 10:42      43.69      -16.85   \n",
       "158   TARA_B100001063               3/12/11 11:49     -34.05      -73.08   \n",
       "197   TARA_B100000497                 9/7/10 6:35     -32.23       17.71   \n",
       "214   TARA_B100000768               12/6/10 10:25     -47.18      -58.30   \n",
       "222   TARA_B100000767               12/6/10 16:37     -47.21      -58.06   \n",
       "242   TARA_B100000795                1/6/11 20:36     -62.24      -49.18   \n",
       "238   TARA_B100000780                1/3/11 11:10     -60.23      -60.65   \n",
       "239   TARA_B100000787                1/6/11 10:26     -62.03      -49.54   \n",
       "\n",
       "     Mean_Depth [m]*  Mean_Temperature [deg C]*  Mean Depth MLD Sigma [m]*  \\\n",
       "209            371.0                        8.9                       17.0   \n",
       "194            175.3                       13.0                       35.0   \n",
       "211            444.9                        8.2                       24.0   \n",
       "205            376.9                       10.3                       22.0   \n",
       "201            376.4                       11.3                        9.0   \n",
       "203            347.1                       10.9                       67.0   \n",
       "208            475.6                        9.2                       18.0   \n",
       "229            644.6                        4.9                       10.0   \n",
       "217            594.6                        7.2                       71.0   \n",
       "148             58.1                       19.0                       24.0   \n",
       "224            989.6                        6.2                       80.0   \n",
       "152             44.2                       18.6                       17.0   \n",
       "142             45.7                       19.6                       18.0   \n",
       "207            634.8                        9.8                      142.0   \n",
       "202            633.3                       11.0                      187.0   \n",
       "223            545.5                        6.7                       41.0   \n",
       "233            792.7                        4.7                       75.0   \n",
       "120             48.7                       21.8                       22.0   \n",
       "204            734.3                       10.6                      113.0   \n",
       "212            481.1                        8.1                       53.0   \n",
       "97             138.2                       23.7                       95.0   \n",
       "112            148.0                       22.1                       88.0   \n",
       "236            791.6                        4.2                      147.0   \n",
       "206            791.8                       10.2                      168.0   \n",
       "69             118.3                       25.2                       92.0   \n",
       "52              41.7                       26.1                       35.0   \n",
       "85             113.3                       24.7                       71.0   \n",
       "53               5.4                       26.1                       35.0   \n",
       "65              67.1                       25.3                       17.0   \n",
       "40               5.9                       26.5                       71.0   \n",
       "..               ...                        ...                        ...   \n",
       "225            792.7                        5.9                       34.0   \n",
       "140              5.4                       19.8                      147.0   \n",
       "128             57.6                       20.6                       35.0   \n",
       "144            118.3                       19.3                       34.0   \n",
       "127              5.4                       21.1                       43.0   \n",
       "151              5.5                       18.7                      113.0   \n",
       "136              5.6                       19.9                       34.0   \n",
       "146              5.5                       19.2                       10.0   \n",
       "181            113.8                       15.3                       41.0   \n",
       "193             47.2                       13.2                       10.0   \n",
       "161              5.5                       17.6                       77.0   \n",
       "173             77.6                       16.8                       36.0   \n",
       "159             39.8                       17.7                       77.0   \n",
       "228            585.7                        5.1                       89.0   \n",
       "171             40.3                       16.8                      187.0   \n",
       "167              5.4                       16.8                      187.0   \n",
       "163              5.4                       17.3                       36.0   \n",
       "192              5.5                       14.1                       89.0   \n",
       "174             33.8                       16.4                       22.0   \n",
       "185              5.4                       15.0                       90.0   \n",
       "190             23.9                       14.3                      168.0   \n",
       "187             28.6                       15.0                       90.0   \n",
       "191              5.4                       14.3                      168.0   \n",
       "158              5.3                       18.0                       22.0   \n",
       "197              5.5                       12.8                       12.0   \n",
       "214              5.5                        7.3                       29.0   \n",
       "222             41.8                        7.0                       29.0   \n",
       "242             87.4                       -0.8                       38.0   \n",
       "238              5.9                        1.8                       42.0   \n",
       "239              5.9                        0.7                       38.0   \n",
       "\n",
       "     Mean_Salinity [PSU]*  Mean_Oxygen [umol/kg]*  Mean_Nitrates[umol/L]*  \\\n",
       "209                  34.6                     0.6                    35.7   \n",
       "194                  34.8                     0.7                    21.1   \n",
       "211                  34.6                     0.8                    36.9   \n",
       "205                  34.8                     1.3                    34.6   \n",
       "201                  34.8                     2.5                    33.9   \n",
       "203                  34.7                     3.2                    30.4   \n",
       "208                  34.7                     4.4                    40.0   \n",
       "229                  34.3                     8.6                    44.1   \n",
       "217                  34.6                    38.1                    42.5   \n",
       "148                  34.6                    77.0                    22.1   \n",
       "224                  34.8                    88.2                     NaN   \n",
       "152                  34.4                    95.4                    11.0   \n",
       "142                  34.9                   103.9                    20.3   \n",
       "207                  35.2                   108.2                    31.9   \n",
       "202                  35.4                   138.1                    21.8   \n",
       "223                  34.0                   138.7                    29.1   \n",
       "233                  34.5                   143.2                    38.4   \n",
       "120                  35.1                   144.6                    10.9   \n",
       "204                  35.4                   155.2                    21.3   \n",
       "212                  34.4                   155.6                    24.6   \n",
       "97                   36.3                   160.5                     3.7   \n",
       "112                  35.9                   161.3                     5.0   \n",
       "236                  34.4                   161.7                    37.8   \n",
       "206                  35.5                   175.3                    18.2   \n",
       "69                   35.8                   175.9                     4.5   \n",
       "52                   35.1                   177.0                     4.4   \n",
       "85                   36.1                   179.9                     2.3   \n",
       "53                   35.1                   179.9                     2.5   \n",
       "65                   35.2                   185.0                     0.8   \n",
       "40                   35.4                   186.2                     4.0   \n",
       "..                    ...                     ...                     ...   \n",
       "225                  34.4                   214.8                    29.8   \n",
       "140                  36.4                   215.7                     0.2   \n",
       "128                  35.5                   216.8                     1.5   \n",
       "144                  36.3                   217.1                     0.5   \n",
       "127                  34.7                   219.2                    -0.4   \n",
       "151                  36.4                   220.2                    -1.2   \n",
       "136                  36.3                   221.5                    -0.4   \n",
       "146                  33.1                   224.4                    -0.7   \n",
       "181                  34.4                   225.5                     0.7   \n",
       "193                  33.2                   227.7                     4.8   \n",
       "161                  36.3                   228.4                    -0.3   \n",
       "173                  36.2                   228.5                     1.6   \n",
       "159                  36.2                   230.1                     1.2   \n",
       "228                  35.0                   230.2                    19.9   \n",
       "171                  35.7                   231.7                     NaN   \n",
       "167                  35.7                   231.9                     NaN   \n",
       "163                  36.2                   232.1                     0.3   \n",
       "192                  35.2                   233.9                     3.5   \n",
       "174                  34.3                   237.2                     0.7   \n",
       "185                  35.3                   238.9                     2.5   \n",
       "190                  36.0                   239.4                     3.8   \n",
       "187                  35.3                   240.4                     NaN   \n",
       "191                  36.0                   243.1                     3.0   \n",
       "158                  34.3                   244.9                    -1.5   \n",
       "197                  34.8                   249.4                     0.4   \n",
       "214                  34.0                   305.0                    17.1   \n",
       "222                  34.1                   306.2                    17.1   \n",
       "242                  34.3                   325.4                    33.1   \n",
       "238                  33.7                   338.3                    24.4   \n",
       "239                  34.4                   343.4                    27.5   \n",
       "\n",
       "     ...  PANGAEA sample identifier  \\\n",
       "209  ...            TARA_B100001971   \n",
       "194  ...            TARA_B100000959   \n",
       "211  ...            TARA_B100002003   \n",
       "205  ...            TARA_B100001079   \n",
       "201  ...            TARA_B100000929   \n",
       "203  ...            TARA_B100000586   \n",
       "208  ...            TARA_B100000953   \n",
       "229  ...            TARA_B100001105   \n",
       "217  ...            TARA_B100000678   \n",
       "148  ...            TARA_B100001996   \n",
       "224  ...            TARA_B100000378   \n",
       "152  ...            TARA_B100001964   \n",
       "142  ...            TARA_B100000902   \n",
       "207  ...            TARA_B100002049   \n",
       "202  ...            TARA_B100001167   \n",
       "223  ...            TARA_B100001245   \n",
       "233  ...            TARA_B100000508   \n",
       "120  ...            TARA_B100001113   \n",
       "204  ...            TARA_B100001765   \n",
       "212  ...            TARA_B100001013   \n",
       "97   ...            TARA_B100001123   \n",
       "112  ...            TARA_B100000686   \n",
       "236  ...            TARA_B100000446   \n",
       "206  ...            TARA_B100001179   \n",
       "69   ...            TARA_B100000676   \n",
       "52   ...            TARA_B100000614   \n",
       "85   ...            TARA_B100000700   \n",
       "53   ...            TARA_B100000609   \n",
       "65   ...            TARA_B000000557   \n",
       "40   ...            TARA_B100001115   \n",
       "..   ...                        ...   \n",
       "225  ...            TARA_B100000745   \n",
       "140  ...            TARA_B100000459   \n",
       "128  ...            TARA_B100000965   \n",
       "144  ...            TARA_B100000530   \n",
       "127  ...            TARA_B100001057   \n",
       "151  ...            TARA_B100001758   \n",
       "136  ...            TARA_B100000524   \n",
       "146  ...            TARA_B100001093   \n",
       "181  ...            TARA_B100001250   \n",
       "193  ...            TARA_B100001094   \n",
       "161  ...            TARA_B100001769   \n",
       "173  ...            TARA_B100001559   \n",
       "159  ...            TARA_B100001778   \n",
       "228  ...            TARA_B100001146   \n",
       "171  ...            TARA_B100000482   \n",
       "167  ...            TARA_B100000475   \n",
       "163  ...            TARA_B100001564   \n",
       "192  ...            TARA_B100001142   \n",
       "174  ...            TARA_B100001059   \n",
       "185  ...            TARA_B000000475   \n",
       "190  ...            TARA_B100001175   \n",
       "187  ...            TARA_B000000477   \n",
       "191  ...            TARA_B100001173   \n",
       "158  ...            TARA_B100001063   \n",
       "197  ...            TARA_B100000497   \n",
       "214  ...            TARA_B100000768   \n",
       "222  ...            TARA_B100000767   \n",
       "242  ...            TARA_B100000795   \n",
       "238  ...            TARA_B100000780   \n",
       "239  ...            TARA_B100000787   \n",
       "\n",
       "     Corresponding contextual data published at PANGAEA  \\\n",
       "209  http://www.pangaea.de/search?All&q=TARA_B10000...    \n",
       "194  http://www.pangaea.de/search?All&q=TARA_B10000...    \n",
       "211  http://www.pangaea.de/search?All&q=TARA_B10000...    \n",
       "205  http://www.pangaea.de/search?All&q=TARA_B10000...    \n",
       "201  http://www.pangaea.de/search?All&q=TARA_B10000...    \n",
       "203  http://www.pangaea.de/search?All&q=TARA_B10000...    \n",
       "208  http://www.pangaea.de/search?All&q=TARA_B10000...    \n",
       "229  http://www.pangaea.de/search?All&q=TARA_B10000...    \n",
       "217  http://www.pangaea.de/search?All&q=TARA_B10000...    \n",
       "148  http://www.pangaea.de/search?All&q=TARA_B10000...    \n",
       "224  http://www.pangaea.de/search?All&q=TARA_B10000...    \n",
       "152  http://www.pangaea.de/search?All&q=TARA_B10000...    \n",
       "142  http://www.pangaea.de/search?All&q=TARA_B10000...    \n",
       "207  http://www.pangaea.de/search?All&q=TARA_B10000...    \n",
       "202  http://www.pangaea.de/search?All&q=TARA_B10000...    \n",
       "223  http://www.pangaea.de/search?All&q=TARA_B10000...    \n",
       "233  http://www.pangaea.de/search?All&q=TARA_B10000...    \n",
       "120  http://www.pangaea.de/search?All&q=TARA_B10000...    \n",
       "204  http://www.pangaea.de/search?All&q=TARA_B10000...    \n",
       "212  http://www.pangaea.de/search?All&q=TARA_B10000...    \n",
       "97   http://www.pangaea.de/search?All&q=TARA_B10000...    \n",
       "112  http://www.pangaea.de/search?All&q=TARA_B10000...    \n",
       "236  http://www.pangaea.de/search?All&q=TARA_B10000...    \n",
       "206  http://www.pangaea.de/search?All&q=TARA_B10000...    \n",
       "69   http://www.pangaea.de/search?All&q=TARA_B10000...    \n",
       "52   http://www.pangaea.de/search?All&q=TARA_B10000...    \n",
       "85   http://www.pangaea.de/search?All&q=TARA_B10000...    \n",
       "53   http://www.pangaea.de/search?All&q=TARA_B10000...    \n",
       "65   http://www.pangaea.de/search?All&q=TARA_B00000...    \n",
       "40   http://www.pangaea.de/search?All&q=TARA_B10000...    \n",
       "..                                                 ...    \n",
       "225  http://www.pangaea.de/search?All&q=TARA_B10000...    \n",
       "140  http://www.pangaea.de/search?All&q=TARA_B10000...    \n",
       "128  http://www.pangaea.de/search?All&q=TARA_B10000...    \n",
       "144  http://www.pangaea.de/search?All&q=TARA_B10000...    \n",
       "127  http://www.pangaea.de/search?All&q=TARA_B10000...    \n",
       "151  http://www.pangaea.de/search?All&q=TARA_B10000...    \n",
       "136  http://www.pangaea.de/search?All&q=TARA_B10000...    \n",
       "146  http://www.pangaea.de/search?All&q=TARA_B10000...    \n",
       "181  http://www.pangaea.de/search?All&q=TARA_B10000...    \n",
       "193  http://www.pangaea.de/search?All&q=TARA_B10000...    \n",
       "161  http://www.pangaea.de/search?All&q=TARA_B10000...    \n",
       "173  http://www.pangaea.de/search?All&q=TARA_B10000...    \n",
       "159  http://www.pangaea.de/search?All&q=TARA_B10000...    \n",
       "228  http://www.pangaea.de/search?All&q=TARA_B10000...    \n",
       "171  http://www.pangaea.de/search?All&q=TARA_B10000...    \n",
       "167  http://www.pangaea.de/search?All&q=TARA_B10000...    \n",
       "163  http://www.pangaea.de/search?All&q=TARA_B10000...    \n",
       "192  http://www.pangaea.de/search?All&q=TARA_B10000...    \n",
       "174  http://www.pangaea.de/search?All&q=TARA_B10000...    \n",
       "185  http://www.pangaea.de/search?All&q=TARA_B00000...    \n",
       "190  http://www.pangaea.de/search?All&q=TARA_B10000...    \n",
       "187  http://www.pangaea.de/search?All&q=TARA_B00000...    \n",
       "191  http://www.pangaea.de/search?All&q=TARA_B10000...    \n",
       "158  http://www.pangaea.de/search?All&q=TARA_B10000...    \n",
       "197  http://www.pangaea.de/search?All&q=TARA_B10000...    \n",
       "214  http://www.pangaea.de/search?All&q=TARA_B10000...    \n",
       "222  http://www.pangaea.de/search?All&q=TARA_B10000...    \n",
       "242  http://www.pangaea.de/search?All&q=TARA_B10000...    \n",
       "238  http://www.pangaea.de/search?All&q=TARA_B10000...    \n",
       "239  http://www.pangaea.de/search?All&q=TARA_B10000...    \n",
       "\n",
       "     Date/Time [yyyy-mm-ddThh:mm]  Latitude [degrees North]  \\\n",
       "209           2011-12-03T14:31:20                   14.2025   \n",
       "194           2011-04-16T13:03:08                  -12.9794   \n",
       "211           2011-12-11T20:37:22                    6.3559   \n",
       "205              2011-05-22T13:20                   -1.8902   \n",
       "201           2011-05-13T16:08:58                    2.0649   \n",
       "203           2011-06-01T16:00:59                  -16.9486   \n",
       "208           2011-04-22T12:08:28                   -5.2610   \n",
       "229           2011-10-19T19:27:16                   35.2698   \n",
       "217           2011-07-27T19:28:43                   -8.9729   \n",
       "148           2011-12-11T13:27:34                    6.3378   \n",
       "224           2010-06-26T07:12:30                  -15.3379   \n",
       "152              2011-12-02T20:42                   14.2075   \n",
       "142              2011-04-22T21:13                   -5.2669   \n",
       "207           2012-01-10T14:49:35                   25.6236   \n",
       "202           2012-02-16T12:01:25                   34.6663   \n",
       "223           2011-10-05T20:45:47                   31.5280   \n",
       "233           2010-10-06T07:58:54                   -8.7986   \n",
       "120              2011-05-21T21:00                   -1.9002   \n",
       "204           2012-03-01T18:50:26                   34.0771   \n",
       "212           2011-04-04T13:55:02                  -25.8076   \n",
       "97            2011-08-09T17:05:33                   -8.8999   \n",
       "112           2011-08-01T17:52:45                   -8.9109   \n",
       "236           2010-09-21T11:57:54                  -20.4075   \n",
       "206           2012-03-19T14:59:48                   43.7182   \n",
       "69            2011-08-05T17:31:19                   -9.0714   \n",
       "52               2011-09-05T18:40                    0.0222   \n",
       "85            2011-07-28T17:15:56                   -9.0063   \n",
       "53               2011-09-04T18:00                    0.0003   \n",
       "65               2010-06-29T15:00                  -17.2855   \n",
       "40               2011-07-26T17:10                   -8.9971   \n",
       "..                            ...                       ...   \n",
       "225           2010-11-05T12:33:27                  -30.1471   \n",
       "140              2010-09-21T06:55                  -20.4091   \n",
       "128              2011-04-15T19:38                  -12.9723   \n",
       "144           2010-11-04T18:16:53                  -30.1484   \n",
       "127              2011-03-18T11:57                  -32.7971   \n",
       "151              2012-03-01T10:48                   34.1132   \n",
       "136              2010-11-04T10:04                  -30.1367   \n",
       "146              2011-10-18T15:35                   35.3671   \n",
       "181           2011-10-05T00:59:03                   31.5168   \n",
       "193              2011-10-19T00:09                   35.4002   \n",
       "161              2012-03-05T09:25                   35.9346   \n",
       "173           2012-03-09T17:42:29                   36.1811   \n",
       "159              2012-03-05T17:34                   35.8427   \n",
       "228           2012-02-02T18:36:58                   39.2392   \n",
       "171              2010-09-14T13:30                  -31.0270   \n",
       "167              2010-09-14T06:55                  -31.0266   \n",
       "163              2012-03-09T08:59                   36.1715   \n",
       "192              2012-02-02T11:52                   39.2305   \n",
       "174           2011-03-12T19:36:38                  -33.9116   \n",
       "185              2010-07-15T12:22                  -34.9449   \n",
       "190           2012-03-20T08:48:42                   43.7056   \n",
       "187           2010-07-15T15:36:10                  -34.8901   \n",
       "191              2012-03-19T08:18                   43.6792   \n",
       "158              2011-03-12T11:34                  -34.0614   \n",
       "197              2010-09-07T06:19                  -32.2401   \n",
       "214              2010-12-06T10:33                  -47.1863   \n",
       "222              2010-12-06T18:58                  -47.2007   \n",
       "242           2011-01-06T19:34:21                  -62.2231   \n",
       "238              2011-01-03T11:05                  -60.2287   \n",
       "239              2011-01-06T10:38                  -62.0385   \n",
       "\n",
       "     Longitude [degrees East]  Sampling depth [m]  \\\n",
       "209                 -116.6433               375.0   \n",
       "194                  -96.0232               177.0   \n",
       "211                 -103.0598               450.0   \n",
       "205                  -84.6141               380.0   \n",
       "201                  -84.5546               380.0   \n",
       "203                 -100.6715               350.0   \n",
       "208                  -85.1678               480.0   \n",
       "229                 -127.7268               650.0   \n",
       "217                 -139.2393               600.0   \n",
       "148                 -102.9538                60.0   \n",
       "224                   43.2948              1000.0   \n",
       "152                 -116.6468                40.0   \n",
       "142                  -85.2732                40.0   \n",
       "207                  -88.4500               640.0   \n",
       "202                  -71.2907               640.0   \n",
       "223                 -159.0224               550.0   \n",
       "233                  -17.9034               800.0   \n",
       "120                  -84.6265                50.0   \n",
       "204                  -49.8233               740.0   \n",
       "212                 -111.6906               488.0   \n",
       "97                  -142.5461               140.0   \n",
       "112                 -140.2845               150.0   \n",
       "236                   -3.1641               800.0   \n",
       "206                  -16.8714               800.0   \n",
       "69                  -140.5973               120.0   \n",
       "52                  -153.6858                40.0   \n",
       "85                  -139.1394               115.0   \n",
       "53                  -153.6759                 5.0   \n",
       "65                    42.2866                66.0   \n",
       "40                  -139.1963                 5.0   \n",
       "..                        ...                 ...   \n",
       "225                  -43.2915               800.0   \n",
       "140                   -3.1759                 5.0   \n",
       "128                  -96.0122                50.0   \n",
       "144                  -43.2705               120.0   \n",
       "127                  -87.0693                 5.0   \n",
       "151                  -49.9181                 5.0   \n",
       "136                  -43.2899                 5.0   \n",
       "146                 -127.7422                 5.0   \n",
       "181                 -159.0460               115.0   \n",
       "193                 -127.7499                45.0   \n",
       "161                  -37.3032                 5.0   \n",
       "173                  -28.9373                80.0   \n",
       "159                  -37.1526                40.0   \n",
       "228                  -70.0343               590.0   \n",
       "171                    4.6802                50.0   \n",
       "167                    4.6650                 5.0   \n",
       "163                  -29.0230                 5.0   \n",
       "192                  -70.0377                 5.0   \n",
       "174                  -73.0537                35.0   \n",
       "185                   17.9189                 5.0   \n",
       "190                  -16.8794                25.0   \n",
       "187                   18.0459                30.0   \n",
       "191                  -16.8344                 5.0   \n",
       "158                  -73.1066                 5.0   \n",
       "197                   17.7103                 5.0   \n",
       "214                  -58.2902                 5.0   \n",
       "222                  -57.9446                40.0   \n",
       "242                  -49.2139                90.0   \n",
       "238                  -60.6476                 5.0   \n",
       "239                  -49.5290                 5.0   \n",
       "\n",
       "                                 Environmental Feature  \\\n",
       "209             (MES) mesopelagic zone (ENVO:00000213)   \n",
       "194  (DCM) deep chlorophyll maximum layer (ENVO:010...   \n",
       "211             (MES) mesopelagic zone (ENVO:00000213)   \n",
       "205  (MES) mesopelagic zone (ENVO:00000213) & marin...   \n",
       "201  (MES) mesopelagic zone (ENVO:00000213) & marin...   \n",
       "203  (MES) mesopelagic zone (ENVO:00000213) & marin...   \n",
       "208  (MES) mesopelagic zone (ENVO:00000213) & marin...   \n",
       "229             (MES) mesopelagic zone (ENVO:00000213)   \n",
       "217             (MES) mesopelagic zone (ENVO:00000213)   \n",
       "148  (DCM) deep chlorophyll maximum layer (ENVO:010...   \n",
       "224             (MES) mesopelagic zone (ENVO:00000213)   \n",
       "152  (DCM) deep chlorophyll maximum layer (ENVO:010...   \n",
       "142  (DCM) deep chlorophyll maximum layer (ENVO:010...   \n",
       "207             (MES) mesopelagic zone (ENVO:00000213)   \n",
       "202             (MES) mesopelagic zone (ENVO:00000213)   \n",
       "223             (MES) mesopelagic zone (ENVO:00000213)   \n",
       "233             (MES) mesopelagic zone (ENVO:00000213)   \n",
       "120  (DCM) deep chlorophyll maximum layer (ENVO:010...   \n",
       "204             (MES) mesopelagic zone (ENVO:00000213)   \n",
       "212             (MES) mesopelagic zone (ENVO:00000213)   \n",
       "97   (MIX) marine epipelagic mixed layer (ENVO:0100...   \n",
       "112  (MIX) marine epipelagic mixed layer (ENVO:0100...   \n",
       "236             (MES) mesopelagic zone (ENVO:00000213)   \n",
       "206             (MES) mesopelagic zone (ENVO:00000213)   \n",
       "69   (MIX) marine epipelagic mixed layer (ENVO:0100...   \n",
       "52   (DCM) deep chlorophyll maximum layer (ENVO:010...   \n",
       "85   (DCM) deep chlorophyll maximum layer (ENVO:010...   \n",
       "53           (SRF) surface water layer (ENVO:00002042)   \n",
       "65   (DCM) deep chlorophyll maximum layer (ENVO:010...   \n",
       "40           (SRF) surface water layer (ENVO:00002042)   \n",
       "..                                                 ...   \n",
       "225             (MES) mesopelagic zone (ENVO:00000213)   \n",
       "140          (SRF) surface water layer (ENVO:00002042)   \n",
       "128  (DCM) deep chlorophyll maximum layer (ENVO:010...   \n",
       "144  (DCM) deep chlorophyll maximum layer (ENVO:010...   \n",
       "127          (SRF) surface water layer (ENVO:00002042)   \n",
       "151          (SRF) surface water layer (ENVO:00002042)   \n",
       "136          (SRF) surface water layer (ENVO:00002042)   \n",
       "146          (SRF) surface water layer (ENVO:00002042)   \n",
       "181  (DCM) deep chlorophyll maximum layer (ENVO:010...   \n",
       "193  (DCM) deep chlorophyll maximum layer (ENVO:010...   \n",
       "161          (SRF) surface water layer (ENVO:00002042)   \n",
       "173  (DCM) deep chlorophyll maximum layer (ENVO:010...   \n",
       "159  (DCM) deep chlorophyll maximum layer (ENVO:010...   \n",
       "228  (MES) mesopelagic zone (ENVO:00000213) & marin...   \n",
       "171  (DCM) deep chlorophyll maximum layer (ENVO:010...   \n",
       "167          (SRF) surface water layer (ENVO:00002042)   \n",
       "163          (SRF) surface water layer (ENVO:00002042)   \n",
       "192          (SRF) surface water layer (ENVO:00002042)   \n",
       "174  (DCM) deep chlorophyll maximum layer (ENVO:010...   \n",
       "185          (SRF) surface water layer (ENVO:00002042)   \n",
       "190  (MIX) marine epipelagic mixed layer (ENVO:0100...   \n",
       "187  (DCM) deep chlorophyll maximum layer (ENVO:010...   \n",
       "191          (SRF) surface water layer (ENVO:00002042)   \n",
       "158          (SRF) surface water layer (ENVO:00002042)   \n",
       "197          (SRF) surface water layer (ENVO:00002042)   \n",
       "214          (SRF) surface water layer (ENVO:00002042)   \n",
       "222  (DCM) deep chlorophyll maximum layer (ENVO:010...   \n",
       "242  (DCM) deep chlorophyll maximum layer (ENVO:010...   \n",
       "238          (SRF) surface water layer (ENVO:00002042)   \n",
       "239          (SRF) surface water layer (ENVO:00002042)   \n",
       "\n",
       "     Size fraction lower threshold [micrometre]  \\\n",
       "209                                        0.22   \n",
       "194                                        0.22   \n",
       "211                                        0.22   \n",
       "205                                        0.22   \n",
       "201                                        0.22   \n",
       "203                                        0.22   \n",
       "208                                        0.22   \n",
       "229                                        0.22   \n",
       "217                                        0.22   \n",
       "148                                        0.22   \n",
       "224                                        0.22   \n",
       "152                                        0.22   \n",
       "142                                        0.22   \n",
       "207                                        0.22   \n",
       "202                                        0.22   \n",
       "223                                        0.22   \n",
       "233                                        0.22   \n",
       "120                                        0.22   \n",
       "204                                        0.22   \n",
       "212                                        0.22   \n",
       "97                                         0.22   \n",
       "112                                        0.22   \n",
       "236                                        0.22   \n",
       "206                                        0.22   \n",
       "69                                         0.22   \n",
       "52                                         0.22   \n",
       "85                                         0.22   \n",
       "53                                         0.22   \n",
       "65                                         0.22   \n",
       "40                                         0.22   \n",
       "..                                          ...   \n",
       "225                                        0.22   \n",
       "140                                        0.22   \n",
       "128                                        0.22   \n",
       "144                                        0.22   \n",
       "127                                        0.22   \n",
       "151                                        0.22   \n",
       "136                                        0.22   \n",
       "146                                        0.22   \n",
       "181                                        0.22   \n",
       "193                                        0.22   \n",
       "161                                        0.22   \n",
       "173                                        0.22   \n",
       "159                                        0.22   \n",
       "228                                        0.22   \n",
       "171                                        0.22   \n",
       "167                                        0.22   \n",
       "163                                        0.22   \n",
       "192                                        0.22   \n",
       "174                                        0.22   \n",
       "185                                        0.22   \n",
       "190                                        0.22   \n",
       "187                                        0.22   \n",
       "191                                        0.22   \n",
       "158                                        0.22   \n",
       "197                                        0.22   \n",
       "214                                        0.22   \n",
       "222                                        0.22   \n",
       "242                                        0.22   \n",
       "238                                        0.22   \n",
       "239                                        0.22   \n",
       "\n",
       "     Size fraction upper threshold [micrometre]  \\\n",
       "209                                         3.0   \n",
       "194                                         3.0   \n",
       "211                                         3.0   \n",
       "205                                         3.0   \n",
       "201                                         3.0   \n",
       "203                                         3.0   \n",
       "208                                         3.0   \n",
       "229                                         3.0   \n",
       "217                                         3.0   \n",
       "148                                         3.0   \n",
       "224                                         3.0   \n",
       "152                                         3.0   \n",
       "142                                         3.0   \n",
       "207                                         3.0   \n",
       "202                                         3.0   \n",
       "223                                         3.0   \n",
       "233                                         3.0   \n",
       "120                                         3.0   \n",
       "204                                         3.0   \n",
       "212                                         3.0   \n",
       "97                                          3.0   \n",
       "112                                         3.0   \n",
       "236                                         3.0   \n",
       "206                                         3.0   \n",
       "69                                          3.0   \n",
       "52                                          3.0   \n",
       "85                                          3.0   \n",
       "53                                          3.0   \n",
       "65                                          3.0   \n",
       "40                                          3.0   \n",
       "..                                          ...   \n",
       "225                                         3.0   \n",
       "140                                         3.0   \n",
       "128                                         3.0   \n",
       "144                                         3.0   \n",
       "127                                         3.0   \n",
       "151                                         3.0   \n",
       "136                                         3.0   \n",
       "146                                         3.0   \n",
       "181                                         3.0   \n",
       "193                                         3.0   \n",
       "161                                         3.0   \n",
       "173                                         3.0   \n",
       "159                                         3.0   \n",
       "228                                         3.0   \n",
       "171                                         3.0   \n",
       "167                                         3.0   \n",
       "163                                         3.0   \n",
       "192                                         3.0   \n",
       "174                                         3.0   \n",
       "185                                         3.0   \n",
       "190                                         3.0   \n",
       "187                                         3.0   \n",
       "191                                         3.0   \n",
       "158                                         3.0   \n",
       "197                                         3.0   \n",
       "214                                         3.0   \n",
       "222                                         3.0   \n",
       "242                                         3.0   \n",
       "238                                         3.0   \n",
       "239                                         3.0   \n",
       "\n",
       "     Ocean and sea regions (IHO General Sea Areas 1953) [MRGID registered at www.marineregions.com]  \n",
       "209             (NPO) North Pacific Ocean [MRGID:1908]                                               \n",
       "194             (SPO) South Pacific Ocean [MRGID:1910]                                               \n",
       "211             (NPO) North Pacific Ocean [MRGID:1908]                                               \n",
       "205             (SPO) South Pacific Ocean [MRGID:1910]                                               \n",
       "201             (NPO) North Pacific Ocean [MRGID:1908]                                               \n",
       "203             (SPO) South Pacific Ocean [MRGID:1910]                                               \n",
       "208             (SPO) South Pacific Ocean [MRGID:1910]                                               \n",
       "229             (NPO) North Pacific Ocean [MRGID:1908]                                               \n",
       "217             (SPO) South Pacific Ocean [MRGID:1910]                                               \n",
       "148             (NPO) North Pacific Ocean [MRGID:1908]                                               \n",
       "224                     (IO) Indian Ocean [MRGID:1904]                                               \n",
       "152             (NPO) North Pacific Ocean [MRGID:1908]                                               \n",
       "142             (SPO) South Pacific Ocean [MRGID:1910]                                               \n",
       "207            (NAO) North Atlantic Ocean [MRGID:1912]                                               \n",
       "202            (NAO) North Atlantic Ocean [MRGID:1912]                                               \n",
       "223             (NPO) North Pacific Ocean [MRGID:1908]                                               \n",
       "233            (SAO) South Atlantic Ocean [MRGID:1914]                                               \n",
       "120             (SPO) South Pacific Ocean [MRGID:1910]                                               \n",
       "204            (NAO) North Atlantic Ocean [MRGID:1912]                                               \n",
       "212             (SPO) South Pacific Ocean [MRGID:1910]                                               \n",
       "97              (SPO) South Pacific Ocean [MRGID:1910]                                               \n",
       "112             (SPO) South Pacific Ocean [MRGID:1910]                                               \n",
       "236            (SAO) South Atlantic Ocean [MRGID:1914]                                               \n",
       "206            (NAO) North Atlantic Ocean [MRGID:1912]                                               \n",
       "69              (SPO) South Pacific Ocean [MRGID:1910]                                               \n",
       "52              (SPO) South Pacific Ocean [MRGID:1910]                                               \n",
       "85              (SPO) South Pacific Ocean [MRGID:1910]                                               \n",
       "53              (SPO) South Pacific Ocean [MRGID:1910]                                               \n",
       "65                      (IO) Indian Ocean [MRGID:1904]                                               \n",
       "40              (SPO) South Pacific Ocean [MRGID:1910]                                               \n",
       "..                                                 ...                                               \n",
       "225            (SAO) South Atlantic Ocean [MRGID:1914]                                               \n",
       "140            (SAO) South Atlantic Ocean [MRGID:1914]                                               \n",
       "128             (SPO) South Pacific Ocean [MRGID:1910]                                               \n",
       "144            (SAO) South Atlantic Ocean [MRGID:1914]                                               \n",
       "127             (SPO) South Pacific Ocean [MRGID:1910]                                               \n",
       "151            (NAO) North Atlantic Ocean [MRGID:1912]                                               \n",
       "136            (SAO) South Atlantic Ocean [MRGID:1914]                                               \n",
       "146             (NPO) North Pacific Ocean [MRGID:1908]                                               \n",
       "181             (NPO) North Pacific Ocean [MRGID:1908]                                               \n",
       "193             (NPO) North Pacific Ocean [MRGID:1908]                                               \n",
       "161            (NAO) North Atlantic Ocean [MRGID:1912]                                               \n",
       "173            (NAO) North Atlantic Ocean [MRGID:1912]                                               \n",
       "159            (NAO) North Atlantic Ocean [MRGID:1912]                                               \n",
       "228            (NAO) North Atlantic Ocean [MRGID:1912]                                               \n",
       "171            (SAO) South Atlantic Ocean [MRGID:1914]                                               \n",
       "167            (SAO) South Atlantic Ocean [MRGID:1914]                                               \n",
       "163            (NAO) North Atlantic Ocean [MRGID:1912]                                               \n",
       "192            (NAO) North Atlantic Ocean [MRGID:1912]                                               \n",
       "174             (SPO) South Pacific Ocean [MRGID:1910]                                               \n",
       "185            (SAO) South Atlantic Ocean [MRGID:1914]                                               \n",
       "190            (NAO) North Atlantic Ocean [MRGID:1912]                                               \n",
       "187            (SAO) South Atlantic Ocean [MRGID:1914]                                               \n",
       "191            (NAO) North Atlantic Ocean [MRGID:1912]                                               \n",
       "158             (SPO) South Pacific Ocean [MRGID:1910]                                               \n",
       "197            (SAO) South Atlantic Ocean [MRGID:1914]                                               \n",
       "214            (SAO) South Atlantic Ocean [MRGID:1914]                                               \n",
       "222            (SAO) South Atlantic Ocean [MRGID:1914]                                               \n",
       "242                   (SO) Southern Ocean [MRGID:1907]                                               \n",
       "238                   (SO) Southern Ocean [MRGID:1907]                                               \n",
       "239                   (SO) Southern Ocean [MRGID:1907]                                               \n",
       "\n",
       "[103 rows x 54 columns]"
      ]
     },
     "execution_count": 403,
     "metadata": {},
     "output_type": "execute_result"
    }
   ],
   "source": [
    "prok = merge[merge['Size fraction lower threshold [micrometre]']=='0.22']\n",
    "prok = prok[prok['Size fraction upper threshold [micrometre]']==3.00]\n",
    "prok.sort_values('Mean_Oxygen [umol/kg]*')"
   ]
  },
  {
   "cell_type": "code",
   "execution_count": 405,
   "metadata": {},
   "outputs": [
    {
     "data": {
      "text/html": [
       "<div>\n",
       "<style scoped>\n",
       "    .dataframe tbody tr th:only-of-type {\n",
       "        vertical-align: middle;\n",
       "    }\n",
       "\n",
       "    .dataframe tbody tr th {\n",
       "        vertical-align: top;\n",
       "    }\n",
       "\n",
       "    .dataframe thead th {\n",
       "        text-align: right;\n",
       "    }\n",
       "</style>\n",
       "<table border=\"1\" class=\"dataframe\">\n",
       "  <thead>\n",
       "    <tr style=\"text-align: right;\">\n",
       "      <th></th>\n",
       "      <th>Mean_Oxygen [umol/kg]*</th>\n",
       "      <th>Station identifier [TARA_station#]</th>\n",
       "      <th>Latitude [degrees North]</th>\n",
       "      <th>Longitude [degrees East]</th>\n",
       "    </tr>\n",
       "  </thead>\n",
       "  <tbody>\n",
       "    <tr>\n",
       "      <th>209</th>\n",
       "      <td>0.6</td>\n",
       "      <td>TARA_137</td>\n",
       "      <td>14.2025</td>\n",
       "      <td>-116.6433</td>\n",
       "    </tr>\n",
       "    <tr>\n",
       "      <th>194</th>\n",
       "      <td>0.7</td>\n",
       "      <td>TARA_100</td>\n",
       "      <td>-12.9794</td>\n",
       "      <td>-96.0232</td>\n",
       "    </tr>\n",
       "    <tr>\n",
       "      <th>211</th>\n",
       "      <td>0.8</td>\n",
       "      <td>TARA_138</td>\n",
       "      <td>6.3559</td>\n",
       "      <td>-103.0598</td>\n",
       "    </tr>\n",
       "    <tr>\n",
       "      <th>205</th>\n",
       "      <td>1.3</td>\n",
       "      <td>TARA_110</td>\n",
       "      <td>-1.8902</td>\n",
       "      <td>-84.6141</td>\n",
       "    </tr>\n",
       "    <tr>\n",
       "      <th>201</th>\n",
       "      <td>2.5</td>\n",
       "      <td>TARA_109</td>\n",
       "      <td>2.0649</td>\n",
       "      <td>-84.5546</td>\n",
       "    </tr>\n",
       "    <tr>\n",
       "      <th>203</th>\n",
       "      <td>3.2</td>\n",
       "      <td>TARA_111</td>\n",
       "      <td>-16.9486</td>\n",
       "      <td>-100.6715</td>\n",
       "    </tr>\n",
       "    <tr>\n",
       "      <th>208</th>\n",
       "      <td>4.4</td>\n",
       "      <td>TARA_102</td>\n",
       "      <td>-5.2610</td>\n",
       "      <td>-85.1678</td>\n",
       "    </tr>\n",
       "    <tr>\n",
       "      <th>229</th>\n",
       "      <td>8.6</td>\n",
       "      <td>TARA_133</td>\n",
       "      <td>35.2698</td>\n",
       "      <td>-127.7268</td>\n",
       "    </tr>\n",
       "    <tr>\n",
       "      <th>217</th>\n",
       "      <td>38.1</td>\n",
       "      <td>TARA_122</td>\n",
       "      <td>-8.9729</td>\n",
       "      <td>-139.2393</td>\n",
       "    </tr>\n",
       "    <tr>\n",
       "      <th>148</th>\n",
       "      <td>77.0</td>\n",
       "      <td>TARA_138</td>\n",
       "      <td>6.3378</td>\n",
       "      <td>-102.9538</td>\n",
       "    </tr>\n",
       "    <tr>\n",
       "      <th>224</th>\n",
       "      <td>88.2</td>\n",
       "      <td>TARA_056</td>\n",
       "      <td>-15.3379</td>\n",
       "      <td>43.2948</td>\n",
       "    </tr>\n",
       "    <tr>\n",
       "      <th>152</th>\n",
       "      <td>95.4</td>\n",
       "      <td>TARA_137</td>\n",
       "      <td>14.2075</td>\n",
       "      <td>-116.6468</td>\n",
       "    </tr>\n",
       "    <tr>\n",
       "      <th>142</th>\n",
       "      <td>103.9</td>\n",
       "      <td>TARA_102</td>\n",
       "      <td>-5.2669</td>\n",
       "      <td>-85.2732</td>\n",
       "    </tr>\n",
       "    <tr>\n",
       "      <th>207</th>\n",
       "      <td>108.2</td>\n",
       "      <td>TARA_142</td>\n",
       "      <td>25.6236</td>\n",
       "      <td>-88.4500</td>\n",
       "    </tr>\n",
       "    <tr>\n",
       "      <th>202</th>\n",
       "      <td>138.1</td>\n",
       "      <td>TARA_146</td>\n",
       "      <td>34.6663</td>\n",
       "      <td>-71.2907</td>\n",
       "    </tr>\n",
       "    <tr>\n",
       "      <th>223</th>\n",
       "      <td>138.7</td>\n",
       "      <td>TARA_132</td>\n",
       "      <td>31.5280</td>\n",
       "      <td>-159.0224</td>\n",
       "    </tr>\n",
       "    <tr>\n",
       "      <th>233</th>\n",
       "      <td>143.2</td>\n",
       "      <td>TARA_072</td>\n",
       "      <td>-8.7986</td>\n",
       "      <td>-17.9034</td>\n",
       "    </tr>\n",
       "    <tr>\n",
       "      <th>120</th>\n",
       "      <td>144.6</td>\n",
       "      <td>TARA_110</td>\n",
       "      <td>-1.9002</td>\n",
       "      <td>-84.6265</td>\n",
       "    </tr>\n",
       "    <tr>\n",
       "      <th>204</th>\n",
       "      <td>155.2</td>\n",
       "      <td>TARA_149</td>\n",
       "      <td>34.0771</td>\n",
       "      <td>-49.8233</td>\n",
       "    </tr>\n",
       "    <tr>\n",
       "      <th>212</th>\n",
       "      <td>155.6</td>\n",
       "      <td>TARA_098</td>\n",
       "      <td>-25.8076</td>\n",
       "      <td>-111.6906</td>\n",
       "    </tr>\n",
       "    <tr>\n",
       "      <th>97</th>\n",
       "      <td>160.5</td>\n",
       "      <td>TARA_125</td>\n",
       "      <td>-8.8999</td>\n",
       "      <td>-142.5461</td>\n",
       "    </tr>\n",
       "    <tr>\n",
       "      <th>112</th>\n",
       "      <td>161.3</td>\n",
       "      <td>TARA_123</td>\n",
       "      <td>-8.9109</td>\n",
       "      <td>-140.2845</td>\n",
       "    </tr>\n",
       "    <tr>\n",
       "      <th>236</th>\n",
       "      <td>161.7</td>\n",
       "      <td>TARA_070</td>\n",
       "      <td>-20.4075</td>\n",
       "      <td>-3.1641</td>\n",
       "    </tr>\n",
       "    <tr>\n",
       "      <th>206</th>\n",
       "      <td>175.3</td>\n",
       "      <td>TARA_152</td>\n",
       "      <td>43.7182</td>\n",
       "      <td>-16.8714</td>\n",
       "    </tr>\n",
       "    <tr>\n",
       "      <th>69</th>\n",
       "      <td>175.9</td>\n",
       "      <td>TARA_124</td>\n",
       "      <td>-9.0714</td>\n",
       "      <td>-140.5973</td>\n",
       "    </tr>\n",
       "    <tr>\n",
       "      <th>52</th>\n",
       "      <td>177.0</td>\n",
       "      <td>TARA_128</td>\n",
       "      <td>0.0222</td>\n",
       "      <td>-153.6858</td>\n",
       "    </tr>\n",
       "    <tr>\n",
       "      <th>85</th>\n",
       "      <td>179.9</td>\n",
       "      <td>TARA_122</td>\n",
       "      <td>-9.0063</td>\n",
       "      <td>-139.1394</td>\n",
       "    </tr>\n",
       "    <tr>\n",
       "      <th>53</th>\n",
       "      <td>179.9</td>\n",
       "      <td>TARA_128</td>\n",
       "      <td>0.0003</td>\n",
       "      <td>-153.6759</td>\n",
       "    </tr>\n",
       "    <tr>\n",
       "      <th>65</th>\n",
       "      <td>185.0</td>\n",
       "      <td>TARA_058</td>\n",
       "      <td>-17.2855</td>\n",
       "      <td>42.2866</td>\n",
       "    </tr>\n",
       "    <tr>\n",
       "      <th>40</th>\n",
       "      <td>186.2</td>\n",
       "      <td>TARA_122</td>\n",
       "      <td>-8.9971</td>\n",
       "      <td>-139.1963</td>\n",
       "    </tr>\n",
       "    <tr>\n",
       "      <th>...</th>\n",
       "      <td>...</td>\n",
       "      <td>...</td>\n",
       "      <td>...</td>\n",
       "      <td>...</td>\n",
       "    </tr>\n",
       "    <tr>\n",
       "      <th>225</th>\n",
       "      <td>214.8</td>\n",
       "      <td>TARA_078</td>\n",
       "      <td>-30.1471</td>\n",
       "      <td>-43.2915</td>\n",
       "    </tr>\n",
       "    <tr>\n",
       "      <th>140</th>\n",
       "      <td>215.7</td>\n",
       "      <td>TARA_070</td>\n",
       "      <td>-20.4091</td>\n",
       "      <td>-3.1759</td>\n",
       "    </tr>\n",
       "    <tr>\n",
       "      <th>128</th>\n",
       "      <td>216.8</td>\n",
       "      <td>TARA_100</td>\n",
       "      <td>-12.9723</td>\n",
       "      <td>-96.0122</td>\n",
       "    </tr>\n",
       "    <tr>\n",
       "      <th>144</th>\n",
       "      <td>217.1</td>\n",
       "      <td>TARA_078</td>\n",
       "      <td>-30.1484</td>\n",
       "      <td>-43.2705</td>\n",
       "    </tr>\n",
       "    <tr>\n",
       "      <th>127</th>\n",
       "      <td>219.2</td>\n",
       "      <td>TARA_094</td>\n",
       "      <td>-32.7971</td>\n",
       "      <td>-87.0693</td>\n",
       "    </tr>\n",
       "    <tr>\n",
       "      <th>151</th>\n",
       "      <td>220.2</td>\n",
       "      <td>TARA_149</td>\n",
       "      <td>34.1132</td>\n",
       "      <td>-49.9181</td>\n",
       "    </tr>\n",
       "    <tr>\n",
       "      <th>136</th>\n",
       "      <td>221.5</td>\n",
       "      <td>TARA_078</td>\n",
       "      <td>-30.1367</td>\n",
       "      <td>-43.2899</td>\n",
       "    </tr>\n",
       "    <tr>\n",
       "      <th>146</th>\n",
       "      <td>224.4</td>\n",
       "      <td>TARA_133</td>\n",
       "      <td>35.3671</td>\n",
       "      <td>-127.7422</td>\n",
       "    </tr>\n",
       "    <tr>\n",
       "      <th>181</th>\n",
       "      <td>225.5</td>\n",
       "      <td>TARA_132</td>\n",
       "      <td>31.5168</td>\n",
       "      <td>-159.0460</td>\n",
       "    </tr>\n",
       "    <tr>\n",
       "      <th>193</th>\n",
       "      <td>227.7</td>\n",
       "      <td>TARA_133</td>\n",
       "      <td>35.4002</td>\n",
       "      <td>-127.7499</td>\n",
       "    </tr>\n",
       "    <tr>\n",
       "      <th>161</th>\n",
       "      <td>228.4</td>\n",
       "      <td>TARA_150</td>\n",
       "      <td>35.9346</td>\n",
       "      <td>-37.3032</td>\n",
       "    </tr>\n",
       "    <tr>\n",
       "      <th>173</th>\n",
       "      <td>228.5</td>\n",
       "      <td>TARA_151</td>\n",
       "      <td>36.1811</td>\n",
       "      <td>-28.9373</td>\n",
       "    </tr>\n",
       "    <tr>\n",
       "      <th>159</th>\n",
       "      <td>230.1</td>\n",
       "      <td>TARA_150</td>\n",
       "      <td>35.8427</td>\n",
       "      <td>-37.1526</td>\n",
       "    </tr>\n",
       "    <tr>\n",
       "      <th>228</th>\n",
       "      <td>230.2</td>\n",
       "      <td>TARA_145</td>\n",
       "      <td>39.2392</td>\n",
       "      <td>-70.0343</td>\n",
       "    </tr>\n",
       "    <tr>\n",
       "      <th>171</th>\n",
       "      <td>231.7</td>\n",
       "      <td>TARA_068</td>\n",
       "      <td>-31.0270</td>\n",
       "      <td>4.6802</td>\n",
       "    </tr>\n",
       "    <tr>\n",
       "      <th>167</th>\n",
       "      <td>231.9</td>\n",
       "      <td>TARA_068</td>\n",
       "      <td>-31.0266</td>\n",
       "      <td>4.6650</td>\n",
       "    </tr>\n",
       "    <tr>\n",
       "      <th>163</th>\n",
       "      <td>232.1</td>\n",
       "      <td>TARA_151</td>\n",
       "      <td>36.1715</td>\n",
       "      <td>-29.0230</td>\n",
       "    </tr>\n",
       "    <tr>\n",
       "      <th>192</th>\n",
       "      <td>233.9</td>\n",
       "      <td>TARA_145</td>\n",
       "      <td>39.2305</td>\n",
       "      <td>-70.0377</td>\n",
       "    </tr>\n",
       "    <tr>\n",
       "      <th>174</th>\n",
       "      <td>237.2</td>\n",
       "      <td>TARA_093</td>\n",
       "      <td>-33.9116</td>\n",
       "      <td>-73.0537</td>\n",
       "    </tr>\n",
       "    <tr>\n",
       "      <th>185</th>\n",
       "      <td>238.9</td>\n",
       "      <td>TARA_066</td>\n",
       "      <td>-34.9449</td>\n",
       "      <td>17.9189</td>\n",
       "    </tr>\n",
       "    <tr>\n",
       "      <th>190</th>\n",
       "      <td>239.4</td>\n",
       "      <td>TARA_152</td>\n",
       "      <td>43.7056</td>\n",
       "      <td>-16.8794</td>\n",
       "    </tr>\n",
       "    <tr>\n",
       "      <th>187</th>\n",
       "      <td>240.4</td>\n",
       "      <td>TARA_066</td>\n",
       "      <td>-34.8901</td>\n",
       "      <td>18.0459</td>\n",
       "    </tr>\n",
       "    <tr>\n",
       "      <th>191</th>\n",
       "      <td>243.1</td>\n",
       "      <td>TARA_152</td>\n",
       "      <td>43.6792</td>\n",
       "      <td>-16.8344</td>\n",
       "    </tr>\n",
       "    <tr>\n",
       "      <th>158</th>\n",
       "      <td>244.9</td>\n",
       "      <td>TARA_093</td>\n",
       "      <td>-34.0614</td>\n",
       "      <td>-73.1066</td>\n",
       "    </tr>\n",
       "    <tr>\n",
       "      <th>197</th>\n",
       "      <td>249.4</td>\n",
       "      <td>TARA_067</td>\n",
       "      <td>-32.2401</td>\n",
       "      <td>17.7103</td>\n",
       "    </tr>\n",
       "    <tr>\n",
       "      <th>214</th>\n",
       "      <td>305.0</td>\n",
       "      <td>TARA_082</td>\n",
       "      <td>-47.1863</td>\n",
       "      <td>-58.2902</td>\n",
       "    </tr>\n",
       "    <tr>\n",
       "      <th>222</th>\n",
       "      <td>306.2</td>\n",
       "      <td>TARA_082</td>\n",
       "      <td>-47.2007</td>\n",
       "      <td>-57.9446</td>\n",
       "    </tr>\n",
       "    <tr>\n",
       "      <th>242</th>\n",
       "      <td>325.4</td>\n",
       "      <td>TARA_085</td>\n",
       "      <td>-62.2231</td>\n",
       "      <td>-49.2139</td>\n",
       "    </tr>\n",
       "    <tr>\n",
       "      <th>238</th>\n",
       "      <td>338.3</td>\n",
       "      <td>TARA_084</td>\n",
       "      <td>-60.2287</td>\n",
       "      <td>-60.6476</td>\n",
       "    </tr>\n",
       "    <tr>\n",
       "      <th>239</th>\n",
       "      <td>343.4</td>\n",
       "      <td>TARA_085</td>\n",
       "      <td>-62.0385</td>\n",
       "      <td>-49.5290</td>\n",
       "    </tr>\n",
       "  </tbody>\n",
       "</table>\n",
       "<p>103 rows × 4 columns</p>\n",
       "</div>"
      ],
      "text/plain": [
       "     Mean_Oxygen [umol/kg]* Station identifier [TARA_station#]  \\\n",
       "209                     0.6                           TARA_137   \n",
       "194                     0.7                           TARA_100   \n",
       "211                     0.8                           TARA_138   \n",
       "205                     1.3                           TARA_110   \n",
       "201                     2.5                           TARA_109   \n",
       "203                     3.2                           TARA_111   \n",
       "208                     4.4                           TARA_102   \n",
       "229                     8.6                           TARA_133   \n",
       "217                    38.1                           TARA_122   \n",
       "148                    77.0                           TARA_138   \n",
       "224                    88.2                           TARA_056   \n",
       "152                    95.4                           TARA_137   \n",
       "142                   103.9                           TARA_102   \n",
       "207                   108.2                           TARA_142   \n",
       "202                   138.1                           TARA_146   \n",
       "223                   138.7                           TARA_132   \n",
       "233                   143.2                           TARA_072   \n",
       "120                   144.6                           TARA_110   \n",
       "204                   155.2                           TARA_149   \n",
       "212                   155.6                           TARA_098   \n",
       "97                    160.5                           TARA_125   \n",
       "112                   161.3                           TARA_123   \n",
       "236                   161.7                           TARA_070   \n",
       "206                   175.3                           TARA_152   \n",
       "69                    175.9                           TARA_124   \n",
       "52                    177.0                           TARA_128   \n",
       "85                    179.9                           TARA_122   \n",
       "53                    179.9                           TARA_128   \n",
       "65                    185.0                           TARA_058   \n",
       "40                    186.2                           TARA_122   \n",
       "..                      ...                                ...   \n",
       "225                   214.8                           TARA_078   \n",
       "140                   215.7                           TARA_070   \n",
       "128                   216.8                           TARA_100   \n",
       "144                   217.1                           TARA_078   \n",
       "127                   219.2                           TARA_094   \n",
       "151                   220.2                           TARA_149   \n",
       "136                   221.5                           TARA_078   \n",
       "146                   224.4                           TARA_133   \n",
       "181                   225.5                           TARA_132   \n",
       "193                   227.7                           TARA_133   \n",
       "161                   228.4                           TARA_150   \n",
       "173                   228.5                           TARA_151   \n",
       "159                   230.1                           TARA_150   \n",
       "228                   230.2                           TARA_145   \n",
       "171                   231.7                           TARA_068   \n",
       "167                   231.9                           TARA_068   \n",
       "163                   232.1                           TARA_151   \n",
       "192                   233.9                           TARA_145   \n",
       "174                   237.2                           TARA_093   \n",
       "185                   238.9                           TARA_066   \n",
       "190                   239.4                           TARA_152   \n",
       "187                   240.4                           TARA_066   \n",
       "191                   243.1                           TARA_152   \n",
       "158                   244.9                           TARA_093   \n",
       "197                   249.4                           TARA_067   \n",
       "214                   305.0                           TARA_082   \n",
       "222                   306.2                           TARA_082   \n",
       "242                   325.4                           TARA_085   \n",
       "238                   338.3                           TARA_084   \n",
       "239                   343.4                           TARA_085   \n",
       "\n",
       "     Latitude [degrees North]  Longitude [degrees East]  \n",
       "209                   14.2025                 -116.6433  \n",
       "194                  -12.9794                  -96.0232  \n",
       "211                    6.3559                 -103.0598  \n",
       "205                   -1.8902                  -84.6141  \n",
       "201                    2.0649                  -84.5546  \n",
       "203                  -16.9486                 -100.6715  \n",
       "208                   -5.2610                  -85.1678  \n",
       "229                   35.2698                 -127.7268  \n",
       "217                   -8.9729                 -139.2393  \n",
       "148                    6.3378                 -102.9538  \n",
       "224                  -15.3379                   43.2948  \n",
       "152                   14.2075                 -116.6468  \n",
       "142                   -5.2669                  -85.2732  \n",
       "207                   25.6236                  -88.4500  \n",
       "202                   34.6663                  -71.2907  \n",
       "223                   31.5280                 -159.0224  \n",
       "233                   -8.7986                  -17.9034  \n",
       "120                   -1.9002                  -84.6265  \n",
       "204                   34.0771                  -49.8233  \n",
       "212                  -25.8076                 -111.6906  \n",
       "97                    -8.8999                 -142.5461  \n",
       "112                   -8.9109                 -140.2845  \n",
       "236                  -20.4075                   -3.1641  \n",
       "206                   43.7182                  -16.8714  \n",
       "69                    -9.0714                 -140.5973  \n",
       "52                     0.0222                 -153.6858  \n",
       "85                    -9.0063                 -139.1394  \n",
       "53                     0.0003                 -153.6759  \n",
       "65                   -17.2855                   42.2866  \n",
       "40                    -8.9971                 -139.1963  \n",
       "..                        ...                       ...  \n",
       "225                  -30.1471                  -43.2915  \n",
       "140                  -20.4091                   -3.1759  \n",
       "128                  -12.9723                  -96.0122  \n",
       "144                  -30.1484                  -43.2705  \n",
       "127                  -32.7971                  -87.0693  \n",
       "151                   34.1132                  -49.9181  \n",
       "136                  -30.1367                  -43.2899  \n",
       "146                   35.3671                 -127.7422  \n",
       "181                   31.5168                 -159.0460  \n",
       "193                   35.4002                 -127.7499  \n",
       "161                   35.9346                  -37.3032  \n",
       "173                   36.1811                  -28.9373  \n",
       "159                   35.8427                  -37.1526  \n",
       "228                   39.2392                  -70.0343  \n",
       "171                  -31.0270                    4.6802  \n",
       "167                  -31.0266                    4.6650  \n",
       "163                   36.1715                  -29.0230  \n",
       "192                   39.2305                  -70.0377  \n",
       "174                  -33.9116                  -73.0537  \n",
       "185                  -34.9449                   17.9189  \n",
       "190                   43.7056                  -16.8794  \n",
       "187                  -34.8901                   18.0459  \n",
       "191                   43.6792                  -16.8344  \n",
       "158                  -34.0614                  -73.1066  \n",
       "197                  -32.2401                   17.7103  \n",
       "214                  -47.1863                  -58.2902  \n",
       "222                  -47.2007                  -57.9446  \n",
       "242                  -62.2231                  -49.2139  \n",
       "238                  -60.2287                  -60.6476  \n",
       "239                  -62.0385                  -49.5290  \n",
       "\n",
       "[103 rows x 4 columns]"
      ]
     },
     "execution_count": 405,
     "metadata": {},
     "output_type": "execute_result"
    }
   ],
   "source": [
    "prok[['Mean_Oxygen [umol/kg]*','Station identifier [TARA_station#]','Latitude [degrees North]','Longitude [degrees East]']].sort_values('Mean_Oxygen [umol/kg]*')\n"
   ]
  },
  {
   "cell_type": "code",
   "execution_count": null,
   "metadata": {},
   "outputs": [],
   "source": []
  }
 ],
 "metadata": {
  "kernelspec": {
   "display_name": "Python 3",
   "language": "python",
   "name": "python3"
  },
  "language_info": {
   "codemirror_mode": {
    "name": "ipython",
    "version": 3
   },
   "file_extension": ".py",
   "mimetype": "text/x-python",
   "name": "python",
   "nbconvert_exporter": "python",
   "pygments_lexer": "ipython3",
   "version": "3.7.3"
  },
  "toc": {
   "base_numbering": 1,
   "nav_menu": {},
   "number_sections": true,
   "sideBar": true,
   "skip_h1_title": false,
   "title_cell": "Table of Contents",
   "title_sidebar": "Contents",
   "toc_cell": false,
   "toc_position": {},
   "toc_section_display": true,
   "toc_window_display": false
  }
 },
 "nbformat": 4,
 "nbformat_minor": 2
}
