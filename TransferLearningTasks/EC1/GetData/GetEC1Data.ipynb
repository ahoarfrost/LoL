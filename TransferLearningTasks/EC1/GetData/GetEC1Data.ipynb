{
 "cells": [
  {
   "cell_type": "code",
   "execution_count": 1,
   "metadata": {},
   "outputs": [],
   "source": [
    "import pandas as pd\n",
    "import numpy as np\n",
    "import urllib.parse\n",
    "import urllib.request\n",
    "import certifi\n",
    "import ssl\n",
    "from Bio import SeqIO\n",
    "from pathlib import Path\n",
    "from collections import Counter\n",
    "from Bio.Seq import Seq"
   ]
  },
  {
   "cell_type": "code",
   "execution_count": 2,
   "metadata": {},
   "outputs": [
    {
     "data": {
      "text/html": [
       "<div>\n",
       "<style scoped>\n",
       "    .dataframe tbody tr th:only-of-type {\n",
       "        vertical-align: middle;\n",
       "    }\n",
       "\n",
       "    .dataframe tbody tr th {\n",
       "        vertical-align: top;\n",
       "    }\n",
       "\n",
       "    .dataframe thead th {\n",
       "        text-align: right;\n",
       "    }\n",
       "</style>\n",
       "<table border=\"1\" class=\"dataframe\">\n",
       "  <thead>\n",
       "    <tr style=\"text-align: right;\">\n",
       "      <th></th>\n",
       "      <th>Entry</th>\n",
       "      <th>Entry name</th>\n",
       "      <th>Length</th>\n",
       "      <th>EC number</th>\n",
       "      <th>Cross-reference (Pfam)</th>\n",
       "      <th>Taxonomic lineage (SUPERKINGDOM)</th>\n",
       "    </tr>\n",
       "  </thead>\n",
       "  <tbody>\n",
       "    <tr>\n",
       "      <th>0</th>\n",
       "      <td>Q46G04</td>\n",
       "      <td>ACDA1_METBF</td>\n",
       "      <td>806</td>\n",
       "      <td>1.2.7.4</td>\n",
       "      <td>PF12838;PF03063;</td>\n",
       "      <td>Archaea</td>\n",
       "    </tr>\n",
       "    <tr>\n",
       "      <th>1</th>\n",
       "      <td>O59651</td>\n",
       "      <td>KATG2_HALMA</td>\n",
       "      <td>731</td>\n",
       "      <td>1.11.1.21</td>\n",
       "      <td>PF00141;</td>\n",
       "      <td>Archaea</td>\n",
       "    </tr>\n",
       "    <tr>\n",
       "      <th>2</th>\n",
       "      <td>Q6L047</td>\n",
       "      <td>GLCD2_PICTO</td>\n",
       "      <td>359</td>\n",
       "      <td>1.1.1.360</td>\n",
       "      <td>PF08240;PF16912;</td>\n",
       "      <td>Archaea</td>\n",
       "    </tr>\n",
       "    <tr>\n",
       "      <th>3</th>\n",
       "      <td>P72579</td>\n",
       "      <td>OFOB_SULSP</td>\n",
       "      <td>305</td>\n",
       "      <td>1.2.7.11</td>\n",
       "      <td>PF12367;PF02775;</td>\n",
       "      <td>Archaea</td>\n",
       "    </tr>\n",
       "    <tr>\n",
       "      <th>4</th>\n",
       "      <td>Q96Y68</td>\n",
       "      <td>OFOB1_SULTO</td>\n",
       "      <td>305</td>\n",
       "      <td>1.2.7.11</td>\n",
       "      <td>PF12367;PF02775;</td>\n",
       "      <td>Archaea</td>\n",
       "    </tr>\n",
       "  </tbody>\n",
       "</table>\n",
       "</div>"
      ],
      "text/plain": [
       "    Entry   Entry name  Length  EC number Cross-reference (Pfam)  \\\n",
       "0  Q46G04  ACDA1_METBF     806    1.2.7.4       PF12838;PF03063;   \n",
       "1  O59651  KATG2_HALMA     731  1.11.1.21               PF00141;   \n",
       "2  Q6L047  GLCD2_PICTO     359  1.1.1.360       PF08240;PF16912;   \n",
       "3  P72579   OFOB_SULSP     305   1.2.7.11       PF12367;PF02775;   \n",
       "4  Q96Y68  OFOB1_SULTO     305   1.2.7.11       PF12367;PF02775;   \n",
       "\n",
       "  Taxonomic lineage (SUPERKINGDOM)  \n",
       "0                          Archaea  \n",
       "1                          Archaea  \n",
       "2                          Archaea  \n",
       "3                          Archaea  \n",
       "4                          Archaea  "
      ]
     },
     "execution_count": 2,
     "metadata": {},
     "output_type": "execute_result"
    }
   ],
   "source": [
    "uniprot = pd.read_csv('uniprot_ec1_prok_reviewed.tab',sep='\\t')\n",
    "uniprot.head()"
   ]
  },
  {
   "cell_type": "code",
   "execution_count": 5,
   "metadata": {},
   "outputs": [
    {
     "name": "stdout",
     "output_type": "stream",
     "text": [
      "23653\n",
      "988\n"
     ]
    }
   ],
   "source": [
    "prok_uniprot = uniprot[(uniprot['Taxonomic lineage (SUPERKINGDOM)']=='Archaea') | (uniprot['Taxonomic lineage (SUPERKINGDOM)']=='Bacteria')]\n",
    "print(len(prok_uniprot))\n",
    "print(len(set(prok_uniprot['EC number'])))"
   ]
  },
  {
   "cell_type": "code",
   "execution_count": 94,
   "metadata": {},
   "outputs": [
    {
     "data": {
      "text/plain": [
       "1668"
      ]
     },
     "execution_count": 94,
     "metadata": {},
     "output_type": "execute_result"
    }
   ],
   "source": [
    "#how many oxidoreductases are there\n",
    "len(set(uniprot['EC number']))"
   ]
  },
  {
   "cell_type": "markdown",
   "metadata": {},
   "source": [
    "# link uniprot IDs to EMBL CDS ids"
   ]
  },
  {
   "cell_type": "code",
   "execution_count": 4,
   "metadata": {},
   "outputs": [
    {
     "name": "stdout",
     "output_type": "stream",
     "text": [
      "33901\n",
      "33901\n",
      "1668\n"
     ]
    }
   ],
   "source": [
    "print(len(uniprot))\n",
    "print(len(set(uniprot['Entry'])))\n",
    "print(len(set(uniprot['EC number'])))"
   ]
  },
  {
   "cell_type": "code",
   "execution_count": 6,
   "metadata": {},
   "outputs": [
    {
     "data": {
      "text/plain": [
       "\"\\n#use the uniprot mapper to go from uniprotkb_id to cds id\\n\\nurl = 'https://www.uniprot.org/uploadlists/'\\n    #query uniprot database mapper API, see: https://www.uniprot.org/help/api_idmapping\\n\\nquery = ' '.join(list(set(uniprot['Entry'])))\\nparams = { \\n'from': 'ACC+ID', #uniprot KB id\\n'to': 'EMBL', #EMBL/GenBank/DDBJ CDS\\n'format': 'tab', \\n'query': query\\n} \\n\\ndata = urllib.parse.urlencode(params) \\ndata = data.encode('utf-8') \\nreq = urllib.request.Request(url, data) \\nwith urllib.request.urlopen(req, context=ssl.create_default_context(cafile=certifi.where())) as f: \\n    response = f.read() \\n\""
      ]
     },
     "execution_count": 6,
     "metadata": {},
     "output_type": "execute_result"
    }
   ],
   "source": [
    "#use the uniprot mapper to go from uniprotkb_id to cds id\n",
    "\n",
    "url = 'https://www.uniprot.org/uploadlists/'\n",
    "    #query uniprot database mapper API, see: https://www.uniprot.org/help/api_idmapping\n",
    "\n",
    "query = ' '.join(list(set(uniprot['Entry'])))\n",
    "params = { \n",
    "'from': 'ACC+ID', #uniprot KB id\n",
    "'to': 'EMBL', #EMBL/GenBank/DDBJ CDS\n",
    "'format': 'tab', \n",
    "'query': query\n",
    "} \n",
    "\n",
    "data = urllib.parse.urlencode(params) \n",
    "data = data.encode('utf-8') \n",
    "req = urllib.request.Request(url, data) \n",
    "with urllib.request.urlopen(req, context=ssl.create_default_context(cafile=certifi.where())) as f: \n",
    "    response = f.read() "
   ]
  },
  {
   "cell_type": "code",
   "execution_count": 5,
   "metadata": {},
   "outputs": [],
   "source": [
    "fout = 'ec1_uniprot2cds.tsv'\n",
    "with open(fout,'w') as f:\n",
    "    f.writelines(response.decode('utf-8')) "
   ]
  },
  {
   "cell_type": "code",
   "execution_count": 7,
   "metadata": {},
   "outputs": [
    {
     "name": "stdout",
     "output_type": "stream",
     "text": [
      "53258\n"
     ]
    },
    {
     "data": {
      "text/html": [
       "<div>\n",
       "<style scoped>\n",
       "    .dataframe tbody tr th:only-of-type {\n",
       "        vertical-align: middle;\n",
       "    }\n",
       "\n",
       "    .dataframe tbody tr th {\n",
       "        vertical-align: top;\n",
       "    }\n",
       "\n",
       "    .dataframe thead th {\n",
       "        text-align: right;\n",
       "    }\n",
       "</style>\n",
       "<table border=\"1\" class=\"dataframe\">\n",
       "  <thead>\n",
       "    <tr style=\"text-align: right;\">\n",
       "      <th></th>\n",
       "      <th>Entry</th>\n",
       "      <th>EMBL_CDS_id</th>\n",
       "    </tr>\n",
       "  </thead>\n",
       "  <tbody>\n",
       "    <tr>\n",
       "      <th>0</th>\n",
       "      <td>Q60HE5</td>\n",
       "      <td>BAD51970.1</td>\n",
       "    </tr>\n",
       "    <tr>\n",
       "      <th>1</th>\n",
       "      <td>A0A1D6F9Y9</td>\n",
       "      <td>ONM27923.1</td>\n",
       "    </tr>\n",
       "    <tr>\n",
       "      <th>2</th>\n",
       "      <td>A0A1D6F9Y9</td>\n",
       "      <td>ACF85239.1</td>\n",
       "    </tr>\n",
       "    <tr>\n",
       "      <th>3</th>\n",
       "      <td>A0A1D6F9Y9</td>\n",
       "      <td>ACL53859.1</td>\n",
       "    </tr>\n",
       "    <tr>\n",
       "      <th>4</th>\n",
       "      <td>A0A1D6F9Y9</td>\n",
       "      <td>ACR36247.1</td>\n",
       "    </tr>\n",
       "  </tbody>\n",
       "</table>\n",
       "</div>"
      ],
      "text/plain": [
       "        Entry EMBL_CDS_id\n",
       "0      Q60HE5  BAD51970.1\n",
       "1  A0A1D6F9Y9  ONM27923.1\n",
       "2  A0A1D6F9Y9  ACF85239.1\n",
       "3  A0A1D6F9Y9  ACL53859.1\n",
       "4  A0A1D6F9Y9  ACR36247.1"
      ]
     },
     "execution_count": 7,
     "metadata": {},
     "output_type": "execute_result"
    }
   ],
   "source": [
    "uniprot2cds = pd.read_csv('ec1_uniprot2cds.tsv',sep='\\t')\n",
    "print(len(uniprot2cds))\n",
    "uniprot2cds.columns = ['Entry','EMBL_CDS_id']\n",
    "uniprot2cds.head()"
   ]
  },
  {
   "cell_type": "code",
   "execution_count": 8,
   "metadata": {},
   "outputs": [],
   "source": [
    "merged = uniprot.merge(uniprot2cds,on='Entry')"
   ]
  },
  {
   "cell_type": "code",
   "execution_count": 9,
   "metadata": {},
   "outputs": [
    {
     "name": "stdout",
     "output_type": "stream",
     "text": [
      "53258\n"
     ]
    },
    {
     "data": {
      "text/html": [
       "<div>\n",
       "<style scoped>\n",
       "    .dataframe tbody tr th:only-of-type {\n",
       "        vertical-align: middle;\n",
       "    }\n",
       "\n",
       "    .dataframe tbody tr th {\n",
       "        vertical-align: top;\n",
       "    }\n",
       "\n",
       "    .dataframe thead th {\n",
       "        text-align: right;\n",
       "    }\n",
       "</style>\n",
       "<table border=\"1\" class=\"dataframe\">\n",
       "  <thead>\n",
       "    <tr style=\"text-align: right;\">\n",
       "      <th></th>\n",
       "      <th>Entry</th>\n",
       "      <th>Entry name</th>\n",
       "      <th>Length</th>\n",
       "      <th>EC number</th>\n",
       "      <th>Cross-reference (Pfam)</th>\n",
       "      <th>Taxonomic lineage (SUPERKINGDOM)</th>\n",
       "      <th>EMBL_CDS_id</th>\n",
       "    </tr>\n",
       "  </thead>\n",
       "  <tbody>\n",
       "    <tr>\n",
       "      <th>0</th>\n",
       "      <td>Q46G04</td>\n",
       "      <td>ACDA1_METBF</td>\n",
       "      <td>806</td>\n",
       "      <td>1.2.7.4</td>\n",
       "      <td>PF12838;PF03063;</td>\n",
       "      <td>Archaea</td>\n",
       "      <td>AAZ69188.1</td>\n",
       "    </tr>\n",
       "    <tr>\n",
       "      <th>1</th>\n",
       "      <td>O59651</td>\n",
       "      <td>KATG2_HALMA</td>\n",
       "      <td>731</td>\n",
       "      <td>1.11.1.21</td>\n",
       "      <td>PF00141;</td>\n",
       "      <td>Archaea</td>\n",
       "      <td>CAA76423.1</td>\n",
       "    </tr>\n",
       "    <tr>\n",
       "      <th>2</th>\n",
       "      <td>O59651</td>\n",
       "      <td>KATG2_HALMA</td>\n",
       "      <td>731</td>\n",
       "      <td>1.11.1.21</td>\n",
       "      <td>PF00141;</td>\n",
       "      <td>Archaea</td>\n",
       "      <td>AAV46121.1</td>\n",
       "    </tr>\n",
       "    <tr>\n",
       "      <th>3</th>\n",
       "      <td>Q6L047</td>\n",
       "      <td>GLCD2_PICTO</td>\n",
       "      <td>359</td>\n",
       "      <td>1.1.1.360</td>\n",
       "      <td>PF08240;PF16912;</td>\n",
       "      <td>Archaea</td>\n",
       "      <td>AAT43655.1</td>\n",
       "    </tr>\n",
       "    <tr>\n",
       "      <th>4</th>\n",
       "      <td>P72579</td>\n",
       "      <td>OFOB_SULSP</td>\n",
       "      <td>305</td>\n",
       "      <td>1.2.7.11</td>\n",
       "      <td>PF12367;PF02775;</td>\n",
       "      <td>Archaea</td>\n",
       "      <td>BAA10899.1</td>\n",
       "    </tr>\n",
       "  </tbody>\n",
       "</table>\n",
       "</div>"
      ],
      "text/plain": [
       "    Entry   Entry name  Length  EC number Cross-reference (Pfam)  \\\n",
       "0  Q46G04  ACDA1_METBF     806    1.2.7.4       PF12838;PF03063;   \n",
       "1  O59651  KATG2_HALMA     731  1.11.1.21               PF00141;   \n",
       "2  O59651  KATG2_HALMA     731  1.11.1.21               PF00141;   \n",
       "3  Q6L047  GLCD2_PICTO     359  1.1.1.360       PF08240;PF16912;   \n",
       "4  P72579   OFOB_SULSP     305   1.2.7.11       PF12367;PF02775;   \n",
       "\n",
       "  Taxonomic lineage (SUPERKINGDOM) EMBL_CDS_id  \n",
       "0                          Archaea  AAZ69188.1  \n",
       "1                          Archaea  CAA76423.1  \n",
       "2                          Archaea  AAV46121.1  \n",
       "3                          Archaea  AAT43655.1  \n",
       "4                          Archaea  BAA10899.1  "
      ]
     },
     "execution_count": 9,
     "metadata": {},
     "output_type": "execute_result"
    }
   ],
   "source": [
    "print(len(merged))\n",
    "merged.head()"
   ]
  },
  {
   "cell_type": "code",
   "execution_count": 16,
   "metadata": {},
   "outputs": [
    {
     "data": {
      "text/plain": [
       "Counter({'Archaea': 1408,\n",
       "         'Eukaryota': 24935,\n",
       "         'Bacteria': 26741,\n",
       "         'Viruses': 174})"
      ]
     },
     "execution_count": 16,
     "metadata": {},
     "output_type": "execute_result"
    }
   ],
   "source": [
    "Counter(merged['Taxonomic lineage (SUPERKINGDOM)'])"
   ]
  },
  {
   "cell_type": "markdown",
   "metadata": {},
   "source": [
    "## link uniprot ids to uniref50 ids"
   ]
  },
  {
   "cell_type": "code",
   "execution_count": 10,
   "metadata": {},
   "outputs": [],
   "source": [
    "import urllib.parse\n",
    "import urllib.request\n",
    "\n",
    "url = 'https://www.uniprot.org/uploadlists/'\n",
    "query = ' '.join(list(set(merged['Entry'])))\n",
    "\n",
    "params = {\n",
    "'from': 'ACC+ID',\n",
    "'to': 'NF50',\n",
    "'format': 'tab',\n",
    "'query': query\n",
    "}\n",
    "\n",
    "data = urllib.parse.urlencode(params) \n",
    "data = data.encode('utf-8') \n",
    "req = urllib.request.Request(url, data) \n",
    "with urllib.request.urlopen(req, context=ssl.create_default_context(cafile=certifi.where())) as f: \n",
    "    response = f.read() "
   ]
  },
  {
   "cell_type": "code",
   "execution_count": 11,
   "metadata": {},
   "outputs": [],
   "source": [
    "fout = 'ec1_uniprot2uniref50.tsv'\n",
    "with open(fout,'w') as f:\n",
    "    f.writelines(response.decode('utf-8')) "
   ]
  },
  {
   "cell_type": "markdown",
   "metadata": {},
   "source": [
    "# split into train/valid/test set\n",
    "\n",
    "split so each ec number goes in either train, valid, or test; but not overlapping (see GH data gathering for example)\n",
    "\n",
    "OR\n",
    "\n",
    "split so each uniref50 cluster goes in either train, valid, or test; but not overlapping"
   ]
  },
  {
   "cell_type": "code",
   "execution_count": 15,
   "metadata": {},
   "outputs": [
    {
     "name": "stdout",
     "output_type": "stream",
     "text": [
      "33386\n"
     ]
    },
    {
     "data": {
      "text/html": [
       "<div>\n",
       "<style scoped>\n",
       "    .dataframe tbody tr th:only-of-type {\n",
       "        vertical-align: middle;\n",
       "    }\n",
       "\n",
       "    .dataframe tbody tr th {\n",
       "        vertical-align: top;\n",
       "    }\n",
       "\n",
       "    .dataframe thead th {\n",
       "        text-align: right;\n",
       "    }\n",
       "</style>\n",
       "<table border=\"1\" class=\"dataframe\">\n",
       "  <thead>\n",
       "    <tr style=\"text-align: right;\">\n",
       "      <th></th>\n",
       "      <th>Entry</th>\n",
       "      <th>uniref50id</th>\n",
       "    </tr>\n",
       "  </thead>\n",
       "  <tbody>\n",
       "    <tr>\n",
       "      <th>0</th>\n",
       "      <td>P9WKD5</td>\n",
       "      <td>UniRef50_Q9CCE3</td>\n",
       "    </tr>\n",
       "    <tr>\n",
       "      <th>1</th>\n",
       "      <td>Q6FFZ7</td>\n",
       "      <td>UniRef50_C9QZ64</td>\n",
       "    </tr>\n",
       "    <tr>\n",
       "      <th>2</th>\n",
       "      <td>B2UX78</td>\n",
       "      <td>UniRef50_A0PXA4</td>\n",
       "    </tr>\n",
       "    <tr>\n",
       "      <th>3</th>\n",
       "      <td>Q3SV33</td>\n",
       "      <td>UniRef50_B8EKI5</td>\n",
       "    </tr>\n",
       "    <tr>\n",
       "      <th>4</th>\n",
       "      <td>B1M4X4</td>\n",
       "      <td>UniRef50_B1M4X4</td>\n",
       "    </tr>\n",
       "  </tbody>\n",
       "</table>\n",
       "</div>"
      ],
      "text/plain": [
       "    Entry       uniref50id\n",
       "0  P9WKD5  UniRef50_Q9CCE3\n",
       "1  Q6FFZ7  UniRef50_C9QZ64\n",
       "2  B2UX78  UniRef50_A0PXA4\n",
       "3  Q3SV33  UniRef50_B8EKI5\n",
       "4  B1M4X4  UniRef50_B1M4X4"
      ]
     },
     "execution_count": 15,
     "metadata": {},
     "output_type": "execute_result"
    }
   ],
   "source": [
    "clusters = pd.read_csv('ec1_uniprot2uniref50.tsv',sep='\\t')\n",
    "clusters.columns = ['Entry','uniref50id']\n",
    "print(len(clusters))\n",
    "clusters.head()"
   ]
  },
  {
   "cell_type": "code",
   "execution_count": 17,
   "metadata": {},
   "outputs": [
    {
     "name": "stdout",
     "output_type": "stream",
     "text": [
      "10127\n"
     ]
    }
   ],
   "source": [
    "print(len(set(clusters['uniref50id'])))"
   ]
  },
  {
   "cell_type": "code",
   "execution_count": 38,
   "metadata": {},
   "outputs": [],
   "source": [
    "ecmerged = clusters.merge(merged[['Entry','EC number','Taxonomic lineage (SUPERKINGDOM)', 'EMBL_CDS_id']])"
   ]
  },
  {
   "cell_type": "code",
   "execution_count": 39,
   "metadata": {},
   "outputs": [
    {
     "name": "stdout",
     "output_type": "stream",
     "text": [
      "53258\n",
      "53258\n",
      "10127\n",
      "33386\n",
      "1646\n",
      "Counter({'Bacteria': 26741, 'Eukaryota': 24935, 'Archaea': 1408, 'Viruses': 174})\n",
      "28149\n"
     ]
    }
   ],
   "source": [
    "print(len(ecmerged))\n",
    "print(len(ecmerged.dropna()))\n",
    "print(len(set(ecmerged['uniref50id'])))\n",
    "print(len(set(ecmerged['Entry'])))\n",
    "print(len(set(ecmerged['EC number'])))\n",
    "print(Counter(ecmerged['Taxonomic lineage (SUPERKINGDOM)']))\n",
    "print(len(ecmerged[(ecmerged['Taxonomic lineage (SUPERKINGDOM)']=='Bacteria') | (ecmerged['Taxonomic lineage (SUPERKINGDOM)']=='Archaea')]))\n"
   ]
  },
  {
   "cell_type": "code",
   "execution_count": 40,
   "metadata": {},
   "outputs": [
    {
     "name": "stdout",
     "output_type": "stream",
     "text": [
      "28149\n",
      "28149\n",
      "5451\n",
      "23497\n",
      "972\n",
      "Counter({'Bacteria': 26741, 'Archaea': 1408})\n"
     ]
    }
   ],
   "source": [
    "ecmerged = ecmerged[(ecmerged['Taxonomic lineage (SUPERKINGDOM)']=='Bacteria') | (ecmerged['Taxonomic lineage (SUPERKINGDOM)']=='Archaea')]\n",
    "print(len(ecmerged))\n",
    "print(len(ecmerged.dropna()))\n",
    "print(len(set(ecmerged['uniref50id'])))\n",
    "print(len(set(ecmerged['Entry'])))\n",
    "print(len(set(ecmerged['EC number'])))\n",
    "print(Counter(ecmerged['Taxonomic lineage (SUPERKINGDOM)']))\n"
   ]
  },
  {
   "cell_type": "code",
   "execution_count": 41,
   "metadata": {},
   "outputs": [
    {
     "data": {
      "text/html": [
       "<div>\n",
       "<style scoped>\n",
       "    .dataframe tbody tr th:only-of-type {\n",
       "        vertical-align: middle;\n",
       "    }\n",
       "\n",
       "    .dataframe tbody tr th {\n",
       "        vertical-align: top;\n",
       "    }\n",
       "\n",
       "    .dataframe thead th {\n",
       "        text-align: right;\n",
       "    }\n",
       "</style>\n",
       "<table border=\"1\" class=\"dataframe\">\n",
       "  <thead>\n",
       "    <tr style=\"text-align: right;\">\n",
       "      <th></th>\n",
       "      <th>Entry</th>\n",
       "      <th>uniref50id</th>\n",
       "      <th>EC number</th>\n",
       "      <th>Taxonomic lineage (SUPERKINGDOM)</th>\n",
       "      <th>EMBL_CDS_id</th>\n",
       "    </tr>\n",
       "  </thead>\n",
       "  <tbody>\n",
       "    <tr>\n",
       "      <th>0</th>\n",
       "      <td>P9WKD5</td>\n",
       "      <td>UniRef50_Q9CCE3</td>\n",
       "      <td>1.10.3.-</td>\n",
       "      <td>Bacteria</td>\n",
       "      <td>CCP44925.1</td>\n",
       "    </tr>\n",
       "    <tr>\n",
       "      <th>1</th>\n",
       "      <td>Q6FFZ7</td>\n",
       "      <td>UniRef50_C9QZ64</td>\n",
       "      <td>1.14.99.46</td>\n",
       "      <td>Bacteria</td>\n",
       "      <td>CAG67010.1</td>\n",
       "    </tr>\n",
       "    <tr>\n",
       "      <th>2</th>\n",
       "      <td>B2UX78</td>\n",
       "      <td>UniRef50_A0PXA4</td>\n",
       "      <td>1.2.1.41</td>\n",
       "      <td>Bacteria</td>\n",
       "      <td>ACD53888.1</td>\n",
       "    </tr>\n",
       "    <tr>\n",
       "      <th>3</th>\n",
       "      <td>Q3SV33</td>\n",
       "      <td>UniRef50_B8EKI5</td>\n",
       "      <td>1.8.1.2</td>\n",
       "      <td>Bacteria</td>\n",
       "      <td>ABA03858.1</td>\n",
       "    </tr>\n",
       "    <tr>\n",
       "      <th>4</th>\n",
       "      <td>B1M4X4</td>\n",
       "      <td>UniRef50_B1M4X4</td>\n",
       "      <td>1.7.1.17</td>\n",
       "      <td>Bacteria</td>\n",
       "      <td>ACB26435.1</td>\n",
       "    </tr>\n",
       "  </tbody>\n",
       "</table>\n",
       "</div>"
      ],
      "text/plain": [
       "    Entry       uniref50id   EC number Taxonomic lineage (SUPERKINGDOM)  \\\n",
       "0  P9WKD5  UniRef50_Q9CCE3    1.10.3.-                         Bacteria   \n",
       "1  Q6FFZ7  UniRef50_C9QZ64  1.14.99.46                         Bacteria   \n",
       "2  B2UX78  UniRef50_A0PXA4    1.2.1.41                         Bacteria   \n",
       "3  Q3SV33  UniRef50_B8EKI5     1.8.1.2                         Bacteria   \n",
       "4  B1M4X4  UniRef50_B1M4X4    1.7.1.17                         Bacteria   \n",
       "\n",
       "  EMBL_CDS_id  \n",
       "0  CCP44925.1  \n",
       "1  CAG67010.1  \n",
       "2  ACD53888.1  \n",
       "3  ABA03858.1  \n",
       "4  ACB26435.1  "
      ]
     },
     "execution_count": 41,
     "metadata": {},
     "output_type": "execute_result"
    }
   ],
   "source": [
    "ecmerged.head()"
   ]
  },
  {
   "cell_type": "code",
   "execution_count": 73,
   "metadata": {},
   "outputs": [
    {
     "data": {
      "text/html": [
       "<div>\n",
       "<style scoped>\n",
       "    .dataframe tbody tr th:only-of-type {\n",
       "        vertical-align: middle;\n",
       "    }\n",
       "\n",
       "    .dataframe tbody tr th {\n",
       "        vertical-align: top;\n",
       "    }\n",
       "\n",
       "    .dataframe thead th {\n",
       "        text-align: right;\n",
       "    }\n",
       "</style>\n",
       "<table border=\"1\" class=\"dataframe\">\n",
       "  <thead>\n",
       "    <tr style=\"text-align: right;\">\n",
       "      <th></th>\n",
       "      <th>Entry</th>\n",
       "      <th>uniref50id</th>\n",
       "      <th>EC number</th>\n",
       "      <th>Taxonomic lineage (SUPERKINGDOM)</th>\n",
       "      <th>EMBL_CDS_id</th>\n",
       "    </tr>\n",
       "  </thead>\n",
       "  <tbody>\n",
       "    <tr>\n",
       "      <th>0</th>\n",
       "      <td>P9WKD5</td>\n",
       "      <td>UniRef50_Q9CCE3</td>\n",
       "      <td>1.10.3.-</td>\n",
       "      <td>Bacteria</td>\n",
       "      <td>CCP44925.1</td>\n",
       "    </tr>\n",
       "    <tr>\n",
       "      <th>1</th>\n",
       "      <td>Q6FFZ7</td>\n",
       "      <td>UniRef50_C9QZ64</td>\n",
       "      <td>1.14.99.46</td>\n",
       "      <td>Bacteria</td>\n",
       "      <td>CAG67010.1</td>\n",
       "    </tr>\n",
       "    <tr>\n",
       "      <th>2</th>\n",
       "      <td>B2UX78</td>\n",
       "      <td>UniRef50_A0PXA4</td>\n",
       "      <td>1.2.1.41</td>\n",
       "      <td>Bacteria</td>\n",
       "      <td>ACD53888.1</td>\n",
       "    </tr>\n",
       "    <tr>\n",
       "      <th>3</th>\n",
       "      <td>Q3SV33</td>\n",
       "      <td>UniRef50_B8EKI5</td>\n",
       "      <td>1.8.1.2</td>\n",
       "      <td>Bacteria</td>\n",
       "      <td>ABA03858.1</td>\n",
       "    </tr>\n",
       "    <tr>\n",
       "      <th>4</th>\n",
       "      <td>B1M4X4</td>\n",
       "      <td>UniRef50_B1M4X4</td>\n",
       "      <td>1.7.1.17</td>\n",
       "      <td>Bacteria</td>\n",
       "      <td>ACB26435.1</td>\n",
       "    </tr>\n",
       "  </tbody>\n",
       "</table>\n",
       "</div>"
      ],
      "text/plain": [
       "    Entry       uniref50id   EC number Taxonomic lineage (SUPERKINGDOM)  \\\n",
       "0  P9WKD5  UniRef50_Q9CCE3    1.10.3.-                         Bacteria   \n",
       "1  Q6FFZ7  UniRef50_C9QZ64  1.14.99.46                         Bacteria   \n",
       "2  B2UX78  UniRef50_A0PXA4    1.2.1.41                         Bacteria   \n",
       "3  Q3SV33  UniRef50_B8EKI5     1.8.1.2                         Bacteria   \n",
       "4  B1M4X4  UniRef50_B1M4X4    1.7.1.17                         Bacteria   \n",
       "\n",
       "  EMBL_CDS_id  \n",
       "0  CCP44925.1  \n",
       "1  CAG67010.1  \n",
       "2  ACD53888.1  \n",
       "3  ABA03858.1  \n",
       "4  ACB26435.1  "
      ]
     },
     "execution_count": 73,
     "metadata": {},
     "output_type": "execute_result"
    }
   ],
   "source": [
    "ecmerged.to_csv('EC1_merged2cds2uniref.csv',index=False)\n",
    "ecmerged = pd.read_csv('EC1_merged2cds2uniref.csv')\n",
    "ecmerged.head()"
   ]
  },
  {
   "cell_type": "code",
   "execution_count": 42,
   "metadata": {},
   "outputs": [
    {
     "name": "stdout",
     "output_type": "stream",
     "text": [
      "Counter({'UniRef50_P9WQP6': 2})\n",
      "        Entry       uniref50id           EC number  \\\n",
      "22595  P9WQP6  UniRef50_P9WQP6  1.1.1.145; 5.3.3.1   \n",
      "27471  P9WQP7  UniRef50_P9WQP6  1.1.1.145; 5.3.3.1   \n",
      "\n",
      "      Taxonomic lineage (SUPERKINGDOM) EMBL_CDS_id  \n",
      "22595                         Bacteria  AAK45394.1  \n",
      "27471                         Bacteria  CCP43859.1  \n",
      "Counter({'UniRef50_Q51698': 1, 'UniRef50_Q51697': 1})\n",
      "        Entry       uniref50id  EC number Taxonomic lineage (SUPERKINGDOM)  \\\n",
      "70     Q51698  UniRef50_Q51698  1.3.99.16                         Bacteria   \n",
      "36966  Q51697  UniRef50_Q51697  1.3.99.16                         Bacteria   \n",
      "\n",
      "      EMBL_CDS_id  \n",
      "70     CAA88754.1  \n",
      "36966  CAA88753.1  \n",
      "Counter({'UniRef50_P43127': 4, 'UniRef50_Q9HUX5': 2, 'UniRef50_P0A394': 2, 'UniRef50_O85012': 2, 'UniRef50_P94680': 2, 'UniRef50_Q8CKU7': 2, 'UniRef50_Q92ZM6': 1, 'UniRef50_Q9L6L9': 1})\n",
      "            Entry       uniref50id EC number Taxonomic lineage (SUPERKINGDOM)  \\\n",
      "2272       Q9HUX5  UniRef50_Q9HUX5   1.5.1.-                         Bacteria   \n",
      "8474       Q04554  UniRef50_P0A394   1.5.1.-                         Bacteria   \n",
      "8475       Q04554  UniRef50_P0A394   1.5.1.-                         Bacteria   \n",
      "16013      Q92ZM6  UniRef50_Q92ZM6   1.5.1.-                         Bacteria   \n",
      "20318      O85012  UniRef50_O85012   1.5.1.-                         Bacteria   \n",
      "20319      O85012  UniRef50_O85012   1.5.1.-                         Bacteria   \n",
      "23615      P43128  UniRef50_P43127   1.5.1.-                         Bacteria   \n",
      "27900      Q9AHG2  UniRef50_P94680   1.5.1.-                         Bacteria   \n",
      "38444      P43126  UniRef50_P43127   1.5.1.-                         Bacteria   \n",
      "39043      Q8CKU7  UniRef50_Q8CKU7   1.5.1.-                         Bacteria   \n",
      "39044      Q8CKU7  UniRef50_Q8CKU7   1.5.1.-                         Bacteria   \n",
      "46658  A0A0H2ZH12  UniRef50_Q9HUX5   1.5.1.-                         Bacteria   \n",
      "47972      P94680  UniRef50_P94680   1.5.1.-                         Bacteria   \n",
      "51531      P43127  UniRef50_P43127   1.5.1.-                         Bacteria   \n",
      "51532      P43127  UniRef50_P43127   1.5.1.-                         Bacteria   \n",
      "51813      P43129  UniRef50_Q9L6L9   1.5.1.-                         Bacteria   \n",
      "\n",
      "      EMBL_CDS_id  \n",
      "2272   AAG08220.1  \n",
      "8474   AAA25044.1  \n",
      "8475   ACM39698.1  \n",
      "16013  AAK65087.2  \n",
      "20318  AAC27020.1  \n",
      "20319  ACS39604.1  \n",
      "23615  BAA04599.1  \n",
      "27900  AAK37997.1  \n",
      "38444  BAA04596.1  \n",
      "39043  AAM86386.1  \n",
      "39044  AAS61492.1  \n",
      "46658  ABJ14219.1  \n",
      "47972  AAC44805.1  \n",
      "51531  BAA03505.1  \n",
      "51532  BAA04598.1  \n",
      "51813  BAA04597.1  \n",
      "Counter({'UniRef50_P0A9S2': 8})\n",
      "        Entry       uniref50id EC number Taxonomic lineage (SUPERKINGDOM)  \\\n",
      "20911  P0A9S1  UniRef50_P0A9S2  1.1.1.77                         Bacteria   \n",
      "20912  P0A9S1  UniRef50_P0A9S2  1.1.1.77                         Bacteria   \n",
      "20913  P0A9S1  UniRef50_P0A9S2  1.1.1.77                         Bacteria   \n",
      "20914  P0A9S1  UniRef50_P0A9S2  1.1.1.77                         Bacteria   \n",
      "20915  P0A9S1  UniRef50_P0A9S2  1.1.1.77                         Bacteria   \n",
      "20916  P0A9S1  UniRef50_P0A9S2  1.1.1.77                         Bacteria   \n",
      "37095  P0A9S2  UniRef50_P0A9S2  1.1.1.77                         Bacteria   \n",
      "37096  P0A9S2  UniRef50_P0A9S2  1.1.1.77                         Bacteria   \n",
      "\n",
      "      EMBL_CDS_id  \n",
      "20911  AAA23824.1  \n",
      "20912  CAA33124.1  \n",
      "20913  AAA23825.1  \n",
      "20914  AAB40449.1  \n",
      "20915  AAC75841.2  \n",
      "20916  BAE76871.1  \n",
      "37095  AAG57913.1  \n",
      "37096  BAB37082.1  \n",
      "Counter({'UniRef50_P26179': 10, 'UniRef50_P26177': 5, 'UniRef50_P26178': 5})\n",
      "        Entry       uniref50id EC number Taxonomic lineage (SUPERKINGDOM)  \\\n",
      "9330   Q9JPB9  UniRef50_P26179  1.3.7.15                         Bacteria   \n",
      "9331   Q9JPB9  UniRef50_P26179  1.3.7.15                         Bacteria   \n",
      "12873  Q3J1A0  UniRef50_P26179  1.3.7.15                         Bacteria   \n",
      "12874  Q3J1A0  UniRef50_P26179  1.3.7.15                         Bacteria   \n",
      "12875  Q3J1A0  UniRef50_P26179  1.3.7.15                         Bacteria   \n",
      "22217  P26177  UniRef50_P26177  1.3.7.15                         Bacteria   \n",
      "22218  P26177  UniRef50_P26177  1.3.7.15                         Bacteria   \n",
      "29049  Q02432  UniRef50_P26178  1.3.7.15                         Bacteria   \n",
      "29050  Q02432  UniRef50_P26178  1.3.7.15                         Bacteria   \n",
      "29051  Q02432  UniRef50_P26178  1.3.7.15                         Bacteria   \n",
      "31624  P26179  UniRef50_P26179  1.3.7.15                         Bacteria   \n",
      "31625  P26179  UniRef50_P26179  1.3.7.15                         Bacteria   \n",
      "34835  P26178  UniRef50_P26178  1.3.7.15                         Bacteria   \n",
      "34836  P26178  UniRef50_P26178  1.3.7.15                         Bacteria   \n",
      "37377  Q9KWI8  UniRef50_P26179  1.3.7.15                         Bacteria   \n",
      "46128  P26277  UniRef50_P26179  1.3.7.15                         Bacteria   \n",
      "46129  P26277  UniRef50_P26179  1.3.7.15                         Bacteria   \n",
      "47070  Q02431  UniRef50_P26177  1.3.7.15                         Bacteria   \n",
      "47071  Q02431  UniRef50_P26177  1.3.7.15                         Bacteria   \n",
      "47072  Q02431  UniRef50_P26177  1.3.7.15                         Bacteria   \n",
      "\n",
      "      EMBL_CDS_id  \n",
      "9330   BAA94037.1  \n",
      "9331   BAL96707.1  \n",
      "12873  CAB38749.1  \n",
      "12874  AAF24299.1  \n",
      "12875  ABA79434.1  \n",
      "22217  CAA77548.1  \n",
      "22218  ADE84452.1  \n",
      "29049  CAB38748.1  \n",
      "29050  AAF24298.1  \n",
      "29051  ABA79435.1  \n",
      "31624  CAA77550.1  \n",
      "31625  ADE84454.1  \n",
      "34835  CAA77549.1  \n",
      "34836  ADE84453.1  \n",
      "37377  BAA96512.1  \n",
      "46128  ABG29844.1  \n",
      "46129  CAA40816.1  \n",
      "47070  CAB38747.1  \n",
      "47071  AAF24297.1  \n",
      "47072  ABA79436.1  \n"
     ]
    }
   ],
   "source": [
    "for ec in list(set(ecmerged['EC number']))[0:5]:\n",
    "    subset = ecmerged[ecmerged['EC number']==ec]\n",
    "    print(Counter(subset['uniref50id']))\n",
    "    print(subset)\n",
    "#it's the case that same ec often has multiple uniref clusters"
   ]
  },
  {
   "cell_type": "code",
   "execution_count": 43,
   "metadata": {},
   "outputs": [],
   "source": [
    "def get_split_df(df,column_to_split,val_pct,test_pct):\n",
    "    valid_target_length = int(len(df)*val_pct)\n",
    "    test_target_length = int(len(df)*test_pct)\n",
    "    print('ideally, there will be 10% in valid set of both nrows and number of cats:',valid_target_length,int(len(set(df[column_to_split]))*val_pct))\n",
    "    print('ideally, there will be 5% in test set of both nrows and number of cats:',test_target_length,int(len(set(df[column_to_split]))*test_pct))\n",
    "    \n",
    "    train = pd.DataFrame()\n",
    "    valid = pd.DataFrame()\n",
    "    test = pd.DataFrame()\n",
    "\n",
    "    for cat in set(df[column_to_split]):\n",
    "        subset = df[df[column_to_split]==cat]\n",
    "        if len(test)<test_target_length:\n",
    "            test = test.append(subset)\n",
    "        elif len(valid)<valid_target_length:\n",
    "            valid = valid.append(subset)\n",
    "        else:\n",
    "            train = train.append(subset)\n",
    "            \n",
    "    print('length original df:',len(df),'; number cats:',len(set(df[column_to_split])))\n",
    "    print('length train:',len(train),'; number cats:',len(set(train[column_to_split])))\n",
    "    print('length valid:',len(valid),'; number cats:',len(set(valid[column_to_split])))\n",
    "    print('length test:',len(test),'; number cats:',len(set(test[column_to_split])))\n",
    "    \n",
    "    \n",
    "    return train,valid,test"
   ]
  },
  {
   "cell_type": "code",
   "execution_count": 44,
   "metadata": {},
   "outputs": [
    {
     "name": "stdout",
     "output_type": "stream",
     "text": [
      "ideally, there will be 10% in valid set of both nrows and number of cats: 2814 545\n",
      "ideally, there will be 5% in test set of both nrows and number of cats: 1407 272\n",
      "length original df: 28149 ; number cats: 5451\n",
      "length train: 23924 ; number cats: 4642\n",
      "length valid: 2815 ; number cats: 557\n",
      "length test: 1410 ; number cats: 252\n"
     ]
    }
   ],
   "source": [
    "ec1_train,ec1_valid,ec1_test = get_split_df(ecmerged,'uniref50id',0.1,0.05)"
   ]
  },
  {
   "cell_type": "code",
   "execution_count": 45,
   "metadata": {},
   "outputs": [
    {
     "data": {
      "text/html": [
       "<div>\n",
       "<style scoped>\n",
       "    .dataframe tbody tr th:only-of-type {\n",
       "        vertical-align: middle;\n",
       "    }\n",
       "\n",
       "    .dataframe tbody tr th {\n",
       "        vertical-align: top;\n",
       "    }\n",
       "\n",
       "    .dataframe thead th {\n",
       "        text-align: right;\n",
       "    }\n",
       "</style>\n",
       "<table border=\"1\" class=\"dataframe\">\n",
       "  <thead>\n",
       "    <tr style=\"text-align: right;\">\n",
       "      <th></th>\n",
       "      <th>Entry</th>\n",
       "      <th>uniref50id</th>\n",
       "      <th>EC number</th>\n",
       "      <th>Taxonomic lineage (SUPERKINGDOM)</th>\n",
       "      <th>EMBL_CDS_id</th>\n",
       "    </tr>\n",
       "  </thead>\n",
       "  <tbody>\n",
       "    <tr>\n",
       "      <th>27460</th>\n",
       "      <td>O05616</td>\n",
       "      <td>UniRef50_O05616</td>\n",
       "      <td>1.14.13.82</td>\n",
       "      <td>Bacteria</td>\n",
       "      <td>CAA72287.1</td>\n",
       "    </tr>\n",
       "    <tr>\n",
       "      <th>40904</th>\n",
       "      <td>P12609</td>\n",
       "      <td>UniRef50_O05616</td>\n",
       "      <td>1.14.13.82</td>\n",
       "      <td>Bacteria</td>\n",
       "      <td>AAA26019.1</td>\n",
       "    </tr>\n",
       "    <tr>\n",
       "      <th>40956</th>\n",
       "      <td>Q8GAZ4</td>\n",
       "      <td>UniRef50_Q8GAZ4</td>\n",
       "      <td>1.14.12.17</td>\n",
       "      <td>Bacteria</td>\n",
       "      <td>BAC16771.1</td>\n",
       "    </tr>\n",
       "    <tr>\n",
       "      <th>15330</th>\n",
       "      <td>Q8P3K4</td>\n",
       "      <td>UniRef50_Q561X9</td>\n",
       "      <td>1.1.1.-</td>\n",
       "      <td>Bacteria</td>\n",
       "      <td>AAM43288.1</td>\n",
       "    </tr>\n",
       "    <tr>\n",
       "      <th>2464</th>\n",
       "      <td>A0R665</td>\n",
       "      <td>UniRef50_Q7TVI2</td>\n",
       "      <td>1.14.13.-</td>\n",
       "      <td>Bacteria</td>\n",
       "      <td>ABK75948.1</td>\n",
       "    </tr>\n",
       "  </tbody>\n",
       "</table>\n",
       "</div>"
      ],
      "text/plain": [
       "        Entry       uniref50id   EC number Taxonomic lineage (SUPERKINGDOM)  \\\n",
       "27460  O05616  UniRef50_O05616  1.14.13.82                         Bacteria   \n",
       "40904  P12609  UniRef50_O05616  1.14.13.82                         Bacteria   \n",
       "40956  Q8GAZ4  UniRef50_Q8GAZ4  1.14.12.17                         Bacteria   \n",
       "15330  Q8P3K4  UniRef50_Q561X9     1.1.1.-                         Bacteria   \n",
       "2464   A0R665  UniRef50_Q7TVI2   1.14.13.-                         Bacteria   \n",
       "\n",
       "      EMBL_CDS_id  \n",
       "27460  CAA72287.1  \n",
       "40904  AAA26019.1  \n",
       "40956  BAC16771.1  \n",
       "15330  AAM43288.1  \n",
       "2464   ABK75948.1  "
      ]
     },
     "execution_count": 45,
     "metadata": {},
     "output_type": "execute_result"
    }
   ],
   "source": [
    "ec1_train.head()"
   ]
  },
  {
   "cell_type": "code",
   "execution_count": 46,
   "metadata": {},
   "outputs": [],
   "source": [
    "def get_seqs(ids,fout):\n",
    "    #need do it in chunks of 500\n",
    "    starts = list(np.arange(0,len(ids),500))\n",
    "    stops = list(np.arange(500,len(ids),500))+[len(ids)]\n",
    "    root = 'https://www.ebi.ac.uk/ena/browser/api/fasta/'\n",
    "    \n",
    "    for ix in range(0,len(starts)):\n",
    "        url = root+','.join(ids[starts[ix]:stops[ix]])\n",
    "        response = urllib.request.urlopen(url, context=ssl.create_default_context(cafile=certifi.where())).read().decode('utf-8')\n",
    "        with open(fout,'a') as f:\n",
    "            f.writelines(response)"
   ]
  },
  {
   "cell_type": "code",
   "execution_count": 47,
   "metadata": {},
   "outputs": [
    {
     "name": "stdout",
     "output_type": "stream",
     "text": [
      "getting valid set ec1 label\n",
      "getting test set ec1 label\n",
      "getting train set ec1 label\n"
     ]
    }
   ],
   "source": [
    "print('getting valid set ec1 label')\n",
    "get_seqs(list(ec1_valid['EMBL_CDS_id']),fout='ec1_valid.fasta')\n",
    "\n",
    "print('getting test set ec1 label')\n",
    "get_seqs(list(ec1_test['EMBL_CDS_id']),fout='ec1_test.fasta')\n",
    "\n",
    "print('getting train set ec1 label')\n",
    "get_seqs(list(ec1_train['EMBL_CDS_id']),fout='ec1_train.fasta')"
   ]
  },
  {
   "cell_type": "markdown",
   "metadata": {
    "heading_collapsed": true
   },
   "source": [
    "## repeat train/valid/test split for non-ec1s"
   ]
  },
  {
   "cell_type": "code",
   "execution_count": 48,
   "metadata": {
    "hidden": true
   },
   "outputs": [
    {
     "name": "stdout",
     "output_type": "stream",
     "text": [
      "562253\n",
      "268373\n"
     ]
    },
    {
     "data": {
      "text/html": [
       "<div>\n",
       "<style scoped>\n",
       "    .dataframe tbody tr th:only-of-type {\n",
       "        vertical-align: middle;\n",
       "    }\n",
       "\n",
       "    .dataframe tbody tr th {\n",
       "        vertical-align: top;\n",
       "    }\n",
       "\n",
       "    .dataframe thead th {\n",
       "        text-align: right;\n",
       "    }\n",
       "</style>\n",
       "<table border=\"1\" class=\"dataframe\">\n",
       "  <thead>\n",
       "    <tr style=\"text-align: right;\">\n",
       "      <th></th>\n",
       "      <th>Entry</th>\n",
       "      <th>Entry name</th>\n",
       "      <th>Length</th>\n",
       "      <th>EC number</th>\n",
       "      <th>Cross-reference (Pfam)</th>\n",
       "      <th>Taxonomic lineage (SUPERKINGDOM)</th>\n",
       "      <th>Cross-reference (CAZy)</th>\n",
       "    </tr>\n",
       "  </thead>\n",
       "  <tbody>\n",
       "    <tr>\n",
       "      <th>0</th>\n",
       "      <td>Q4R8P0</td>\n",
       "      <td>ABHGA_MACFA</td>\n",
       "      <td>558</td>\n",
       "      <td>3.1.-.-; 3.1.1.23</td>\n",
       "      <td>PF00561;</td>\n",
       "      <td>Eukaryota</td>\n",
       "      <td>NaN</td>\n",
       "    </tr>\n",
       "    <tr>\n",
       "      <th>1</th>\n",
       "      <td>P03949</td>\n",
       "      <td>ABL1_CAEEL</td>\n",
       "      <td>1224</td>\n",
       "      <td>2.7.10.2</td>\n",
       "      <td>PF08919;PF07714;PF00017;PF00018;</td>\n",
       "      <td>Eukaryota</td>\n",
       "      <td>NaN</td>\n",
       "    </tr>\n",
       "    <tr>\n",
       "      <th>3</th>\n",
       "      <td>P31937</td>\n",
       "      <td>3HIDH_HUMAN</td>\n",
       "      <td>336</td>\n",
       "      <td>1.1.1.31</td>\n",
       "      <td>PF14833;PF03446;</td>\n",
       "      <td>Eukaryota</td>\n",
       "      <td>NaN</td>\n",
       "    </tr>\n",
       "    <tr>\n",
       "      <th>4</th>\n",
       "      <td>Q9FFR3</td>\n",
       "      <td>6PGD3_ARATH</td>\n",
       "      <td>487</td>\n",
       "      <td>1.1.1.44</td>\n",
       "      <td>PF00393;PF03446;</td>\n",
       "      <td>Eukaryota</td>\n",
       "      <td>NaN</td>\n",
       "    </tr>\n",
       "    <tr>\n",
       "      <th>7</th>\n",
       "      <td>Q61503</td>\n",
       "      <td>5NTD_MOUSE</td>\n",
       "      <td>576</td>\n",
       "      <td>3.1.3.5</td>\n",
       "      <td>PF02872;PF00149;</td>\n",
       "      <td>Eukaryota</td>\n",
       "      <td>NaN</td>\n",
       "    </tr>\n",
       "  </tbody>\n",
       "</table>\n",
       "</div>"
      ],
      "text/plain": [
       "    Entry   Entry name  Length          EC number  \\\n",
       "0  Q4R8P0  ABHGA_MACFA     558  3.1.-.-; 3.1.1.23   \n",
       "1  P03949   ABL1_CAEEL    1224           2.7.10.2   \n",
       "3  P31937  3HIDH_HUMAN     336           1.1.1.31   \n",
       "4  Q9FFR3  6PGD3_ARATH     487           1.1.1.44   \n",
       "7  Q61503   5NTD_MOUSE     576            3.1.3.5   \n",
       "\n",
       "             Cross-reference (Pfam) Taxonomic lineage (SUPERKINGDOM)  \\\n",
       "0                          PF00561;                        Eukaryota   \n",
       "1  PF08919;PF07714;PF00017;PF00018;                        Eukaryota   \n",
       "3                  PF14833;PF03446;                        Eukaryota   \n",
       "4                  PF00393;PF03446;                        Eukaryota   \n",
       "7                  PF02872;PF00149;                        Eukaryota   \n",
       "\n",
       "  Cross-reference (CAZy)  \n",
       "0                    NaN  \n",
       "1                    NaN  \n",
       "3                    NaN  \n",
       "4                    NaN  \n",
       "7                    NaN  "
      ]
     },
     "execution_count": 48,
     "metadata": {},
     "output_type": "execute_result"
    }
   ],
   "source": [
    "swissprot = pd.read_csv('../uniprot_reviewed.tab',sep='\\t')\n",
    "print(len(swissprot))\n",
    "swissprot = swissprot.dropna(subset=['EC number'])\n",
    "print(len(swissprot))\n",
    "swissprot.head()"
   ]
  },
  {
   "cell_type": "code",
   "execution_count": 59,
   "metadata": {
    "hidden": true
   },
   "outputs": [
    {
     "name": "stdout",
     "output_type": "stream",
     "text": [
      "235301\n",
      "4501\n"
     ]
    }
   ],
   "source": [
    "nonec1 = swissprot[~swissprot['EC number'].str.startswith('1.')]\n",
    "print(len(nonec1))\n",
    "print(len(set(nonec1['EC number'])))"
   ]
  },
  {
   "cell_type": "code",
   "execution_count": 64,
   "metadata": {
    "hidden": true
   },
   "outputs": [
    {
     "name": "stdout",
     "output_type": "stream",
     "text": [
      "28149\n",
      "28149\n",
      "2235\n"
     ]
    },
    {
     "data": {
      "text/html": [
       "<div>\n",
       "<style scoped>\n",
       "    .dataframe tbody tr th:only-of-type {\n",
       "        vertical-align: middle;\n",
       "    }\n",
       "\n",
       "    .dataframe tbody tr th {\n",
       "        vertical-align: top;\n",
       "    }\n",
       "\n",
       "    .dataframe thead th {\n",
       "        text-align: right;\n",
       "    }\n",
       "</style>\n",
       "<table border=\"1\" class=\"dataframe\">\n",
       "  <thead>\n",
       "    <tr style=\"text-align: right;\">\n",
       "      <th></th>\n",
       "      <th>Entry</th>\n",
       "      <th>Entry name</th>\n",
       "      <th>Length</th>\n",
       "      <th>EC number</th>\n",
       "      <th>Cross-reference (Pfam)</th>\n",
       "      <th>Taxonomic lineage (SUPERKINGDOM)</th>\n",
       "      <th>Cross-reference (CAZy)</th>\n",
       "    </tr>\n",
       "  </thead>\n",
       "  <tbody>\n",
       "    <tr>\n",
       "      <th>319471</th>\n",
       "      <td>B0XMZ5</td>\n",
       "      <td>LCL3_ASPFC</td>\n",
       "      <td>296</td>\n",
       "      <td>3.1.-.-</td>\n",
       "      <td>PF00565;</td>\n",
       "      <td>Eukaryota</td>\n",
       "      <td>NaN</td>\n",
       "    </tr>\n",
       "    <tr>\n",
       "      <th>133083</th>\n",
       "      <td>Q64UB9</td>\n",
       "      <td>PANB_BACFR</td>\n",
       "      <td>273</td>\n",
       "      <td>2.1.2.11</td>\n",
       "      <td>PF02548;</td>\n",
       "      <td>Bacteria</td>\n",
       "      <td>NaN</td>\n",
       "    </tr>\n",
       "    <tr>\n",
       "      <th>236587</th>\n",
       "      <td>B8I164</td>\n",
       "      <td>METAA_RUMCH</td>\n",
       "      <td>306</td>\n",
       "      <td>2.3.1.31</td>\n",
       "      <td>PF04204;</td>\n",
       "      <td>Bacteria</td>\n",
       "      <td>NaN</td>\n",
       "    </tr>\n",
       "    <tr>\n",
       "      <th>311727</th>\n",
       "      <td>Q3SEU8</td>\n",
       "      <td>HIS6_THIDA</td>\n",
       "      <td>251</td>\n",
       "      <td>4.3.2.10</td>\n",
       "      <td>PF00977;</td>\n",
       "      <td>Bacteria</td>\n",
       "      <td>NaN</td>\n",
       "    </tr>\n",
       "    <tr>\n",
       "      <th>292790</th>\n",
       "      <td>B2UVE0</td>\n",
       "      <td>FABZ_HELPS</td>\n",
       "      <td>159</td>\n",
       "      <td>4.2.1.59</td>\n",
       "      <td>PF07977;</td>\n",
       "      <td>Bacteria</td>\n",
       "      <td>NaN</td>\n",
       "    </tr>\n",
       "  </tbody>\n",
       "</table>\n",
       "</div>"
      ],
      "text/plain": [
       "         Entry   Entry name  Length EC number Cross-reference (Pfam)  \\\n",
       "319471  B0XMZ5   LCL3_ASPFC     296   3.1.-.-               PF00565;   \n",
       "133083  Q64UB9   PANB_BACFR     273  2.1.2.11               PF02548;   \n",
       "236587  B8I164  METAA_RUMCH     306  2.3.1.31               PF04204;   \n",
       "311727  Q3SEU8   HIS6_THIDA     251  4.3.2.10               PF00977;   \n",
       "292790  B2UVE0   FABZ_HELPS     159  4.2.1.59               PF07977;   \n",
       "\n",
       "       Taxonomic lineage (SUPERKINGDOM) Cross-reference (CAZy)  \n",
       "319471                        Eukaryota                    NaN  \n",
       "133083                         Bacteria                    NaN  \n",
       "236587                         Bacteria                    NaN  \n",
       "311727                         Bacteria                    NaN  \n",
       "292790                         Bacteria                    NaN  "
      ]
     },
     "execution_count": 64,
     "metadata": {},
     "output_type": "execute_result"
    }
   ],
   "source": [
    "#take random subset with equal number cds ids\n",
    "nonec1 = nonec1.sample(len(ecmerged))\n",
    "print(len(ecmerged))\n",
    "print(len(nonec1))\n",
    "print(len(set(nonec1['EC number'])))\n",
    "nonec1.head()"
   ]
  },
  {
   "cell_type": "code",
   "execution_count": 65,
   "metadata": {
    "hidden": true
   },
   "outputs": [],
   "source": [
    "#link to cds\n",
    "#use the uniprot mapper to go from uniprotkb_id to cds id\n",
    "\n",
    "url = 'https://www.uniprot.org/uploadlists/'\n",
    "    #query uniprot database mapper API, see: https://www.uniprot.org/help/api_idmapping\n",
    "\n",
    "query = ' '.join(list(set(nonec1['Entry'])))\n",
    "params = { \n",
    "'from': 'ACC+ID', #uniprot KB id\n",
    "'to': 'EMBL', #EMBL/GenBank/DDBJ CDS\n",
    "'format': 'tab', \n",
    "'query': query\n",
    "} \n",
    "\n",
    "data = urllib.parse.urlencode(params) \n",
    "data = data.encode('utf-8') \n",
    "req = urllib.request.Request(url, data) \n",
    "with urllib.request.urlopen(req, context=ssl.create_default_context(cafile=certifi.where())) as f: \n",
    "    response = f.read() "
   ]
  },
  {
   "cell_type": "code",
   "execution_count": 66,
   "metadata": {
    "hidden": true
   },
   "outputs": [],
   "source": [
    "fout = 'nonec1_uniprot2cds.tsv'\n",
    "with open(fout,'w') as f:\n",
    "    f.writelines(response.decode('utf-8')) "
   ]
  },
  {
   "cell_type": "code",
   "execution_count": 67,
   "metadata": {
    "hidden": true
   },
   "outputs": [],
   "source": [
    "#merge with original df\n",
    "nonec1cds = pd.read_csv('nonec1_uniprot2cds.tsv',sep='\\t')\n",
    "nonec1cds.columns = ['Entry','EMBL_CDS_id']\n",
    "nonec1merged = nonec1.merge(nonec1cds,on='Entry')"
   ]
  },
  {
   "cell_type": "code",
   "execution_count": 69,
   "metadata": {
    "hidden": true
   },
   "outputs": [
    {
     "name": "stdout",
     "output_type": "stream",
     "text": [
      "40427\n"
     ]
    },
    {
     "data": {
      "text/html": [
       "<div>\n",
       "<style scoped>\n",
       "    .dataframe tbody tr th:only-of-type {\n",
       "        vertical-align: middle;\n",
       "    }\n",
       "\n",
       "    .dataframe tbody tr th {\n",
       "        vertical-align: top;\n",
       "    }\n",
       "\n",
       "    .dataframe thead th {\n",
       "        text-align: right;\n",
       "    }\n",
       "</style>\n",
       "<table border=\"1\" class=\"dataframe\">\n",
       "  <thead>\n",
       "    <tr style=\"text-align: right;\">\n",
       "      <th></th>\n",
       "      <th>Entry</th>\n",
       "      <th>Entry name</th>\n",
       "      <th>Length</th>\n",
       "      <th>EC number</th>\n",
       "      <th>Cross-reference (Pfam)</th>\n",
       "      <th>Taxonomic lineage (SUPERKINGDOM)</th>\n",
       "      <th>Cross-reference (CAZy)</th>\n",
       "      <th>EMBL_CDS_id</th>\n",
       "    </tr>\n",
       "  </thead>\n",
       "  <tbody>\n",
       "    <tr>\n",
       "      <th>0</th>\n",
       "      <td>B0XMZ5</td>\n",
       "      <td>LCL3_ASPFC</td>\n",
       "      <td>296</td>\n",
       "      <td>3.1.-.-</td>\n",
       "      <td>PF00565;</td>\n",
       "      <td>Eukaryota</td>\n",
       "      <td>NaN</td>\n",
       "      <td>EDP55687.1</td>\n",
       "    </tr>\n",
       "    <tr>\n",
       "      <th>1</th>\n",
       "      <td>Q64UB9</td>\n",
       "      <td>PANB_BACFR</td>\n",
       "      <td>273</td>\n",
       "      <td>2.1.2.11</td>\n",
       "      <td>PF02548;</td>\n",
       "      <td>Bacteria</td>\n",
       "      <td>NaN</td>\n",
       "      <td>BAD48910.1</td>\n",
       "    </tr>\n",
       "    <tr>\n",
       "      <th>2</th>\n",
       "      <td>B8I164</td>\n",
       "      <td>METAA_RUMCH</td>\n",
       "      <td>306</td>\n",
       "      <td>2.3.1.31</td>\n",
       "      <td>PF04204;</td>\n",
       "      <td>Bacteria</td>\n",
       "      <td>NaN</td>\n",
       "      <td>ACL77620.1</td>\n",
       "    </tr>\n",
       "    <tr>\n",
       "      <th>3</th>\n",
       "      <td>Q3SEU8</td>\n",
       "      <td>HIS6_THIDA</td>\n",
       "      <td>251</td>\n",
       "      <td>4.3.2.10</td>\n",
       "      <td>PF00977;</td>\n",
       "      <td>Bacteria</td>\n",
       "      <td>NaN</td>\n",
       "      <td>AAZ97661.1</td>\n",
       "    </tr>\n",
       "    <tr>\n",
       "      <th>4</th>\n",
       "      <td>B2UVE0</td>\n",
       "      <td>FABZ_HELPS</td>\n",
       "      <td>159</td>\n",
       "      <td>4.2.1.59</td>\n",
       "      <td>PF07977;</td>\n",
       "      <td>Bacteria</td>\n",
       "      <td>NaN</td>\n",
       "      <td>ACD48822.1</td>\n",
       "    </tr>\n",
       "  </tbody>\n",
       "</table>\n",
       "</div>"
      ],
      "text/plain": [
       "    Entry   Entry name  Length EC number Cross-reference (Pfam)  \\\n",
       "0  B0XMZ5   LCL3_ASPFC     296   3.1.-.-               PF00565;   \n",
       "1  Q64UB9   PANB_BACFR     273  2.1.2.11               PF02548;   \n",
       "2  B8I164  METAA_RUMCH     306  2.3.1.31               PF04204;   \n",
       "3  Q3SEU8   HIS6_THIDA     251  4.3.2.10               PF00977;   \n",
       "4  B2UVE0   FABZ_HELPS     159  4.2.1.59               PF07977;   \n",
       "\n",
       "  Taxonomic lineage (SUPERKINGDOM) Cross-reference (CAZy) EMBL_CDS_id  \n",
       "0                        Eukaryota                    NaN  EDP55687.1  \n",
       "1                         Bacteria                    NaN  BAD48910.1  \n",
       "2                         Bacteria                    NaN  ACL77620.1  \n",
       "3                         Bacteria                    NaN  AAZ97661.1  \n",
       "4                         Bacteria                    NaN  ACD48822.1  "
      ]
     },
     "execution_count": 69,
     "metadata": {},
     "output_type": "execute_result"
    }
   ],
   "source": [
    "print(len(nonec1merged))\n",
    "nonec1merged.head()"
   ]
  },
  {
   "cell_type": "code",
   "execution_count": 70,
   "metadata": {
    "hidden": true
   },
   "outputs": [],
   "source": [
    "#link with uniref50\n",
    "import urllib.parse\n",
    "import urllib.request\n",
    "\n",
    "url = 'https://www.uniprot.org/uploadlists/'\n",
    "query = ' '.join(list(set(nonec1merged['Entry'])))\n",
    "\n",
    "params = {\n",
    "'from': 'ACC+ID',\n",
    "'to': 'NF50',\n",
    "'format': 'tab',\n",
    "'query': query\n",
    "}\n",
    "\n",
    "data = urllib.parse.urlencode(params) \n",
    "data = data.encode('utf-8') \n",
    "req = urllib.request.Request(url, data) \n",
    "with urllib.request.urlopen(req, context=ssl.create_default_context(cafile=certifi.where())) as f: \n",
    "    response = f.read() "
   ]
  },
  {
   "cell_type": "code",
   "execution_count": 71,
   "metadata": {
    "hidden": true
   },
   "outputs": [],
   "source": [
    "fout = 'nonec1_uniprot2uniref50.tsv'\n",
    "with open(fout,'w') as f:\n",
    "    f.writelines(response.decode('utf-8')) "
   ]
  },
  {
   "cell_type": "code",
   "execution_count": 74,
   "metadata": {
    "hidden": true
   },
   "outputs": [
    {
     "name": "stdout",
     "output_type": "stream",
     "text": [
      "27864\n"
     ]
    },
    {
     "data": {
      "text/html": [
       "<div>\n",
       "<style scoped>\n",
       "    .dataframe tbody tr th:only-of-type {\n",
       "        vertical-align: middle;\n",
       "    }\n",
       "\n",
       "    .dataframe tbody tr th {\n",
       "        vertical-align: top;\n",
       "    }\n",
       "\n",
       "    .dataframe thead th {\n",
       "        text-align: right;\n",
       "    }\n",
       "</style>\n",
       "<table border=\"1\" class=\"dataframe\">\n",
       "  <thead>\n",
       "    <tr style=\"text-align: right;\">\n",
       "      <th></th>\n",
       "      <th>Entry</th>\n",
       "      <th>uniref50id</th>\n",
       "    </tr>\n",
       "  </thead>\n",
       "  <tbody>\n",
       "    <tr>\n",
       "      <th>0</th>\n",
       "      <td>Q5AQL1</td>\n",
       "      <td>UniRef50_P40825</td>\n",
       "    </tr>\n",
       "    <tr>\n",
       "      <th>1</th>\n",
       "      <td>A1S4U5</td>\n",
       "      <td>UniRef50_Q8ECL7</td>\n",
       "    </tr>\n",
       "    <tr>\n",
       "      <th>2</th>\n",
       "      <td>A7ZAL8</td>\n",
       "      <td>UniRef50_Q45601</td>\n",
       "    </tr>\n",
       "    <tr>\n",
       "      <th>3</th>\n",
       "      <td>A3KFX0</td>\n",
       "      <td>UniRef50_Q9BXI3</td>\n",
       "    </tr>\n",
       "    <tr>\n",
       "      <th>4</th>\n",
       "      <td>A9WV65</td>\n",
       "      <td>UniRef50_Q4JXF0</td>\n",
       "    </tr>\n",
       "  </tbody>\n",
       "</table>\n",
       "</div>"
      ],
      "text/plain": [
       "    Entry       uniref50id\n",
       "0  Q5AQL1  UniRef50_P40825\n",
       "1  A1S4U5  UniRef50_Q8ECL7\n",
       "2  A7ZAL8  UniRef50_Q45601\n",
       "3  A3KFX0  UniRef50_Q9BXI3\n",
       "4  A9WV65  UniRef50_Q4JXF0"
      ]
     },
     "execution_count": 74,
     "metadata": {},
     "output_type": "execute_result"
    }
   ],
   "source": [
    "nonec1clusters = pd.read_csv('nonec1_uniprot2uniref50.tsv',sep='\\t')\n",
    "nonec1clusters.columns = ['Entry','uniref50id']\n",
    "print(len(nonec1clusters))\n",
    "nonec1clusters.head()"
   ]
  },
  {
   "cell_type": "code",
   "execution_count": 79,
   "metadata": {
    "hidden": true
   },
   "outputs": [
    {
     "name": "stdout",
     "output_type": "stream",
     "text": [
      "40427\n",
      "16218\n",
      "5451\n",
      "28149\n",
      "13248\n"
     ]
    },
    {
     "data": {
      "text/html": [
       "<div>\n",
       "<style scoped>\n",
       "    .dataframe tbody tr th:only-of-type {\n",
       "        vertical-align: middle;\n",
       "    }\n",
       "\n",
       "    .dataframe tbody tr th {\n",
       "        vertical-align: top;\n",
       "    }\n",
       "\n",
       "    .dataframe thead th {\n",
       "        text-align: right;\n",
       "    }\n",
       "</style>\n",
       "<table border=\"1\" class=\"dataframe\">\n",
       "  <thead>\n",
       "    <tr style=\"text-align: right;\">\n",
       "      <th></th>\n",
       "      <th>Entry</th>\n",
       "      <th>uniref50id</th>\n",
       "      <th>EC number</th>\n",
       "      <th>Taxonomic lineage (SUPERKINGDOM)</th>\n",
       "      <th>EMBL_CDS_id</th>\n",
       "    </tr>\n",
       "  </thead>\n",
       "  <tbody>\n",
       "    <tr>\n",
       "      <th>1105</th>\n",
       "      <td>P19938</td>\n",
       "      <td>UniRef50_P19938</td>\n",
       "      <td>2.6.1.21</td>\n",
       "      <td>Bacteria</td>\n",
       "      <td>AAA22252.1</td>\n",
       "    </tr>\n",
       "    <tr>\n",
       "      <th>24850</th>\n",
       "      <td>Q82EU4</td>\n",
       "      <td>UniRef50_Q82EU4</td>\n",
       "      <td>2.5.1.16</td>\n",
       "      <td>Bacteria</td>\n",
       "      <td>BAC72231.1</td>\n",
       "    </tr>\n",
       "    <tr>\n",
       "      <th>10253</th>\n",
       "      <td>Q7VE17</td>\n",
       "      <td>UniRef50_P27724</td>\n",
       "      <td>7.1.1.-</td>\n",
       "      <td>Bacteria</td>\n",
       "      <td>AAP99243.1</td>\n",
       "    </tr>\n",
       "    <tr>\n",
       "      <th>30582</th>\n",
       "      <td>P0C7K7</td>\n",
       "      <td>UniRef50_Q4ZUD2</td>\n",
       "      <td>3.5.1.5</td>\n",
       "      <td>Bacteria</td>\n",
       "      <td>AAD28136.2</td>\n",
       "    </tr>\n",
       "    <tr>\n",
       "      <th>35493</th>\n",
       "      <td>B7LZZ6</td>\n",
       "      <td>UniRef50_Q65V59</td>\n",
       "      <td>5.3.1.12</td>\n",
       "      <td>Bacteria</td>\n",
       "      <td>CAR00052.1</td>\n",
       "    </tr>\n",
       "  </tbody>\n",
       "</table>\n",
       "</div>"
      ],
      "text/plain": [
       "        Entry       uniref50id EC number Taxonomic lineage (SUPERKINGDOM)  \\\n",
       "1105   P19938  UniRef50_P19938  2.6.1.21                         Bacteria   \n",
       "24850  Q82EU4  UniRef50_Q82EU4  2.5.1.16                         Bacteria   \n",
       "10253  Q7VE17  UniRef50_P27724   7.1.1.-                         Bacteria   \n",
       "30582  P0C7K7  UniRef50_Q4ZUD2   3.5.1.5                         Bacteria   \n",
       "35493  B7LZZ6  UniRef50_Q65V59  5.3.1.12                         Bacteria   \n",
       "\n",
       "      EMBL_CDS_id  \n",
       "1105   AAA22252.1  \n",
       "24850  BAC72231.1  \n",
       "10253  AAP99243.1  \n",
       "30582  AAD28136.2  \n",
       "35493  CAR00052.1  "
      ]
     },
     "execution_count": 79,
     "metadata": {},
     "output_type": "execute_result"
    }
   ],
   "source": [
    "nonecmerged = nonec1clusters.merge(nonec1merged[['Entry','EC number','Taxonomic lineage (SUPERKINGDOM)', 'EMBL_CDS_id']])\n",
    "print(len(nonecmerged))\n",
    "print(len(set(nonecmerged['uniref50id'])))\n",
    "print(len(set(ecmerged['uniref50id'])))\n",
    "nonecmerged = nonecmerged.sample(len(ecmerged))\n",
    "print(len(nonecmerged))\n",
    "print(len(set(nonecmerged['uniref50id'])))\n",
    "nonecmerged.head()"
   ]
  },
  {
   "cell_type": "code",
   "execution_count": 80,
   "metadata": {
    "hidden": true
   },
   "outputs": [
    {
     "data": {
      "text/html": [
       "<div>\n",
       "<style scoped>\n",
       "    .dataframe tbody tr th:only-of-type {\n",
       "        vertical-align: middle;\n",
       "    }\n",
       "\n",
       "    .dataframe tbody tr th {\n",
       "        vertical-align: top;\n",
       "    }\n",
       "\n",
       "    .dataframe thead th {\n",
       "        text-align: right;\n",
       "    }\n",
       "</style>\n",
       "<table border=\"1\" class=\"dataframe\">\n",
       "  <thead>\n",
       "    <tr style=\"text-align: right;\">\n",
       "      <th></th>\n",
       "      <th>Entry</th>\n",
       "      <th>uniref50id</th>\n",
       "      <th>EC number</th>\n",
       "      <th>Taxonomic lineage (SUPERKINGDOM)</th>\n",
       "      <th>EMBL_CDS_id</th>\n",
       "    </tr>\n",
       "  </thead>\n",
       "  <tbody>\n",
       "    <tr>\n",
       "      <th>0</th>\n",
       "      <td>P19938</td>\n",
       "      <td>UniRef50_P19938</td>\n",
       "      <td>2.6.1.21</td>\n",
       "      <td>Bacteria</td>\n",
       "      <td>AAA22252.1</td>\n",
       "    </tr>\n",
       "    <tr>\n",
       "      <th>1</th>\n",
       "      <td>Q82EU4</td>\n",
       "      <td>UniRef50_Q82EU4</td>\n",
       "      <td>2.5.1.16</td>\n",
       "      <td>Bacteria</td>\n",
       "      <td>BAC72231.1</td>\n",
       "    </tr>\n",
       "    <tr>\n",
       "      <th>2</th>\n",
       "      <td>Q7VE17</td>\n",
       "      <td>UniRef50_P27724</td>\n",
       "      <td>7.1.1.-</td>\n",
       "      <td>Bacteria</td>\n",
       "      <td>AAP99243.1</td>\n",
       "    </tr>\n",
       "    <tr>\n",
       "      <th>3</th>\n",
       "      <td>P0C7K7</td>\n",
       "      <td>UniRef50_Q4ZUD2</td>\n",
       "      <td>3.5.1.5</td>\n",
       "      <td>Bacteria</td>\n",
       "      <td>AAD28136.2</td>\n",
       "    </tr>\n",
       "    <tr>\n",
       "      <th>4</th>\n",
       "      <td>B7LZZ6</td>\n",
       "      <td>UniRef50_Q65V59</td>\n",
       "      <td>5.3.1.12</td>\n",
       "      <td>Bacteria</td>\n",
       "      <td>CAR00052.1</td>\n",
       "    </tr>\n",
       "  </tbody>\n",
       "</table>\n",
       "</div>"
      ],
      "text/plain": [
       "    Entry       uniref50id EC number Taxonomic lineage (SUPERKINGDOM)  \\\n",
       "0  P19938  UniRef50_P19938  2.6.1.21                         Bacteria   \n",
       "1  Q82EU4  UniRef50_Q82EU4  2.5.1.16                         Bacteria   \n",
       "2  Q7VE17  UniRef50_P27724   7.1.1.-                         Bacteria   \n",
       "3  P0C7K7  UniRef50_Q4ZUD2   3.5.1.5                         Bacteria   \n",
       "4  B7LZZ6  UniRef50_Q65V59  5.3.1.12                         Bacteria   \n",
       "\n",
       "  EMBL_CDS_id  \n",
       "0  AAA22252.1  \n",
       "1  BAC72231.1  \n",
       "2  AAP99243.1  \n",
       "3  AAD28136.2  \n",
       "4  CAR00052.1  "
      ]
     },
     "execution_count": 80,
     "metadata": {},
     "output_type": "execute_result"
    }
   ],
   "source": [
    "nonecmerged.to_csv('nonEC1_merged2cds2uniref.csv',index=False)\n",
    "nonecmerged = pd.read_csv('nonEC1_merged2cds2uniref.csv')\n",
    "nonecmerged.head()"
   ]
  },
  {
   "cell_type": "code",
   "execution_count": 81,
   "metadata": {
    "hidden": true
   },
   "outputs": [
    {
     "name": "stdout",
     "output_type": "stream",
     "text": [
      "ideally, there will be 10% in valid set of both nrows and number of cats: 2814 1324\n",
      "ideally, there will be 5% in test set of both nrows and number of cats: 1407 662\n",
      "length original df: 28149 ; number cats: 13248\n",
      "length train: 23915 ; number cats: 11192\n",
      "length valid: 2817 ; number cats: 1377\n",
      "length test: 1417 ; number cats: 679\n"
     ]
    }
   ],
   "source": [
    "#split\n",
    "nonec1_train,nonec1_valid,nonec1_test = get_split_df(nonecmerged,'uniref50id',0.1,0.05)"
   ]
  },
  {
   "cell_type": "code",
   "execution_count": 83,
   "metadata": {
    "hidden": true
   },
   "outputs": [
    {
     "name": "stdout",
     "output_type": "stream",
     "text": [
      "getting valid set nonec1 label\n",
      "getting test set nonec1 label\n",
      "getting train set nonec1 label\n"
     ]
    }
   ],
   "source": [
    "#get seqs\n",
    "print('getting valid set nonec1 label')\n",
    "get_seqs(list(nonec1_valid['EMBL_CDS_id']),fout='nonec1_valid.fasta')\n",
    "\n",
    "print('getting test set nonec1 label')\n",
    "get_seqs(list(nonec1_test['EMBL_CDS_id']),fout='nonec1_test.fasta')\n",
    "\n",
    "print('getting train set nonec1 label')\n",
    "get_seqs(list(nonec1_train['EMBL_CDS_id']),fout='nonec1_train.fasta')"
   ]
  },
  {
   "cell_type": "markdown",
   "metadata": {},
   "source": [
    "# get clean csv"
   ]
  },
  {
   "cell_type": "code",
   "execution_count": 84,
   "metadata": {},
   "outputs": [],
   "source": [
    "def generate_chunked_reads(seq, distrib, num_reads):\n",
    "    chunked_seqs = []\n",
    "    for read in range(0,num_reads):\n",
    "        #pick random start position, don't let it start farther than 60nt from end so all the reads are at least that long\n",
    "        start = np.random.choice(range(0,len(seq)-60))\n",
    "        if start < 0:\n",
    "            start=0\n",
    "        seqlen = int(np.random.choice(distrib))\n",
    "        end = start+seqlen\n",
    "        sequence = seq[start:end]\n",
    "        #IRL, gene is equally likely to be sequenced in either forward or reverse direction. Toss a coin which to use\n",
    "        use_complement = np.random.choice([0,1])\n",
    "        if use_complement:\n",
    "            subseq = str(Seq(sequence).reverse_complement())\n",
    "        else:\n",
    "            subseq = sequence\n",
    "        chunked_seqs.append(subseq)\n",
    "        \n",
    "    return chunked_seqs\n",
    "            \n",
    "def get_reads_for_label(records, in_path, label, distrib, num_reads):\n",
    "    for record in SeqIO.parse(in_path,\"fasta\"): \n",
    "        seq = str(record.seq)\n",
    "        #retrieve cds id from description\n",
    "        cds_id = record.description.split('|')[2].split(' ')[0]\n",
    "        start = 0\n",
    "        end = len(seq)\n",
    "        if len(seq)>60: #occasionally there are sequence differences between cds and uniprot entry (intron retention in uniprot). ignore these.\n",
    "            #generate num_reads read-length chunks from range\n",
    "            chunked_seqs = generate_chunked_reads(seq,distrib,num_reads=num_reads)\n",
    "            for read in chunked_seqs:        \n",
    "                entry = [cds_id, read, label]\n",
    "                records.append(entry)\n",
    "    return records\n",
    "\n",
    "def create_csv(outfile, in_pos_path, in_neg_path, pos_label, neg_label, distrib, num_pos_genes, num_neg_reads=20, num_pos_reads=None):\n",
    "    #for each of these files, extract the reads, and the labels from the filename\n",
    "    records = []\n",
    "    \n",
    "    records = get_reads_for_label(records, in_path=in_neg_path, label=neg_label, distrib=distrib, num_reads=num_neg_reads)\n",
    "    #get equal number examples metal \n",
    "    if not num_pos_reads: #if no num_pos_reads specified, get equal number\n",
    "        num_pos_reads = int(len(records)/num_pos_genes)+1\n",
    "    records = get_reads_for_label(records=records, in_path=in_pos_path, label=pos_label, distrib=distrib, num_reads=num_pos_reads)\n",
    "\n",
    "    #shuffle records and save\n",
    "    outdf = pd.DataFrame(records)\n",
    "    outdf = outdf.sample(frac=1)\n",
    "    outdf.columns = ['EMBL_CDS_id','seq','label']\n",
    "    print('saving',len(outdf),'rows in file',outfile,':')\n",
    "    print(outdf.head())\n",
    "    print(Counter(outdf['label']))\n",
    "    outdf.to_csv(outfile,index=False)"
   ]
  },
  {
   "cell_type": "code",
   "execution_count": 85,
   "metadata": {},
   "outputs": [],
   "source": [
    "distrib = np.load('../GTDBGenomeSequencingDistrib.npy')\n",
    "\n",
    "train_pos_path = Path('ec1_train.fasta')\n",
    "train_neg_path = Path('nonec1_train.fasta')\n",
    "valid_pos_path = Path('ec1_valid.fasta')\n",
    "valid_neg_path = Path('nonec1_valid.fasta')\n",
    "test_pos_path = Path('ec1_test.fasta')\n",
    "test_neg_path = Path('nonec1_test.fasta')\n",
    "\n",
    "trnout = Path('ec1_train.csv')\n",
    "valout = Path('ec1_valid.csv')\n",
    "testout = Path('ec1_test.csv')"
   ]
  },
  {
   "cell_type": "code",
   "execution_count": 89,
   "metadata": {},
   "outputs": [
    {
     "name": "stdout",
     "output_type": "stream",
     "text": [
      "saving 279200 rows in file ec1_valid.csv :\n",
      "       EMBL_CDS_id                                                seq   label\n",
      "197822  BAB41593.1  TCCCATTTAGCTGGGCATACTTCGCCAGGGTTTTTACGAACATATT...     ec1\n",
      "128835  DAA08282.1  GAAAATACTTTTAAATATATGTTTAACAAGGGAATCGGAACAAAGC...  nonec1\n",
      "5790    ABG48470.1  TCTGTTTCCTGTCTTCTTTGGATAAACTCATCAGCAACCCTGGTAC...  nonec1\n",
      "122765  EDM14285.1  TCCTCCAGATGCAGGCGGTCCAGCATTTCATAAACTATGGTTTCCC...  nonec1\n",
      "78907   CAA88763.1  AGGAATTTTGGCTGCTATCAACACCGTAAGAACCGGAATAGCTGAT...  nonec1\n",
      "Counter({'ec1': 139600, 'nonec1': 139600})\n"
     ]
    }
   ],
   "source": [
    "#save valid\n",
    "#check num_pos_genes by running `grep -c \"^>\" ec1_valid.fasta`\n",
    "create_csv(outfile=valout, in_pos_path=valid_pos_path, in_neg_path=valid_neg_path, \n",
    "                 pos_label='ec1',neg_label='nonec1',\n",
    "                 distrib=distrib, num_pos_genes=2796, num_neg_reads=50)\n"
   ]
  },
  {
   "cell_type": "code",
   "execution_count": 7,
   "metadata": {},
   "outputs": [
    {
     "data": {
      "text/plain": [
       "279200"
      ]
     },
     "execution_count": 7,
     "metadata": {},
     "output_type": "execute_result"
    }
   ],
   "source": [
    "139600+139600"
   ]
  },
  {
   "cell_type": "code",
   "execution_count": 90,
   "metadata": {},
   "outputs": [
    {
     "name": "stdout",
     "output_type": "stream",
     "text": [
      "saving 141801 rows in file ec1_test.csv :\n",
      "      EMBL_CDS_id                                                seq   label\n",
      "12848  AAL98442.1  TGCTTTGGAAGATGGACAAGTTCTTTTGGTTGAAAACACTCGTTTT...  nonec1\n",
      "48039  CAM85356.1  ATGACACGACTACCAAATGCTAAAACCGTAATCTGCTCATCACTGT...  nonec1\n",
      "50210  CAC14144.1  GCGTGCCTCTATGGCGCCGGGGCCGCTGATCCCATCATGTCGAACC...  nonec1\n",
      "83232  AAC18585.1  TGGCCAAGGATCTGCGTTTCGCCCAGCACCATCGAATCCAGGCCGC...     ec1\n",
      "23477  AAQ66230.1  TGATCGATCGTCTCAAGTTTGTACTCGAAAAGCCATTTGTTCGTTT...  nonec1\n",
      "Counter({'ec1': 71451, 'nonec1': 70350})\n"
     ]
    }
   ],
   "source": [
    "#save test\n",
    "#check num_pos_genes by running `grep -c \"^>\" ec1_valid.fasta`\n",
    "create_csv(outfile=testout, in_pos_path=test_pos_path, in_neg_path=test_neg_path, \n",
    "                 pos_label='ec1',neg_label='nonec1',\n",
    "                 distrib=distrib, num_pos_genes=1403, num_neg_reads=50)\n"
   ]
  },
  {
   "cell_type": "code",
   "execution_count": 8,
   "metadata": {},
   "outputs": [
    {
     "data": {
      "text/plain": [
       "141801"
      ]
     },
     "execution_count": 8,
     "metadata": {},
     "output_type": "execute_result"
    }
   ],
   "source": [
    "71451+70350"
   ]
  },
  {
   "cell_type": "code",
   "execution_count": 91,
   "metadata": {},
   "outputs": [
    {
     "name": "stdout",
     "output_type": "stream",
     "text": [
      "saving 2372200 rows in file ec1_train.csv :\n",
      "        EMBL_CDS_id                                                seq   label\n",
      "987705   CAA33481.1  CCCTTCTTTCAAATTATTATATTTAATGGATGAAGTAATGGATCCT...  nonec1\n",
      "1600848  AAC06140.1  GGCCGGCGCTTATATCTGCGGCGACGAATCGGCGCTCATCGAGTCC...     ec1\n",
      "496155   AAL19864.1  CTTTTGAAACAAAAGATTTTGGAAAAACATGGACTGAGTTTCCTCC...  nonec1\n",
      "785044   BAB51542.1  ACGCGCGCGGTGGTCGATTTGCCGACGGCGACGGAGCCGGCGATGC...  nonec1\n",
      "2294664  CAG39732.1  GGAACCTGGACAAAAAGCCAAAATAGAAGTGGTTTTTAAAAATACT...     ec1\n",
      "Counter({'ec1': 1187150, 'nonec1': 1185050})\n"
     ]
    }
   ],
   "source": [
    "#save train\n",
    "#check num_pos_genes by running `grep -c \"^>\" ec1_valid.fasta`\n",
    "create_csv(outfile=trnout, in_pos_path=train_pos_path, in_neg_path=train_neg_path, \n",
    "                 pos_label='ec1',neg_label='nonec1',\n",
    "                 distrib=distrib, num_pos_genes=23776, num_neg_reads=50)"
   ]
  },
  {
   "cell_type": "code",
   "execution_count": 6,
   "metadata": {},
   "outputs": [
    {
     "data": {
      "text/plain": [
       "2372200"
      ]
     },
     "execution_count": 6,
     "metadata": {},
     "output_type": "execute_result"
    }
   ],
   "source": [
    "1187150+1185050"
   ]
  },
  {
   "cell_type": "code",
   "execution_count": 2,
   "metadata": {},
   "outputs": [
    {
     "name": "stdout",
     "output_type": "stream",
     "text": [
      "71451\n",
      "1401\n"
     ]
    }
   ],
   "source": [
    "test = pd.read_csv('ec1_test.csv')\n",
    "test_ec1 = test[test['label']=='ec1']\n",
    "print(len(test_ec1))\n",
    "print(len(set(test_ec1['EMBL_CDS_id'])))"
   ]
  },
  {
   "cell_type": "code",
   "execution_count": 7,
   "metadata": {},
   "outputs": [
    {
     "name": "stdout",
     "output_type": "stream",
     "text": [
      "139600\n",
      "2792\n"
     ]
    }
   ],
   "source": [
    "valid = pd.read_csv('ec1_valid.csv')\n",
    "valid_ec1 = valid[valid['label']=='ec1']\n",
    "print(len(valid_ec1))\n",
    "print(len(set(valid_ec1['EMBL_CDS_id'])))"
   ]
  },
  {
   "cell_type": "code",
   "execution_count": 3,
   "metadata": {},
   "outputs": [
    {
     "data": {
      "text/html": [
       "<div>\n",
       "<style scoped>\n",
       "    .dataframe tbody tr th:only-of-type {\n",
       "        vertical-align: middle;\n",
       "    }\n",
       "\n",
       "    .dataframe tbody tr th {\n",
       "        vertical-align: top;\n",
       "    }\n",
       "\n",
       "    .dataframe thead th {\n",
       "        text-align: right;\n",
       "    }\n",
       "</style>\n",
       "<table border=\"1\" class=\"dataframe\">\n",
       "  <thead>\n",
       "    <tr style=\"text-align: right;\">\n",
       "      <th></th>\n",
       "      <th>Entry</th>\n",
       "      <th>uniref50id</th>\n",
       "      <th>EC number</th>\n",
       "      <th>Taxonomic lineage (SUPERKINGDOM)</th>\n",
       "      <th>EMBL_CDS_id</th>\n",
       "    </tr>\n",
       "  </thead>\n",
       "  <tbody>\n",
       "    <tr>\n",
       "      <th>0</th>\n",
       "      <td>P9WKD5</td>\n",
       "      <td>UniRef50_Q9CCE3</td>\n",
       "      <td>1.10.3.-</td>\n",
       "      <td>Bacteria</td>\n",
       "      <td>CCP44925.1</td>\n",
       "    </tr>\n",
       "    <tr>\n",
       "      <th>1</th>\n",
       "      <td>Q6FFZ7</td>\n",
       "      <td>UniRef50_C9QZ64</td>\n",
       "      <td>1.14.99.46</td>\n",
       "      <td>Bacteria</td>\n",
       "      <td>CAG67010.1</td>\n",
       "    </tr>\n",
       "    <tr>\n",
       "      <th>2</th>\n",
       "      <td>B2UX78</td>\n",
       "      <td>UniRef50_A0PXA4</td>\n",
       "      <td>1.2.1.41</td>\n",
       "      <td>Bacteria</td>\n",
       "      <td>ACD53888.1</td>\n",
       "    </tr>\n",
       "    <tr>\n",
       "      <th>3</th>\n",
       "      <td>Q3SV33</td>\n",
       "      <td>UniRef50_B8EKI5</td>\n",
       "      <td>1.8.1.2</td>\n",
       "      <td>Bacteria</td>\n",
       "      <td>ABA03858.1</td>\n",
       "    </tr>\n",
       "    <tr>\n",
       "      <th>4</th>\n",
       "      <td>B1M4X4</td>\n",
       "      <td>UniRef50_B1M4X4</td>\n",
       "      <td>1.7.1.17</td>\n",
       "      <td>Bacteria</td>\n",
       "      <td>ACB26435.1</td>\n",
       "    </tr>\n",
       "  </tbody>\n",
       "</table>\n",
       "</div>"
      ],
      "text/plain": [
       "    Entry       uniref50id   EC number Taxonomic lineage (SUPERKINGDOM)  \\\n",
       "0  P9WKD5  UniRef50_Q9CCE3    1.10.3.-                         Bacteria   \n",
       "1  Q6FFZ7  UniRef50_C9QZ64  1.14.99.46                         Bacteria   \n",
       "2  B2UX78  UniRef50_A0PXA4    1.2.1.41                         Bacteria   \n",
       "3  Q3SV33  UniRef50_B8EKI5     1.8.1.2                         Bacteria   \n",
       "4  B1M4X4  UniRef50_B1M4X4    1.7.1.17                         Bacteria   \n",
       "\n",
       "  EMBL_CDS_id  \n",
       "0  CCP44925.1  \n",
       "1  CAG67010.1  \n",
       "2  ACD53888.1  \n",
       "3  ABA03858.1  \n",
       "4  ACB26435.1  "
      ]
     },
     "execution_count": 3,
     "metadata": {},
     "output_type": "execute_result"
    }
   ],
   "source": [
    "ecmerged = pd.read_csv('EC1_merged2cds2uniref.csv')\n",
    "ecmerged.head()"
   ]
  },
  {
   "cell_type": "code",
   "execution_count": 4,
   "metadata": {},
   "outputs": [
    {
     "name": "stdout",
     "output_type": "stream",
     "text": [
      "71451\n"
     ]
    },
    {
     "data": {
      "text/html": [
       "<div>\n",
       "<style scoped>\n",
       "    .dataframe tbody tr th:only-of-type {\n",
       "        vertical-align: middle;\n",
       "    }\n",
       "\n",
       "    .dataframe tbody tr th {\n",
       "        vertical-align: top;\n",
       "    }\n",
       "\n",
       "    .dataframe thead th {\n",
       "        text-align: right;\n",
       "    }\n",
       "</style>\n",
       "<table border=\"1\" class=\"dataframe\">\n",
       "  <thead>\n",
       "    <tr style=\"text-align: right;\">\n",
       "      <th></th>\n",
       "      <th>EMBL_CDS_id</th>\n",
       "      <th>seq</th>\n",
       "      <th>label</th>\n",
       "      <th>EC number</th>\n",
       "    </tr>\n",
       "  </thead>\n",
       "  <tbody>\n",
       "    <tr>\n",
       "      <th>0</th>\n",
       "      <td>AAC18585.1</td>\n",
       "      <td>TGGCCAAGGATCTGCGTTTCGCCCAGCACCATCGAATCCAGGCCGC...</td>\n",
       "      <td>ec1</td>\n",
       "      <td>1.2.1.70</td>\n",
       "    </tr>\n",
       "    <tr>\n",
       "      <th>1</th>\n",
       "      <td>AAC18585.1</td>\n",
       "      <td>AAGCGTTTGCAGCCAGTTCGCAAACACCTGCATTTCCTCTTCGATC...</td>\n",
       "      <td>ec1</td>\n",
       "      <td>1.2.1.70</td>\n",
       "    </tr>\n",
       "    <tr>\n",
       "      <th>2</th>\n",
       "      <td>AAC18585.1</td>\n",
       "      <td>GAGCGGACGAAGTTATCGTCGCCAACCGGACCTATGCCCGCGCCCA...</td>\n",
       "      <td>ec1</td>\n",
       "      <td>1.2.1.70</td>\n",
       "    </tr>\n",
       "    <tr>\n",
       "      <th>3</th>\n",
       "      <td>AAC18585.1</td>\n",
       "      <td>TTGGCGGCGAGCTCCTGGGCGCGGGCATAGGTCCGGTTGGCGACGA...</td>\n",
       "      <td>ec1</td>\n",
       "      <td>1.2.1.70</td>\n",
       "    </tr>\n",
       "    <tr>\n",
       "      <th>4</th>\n",
       "      <td>AAC18585.1</td>\n",
       "      <td>ACTGCACATGTGCGGGTATTTTATCCGCAGCTTTATGGAACGCTGG...</td>\n",
       "      <td>ec1</td>\n",
       "      <td>1.2.1.70</td>\n",
       "    </tr>\n",
       "  </tbody>\n",
       "</table>\n",
       "</div>"
      ],
      "text/plain": [
       "  EMBL_CDS_id                                                seq label  \\\n",
       "0  AAC18585.1  TGGCCAAGGATCTGCGTTTCGCCCAGCACCATCGAATCCAGGCCGC...   ec1   \n",
       "1  AAC18585.1  AAGCGTTTGCAGCCAGTTCGCAAACACCTGCATTTCCTCTTCGATC...   ec1   \n",
       "2  AAC18585.1  GAGCGGACGAAGTTATCGTCGCCAACCGGACCTATGCCCGCGCCCA...   ec1   \n",
       "3  AAC18585.1  TTGGCGGCGAGCTCCTGGGCGCGGGCATAGGTCCGGTTGGCGACGA...   ec1   \n",
       "4  AAC18585.1  ACTGCACATGTGCGGGTATTTTATCCGCAGCTTTATGGAACGCTGG...   ec1   \n",
       "\n",
       "  EC number  \n",
       "0  1.2.1.70  \n",
       "1  1.2.1.70  \n",
       "2  1.2.1.70  \n",
       "3  1.2.1.70  \n",
       "4  1.2.1.70  "
      ]
     },
     "execution_count": 4,
     "metadata": {},
     "output_type": "execute_result"
    }
   ],
   "source": [
    "testmerged = test_ec1.merge(ecmerged[['EC number','EMBL_CDS_id']],on='EMBL_CDS_id')\n",
    "print(len(testmerged))\n",
    "testmerged.head()"
   ]
  },
  {
   "cell_type": "code",
   "execution_count": 5,
   "metadata": {},
   "outputs": [
    {
     "data": {
      "text/plain": [
       "139"
      ]
     },
     "execution_count": 5,
     "metadata": {},
     "output_type": "execute_result"
    }
   ],
   "source": [
    "len(set(testmerged['EC number']))"
   ]
  },
  {
   "cell_type": "code",
   "execution_count": 6,
   "metadata": {},
   "outputs": [
    {
     "data": {
      "text/plain": [
       "972"
      ]
     },
     "execution_count": 6,
     "metadata": {},
     "output_type": "execute_result"
    }
   ],
   "source": [
    "len(set(ecmerged['EC number']))"
   ]
  },
  {
   "cell_type": "code",
   "execution_count": 8,
   "metadata": {},
   "outputs": [
    {
     "name": "stdout",
     "output_type": "stream",
     "text": [
      "139600\n",
      "253\n"
     ]
    },
    {
     "data": {
      "text/html": [
       "<div>\n",
       "<style scoped>\n",
       "    .dataframe tbody tr th:only-of-type {\n",
       "        vertical-align: middle;\n",
       "    }\n",
       "\n",
       "    .dataframe tbody tr th {\n",
       "        vertical-align: top;\n",
       "    }\n",
       "\n",
       "    .dataframe thead th {\n",
       "        text-align: right;\n",
       "    }\n",
       "</style>\n",
       "<table border=\"1\" class=\"dataframe\">\n",
       "  <thead>\n",
       "    <tr style=\"text-align: right;\">\n",
       "      <th></th>\n",
       "      <th>EMBL_CDS_id</th>\n",
       "      <th>seq</th>\n",
       "      <th>label</th>\n",
       "      <th>EC number</th>\n",
       "    </tr>\n",
       "  </thead>\n",
       "  <tbody>\n",
       "    <tr>\n",
       "      <th>0</th>\n",
       "      <td>BAB41593.1</td>\n",
       "      <td>TCCCATTTAGCTGGGCATACTTCGCCAGGGTTTTTACGAACATATT...</td>\n",
       "      <td>ec1</td>\n",
       "      <td>1.11.1.15</td>\n",
       "    </tr>\n",
       "    <tr>\n",
       "      <th>1</th>\n",
       "      <td>BAB41593.1</td>\n",
       "      <td>TTTTGTAAGTCTTCTAATTCAGTTGGACAAACGAATGAGAAGTCAG...</td>\n",
       "      <td>ec1</td>\n",
       "      <td>1.11.1.15</td>\n",
       "    </tr>\n",
       "    <tr>\n",
       "      <th>2</th>\n",
       "      <td>BAB41593.1</td>\n",
       "      <td>TTCTCATTCGTTTGTCCAACTGAATTAGAAGACTTACAAAACCAAT...</td>\n",
       "      <td>ec1</td>\n",
       "      <td>1.11.1.15</td>\n",
       "    </tr>\n",
       "    <tr>\n",
       "      <th>3</th>\n",
       "      <td>BAB41593.1</td>\n",
       "      <td>TTAGCTCAACGTGGTACATTCATTATCGACCCAGACGGTGTTGTAC...</td>\n",
       "      <td>ec1</td>\n",
       "      <td>1.11.1.15</td>\n",
       "    </tr>\n",
       "    <tr>\n",
       "      <th>4</th>\n",
       "      <td>BAB41593.1</td>\n",
       "      <td>GTAATTTTGATGTATTAGATGAAGCTACTGGTTTAGCTCAACGTGG...</td>\n",
       "      <td>ec1</td>\n",
       "      <td>1.11.1.15</td>\n",
       "    </tr>\n",
       "  </tbody>\n",
       "</table>\n",
       "</div>"
      ],
      "text/plain": [
       "  EMBL_CDS_id                                                seq label  \\\n",
       "0  BAB41593.1  TCCCATTTAGCTGGGCATACTTCGCCAGGGTTTTTACGAACATATT...   ec1   \n",
       "1  BAB41593.1  TTTTGTAAGTCTTCTAATTCAGTTGGACAAACGAATGAGAAGTCAG...   ec1   \n",
       "2  BAB41593.1  TTCTCATTCGTTTGTCCAACTGAATTAGAAGACTTACAAAACCAAT...   ec1   \n",
       "3  BAB41593.1  TTAGCTCAACGTGGTACATTCATTATCGACCCAGACGGTGTTGTAC...   ec1   \n",
       "4  BAB41593.1  GTAATTTTGATGTATTAGATGAAGCTACTGGTTTAGCTCAACGTGG...   ec1   \n",
       "\n",
       "   EC number  \n",
       "0  1.11.1.15  \n",
       "1  1.11.1.15  \n",
       "2  1.11.1.15  \n",
       "3  1.11.1.15  \n",
       "4  1.11.1.15  "
      ]
     },
     "execution_count": 8,
     "metadata": {},
     "output_type": "execute_result"
    }
   ],
   "source": [
    "validmerged = valid_ec1.merge(ecmerged[['EC number','EMBL_CDS_id']],on='EMBL_CDS_id')\n",
    "print(len(validmerged))\n",
    "print(len(set(validmerged['EC number'])))\n",
    "validmerged.head()"
   ]
  },
  {
   "cell_type": "code",
   "execution_count": 29,
   "metadata": {},
   "outputs": [],
   "source": [
    "from itertools import combinations\n",
    "from Bio import pairwise2\n",
    "\n",
    "def get_combos(combos,df,colname):\n",
    "    new_combos = []\n",
    "    for combo in combos:\n",
    "        a = df.loc[combo[0]][colname]\n",
    "        b = df.loc[combo[1]][colname]\n",
    "        new_combos.append((a,b))\n",
    "    return new_combos\n",
    "\n",
    "def score_alignment(combo):\n",
    "    alignment = pairwise2.align.localms(combo[0],combo[1],1,-1,-10.0,-1.0)\n",
    "    ix = np.argmax([a[2] for a in alignment])\n",
    "    max_score = alignment[ix][2]\n",
    "    #ungapped_alignment_length = get_ungapped_alignment_length(alignment[ix])\n",
    "    return max_score\n"
   ]
  },
  {
   "cell_type": "code",
   "execution_count": 30,
   "metadata": {},
   "outputs": [
    {
     "name": "stdout",
     "output_type": "stream",
     "text": [
      "processing EC 0 out of 139\n",
      "processing EC 1 out of 139\n",
      "processing EC 2 out of 139\n",
      "processing EC 3 out of 139\n",
      "processing EC 4 out of 139\n",
      "processing EC 5 out of 139\n",
      "processing EC 6 out of 139\n",
      "processing EC 7 out of 139\n",
      "processing EC 8 out of 139\n",
      "processing EC 9 out of 139\n",
      "processing EC 10 out of 139\n",
      "processing EC 11 out of 139\n",
      "processing EC 12 out of 139\n",
      "processing EC 13 out of 139\n",
      "processing EC 14 out of 139\n",
      "processing EC 15 out of 139\n",
      "processing EC 16 out of 139\n",
      "processing EC 17 out of 139\n",
      "processing EC 18 out of 139\n",
      "processing EC 19 out of 139\n",
      "processing EC 20 out of 139\n",
      "processing EC 21 out of 139\n",
      "processing EC 22 out of 139\n",
      "processing EC 23 out of 139\n",
      "processing EC 24 out of 139\n",
      "processing EC 25 out of 139\n",
      "processing EC 26 out of 139\n",
      "processing EC 27 out of 139\n",
      "processing EC 28 out of 139\n",
      "processing EC 29 out of 139\n",
      "processing EC 30 out of 139\n",
      "processing EC 31 out of 139\n",
      "processing EC 32 out of 139\n",
      "processing EC 33 out of 139\n",
      "processing EC 34 out of 139\n",
      "processing EC 35 out of 139\n",
      "processing EC 36 out of 139\n",
      "processing EC 37 out of 139\n",
      "processing EC 38 out of 139\n",
      "processing EC 39 out of 139\n",
      "processing EC 40 out of 139\n",
      "processing EC 41 out of 139\n",
      "processing EC 42 out of 139\n",
      "processing EC 43 out of 139\n",
      "processing EC 44 out of 139\n",
      "processing EC 45 out of 139\n",
      "processing EC 46 out of 139\n",
      "processing EC 47 out of 139\n",
      "processing EC 48 out of 139\n",
      "processing EC 49 out of 139\n",
      "processing EC 50 out of 139\n",
      "processing EC 51 out of 139\n",
      "processing EC 52 out of 139\n",
      "processing EC 53 out of 139\n",
      "processing EC 54 out of 139\n",
      "processing EC 55 out of 139\n",
      "processing EC 56 out of 139\n",
      "processing EC 57 out of 139\n",
      "processing EC 58 out of 139\n",
      "processing EC 59 out of 139\n",
      "processing EC 60 out of 139\n",
      "processing EC 61 out of 139\n",
      "processing EC 62 out of 139\n",
      "processing EC 63 out of 139\n",
      "processing EC 64 out of 139\n",
      "processing EC 65 out of 139\n",
      "processing EC 66 out of 139\n",
      "processing EC 67 out of 139\n",
      "processing EC 68 out of 139\n",
      "processing EC 69 out of 139\n",
      "processing EC 70 out of 139\n",
      "processing EC 71 out of 139\n",
      "processing EC 72 out of 139\n",
      "processing EC 73 out of 139\n",
      "processing EC 74 out of 139\n",
      "processing EC 75 out of 139\n",
      "processing EC 76 out of 139\n",
      "processing EC 77 out of 139\n",
      "processing EC 78 out of 139\n",
      "processing EC 79 out of 139\n",
      "processing EC 80 out of 139\n",
      "processing EC 81 out of 139\n",
      "processing EC 82 out of 139\n",
      "processing EC 83 out of 139\n",
      "processing EC 84 out of 139\n",
      "processing EC 85 out of 139\n",
      "processing EC 86 out of 139\n",
      "processing EC 87 out of 139\n",
      "processing EC 88 out of 139\n",
      "processing EC 89 out of 139\n",
      "processing EC 90 out of 139\n",
      "processing EC 91 out of 139\n",
      "processing EC 92 out of 139\n",
      "processing EC 93 out of 139\n",
      "processing EC 94 out of 139\n",
      "processing EC 95 out of 139\n",
      "processing EC 96 out of 139\n",
      "processing EC 97 out of 139\n",
      "processing EC 98 out of 139\n",
      "processing EC 99 out of 139\n",
      "processing EC 100 out of 139\n",
      "processing EC 101 out of 139\n",
      "processing EC 102 out of 139\n",
      "processing EC 103 out of 139\n",
      "processing EC 104 out of 139\n",
      "processing EC 105 out of 139\n",
      "processing EC 106 out of 139\n",
      "processing EC 107 out of 139\n",
      "processing EC 108 out of 139\n",
      "processing EC 109 out of 139\n",
      "processing EC 110 out of 139\n",
      "processing EC 111 out of 139\n",
      "processing EC 112 out of 139\n",
      "processing EC 113 out of 139\n",
      "processing EC 114 out of 139\n",
      "processing EC 115 out of 139\n",
      "processing EC 116 out of 139\n",
      "processing EC 117 out of 139\n",
      "processing EC 118 out of 139\n",
      "processing EC 119 out of 139\n",
      "processing EC 120 out of 139\n",
      "processing EC 121 out of 139\n",
      "processing EC 122 out of 139\n",
      "processing EC 123 out of 139\n",
      "processing EC 124 out of 139\n",
      "processing EC 125 out of 139\n",
      "processing EC 126 out of 139\n",
      "processing EC 127 out of 139\n",
      "processing EC 128 out of 139\n",
      "processing EC 129 out of 139\n",
      "processing EC 130 out of 139\n",
      "processing EC 131 out of 139\n",
      "processing EC 132 out of 139\n",
      "processing EC 133 out of 139\n",
      "processing EC 134 out of 139\n",
      "processing EC 135 out of 139\n",
      "processing EC 136 out of 139\n",
      "processing EC 137 out of 139\n",
      "processing EC 138 out of 139\n"
     ]
    }
   ],
   "source": [
    "#what's the average within-EC seq similarity?\n",
    "scores = []\n",
    "for ecx,EC in enumerate(set(testmerged['EC number'])):\n",
    "    print('processing EC',ecx,'out of',len(set(testmerged['EC number'])))\n",
    "    subset = testmerged[testmerged['EC number']==EC]\n",
    "    samp = subset.sample(20,random_state=1)\n",
    "    combo_ix = list(combinations(list(samp.index),2))\n",
    "    combos = get_combos(combo_ix, samp, colname='seq')\n",
    "    for ix,combo in enumerate(combos):\n",
    "        score = score_alignment(combo)\n",
    "        row = [combo_ix[ix][0],combo_ix[ix][1],EC,score]\n",
    "        scores.append(row)"
   ]
  },
  {
   "cell_type": "code",
   "execution_count": 32,
   "metadata": {},
   "outputs": [
    {
     "data": {
      "text/html": [
       "<div>\n",
       "<style scoped>\n",
       "    .dataframe tbody tr th:only-of-type {\n",
       "        vertical-align: middle;\n",
       "    }\n",
       "\n",
       "    .dataframe tbody tr th {\n",
       "        vertical-align: top;\n",
       "    }\n",
       "\n",
       "    .dataframe thead th {\n",
       "        text-align: right;\n",
       "    }\n",
       "</style>\n",
       "<table border=\"1\" class=\"dataframe\">\n",
       "  <thead>\n",
       "    <tr style=\"text-align: right;\">\n",
       "      <th></th>\n",
       "      <th>a_ix</th>\n",
       "      <th>b_ix</th>\n",
       "      <th>EC number</th>\n",
       "      <th>seqsim</th>\n",
       "    </tr>\n",
       "  </thead>\n",
       "  <tbody>\n",
       "    <tr>\n",
       "      <th>0</th>\n",
       "      <td>15067</td>\n",
       "      <td>15047</td>\n",
       "      <td>1.6.5.2</td>\n",
       "      <td>10.0</td>\n",
       "    </tr>\n",
       "    <tr>\n",
       "      <th>1</th>\n",
       "      <td>15067</td>\n",
       "      <td>15094</td>\n",
       "      <td>1.6.5.2</td>\n",
       "      <td>45.0</td>\n",
       "    </tr>\n",
       "    <tr>\n",
       "      <th>2</th>\n",
       "      <td>15067</td>\n",
       "      <td>15071</td>\n",
       "      <td>1.6.5.2</td>\n",
       "      <td>10.0</td>\n",
       "    </tr>\n",
       "    <tr>\n",
       "      <th>3</th>\n",
       "      <td>15067</td>\n",
       "      <td>15078</td>\n",
       "      <td>1.6.5.2</td>\n",
       "      <td>9.0</td>\n",
       "    </tr>\n",
       "    <tr>\n",
       "      <th>4</th>\n",
       "      <td>15067</td>\n",
       "      <td>15089</td>\n",
       "      <td>1.6.5.2</td>\n",
       "      <td>84.0</td>\n",
       "    </tr>\n",
       "  </tbody>\n",
       "</table>\n",
       "</div>"
      ],
      "text/plain": [
       "    a_ix   b_ix EC number  seqsim\n",
       "0  15067  15047   1.6.5.2    10.0\n",
       "1  15067  15094   1.6.5.2    45.0\n",
       "2  15067  15071   1.6.5.2    10.0\n",
       "3  15067  15078   1.6.5.2     9.0\n",
       "4  15067  15089   1.6.5.2    84.0"
      ]
     },
     "execution_count": 32,
     "metadata": {},
     "output_type": "execute_result"
    }
   ],
   "source": [
    "scores = pd.DataFrame(scores)\n",
    "scores.columns = ['a_ix','b_ix','EC number','seqsim']\n",
    "scores.head()"
   ]
  },
  {
   "cell_type": "code",
   "execution_count": 33,
   "metadata": {},
   "outputs": [
    {
     "name": "stdout",
     "output_type": "stream",
     "text": [
      "7.0\n",
      "7.0\n",
      "9.0\n",
      "10.0\n",
      "20.0\n"
     ]
    }
   ],
   "source": [
    "print(np.percentile(scores['seqsim'],10))\n",
    "print(np.percentile(scores['seqsim'],25))\n",
    "print(np.percentile(scores['seqsim'],50))\n",
    "print(np.percentile(scores['seqsim'],75))\n",
    "print(np.percentile(scores['seqsim'],90))"
   ]
  },
  {
   "cell_type": "code",
   "execution_count": 36,
   "metadata": {},
   "outputs": [
    {
     "name": "stdout",
     "output_type": "stream",
     "text": [
      "14.85831124574025\n",
      "9.0\n"
     ]
    }
   ],
   "source": [
    "print(np.mean(scores['seqsim']))\n",
    "print(np.median(scores['seqsim']))"
   ]
  },
  {
   "cell_type": "code",
   "execution_count": 40,
   "metadata": {},
   "outputs": [
    {
     "data": {
      "text/plain": [
       "<matplotlib.axes._subplots.AxesSubplot at 0x7fd322004cf8>"
      ]
     },
     "execution_count": 40,
     "metadata": {},
     "output_type": "execute_result"
    },
    {
     "data": {
      "image/png": "[encoded data removed]",
      "text/plain": [
       "<Figure size 432x288 with 1 Axes>"
      ]
     },
     "metadata": {
      "needs_background": "light"
     },
     "output_type": "display_data"
    }
   ],
   "source": [
    "import matplotlib.pyplot as plt\n",
    "import seaborn as sns\n",
    "%matplotlib inline\n",
    "sns.distplot(scores['seqsim'])"
   ]
  },
  {
   "cell_type": "code",
   "execution_count": null,
   "metadata": {},
   "outputs": [],
   "source": []
  }
 ],
 "metadata": {
  "kernelspec": {
   "display_name": "Python 3",
   "language": "python",
   "name": "python3"
  },
  "language_info": {
   "codemirror_mode": {
    "name": "ipython",
    "version": 3
   },
   "file_extension": ".py",
   "mimetype": "text/x-python",
   "name": "python",
   "nbconvert_exporter": "python",
   "pygments_lexer": "ipython3",
   "version": "3.7.3"
  },
  "toc": {
   "base_numbering": 1,
   "nav_menu": {},
   "number_sections": true,
   "sideBar": true,
   "skip_h1_title": false,
   "title_cell": "Table of Contents",
   "title_sidebar": "Contents",
   "toc_cell": false,
   "toc_position": {},
   "toc_section_display": true,
   "toc_window_display": false
  }
 },
 "nbformat": 4,
 "nbformat_minor": 2
}
